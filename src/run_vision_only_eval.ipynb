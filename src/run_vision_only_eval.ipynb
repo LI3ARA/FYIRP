{
 "cells": [
  {
   "cell_type": "code",
   "execution_count": 1,
   "id": "46de6b9f",
   "metadata": {},
   "outputs": [],
   "source": [
    "import os\n",
    "import time\n",
    "from tqdm import tqdm\n",
    "from image_generator import LlavaGenerator\n",
    "from utils import load_data, save_batch_output, log_time\n",
    "from tqdm.auto import tqdm"
   ]
  },
  {
   "cell_type": "code",
   "execution_count": 2,
   "id": "452bacca",
   "metadata": {},
   "outputs": [],
   "source": [
    "# Config\n",
    "BATCH_SIZE = 10\n",
    "INPUT_CSV = \"../Data/VisDoM-main/spiqa/spiqa.csv\"  # must contain 'question', 'caption', 'doc_id', 'reference_figure'\n",
    "IMAGE_FOLDER = \"../Data/spiqa/test-A/SPIQA_testA_Images/SPIQA_testA_Images\"     # where all your images live\n",
    "OUTPUT_DIR = \"../Eval_outputs/SPIQA/vision_only\"\n",
    "os.makedirs(OUTPUT_DIR, exist_ok=True)\n"
   ]
  },
  {
   "cell_type": "code",
   "execution_count": null,
   "id": "cd1bdc79",
   "metadata": {},
   "outputs": [],
   "source": [
    "BASE_URL = os.getenv(LOCAL_URL)"
   ]
  },
  {
   "cell_type": "code",
   "execution_count": 4,
   "id": "d7f7279c",
   "metadata": {},
   "outputs": [],
   "source": [
    "API_KEY = \"lm-studio\""
   ]
  },
  {
   "cell_type": "code",
   "execution_count": 5,
   "id": "6884f695",
   "metadata": {},
   "outputs": [],
   "source": [
    "# Vision RAG prompt\n",
    "vision_prompt = \"\"\"<image>\n",
    "\n",
    "Use the image provided to answer the question as accurately as possible.\n",
    "\n",
    "Question: <question>\n",
    "\n",
    "Answer:\"\"\""
   ]
  },
  {
   "cell_type": "code",
   "execution_count": 6,
   "id": "5bea9771",
   "metadata": {},
   "outputs": [],
   "source": [
    "# Init generator\n",
    "generator = LlavaGenerator(base_url=BASE_URL,api_key=API_KEY,prompt_template=vision_prompt)\n",
    "df = load_data(INPUT_CSV)"
   ]
  },
  {
   "cell_type": "code",
   "execution_count": 10,
   "id": "cbf23aca",
   "metadata": {},
   "outputs": [
    {
     "data": {
      "text/plain": [
       "{0}"
      ]
     },
     "execution_count": 10,
     "metadata": {},
     "output_type": "execute_result"
    }
   ],
   "source": [
    "# Detect completed batches\n",
    "existing_batches = {\n",
    "    int(f.split(\"_\")[1])\n",
    "    for f in os.listdir(OUTPUT_DIR)\n",
    "    if f.startswith(\"batch_\") and f.endswith(\".csv\")\n",
    "}\n",
    "existing_batches"
   ]
  },
  {
   "cell_type": "code",
   "execution_count": null,
   "id": "3e88c30c",
   "metadata": {},
   "outputs": [
    {
     "data": {
      "application/vnd.jupyter.widget-view+json": {
       "model_id": "268d4c5221fc40a480275bf65db84e37",
       "version_major": 2,
       "version_minor": 0
      },
      "text/plain": [
       "  0%|          | 0/59 [00:00<?, ?it/s]"
      ]
     },
     "metadata": {},
     "output_type": "display_data"
    },
    {
     "name": "stdout",
     "output_type": "stream",
     "text": [
      "Skipping batch 0 (already processed)\n"
     ]
    },
    {
     "data": {
      "application/vnd.jupyter.widget-view+json": {
       "model_id": "048cb4b158dc4535bfea6296a8c7ecb8",
       "version_major": 2,
       "version_minor": 0
      },
      "text/plain": [
       "Batch 10:   0%|          | 0/10 [00:00<?, ?it/s]"
      ]
     },
     "metadata": {},
     "output_type": "display_data"
    },
    {
     "name": "stdout",
     "output_type": "stream",
     "text": [
      "File saved to:  ../Eval_outputs/SPIQA/vision_only/batch_10_20250420_202013.csv\n"
     ]
    },
    {
     "data": {
      "application/vnd.jupyter.widget-view+json": {
       "model_id": "d6c5e8cb7aca4758b18c94f879551893",
       "version_major": 2,
       "version_minor": 0
      },
      "text/plain": [
       "Batch 20:   0%|          | 0/10 [00:00<?, ?it/s]"
      ]
     },
     "metadata": {},
     "output_type": "display_data"
    },
    {
     "name": "stdout",
     "output_type": "stream",
     "text": [
      "File saved to:  ../Eval_outputs/SPIQA/vision_only/batch_20_20250420_203208.csv\n"
     ]
    },
    {
     "data": {
      "application/vnd.jupyter.widget-view+json": {
       "model_id": "264464e36db9418698888c3bb0f45800",
       "version_major": 2,
       "version_minor": 0
      },
      "text/plain": [
       "Batch 30:   0%|          | 0/10 [00:00<?, ?it/s]"
      ]
     },
     "metadata": {},
     "output_type": "display_data"
    },
    {
     "name": "stdout",
     "output_type": "stream",
     "text": [
      "File saved to:  ../Eval_outputs/SPIQA/vision_only/batch_30_20250420_204533.csv\n"
     ]
    },
    {
     "data": {
      "application/vnd.jupyter.widget-view+json": {
       "model_id": "6cb479d0a564470cbfba43bc72026719",
       "version_major": 2,
       "version_minor": 0
      },
      "text/plain": [
       "Batch 40:   0%|          | 0/10 [00:00<?, ?it/s]"
      ]
     },
     "metadata": {},
     "output_type": "display_data"
    },
    {
     "name": "stdout",
     "output_type": "stream",
     "text": [
      "File saved to:  ../Eval_outputs/SPIQA/vision_only/batch_40_20250420_205639.csv\n"
     ]
    },
    {
     "data": {
      "application/vnd.jupyter.widget-view+json": {
       "model_id": "4801c1ca588a4144b538d63a154c250a",
       "version_major": 2,
       "version_minor": 0
      },
      "text/plain": [
       "Batch 50:   0%|          | 0/10 [00:00<?, ?it/s]"
      ]
     },
     "metadata": {},
     "output_type": "display_data"
    },
    {
     "name": "stdout",
     "output_type": "stream",
     "text": [
      "File saved to:  ../Eval_outputs/SPIQA/vision_only/batch_50_20250420_211100.csv\n"
     ]
    },
    {
     "data": {
      "application/vnd.jupyter.widget-view+json": {
       "model_id": "d7059422a3b54382a19f2d4ce1f07ad6",
       "version_major": 2,
       "version_minor": 0
      },
      "text/plain": [
       "Batch 60:   0%|          | 0/10 [00:00<?, ?it/s]"
      ]
     },
     "metadata": {},
     "output_type": "display_data"
    },
    {
     "name": "stdout",
     "output_type": "stream",
     "text": [
      "File saved to:  ../Eval_outputs/SPIQA/vision_only/batch_60_20250420_212639.csv\n"
     ]
    },
    {
     "data": {
      "application/vnd.jupyter.widget-view+json": {
       "model_id": "fc7b730dcdea433cb36675f00884f7bf",
       "version_major": 2,
       "version_minor": 0
      },
      "text/plain": [
       "Batch 70:   0%|          | 0/10 [00:00<?, ?it/s]"
      ]
     },
     "metadata": {},
     "output_type": "display_data"
    }
   ],
   "source": [
    "# Batch processing\n",
    "for i in tqdm(range(0, len(df), BATCH_SIZE)):\n",
    "    if i in existing_batches:\n",
    "        print(f\"Skipping batch {i} (already processed)\")\n",
    "        continue\n",
    "\n",
    "    batch_df = df.iloc[i:i + BATCH_SIZE]\n",
    "    results = []\n",
    "    start = time.time()\n",
    "\n",
    "    for idx, row in tqdm(batch_df.iterrows(), total=len(batch_df), desc=f\"Batch {i}\"):\n",
    "        try:\n",
    "            image_path = os.path.join(IMAGE_FOLDER, row[\"doc_id\"], row[\"reference_figure\"])\n",
    "            question = row[\"old_question\"]\n",
    "    #         # caption = row[\"caption\"]\n",
    "            answer = generator.generate_answer(image_path, \n",
    "                                            #    caption, \n",
    "                                               question)\n",
    "\n",
    "            results.append({\n",
    "                \"index\": idx,\n",
    "                \"question\": question,\n",
    "                # \"caption\": caption,\n",
    "                \"image\": image_path,\n",
    "                \"response\": answer\n",
    "            })\n",
    "        except Exception as e:\n",
    "            print(f\"Error processing row {idx}: {e}\")\n",
    "            continue\n",
    "    # results = {}\n",
    "\n",
    "    duration = time.time() - start\n",
    "    save_batch_output(results, OUTPUT_DIR, i)\n",
    "    log_time(OUTPUT_DIR, i, duration, prefix=\"vision_only\")"
   ]
  },
  {
   "cell_type": "code",
   "execution_count": null,
   "id": "d8c395a2",
   "metadata": {},
   "outputs": [
    {
     "ename": "ValueError",
     "evalue": "Unknown format code 'f' for object of type 'str'",
     "output_type": "error",
     "traceback": [
      "\u001b[31m---------------------------------------------------------------------------\u001b[39m",
      "\u001b[31mValueError\u001b[39m                                Traceback (most recent call last)",
      "\u001b[36mCell\u001b[39m\u001b[36m \u001b[39m\u001b[32mIn[9]\u001b[39m\u001b[32m, line 4\u001b[39m\n\u001b[32m      1\u001b[39m \u001b[38;5;66;03m# duration = time.time() - start\u001b[39;00m\n\u001b[32m      2\u001b[39m \u001b[38;5;66;03m# save_batch_output(results, OUTPUT_DIR, i)\u001b[39;00m\n\u001b[32m      3\u001b[39m \u001b[38;5;66;03m# log_time(OUTPUT_DIR, i=5, duration='3454',prefix=\"vision_only\")\u001b[39;00m\n\u001b[32m----> \u001b[39m\u001b[32m4\u001b[39m \u001b[43mlog_time\u001b[49m\u001b[43m(\u001b[49m\u001b[43moutput_dir\u001b[49m\u001b[43m=\u001b[49m\u001b[43mOUTPUT_DIR\u001b[49m\u001b[43m,\u001b[49m\u001b[43mbatch_index\u001b[49m\u001b[43m=\u001b[49m\u001b[33;43m\"\u001b[39;49m\u001b[33;43mcc\u001b[39;49m\u001b[33;43m\"\u001b[39;49m\u001b[43m,\u001b[49m\u001b[43mduration\u001b[49m\u001b[43m=\u001b[49m\u001b[33;43m'\u001b[39;49m\u001b[33;43mtest\u001b[39;49m\u001b[33;43m'\u001b[39;49m\u001b[43m,\u001b[49m\u001b[43mprefix\u001b[49m\u001b[43m=\u001b[49m\u001b[33;43m'\u001b[39;49m\u001b[33;43mvision\u001b[39;49m\u001b[33;43m'\u001b[39;49m\u001b[43m)\u001b[49m\n",
      "\u001b[36mFile \u001b[39m\u001b[32mc:\\Users\\Lisara\\RGU-Y4-C\\FYP\\FYIRP\\src\\utils.py:17\u001b[39m, in \u001b[36mlog_time\u001b[39m\u001b[34m(output_dir, batch_index, duration, prefix)\u001b[39m\n\u001b[32m     15\u001b[39m \u001b[38;5;28;01mdef\u001b[39;00m\u001b[38;5;250m \u001b[39m\u001b[34mlog_time\u001b[39m(output_dir, batch_index, duration, prefix):\n\u001b[32m     16\u001b[39m     \u001b[38;5;28;01mwith\u001b[39;00m \u001b[38;5;28mopen\u001b[39m(\u001b[33mf\u001b[39m\u001b[33m\"\u001b[39m\u001b[38;5;132;01m{\u001b[39;00moutput_dir\u001b[38;5;132;01m}\u001b[39;00m\u001b[33m/timing_log.txt\u001b[39m\u001b[33m\"\u001b[39m, \u001b[33m\"\u001b[39m\u001b[33ma\u001b[39m\u001b[33m\"\u001b[39m) \u001b[38;5;28;01mas\u001b[39;00m f:\n\u001b[32m---> \u001b[39m\u001b[32m17\u001b[39m         f.write(\u001b[33mf\u001b[39m\u001b[33m\"\u001b[39m\u001b[38;5;132;01m{\u001b[39;00mprefix\u001b[38;5;132;01m}\u001b[39;00m\u001b[33m_Batch \u001b[39m\u001b[38;5;132;01m{\u001b[39;00mbatch_index\u001b[38;5;132;01m}\u001b[39;00m\u001b[33m: \u001b[39m\u001b[38;5;132;01m{\u001b[39;00mduration\u001b[38;5;132;01m:\u001b[39;00m\u001b[33m.2f\u001b[39m\u001b[38;5;132;01m}\u001b[39;00m\u001b[33m seconds\u001b[39m\u001b[38;5;130;01m\\n\u001b[39;00m\u001b[33m\"\u001b[39m)\n",
      "\u001b[31mValueError\u001b[39m: Unknown format code 'f' for object of type 'str'"
     ]
    }
   ],
   "source": [
    "# duration = time.time() - start\n",
    "# save_batch_output(results, OUTPUT_DIR, i)\n",
    "# log_time(OUTPUT_DIR, i=5, duration='3454',prefix=\"vision_only\")\n",
    "# log_time(output_dir=OUTPUT_DIR,batch_index=\"cc\",duration='test',prefix='vision')"
   ]
  },
  {
   "cell_type": "code",
   "execution_count": null,
   "id": "1308f82d",
   "metadata": {},
   "outputs": [],
   "source": []
  }
 ],
 "metadata": {
  "kernelspec": {
   "display_name": "IRPenv",
   "language": "python",
   "name": "python3"
  },
  "language_info": {
   "codemirror_mode": {
    "name": "ipython",
    "version": 3
   },
   "file_extension": ".py",
   "mimetype": "text/x-python",
   "name": "python",
   "nbconvert_exporter": "python",
   "pygments_lexer": "ipython3",
   "version": "3.11.11"
  }
 },
 "nbformat": 4,
 "nbformat_minor": 5
}
