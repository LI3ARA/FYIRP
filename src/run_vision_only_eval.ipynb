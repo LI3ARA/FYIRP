{
 "cells": [
  {
   "cell_type": "code",
   "execution_count": 1,
   "id": "46de6b9f",
   "metadata": {},
   "outputs": [],
   "source": [
    "import os\n",
    "import time\n",
    "from tqdm import tqdm\n",
    "from image_generator import LlavaGenerator\n",
    "from utils import load_data, save_batch_output, log_time\n",
    "from tqdm.auto import tqdm"
   ]
  },
  {
   "cell_type": "code",
   "execution_count": 2,
   "id": "452bacca",
   "metadata": {},
   "outputs": [],
   "source": [
    "# Config\n",
    "BATCH_SIZE = 10\n",
    "INPUT_CSV = \"../Data/VisDoM-main/spiqa/spiqa.csv\"  # must contain 'question', 'caption', 'doc_id', 'reference_figure'\n",
    "IMAGE_FOLDER = \"../Data/spiqa/test-A/SPIQA_testA_Images/SPIQA_testA_Images\"     # where all your images live\n",
    "OUTPUT_DIR = \"../Eval_outputs/SPIQA/vision_only\"\n",
    "os.makedirs(OUTPUT_DIR, exist_ok=True)\n"
   ]
  },
  {
   "cell_type": "code",
   "execution_count": 6,
   "id": "cd1bdc79",
   "metadata": {},
   "outputs": [],
   "source": [
    "BASE_URL = os.getenv('LOCAL_URL')"
   ]
  },
  {
   "cell_type": "code",
   "execution_count": 7,
   "id": "d7f7279c",
   "metadata": {},
   "outputs": [],
   "source": [
    "API_KEY = \"lm-studio\""
   ]
  },
  {
   "cell_type": "code",
   "execution_count": 8,
   "id": "6884f695",
   "metadata": {},
   "outputs": [],
   "source": [
    "# Vision RAG prompt\n",
    "vision_prompt = \"\"\"<image>\n",
    "\n",
    "Use the image provided to answer the question as accurately as possible.\n",
    "\n",
    "Question: <question>\n",
    "\n",
    "Answer:\"\"\""
   ]
  },
  {
   "cell_type": "code",
   "execution_count": 9,
   "id": "5bea9771",
   "metadata": {},
   "outputs": [],
   "source": [
    "# Init generator\n",
    "generator = LlavaGenerator(base_url=BASE_URL,api_key=API_KEY,prompt_template=vision_prompt)\n",
    "df = load_data(INPUT_CSV)"
   ]
  },
  {
   "cell_type": "code",
   "execution_count": 10,
   "id": "cbf23aca",
   "metadata": {},
   "outputs": [
    {
     "data": {
      "text/plain": [
       "{0,\n",
       " 10,\n",
       " 20,\n",
       " 30,\n",
       " 40,\n",
       " 50,\n",
       " 60,\n",
       " 70,\n",
       " 80,\n",
       " 90,\n",
       " 100,\n",
       " 110,\n",
       " 120,\n",
       " 130,\n",
       " 140,\n",
       " 150,\n",
       " 160,\n",
       " 170,\n",
       " 180,\n",
       " 190,\n",
       " 200,\n",
       " 210,\n",
       " 220,\n",
       " 230,\n",
       " 240,\n",
       " 250,\n",
       " 260,\n",
       " 270,\n",
       " 280}"
      ]
     },
     "execution_count": 10,
     "metadata": {},
     "output_type": "execute_result"
    }
   ],
   "source": [
    "# Detect completed batches\n",
    "existing_batches = {\n",
    "    int(f.split(\"_\")[1])\n",
    "    for f in os.listdir(OUTPUT_DIR)\n",
    "    if f.startswith(\"batch_\") and f.endswith(\".csv\")\n",
    "}\n",
    "existing_batches"
   ]
  },
  {
   "cell_type": "code",
   "execution_count": 13,
   "id": "3e88c30c",
   "metadata": {},
   "outputs": [
    {
     "data": {
      "application/vnd.jupyter.widget-view+json": {
       "model_id": "1f38091d65ac416d969c97f514140cf7",
       "version_major": 2,
       "version_minor": 0
      },
      "text/plain": [
       "  0%|          | 0/59 [00:00<?, ?it/s]"
      ]
     },
     "metadata": {},
     "output_type": "display_data"
    },
    {
     "name": "stdout",
     "output_type": "stream",
     "text": [
      "Skipping batch 0 (already processed)\n",
      "Skipping batch 10 (already processed)\n",
      "Skipping batch 20 (already processed)\n",
      "Skipping batch 30 (already processed)\n",
      "Skipping batch 40 (already processed)\n",
      "Skipping batch 50 (already processed)\n",
      "Skipping batch 60 (already processed)\n",
      "Skipping batch 70 (already processed)\n",
      "Skipping batch 80 (already processed)\n",
      "Skipping batch 90 (already processed)\n",
      "Skipping batch 100 (already processed)\n",
      "Skipping batch 110 (already processed)\n",
      "Skipping batch 120 (already processed)\n",
      "Skipping batch 130 (already processed)\n",
      "Skipping batch 140 (already processed)\n",
      "Skipping batch 150 (already processed)\n",
      "Skipping batch 160 (already processed)\n",
      "Skipping batch 170 (already processed)\n",
      "Skipping batch 180 (already processed)\n",
      "Skipping batch 190 (already processed)\n",
      "Skipping batch 200 (already processed)\n",
      "Skipping batch 210 (already processed)\n",
      "Skipping batch 220 (already processed)\n",
      "Skipping batch 230 (already processed)\n",
      "Skipping batch 240 (already processed)\n",
      "Skipping batch 250 (already processed)\n",
      "Skipping batch 260 (already processed)\n",
      "Skipping batch 270 (already processed)\n",
      "Skipping batch 280 (already processed)\n"
     ]
    },
    {
     "data": {
      "application/vnd.jupyter.widget-view+json": {
       "model_id": "351136d0525745e49bdf1df3d7f4ae61",
       "version_major": 2,
       "version_minor": 0
      },
      "text/plain": [
       "Batch 290:   0%|          | 0/10 [00:00<?, ?it/s]"
      ]
     },
     "metadata": {},
     "output_type": "display_data"
    },
    {
     "name": "stdout",
     "output_type": "stream",
     "text": [
      "File saved to:  ../Eval_outputs/SPIQA/vision_only/batch_290_20250422_090943.csv\n"
     ]
    },
    {
     "data": {
      "application/vnd.jupyter.widget-view+json": {
       "model_id": "4d7f8e0d251a4ace927af41a8490884c",
       "version_major": 2,
       "version_minor": 0
      },
      "text/plain": [
       "Batch 300:   0%|          | 0/10 [00:00<?, ?it/s]"
      ]
     },
     "metadata": {},
     "output_type": "display_data"
    },
    {
     "name": "stdout",
     "output_type": "stream",
     "text": [
      "File saved to:  ../Eval_outputs/SPIQA/vision_only/batch_300_20250422_092112.csv\n"
     ]
    },
    {
     "data": {
      "application/vnd.jupyter.widget-view+json": {
       "model_id": "17445f8c3cea45588c4ab0907409729c",
       "version_major": 2,
       "version_minor": 0
      },
      "text/plain": [
       "Batch 310:   0%|          | 0/10 [00:00<?, ?it/s]"
      ]
     },
     "metadata": {},
     "output_type": "display_data"
    },
    {
     "name": "stdout",
     "output_type": "stream",
     "text": [
      "File saved to:  ../Eval_outputs/SPIQA/vision_only/batch_310_20250422_093259.csv\n"
     ]
    },
    {
     "data": {
      "application/vnd.jupyter.widget-view+json": {
       "model_id": "57aa7216023242e6a3e01dc911462b98",
       "version_major": 2,
       "version_minor": 0
      },
      "text/plain": [
       "Batch 320:   0%|          | 0/10 [00:00<?, ?it/s]"
      ]
     },
     "metadata": {},
     "output_type": "display_data"
    },
    {
     "name": "stdout",
     "output_type": "stream",
     "text": [
      "File saved to:  ../Eval_outputs/SPIQA/vision_only/batch_320_20250422_094521.csv\n"
     ]
    },
    {
     "data": {
      "application/vnd.jupyter.widget-view+json": {
       "model_id": "157cf4ac11b74de4b9527c3c2d91d0f0",
       "version_major": 2,
       "version_minor": 0
      },
      "text/plain": [
       "Batch 330:   0%|          | 0/10 [00:00<?, ?it/s]"
      ]
     },
     "metadata": {},
     "output_type": "display_data"
    },
    {
     "name": "stdout",
     "output_type": "stream",
     "text": [
      "File saved to:  ../Eval_outputs/SPIQA/vision_only/batch_330_20250422_095724.csv\n"
     ]
    },
    {
     "data": {
      "application/vnd.jupyter.widget-view+json": {
       "model_id": "e703ca121d904b6fa19f0ba8d3a508c2",
       "version_major": 2,
       "version_minor": 0
      },
      "text/plain": [
       "Batch 340:   0%|          | 0/10 [00:00<?, ?it/s]"
      ]
     },
     "metadata": {},
     "output_type": "display_data"
    },
    {
     "name": "stdout",
     "output_type": "stream",
     "text": [
      "File saved to:  ../Eval_outputs/SPIQA/vision_only/batch_340_20250422_100544.csv\n"
     ]
    },
    {
     "data": {
      "application/vnd.jupyter.widget-view+json": {
       "model_id": "3867b7097dc945a0a43dcd79fd0c89f4",
       "version_major": 2,
       "version_minor": 0
      },
      "text/plain": [
       "Batch 350:   0%|          | 0/10 [00:00<?, ?it/s]"
      ]
     },
     "metadata": {},
     "output_type": "display_data"
    },
    {
     "name": "stdout",
     "output_type": "stream",
     "text": [
      "File saved to:  ../Eval_outputs/SPIQA/vision_only/batch_350_20250422_101347.csv\n"
     ]
    },
    {
     "data": {
      "application/vnd.jupyter.widget-view+json": {
       "model_id": "c35fd8b1885c49c5bcbd4c5db25d320d",
       "version_major": 2,
       "version_minor": 0
      },
      "text/plain": [
       "Batch 360:   0%|          | 0/10 [00:00<?, ?it/s]"
      ]
     },
     "metadata": {},
     "output_type": "display_data"
    },
    {
     "name": "stdout",
     "output_type": "stream",
     "text": [
      "File saved to:  ../Eval_outputs/SPIQA/vision_only/batch_360_20250422_102247.csv\n"
     ]
    },
    {
     "data": {
      "application/vnd.jupyter.widget-view+json": {
       "model_id": "c551863cdbf44223b3c4da3c4bacff09",
       "version_major": 2,
       "version_minor": 0
      },
      "text/plain": [
       "Batch 370:   0%|          | 0/10 [00:00<?, ?it/s]"
      ]
     },
     "metadata": {},
     "output_type": "display_data"
    },
    {
     "name": "stdout",
     "output_type": "stream",
     "text": [
      "File saved to:  ../Eval_outputs/SPIQA/vision_only/batch_370_20250422_103158.csv\n"
     ]
    },
    {
     "data": {
      "application/vnd.jupyter.widget-view+json": {
       "model_id": "609a3091a7f443258ff9dcf731ab0297",
       "version_major": 2,
       "version_minor": 0
      },
      "text/plain": [
       "Batch 380:   0%|          | 0/10 [00:00<?, ?it/s]"
      ]
     },
     "metadata": {},
     "output_type": "display_data"
    },
    {
     "name": "stdout",
     "output_type": "stream",
     "text": [
      "File saved to:  ../Eval_outputs/SPIQA/vision_only/batch_380_20250422_104005.csv\n"
     ]
    },
    {
     "data": {
      "application/vnd.jupyter.widget-view+json": {
       "model_id": "d445ba0871be494a8d943ff5ad98bdc2",
       "version_major": 2,
       "version_minor": 0
      },
      "text/plain": [
       "Batch 390:   0%|          | 0/10 [00:00<?, ?it/s]"
      ]
     },
     "metadata": {},
     "output_type": "display_data"
    },
    {
     "name": "stdout",
     "output_type": "stream",
     "text": [
      "File saved to:  ../Eval_outputs/SPIQA/vision_only/batch_390_20250422_104741.csv\n"
     ]
    },
    {
     "data": {
      "application/vnd.jupyter.widget-view+json": {
       "model_id": "726b666858b74c2e9931f90e0b24aa35",
       "version_major": 2,
       "version_minor": 0
      },
      "text/plain": [
       "Batch 400:   0%|          | 0/10 [00:00<?, ?it/s]"
      ]
     },
     "metadata": {},
     "output_type": "display_data"
    },
    {
     "name": "stdout",
     "output_type": "stream",
     "text": [
      "File saved to:  ../Eval_outputs/SPIQA/vision_only/batch_400_20250422_105552.csv\n"
     ]
    },
    {
     "data": {
      "application/vnd.jupyter.widget-view+json": {
       "model_id": "d2e01ace07544088ab1d755d7b45c5db",
       "version_major": 2,
       "version_minor": 0
      },
      "text/plain": [
       "Batch 410:   0%|          | 0/10 [00:00<?, ?it/s]"
      ]
     },
     "metadata": {},
     "output_type": "display_data"
    },
    {
     "name": "stdout",
     "output_type": "stream",
     "text": [
      "File saved to:  ../Eval_outputs/SPIQA/vision_only/batch_410_20250422_110355.csv\n"
     ]
    },
    {
     "data": {
      "application/vnd.jupyter.widget-view+json": {
       "model_id": "24170d34587d4776a47e90ea4175455d",
       "version_major": 2,
       "version_minor": 0
      },
      "text/plain": [
       "Batch 420:   0%|          | 0/10 [00:00<?, ?it/s]"
      ]
     },
     "metadata": {},
     "output_type": "display_data"
    },
    {
     "name": "stdout",
     "output_type": "stream",
     "text": [
      "File saved to:  ../Eval_outputs/SPIQA/vision_only/batch_420_20250422_111210.csv\n"
     ]
    },
    {
     "data": {
      "application/vnd.jupyter.widget-view+json": {
       "model_id": "cf8eb7fbfedc4fe3ad77827e52fe4ac0",
       "version_major": 2,
       "version_minor": 0
      },
      "text/plain": [
       "Batch 430:   0%|          | 0/10 [00:00<?, ?it/s]"
      ]
     },
     "metadata": {},
     "output_type": "display_data"
    },
    {
     "name": "stdout",
     "output_type": "stream",
     "text": [
      "File saved to:  ../Eval_outputs/SPIQA/vision_only/batch_430_20250422_112156.csv\n"
     ]
    },
    {
     "data": {
      "application/vnd.jupyter.widget-view+json": {
       "model_id": "4c698a3b867d4359968987d9cefbc75e",
       "version_major": 2,
       "version_minor": 0
      },
      "text/plain": [
       "Batch 440:   0%|          | 0/10 [00:00<?, ?it/s]"
      ]
     },
     "metadata": {},
     "output_type": "display_data"
    },
    {
     "name": "stdout",
     "output_type": "stream",
     "text": [
      "File saved to:  ../Eval_outputs/SPIQA/vision_only/batch_440_20250422_113205.csv\n"
     ]
    },
    {
     "data": {
      "application/vnd.jupyter.widget-view+json": {
       "model_id": "a6552651e7ab43c69a43901266650145",
       "version_major": 2,
       "version_minor": 0
      },
      "text/plain": [
       "Batch 450:   0%|          | 0/10 [00:00<?, ?it/s]"
      ]
     },
     "metadata": {},
     "output_type": "display_data"
    },
    {
     "name": "stdout",
     "output_type": "stream",
     "text": [
      "File saved to:  ../Eval_outputs/SPIQA/vision_only/batch_450_20250422_114028.csv\n"
     ]
    },
    {
     "data": {
      "application/vnd.jupyter.widget-view+json": {
       "model_id": "4433e4fce2e043bcb53dd0961b41c695",
       "version_major": 2,
       "version_minor": 0
      },
      "text/plain": [
       "Batch 460:   0%|          | 0/10 [00:00<?, ?it/s]"
      ]
     },
     "metadata": {},
     "output_type": "display_data"
    },
    {
     "name": "stdout",
     "output_type": "stream",
     "text": [
      "File saved to:  ../Eval_outputs/SPIQA/vision_only/batch_460_20250422_114917.csv\n"
     ]
    },
    {
     "data": {
      "application/vnd.jupyter.widget-view+json": {
       "model_id": "5f9cf9c4251d4d95a33e2ad49cefd513",
       "version_major": 2,
       "version_minor": 0
      },
      "text/plain": [
       "Batch 470:   0%|          | 0/10 [00:00<?, ?it/s]"
      ]
     },
     "metadata": {},
     "output_type": "display_data"
    },
    {
     "name": "stdout",
     "output_type": "stream",
     "text": [
      "File saved to:  ../Eval_outputs/SPIQA/vision_only/batch_470_20250422_115713.csv\n"
     ]
    },
    {
     "data": {
      "application/vnd.jupyter.widget-view+json": {
       "model_id": "030e77c7510f481c957fd7ca16880f98",
       "version_major": 2,
       "version_minor": 0
      },
      "text/plain": [
       "Batch 480:   0%|          | 0/10 [00:00<?, ?it/s]"
      ]
     },
     "metadata": {},
     "output_type": "display_data"
    },
    {
     "name": "stdout",
     "output_type": "stream",
     "text": [
      "File saved to:  ../Eval_outputs/SPIQA/vision_only/batch_480_20250422_120522.csv\n"
     ]
    },
    {
     "data": {
      "application/vnd.jupyter.widget-view+json": {
       "model_id": "09ff2dc10e14402c84b772cb5cf6fede",
       "version_major": 2,
       "version_minor": 0
      },
      "text/plain": [
       "Batch 490:   0%|          | 0/10 [00:00<?, ?it/s]"
      ]
     },
     "metadata": {},
     "output_type": "display_data"
    },
    {
     "name": "stdout",
     "output_type": "stream",
     "text": [
      "File saved to:  ../Eval_outputs/SPIQA/vision_only/batch_490_20250422_121431.csv\n"
     ]
    },
    {
     "data": {
      "application/vnd.jupyter.widget-view+json": {
       "model_id": "5266c3b3109342629579ddd6c5a28e90",
       "version_major": 2,
       "version_minor": 0
      },
      "text/plain": [
       "Batch 500:   0%|          | 0/10 [00:00<?, ?it/s]"
      ]
     },
     "metadata": {},
     "output_type": "display_data"
    },
    {
     "name": "stdout",
     "output_type": "stream",
     "text": [
      "File saved to:  ../Eval_outputs/SPIQA/vision_only/batch_500_20250422_122327.csv\n"
     ]
    },
    {
     "data": {
      "application/vnd.jupyter.widget-view+json": {
       "model_id": "182f6f1554194aedacea8f56107aea17",
       "version_major": 2,
       "version_minor": 0
      },
      "text/plain": [
       "Batch 510:   0%|          | 0/10 [00:00<?, ?it/s]"
      ]
     },
     "metadata": {},
     "output_type": "display_data"
    },
    {
     "name": "stdout",
     "output_type": "stream",
     "text": [
      "File saved to:  ../Eval_outputs/SPIQA/vision_only/batch_510_20250422_123337.csv\n"
     ]
    },
    {
     "data": {
      "application/vnd.jupyter.widget-view+json": {
       "model_id": "e29345d764944fd9bad367e9adc5b7f1",
       "version_major": 2,
       "version_minor": 0
      },
      "text/plain": [
       "Batch 520:   0%|          | 0/10 [00:00<?, ?it/s]"
      ]
     },
     "metadata": {},
     "output_type": "display_data"
    },
    {
     "name": "stdout",
     "output_type": "stream",
     "text": [
      "File saved to:  ../Eval_outputs/SPIQA/vision_only/batch_520_20250422_124910.csv\n"
     ]
    },
    {
     "data": {
      "application/vnd.jupyter.widget-view+json": {
       "model_id": "c6b86681699049e1a21984b79ca12c70",
       "version_major": 2,
       "version_minor": 0
      },
      "text/plain": [
       "Batch 530:   0%|          | 0/10 [00:00<?, ?it/s]"
      ]
     },
     "metadata": {},
     "output_type": "display_data"
    },
    {
     "name": "stdout",
     "output_type": "stream",
     "text": [
      "File saved to:  ../Eval_outputs/SPIQA/vision_only/batch_530_20250422_132534.csv\n"
     ]
    },
    {
     "data": {
      "application/vnd.jupyter.widget-view+json": {
       "model_id": "a9bbc68deb2f48b7969fb3e62dd92e4e",
       "version_major": 2,
       "version_minor": 0
      },
      "text/plain": [
       "Batch 540:   0%|          | 0/10 [00:00<?, ?it/s]"
      ]
     },
     "metadata": {},
     "output_type": "display_data"
    },
    {
     "name": "stdout",
     "output_type": "stream",
     "text": [
      "File saved to:  ../Eval_outputs/SPIQA/vision_only/batch_540_20250422_133702.csv\n"
     ]
    },
    {
     "data": {
      "application/vnd.jupyter.widget-view+json": {
       "model_id": "d8d3652e594045078107dbd8b97017e6",
       "version_major": 2,
       "version_minor": 0
      },
      "text/plain": [
       "Batch 550:   0%|          | 0/10 [00:00<?, ?it/s]"
      ]
     },
     "metadata": {},
     "output_type": "display_data"
    },
    {
     "name": "stdout",
     "output_type": "stream",
     "text": [
      "File saved to:  ../Eval_outputs/SPIQA/vision_only/batch_550_20250422_134707.csv\n"
     ]
    },
    {
     "data": {
      "application/vnd.jupyter.widget-view+json": {
       "model_id": "2f6934dc46854a10b4c0dce21befe88b",
       "version_major": 2,
       "version_minor": 0
      },
      "text/plain": [
       "Batch 560:   0%|          | 0/10 [00:00<?, ?it/s]"
      ]
     },
     "metadata": {},
     "output_type": "display_data"
    },
    {
     "name": "stdout",
     "output_type": "stream",
     "text": [
      "File saved to:  ../Eval_outputs/SPIQA/vision_only/batch_560_20250422_135513.csv\n"
     ]
    },
    {
     "data": {
      "application/vnd.jupyter.widget-view+json": {
       "model_id": "b4fad0ca22a14bfdb944811dfafeed75",
       "version_major": 2,
       "version_minor": 0
      },
      "text/plain": [
       "Batch 570:   0%|          | 0/10 [00:00<?, ?it/s]"
      ]
     },
     "metadata": {},
     "output_type": "display_data"
    },
    {
     "name": "stdout",
     "output_type": "stream",
     "text": [
      "File saved to:  ../Eval_outputs/SPIQA/vision_only/batch_570_20250422_140454.csv\n"
     ]
    },
    {
     "data": {
      "application/vnd.jupyter.widget-view+json": {
       "model_id": "464ab50c10d94f7f9ab80093333e8c11",
       "version_major": 2,
       "version_minor": 0
      },
      "text/plain": [
       "Batch 580:   0%|          | 0/6 [00:00<?, ?it/s]"
      ]
     },
     "metadata": {},
     "output_type": "display_data"
    },
    {
     "name": "stdout",
     "output_type": "stream",
     "text": [
      "File saved to:  ../Eval_outputs/SPIQA/vision_only/batch_580_20250422_141201.csv\n"
     ]
    }
   ],
   "source": [
    "# Batch processing\n",
    "for i in tqdm(range(0, len(df), BATCH_SIZE)):\n",
    "    if i in existing_batches:\n",
    "        print(f\"Skipping batch {i} (already processed)\")\n",
    "        continue\n",
    "\n",
    "    batch_df = df.iloc[i:i + BATCH_SIZE]\n",
    "    results = []\n",
    "    start = time.time()\n",
    "\n",
    "    for idx, row in tqdm(batch_df.iterrows(), total=len(batch_df), desc=f\"Batch {i}\"):\n",
    "        try:\n",
    "            image_path = os.path.join(IMAGE_FOLDER, row[\"doc_id\"], row[\"reference_figure\"])\n",
    "            question = row[\"old_question\"]\n",
    "    #         # caption = row[\"caption\"]\n",
    "            answer = generator.generate_answer(image_path, \n",
    "                                            #    caption, \n",
    "                                               question)\n",
    "\n",
    "            results.append({\n",
    "                \"index\": idx,\n",
    "                \"question\": question,\n",
    "                # \"caption\": caption,\n",
    "                \"image\": image_path,\n",
    "                \"response\": answer\n",
    "            })\n",
    "        except Exception as e:\n",
    "            print(f\"Error processing row {idx}: {e}\")\n",
    "            continue\n",
    "    # results = {}\n",
    "\n",
    "    duration = time.time() - start\n",
    "    save_batch_output(results, OUTPUT_DIR, i)\n",
    "    log_time(OUTPUT_DIR, i, duration, prefix=\"vision_only\")"
   ]
  },
  {
   "cell_type": "code",
   "execution_count": null,
   "id": "b0f45923",
   "metadata": {},
   "outputs": [],
   "source": []
  }
 ],
 "metadata": {
  "kernelspec": {
   "display_name": "IRPenv",
   "language": "python",
   "name": "python3"
  },
  "language_info": {
   "codemirror_mode": {
    "name": "ipython",
    "version": 3
   },
   "file_extension": ".py",
   "mimetype": "text/x-python",
   "name": "python",
   "nbconvert_exporter": "python",
   "pygments_lexer": "ipython3",
   "version": "3.11.11"
  }
 },
 "nbformat": 4,
 "nbformat_minor": 5
}
