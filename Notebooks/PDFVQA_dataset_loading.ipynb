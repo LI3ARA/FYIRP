{
  "nbformat": 4,
  "nbformat_minor": 0,
  "metadata": {
    "colab": {
      "provenance": [],
      "toc_visible": true,
      "include_colab_link": true
    },
    "kernelspec": {
      "name": "python3",
      "display_name": "Python 3"
    },
    "language_info": {
      "name": "python"
    }
  },
  "cells": [
    {
      "cell_type": "markdown",
      "metadata": {
        "id": "view-in-github",
        "colab_type": "text"
      },
      "source": [
        "<a href=\"https://colab.research.google.com/github/LI3ARA/FYIRP/blob/main/Notebooks/PDFVQA_dataset_loading.ipynb\" target=\"_parent\"><img src=\"https://colab.research.google.com/assets/colab-badge.svg\" alt=\"Open In Colab\"/></a>"
      ]
    },
    {
      "cell_type": "markdown",
      "source": [
        "## Introduction"
      ],
      "metadata": {
        "id": "GU_Jo3sb6HKu"
      }
    },
    {
      "cell_type": "markdown",
      "source": [
        "## Dataset Loading\n",
        "\n",
        "Load the dataset from the google drive link (same as the dataset downloaded from kaggle competition). This dataset consists of three main splits: training, validation, and testing. The detailed dataset statistics of each data split can be found in below table. Please refer [PDFVQA paper](https://arxiv.org/abs/2304.06447) to get more helpful detailed information.\n",
        "\n",
        "<img src=\"https://www.googleapis.com/download/storage/v1/b/kaggle-user-content/o/inbox%2F3738436%2Fb2e3cfc548480b53b4ac174d00183524%2Fdataset_statistics.png?generation=1690700510714073&alt=media\" width = \"400\" style=\"display: block; margin: 0 auto\" />\n",
        "\n",
        "For each split, we provide two types of files:\n",
        "\n",
        "`CSV File`: This file contains questions and their corresponding ground truth answers. It is used specifically for training, allowing you to develop a model to predict answers based on the given questions accurately.\n",
        "\n",
        "`PKL File`: The pkl file is a valuable resource as it contains essential document information, including bounding box coordinates of each document layout component, textual contents inside each bounding box, and parent-child relationships (structural relationships between document components). This information is crucial for understanding the structure of the visually-rich documents and identifying relevant Regions of Interest (RoIs) that might contain the answers to the questions.\n",
        "\n",
        "\n"
      ],
      "metadata": {
        "id": "W5DX-cZrQqfB"
      }
    },
    {
      "cell_type": "code",
      "execution_count": 5,
      "metadata": {
        "id": "kff1AmDQd7kT"
      },
      "outputs": [],
      "source": [
        "!pip install -U -q PyDrive\n",
        "from pydrive.auth import GoogleAuth\n",
        "from pydrive.drive import GoogleDrive\n",
        "from google.colab import auth\n",
        "from oauth2client.client import GoogleCredentials\n",
        "import pandas as pd\n",
        "\n",
        "# Authenticate\n",
        "drive = None\n",
        "def authenticate():\n",
        "  global drive\n",
        "\n",
        "  auth.authenticate_user()\n",
        "  gauth = GoogleAuth()\n",
        "  gauth.credentials = GoogleCredentials.get_application_default()\n",
        "  drive = GoogleDrive(gauth)\n",
        "\n",
        "#Download files\n",
        "def downloadFiles(fileIds):\n",
        "  authenticate()\n",
        "\n",
        "  for fileId in fileIds:\n",
        "\n",
        "    downloaded = drive.CreateFile({\"id\": fileId[1]})\n",
        "    downloaded.GetContentFile(fileId[0])"
      ]
    },
    {
      "cell_type": "markdown",
      "source": [
        "## PKL to CSV file exploring\n",
        "\n",
        "As mentioned in the kaggle dataset description, this dataset contains three dataset splits: training, validation and testing. For each data split, we provide a csv file containing document PMCID, natural language questions with question types. Notably, we only provide the ground truth answer with object id (unique **global_id**) for participants training and validating their models.\n"
      ],
      "metadata": {
        "id": "zGD-BkBaHpVl"
      }
    },
    {
      "cell_type": "code",
      "source": [
        "# Import essential\n",
        "import json, pickle\n",
        "import pandas as pd"
      ],
      "metadata": {
        "id": "pu_ONN79CE6d"
      },
      "execution_count": 2,
      "outputs": []
    },
    {
      "cell_type": "markdown",
      "source": [
        "### PKL to CSV file exploring - Data\n",
        "Let's load the training dataframe to check the column names."
      ],
      "metadata": {
        "id": "jpX9mpHWLjul"
      }
    },
    {
      "cell_type": "code",
      "source": [
        "from google.colab import drive\n",
        "drive.mount('/content/drive')"
      ],
      "metadata": {
        "id": "n_RSxRHtFZnK",
        "outputId": "9fadfa7c-a1c3-4062-d419-3c5b2d252ee3",
        "colab": {
          "base_uri": "https://localhost:8080/"
        }
      },
      "execution_count": 3,
      "outputs": [
        {
          "output_type": "stream",
          "name": "stdout",
          "text": [
            "Mounted at /content/drive\n"
          ]
        }
      ]
    },
    {
      "cell_type": "code",
      "source": [
        "# funtion to read the pickle files to dataframe\n",
        "def pkl_to_def(path):\n",
        "  with open(path, 'rb') as f:\n",
        "    df_ = pickle.load(f)\n",
        "  return df_"
      ],
      "metadata": {
        "id": "jQ6ADvUzBXe9"
      },
      "execution_count": 11,
      "outputs": []
    },
    {
      "cell_type": "markdown",
      "source": [
        "From above samples, the train dataframe mainly contain five columns.\n",
        "\n",
        "\n",
        "Based on the information provided, the train dataframe contains five columns:\n",
        "\n",
        "1. `pmcid`: This column likely contains identifiers or references to locate the 'train_doc_info.pkl' file. The purpose of this column could be to access the input RoI (Region of Interest) information required for developing the model.\n",
        "\n",
        "2. `question`: This column contains the text of natural language questions that are used as input for the model.\n",
        "\n",
        "3. `question_type`: This column contains the types of questions. The two types mentioned are \"parent-relationship understanding\" and \"child-relationship understanding.\"\n",
        "\n",
        "4. `answer` (training only): This column is present only in the training dataset. It stores the answer text contents that correspond to the questions in the `question` column.\n",
        "\n",
        "5. `global_id` (training only): This column is present only in the training dataset. It contains global identifiers or references that help locate the answer Region of Interests (RoIs) associated with each question.\n",
        "\n",
        "These columns are likely used for training and developing a model for question-answering tasks, where the model is trained to answer questions based on the provided input RoIs and question types.\n"
      ],
      "metadata": {
        "id": "-A3DJfwAL3xx"
      }
    },
    {
      "cell_type": "code",
      "source": [
        "train_df = pkl_to_def(\"/content/drive/MyDrive/Year 4/FYP_Personal_Shared/PDFVQA/Task 3/train_dataframe.pkl\")\n",
        "test_df = pkl_to_def(\"/content/drive/MyDrive/Year 4/FYP_Personal_Shared/PDFVQA/Task 3/test_dataframe.pkl\")\n",
        "val_df = pkl_to_def(\"/content/drive/MyDrive/Year 4/FYP_Personal_Shared/PDFVQA/Task 3/val_dataframe.pkl\")"
      ],
      "metadata": {
        "id": "HPnyfdBcBkhC"
      },
      "execution_count": 12,
      "outputs": []
    },
    {
      "cell_type": "code",
      "source": [
        "train_df.head(5)"
      ],
      "metadata": {
        "id": "QeP3RQ67BKNX",
        "outputId": "b3e604dd-9b90-4c07-a1b9-8cc74f1eb144",
        "colab": {
          "base_uri": "https://localhost:8080/",
          "height": 293
        }
      },
      "execution_count": 18,
      "outputs": [
        {
          "output_type": "execute_result",
          "data": {
            "text/plain": [
              "      pmcid                                           question  \\\n",
              "0  27923395      Name out the section that include the Fig. 2.   \n",
              "1  27923395  When you search for the description of Fig. 3,...   \n",
              "2  27923395  Which section does include the description of ...   \n",
              "3  27923395                    Where can you find the Table 3?   \n",
              "4  27923395  Where is the 'Oka C et al,1995' cited in the d...   \n",
              "\n",
              "                                              answer  \\\n",
              "0  [Expression of Ascl1 and neuronal markers in t...   \n",
              "1  [Differential expression of proneural genes wa...   \n",
              "2  [Discussion, Results, Expression of neuronal m...   \n",
              "3  [Differential expression of proneural genes wa...   \n",
              "4  [Expression of Ascl1 and neuronal markers in t...   \n",
              "\n",
              "                                  global_id                      question_type  \n",
              "0                          [243838, 243824]  parent_relationship_understanding  \n",
              "1  [243867, 243824, 243849, 243866, 243878]  parent_relationship_understanding  \n",
              "2  [243877, 243824, 243825, 243884, 243849]  parent_relationship_understanding  \n",
              "3                  [243867, 243849, 243824]  parent_relationship_understanding  \n",
              "4                          [243838, 243824]  parent_relationship_understanding  "
            ],
            "text/html": [
              "\n",
              "  <div id=\"df-c6141171-c040-4d2e-9eca-77561b20248e\" class=\"colab-df-container\">\n",
              "    <div>\n",
              "<style scoped>\n",
              "    .dataframe tbody tr th:only-of-type {\n",
              "        vertical-align: middle;\n",
              "    }\n",
              "\n",
              "    .dataframe tbody tr th {\n",
              "        vertical-align: top;\n",
              "    }\n",
              "\n",
              "    .dataframe thead th {\n",
              "        text-align: right;\n",
              "    }\n",
              "</style>\n",
              "<table border=\"1\" class=\"dataframe\">\n",
              "  <thead>\n",
              "    <tr style=\"text-align: right;\">\n",
              "      <th></th>\n",
              "      <th>pmcid</th>\n",
              "      <th>question</th>\n",
              "      <th>answer</th>\n",
              "      <th>global_id</th>\n",
              "      <th>question_type</th>\n",
              "    </tr>\n",
              "  </thead>\n",
              "  <tbody>\n",
              "    <tr>\n",
              "      <th>0</th>\n",
              "      <td>27923395</td>\n",
              "      <td>Name out the section that include the Fig. 2.</td>\n",
              "      <td>[Expression of Ascl1 and neuronal markers in t...</td>\n",
              "      <td>[243838, 243824]</td>\n",
              "      <td>parent_relationship_understanding</td>\n",
              "    </tr>\n",
              "    <tr>\n",
              "      <th>1</th>\n",
              "      <td>27923395</td>\n",
              "      <td>When you search for the description of Fig. 3,...</td>\n",
              "      <td>[Differential expression of proneural genes wa...</td>\n",
              "      <td>[243867, 243824, 243849, 243866, 243878]</td>\n",
              "      <td>parent_relationship_understanding</td>\n",
              "    </tr>\n",
              "    <tr>\n",
              "      <th>2</th>\n",
              "      <td>27923395</td>\n",
              "      <td>Which section does include the description of ...</td>\n",
              "      <td>[Discussion, Results, Expression of neuronal m...</td>\n",
              "      <td>[243877, 243824, 243825, 243884, 243849]</td>\n",
              "      <td>parent_relationship_understanding</td>\n",
              "    </tr>\n",
              "    <tr>\n",
              "      <th>3</th>\n",
              "      <td>27923395</td>\n",
              "      <td>Where can you find the Table 3?</td>\n",
              "      <td>[Differential expression of proneural genes wa...</td>\n",
              "      <td>[243867, 243849, 243824]</td>\n",
              "      <td>parent_relationship_understanding</td>\n",
              "    </tr>\n",
              "    <tr>\n",
              "      <th>4</th>\n",
              "      <td>27923395</td>\n",
              "      <td>Where is the 'Oka C et al,1995' cited in the d...</td>\n",
              "      <td>[Expression of Ascl1 and neuronal markers in t...</td>\n",
              "      <td>[243838, 243824]</td>\n",
              "      <td>parent_relationship_understanding</td>\n",
              "    </tr>\n",
              "  </tbody>\n",
              "</table>\n",
              "</div>\n",
              "    <div class=\"colab-df-buttons\">\n",
              "\n",
              "  <div class=\"colab-df-container\">\n",
              "    <button class=\"colab-df-convert\" onclick=\"convertToInteractive('df-c6141171-c040-4d2e-9eca-77561b20248e')\"\n",
              "            title=\"Convert this dataframe to an interactive table.\"\n",
              "            style=\"display:none;\">\n",
              "\n",
              "  <svg xmlns=\"http://www.w3.org/2000/svg\" height=\"24px\" viewBox=\"0 -960 960 960\">\n",
              "    <path d=\"M120-120v-720h720v720H120Zm60-500h600v-160H180v160Zm220 220h160v-160H400v160Zm0 220h160v-160H400v160ZM180-400h160v-160H180v160Zm440 0h160v-160H620v160ZM180-180h160v-160H180v160Zm440 0h160v-160H620v160Z\"/>\n",
              "  </svg>\n",
              "    </button>\n",
              "\n",
              "  <style>\n",
              "    .colab-df-container {\n",
              "      display:flex;\n",
              "      gap: 12px;\n",
              "    }\n",
              "\n",
              "    .colab-df-convert {\n",
              "      background-color: #E8F0FE;\n",
              "      border: none;\n",
              "      border-radius: 50%;\n",
              "      cursor: pointer;\n",
              "      display: none;\n",
              "      fill: #1967D2;\n",
              "      height: 32px;\n",
              "      padding: 0 0 0 0;\n",
              "      width: 32px;\n",
              "    }\n",
              "\n",
              "    .colab-df-convert:hover {\n",
              "      background-color: #E2EBFA;\n",
              "      box-shadow: 0px 1px 2px rgba(60, 64, 67, 0.3), 0px 1px 3px 1px rgba(60, 64, 67, 0.15);\n",
              "      fill: #174EA6;\n",
              "    }\n",
              "\n",
              "    .colab-df-buttons div {\n",
              "      margin-bottom: 4px;\n",
              "    }\n",
              "\n",
              "    [theme=dark] .colab-df-convert {\n",
              "      background-color: #3B4455;\n",
              "      fill: #D2E3FC;\n",
              "    }\n",
              "\n",
              "    [theme=dark] .colab-df-convert:hover {\n",
              "      background-color: #434B5C;\n",
              "      box-shadow: 0px 1px 3px 1px rgba(0, 0, 0, 0.15);\n",
              "      filter: drop-shadow(0px 1px 2px rgba(0, 0, 0, 0.3));\n",
              "      fill: #FFFFFF;\n",
              "    }\n",
              "  </style>\n",
              "\n",
              "    <script>\n",
              "      const buttonEl =\n",
              "        document.querySelector('#df-c6141171-c040-4d2e-9eca-77561b20248e button.colab-df-convert');\n",
              "      buttonEl.style.display =\n",
              "        google.colab.kernel.accessAllowed ? 'block' : 'none';\n",
              "\n",
              "      async function convertToInteractive(key) {\n",
              "        const element = document.querySelector('#df-c6141171-c040-4d2e-9eca-77561b20248e');\n",
              "        const dataTable =\n",
              "          await google.colab.kernel.invokeFunction('convertToInteractive',\n",
              "                                                    [key], {});\n",
              "        if (!dataTable) return;\n",
              "\n",
              "        const docLinkHtml = 'Like what you see? Visit the ' +\n",
              "          '<a target=\"_blank\" href=https://colab.research.google.com/notebooks/data_table.ipynb>data table notebook</a>'\n",
              "          + ' to learn more about interactive tables.';\n",
              "        element.innerHTML = '';\n",
              "        dataTable['output_type'] = 'display_data';\n",
              "        await google.colab.output.renderOutput(dataTable, element);\n",
              "        const docLink = document.createElement('div');\n",
              "        docLink.innerHTML = docLinkHtml;\n",
              "        element.appendChild(docLink);\n",
              "      }\n",
              "    </script>\n",
              "  </div>\n",
              "\n",
              "\n",
              "<div id=\"df-a8c780c5-0986-4e08-9355-87f981fb9de3\">\n",
              "  <button class=\"colab-df-quickchart\" onclick=\"quickchart('df-a8c780c5-0986-4e08-9355-87f981fb9de3')\"\n",
              "            title=\"Suggest charts\"\n",
              "            style=\"display:none;\">\n",
              "\n",
              "<svg xmlns=\"http://www.w3.org/2000/svg\" height=\"24px\"viewBox=\"0 0 24 24\"\n",
              "     width=\"24px\">\n",
              "    <g>\n",
              "        <path d=\"M19 3H5c-1.1 0-2 .9-2 2v14c0 1.1.9 2 2 2h14c1.1 0 2-.9 2-2V5c0-1.1-.9-2-2-2zM9 17H7v-7h2v7zm4 0h-2V7h2v10zm4 0h-2v-4h2v4z\"/>\n",
              "    </g>\n",
              "</svg>\n",
              "  </button>\n",
              "\n",
              "<style>\n",
              "  .colab-df-quickchart {\n",
              "      --bg-color: #E8F0FE;\n",
              "      --fill-color: #1967D2;\n",
              "      --hover-bg-color: #E2EBFA;\n",
              "      --hover-fill-color: #174EA6;\n",
              "      --disabled-fill-color: #AAA;\n",
              "      --disabled-bg-color: #DDD;\n",
              "  }\n",
              "\n",
              "  [theme=dark] .colab-df-quickchart {\n",
              "      --bg-color: #3B4455;\n",
              "      --fill-color: #D2E3FC;\n",
              "      --hover-bg-color: #434B5C;\n",
              "      --hover-fill-color: #FFFFFF;\n",
              "      --disabled-bg-color: #3B4455;\n",
              "      --disabled-fill-color: #666;\n",
              "  }\n",
              "\n",
              "  .colab-df-quickchart {\n",
              "    background-color: var(--bg-color);\n",
              "    border: none;\n",
              "    border-radius: 50%;\n",
              "    cursor: pointer;\n",
              "    display: none;\n",
              "    fill: var(--fill-color);\n",
              "    height: 32px;\n",
              "    padding: 0;\n",
              "    width: 32px;\n",
              "  }\n",
              "\n",
              "  .colab-df-quickchart:hover {\n",
              "    background-color: var(--hover-bg-color);\n",
              "    box-shadow: 0 1px 2px rgba(60, 64, 67, 0.3), 0 1px 3px 1px rgba(60, 64, 67, 0.15);\n",
              "    fill: var(--button-hover-fill-color);\n",
              "  }\n",
              "\n",
              "  .colab-df-quickchart-complete:disabled,\n",
              "  .colab-df-quickchart-complete:disabled:hover {\n",
              "    background-color: var(--disabled-bg-color);\n",
              "    fill: var(--disabled-fill-color);\n",
              "    box-shadow: none;\n",
              "  }\n",
              "\n",
              "  .colab-df-spinner {\n",
              "    border: 2px solid var(--fill-color);\n",
              "    border-color: transparent;\n",
              "    border-bottom-color: var(--fill-color);\n",
              "    animation:\n",
              "      spin 1s steps(1) infinite;\n",
              "  }\n",
              "\n",
              "  @keyframes spin {\n",
              "    0% {\n",
              "      border-color: transparent;\n",
              "      border-bottom-color: var(--fill-color);\n",
              "      border-left-color: var(--fill-color);\n",
              "    }\n",
              "    20% {\n",
              "      border-color: transparent;\n",
              "      border-left-color: var(--fill-color);\n",
              "      border-top-color: var(--fill-color);\n",
              "    }\n",
              "    30% {\n",
              "      border-color: transparent;\n",
              "      border-left-color: var(--fill-color);\n",
              "      border-top-color: var(--fill-color);\n",
              "      border-right-color: var(--fill-color);\n",
              "    }\n",
              "    40% {\n",
              "      border-color: transparent;\n",
              "      border-right-color: var(--fill-color);\n",
              "      border-top-color: var(--fill-color);\n",
              "    }\n",
              "    60% {\n",
              "      border-color: transparent;\n",
              "      border-right-color: var(--fill-color);\n",
              "    }\n",
              "    80% {\n",
              "      border-color: transparent;\n",
              "      border-right-color: var(--fill-color);\n",
              "      border-bottom-color: var(--fill-color);\n",
              "    }\n",
              "    90% {\n",
              "      border-color: transparent;\n",
              "      border-bottom-color: var(--fill-color);\n",
              "    }\n",
              "  }\n",
              "</style>\n",
              "\n",
              "  <script>\n",
              "    async function quickchart(key) {\n",
              "      const quickchartButtonEl =\n",
              "        document.querySelector('#' + key + ' button');\n",
              "      quickchartButtonEl.disabled = true;  // To prevent multiple clicks.\n",
              "      quickchartButtonEl.classList.add('colab-df-spinner');\n",
              "      try {\n",
              "        const charts = await google.colab.kernel.invokeFunction(\n",
              "            'suggestCharts', [key], {});\n",
              "      } catch (error) {\n",
              "        console.error('Error during call to suggestCharts:', error);\n",
              "      }\n",
              "      quickchartButtonEl.classList.remove('colab-df-spinner');\n",
              "      quickchartButtonEl.classList.add('colab-df-quickchart-complete');\n",
              "    }\n",
              "    (() => {\n",
              "      let quickchartButtonEl =\n",
              "        document.querySelector('#df-a8c780c5-0986-4e08-9355-87f981fb9de3 button');\n",
              "      quickchartButtonEl.style.display =\n",
              "        google.colab.kernel.accessAllowed ? 'block' : 'none';\n",
              "    })();\n",
              "  </script>\n",
              "</div>\n",
              "\n",
              "    </div>\n",
              "  </div>\n"
            ],
            "application/vnd.google.colaboratory.intrinsic+json": {
              "type": "dataframe",
              "variable_name": "train_df",
              "summary": "{\n  \"name\": \"train_df\",\n  \"rows\": 3951,\n  \"fields\": [\n    {\n      \"column\": \"pmcid\",\n      \"properties\": {\n        \"dtype\": \"category\",\n        \"num_unique_values\": 800,\n        \"samples\": [\n          \"28852960\",\n          \"28900828\",\n          \"26781090\"\n        ],\n        \"semantic_type\": \"\",\n        \"description\": \"\"\n      }\n    },\n    {\n      \"column\": \"question\",\n      \"properties\": {\n        \"dtype\": \"category\",\n        \"num_unique_values\": 1255,\n        \"samples\": [\n          \"Where can 'McClanahanTR et al,2004' be found in the document?\",\n          \"Which section does describe the Fig. 5?\",\n          \"Which section does include the 'Coe CL et al,2003'?\"\n        ],\n        \"semantic_type\": \"\",\n        \"description\": \"\"\n      }\n    },\n    {\n      \"column\": \"answer\",\n      \"properties\": {\n        \"dtype\": \"object\",\n        \"semantic_type\": \"\",\n        \"description\": \"\"\n      }\n    },\n    {\n      \"column\": \"global_id\",\n      \"properties\": {\n        \"dtype\": \"object\",\n        \"semantic_type\": \"\",\n        \"description\": \"\"\n      }\n    },\n    {\n      \"column\": \"question_type\",\n      \"properties\": {\n        \"dtype\": \"category\",\n        \"num_unique_values\": 2,\n        \"samples\": [\n          \"child_relationship_understanding\",\n          \"parent_relationship_understanding\"\n        ],\n        \"semantic_type\": \"\",\n        \"description\": \"\"\n      }\n    }\n  ]\n}"
            }
          },
          "metadata": {},
          "execution_count": 18
        }
      ]
    },
    {
      "cell_type": "code",
      "source": [
        "train_df['question_type'].unique()"
      ],
      "metadata": {
        "id": "5wafBZIDAUwS",
        "outputId": "b0798b0b-90ac-4fa5-c421-07a5471b1b44",
        "colab": {
          "base_uri": "https://localhost:8080/"
        }
      },
      "execution_count": 14,
      "outputs": [
        {
          "output_type": "execute_result",
          "data": {
            "text/plain": [
              "array(['parent_relationship_understanding',\n",
              "       'child_relationship_understanding'], dtype=object)"
            ]
          },
          "metadata": {},
          "execution_count": 14
        }
      ]
    },
    {
      "cell_type": "code",
      "source": [
        "test_df.sample(5)"
      ],
      "metadata": {
        "id": "QYsp5yliCWfq",
        "outputId": "4f72bf77-b89a-4768-ee32-19dca7d732a6",
        "colab": {
          "base_uri": "https://localhost:8080/",
          "height": 223
        }
      },
      "execution_count": 15,
      "outputs": [
        {
          "output_type": "execute_result",
          "data": {
            "text/plain": [
              "         pmcid                                           question  \\\n",
              "301   28070620                     Where can you find the Fig. 1?   \n",
              "1042  27492005            Which section does describe the Fig. 2?   \n",
              "429   26442161                   Where can you find the Figure 1?   \n",
              "379   25478250          Which section does describe the Figure 1?   \n",
              "590   19787084  Which section does cite the 'Schwarz DS et al,...   \n",
              "\n",
              "                                                 answer         global_id  \\\n",
              "301                                           [Results]          [419352]   \n",
              "1042                                          [Results]          [442117]   \n",
              "429                              [2. Case Presentation]          [411222]   \n",
              "379                                    [2. Case Report]          [431208]   \n",
              "590   [Therapeutic intervention at the RNA level, Fu...  [430330, 430320]   \n",
              "\n",
              "                          question_type  \n",
              "301   parent_relationship_understanding  \n",
              "1042  parent_relationship_understanding  \n",
              "429   parent_relationship_understanding  \n",
              "379   parent_relationship_understanding  \n",
              "590   parent_relationship_understanding  "
            ],
            "text/html": [
              "\n",
              "  <div id=\"df-e291c1c3-adbd-405d-9543-06c56a95ec75\" class=\"colab-df-container\">\n",
              "    <div>\n",
              "<style scoped>\n",
              "    .dataframe tbody tr th:only-of-type {\n",
              "        vertical-align: middle;\n",
              "    }\n",
              "\n",
              "    .dataframe tbody tr th {\n",
              "        vertical-align: top;\n",
              "    }\n",
              "\n",
              "    .dataframe thead th {\n",
              "        text-align: right;\n",
              "    }\n",
              "</style>\n",
              "<table border=\"1\" class=\"dataframe\">\n",
              "  <thead>\n",
              "    <tr style=\"text-align: right;\">\n",
              "      <th></th>\n",
              "      <th>pmcid</th>\n",
              "      <th>question</th>\n",
              "      <th>answer</th>\n",
              "      <th>global_id</th>\n",
              "      <th>question_type</th>\n",
              "    </tr>\n",
              "  </thead>\n",
              "  <tbody>\n",
              "    <tr>\n",
              "      <th>301</th>\n",
              "      <td>28070620</td>\n",
              "      <td>Where can you find the Fig. 1?</td>\n",
              "      <td>[Results]</td>\n",
              "      <td>[419352]</td>\n",
              "      <td>parent_relationship_understanding</td>\n",
              "    </tr>\n",
              "    <tr>\n",
              "      <th>1042</th>\n",
              "      <td>27492005</td>\n",
              "      <td>Which section does describe the Fig. 2?</td>\n",
              "      <td>[Results]</td>\n",
              "      <td>[442117]</td>\n",
              "      <td>parent_relationship_understanding</td>\n",
              "    </tr>\n",
              "    <tr>\n",
              "      <th>429</th>\n",
              "      <td>26442161</td>\n",
              "      <td>Where can you find the Figure 1?</td>\n",
              "      <td>[2. Case Presentation]</td>\n",
              "      <td>[411222]</td>\n",
              "      <td>parent_relationship_understanding</td>\n",
              "    </tr>\n",
              "    <tr>\n",
              "      <th>379</th>\n",
              "      <td>25478250</td>\n",
              "      <td>Which section does describe the Figure 1?</td>\n",
              "      <td>[2. Case Report]</td>\n",
              "      <td>[431208]</td>\n",
              "      <td>parent_relationship_understanding</td>\n",
              "    </tr>\n",
              "    <tr>\n",
              "      <th>590</th>\n",
              "      <td>19787084</td>\n",
              "      <td>Which section does cite the 'Schwarz DS et al,...</td>\n",
              "      <td>[Therapeutic intervention at the RNA level, Fu...</td>\n",
              "      <td>[430330, 430320]</td>\n",
              "      <td>parent_relationship_understanding</td>\n",
              "    </tr>\n",
              "  </tbody>\n",
              "</table>\n",
              "</div>\n",
              "    <div class=\"colab-df-buttons\">\n",
              "\n",
              "  <div class=\"colab-df-container\">\n",
              "    <button class=\"colab-df-convert\" onclick=\"convertToInteractive('df-e291c1c3-adbd-405d-9543-06c56a95ec75')\"\n",
              "            title=\"Convert this dataframe to an interactive table.\"\n",
              "            style=\"display:none;\">\n",
              "\n",
              "  <svg xmlns=\"http://www.w3.org/2000/svg\" height=\"24px\" viewBox=\"0 -960 960 960\">\n",
              "    <path d=\"M120-120v-720h720v720H120Zm60-500h600v-160H180v160Zm220 220h160v-160H400v160Zm0 220h160v-160H400v160ZM180-400h160v-160H180v160Zm440 0h160v-160H620v160ZM180-180h160v-160H180v160Zm440 0h160v-160H620v160Z\"/>\n",
              "  </svg>\n",
              "    </button>\n",
              "\n",
              "  <style>\n",
              "    .colab-df-container {\n",
              "      display:flex;\n",
              "      gap: 12px;\n",
              "    }\n",
              "\n",
              "    .colab-df-convert {\n",
              "      background-color: #E8F0FE;\n",
              "      border: none;\n",
              "      border-radius: 50%;\n",
              "      cursor: pointer;\n",
              "      display: none;\n",
              "      fill: #1967D2;\n",
              "      height: 32px;\n",
              "      padding: 0 0 0 0;\n",
              "      width: 32px;\n",
              "    }\n",
              "\n",
              "    .colab-df-convert:hover {\n",
              "      background-color: #E2EBFA;\n",
              "      box-shadow: 0px 1px 2px rgba(60, 64, 67, 0.3), 0px 1px 3px 1px rgba(60, 64, 67, 0.15);\n",
              "      fill: #174EA6;\n",
              "    }\n",
              "\n",
              "    .colab-df-buttons div {\n",
              "      margin-bottom: 4px;\n",
              "    }\n",
              "\n",
              "    [theme=dark] .colab-df-convert {\n",
              "      background-color: #3B4455;\n",
              "      fill: #D2E3FC;\n",
              "    }\n",
              "\n",
              "    [theme=dark] .colab-df-convert:hover {\n",
              "      background-color: #434B5C;\n",
              "      box-shadow: 0px 1px 3px 1px rgba(0, 0, 0, 0.15);\n",
              "      filter: drop-shadow(0px 1px 2px rgba(0, 0, 0, 0.3));\n",
              "      fill: #FFFFFF;\n",
              "    }\n",
              "  </style>\n",
              "\n",
              "    <script>\n",
              "      const buttonEl =\n",
              "        document.querySelector('#df-e291c1c3-adbd-405d-9543-06c56a95ec75 button.colab-df-convert');\n",
              "      buttonEl.style.display =\n",
              "        google.colab.kernel.accessAllowed ? 'block' : 'none';\n",
              "\n",
              "      async function convertToInteractive(key) {\n",
              "        const element = document.querySelector('#df-e291c1c3-adbd-405d-9543-06c56a95ec75');\n",
              "        const dataTable =\n",
              "          await google.colab.kernel.invokeFunction('convertToInteractive',\n",
              "                                                    [key], {});\n",
              "        if (!dataTable) return;\n",
              "\n",
              "        const docLinkHtml = 'Like what you see? Visit the ' +\n",
              "          '<a target=\"_blank\" href=https://colab.research.google.com/notebooks/data_table.ipynb>data table notebook</a>'\n",
              "          + ' to learn more about interactive tables.';\n",
              "        element.innerHTML = '';\n",
              "        dataTable['output_type'] = 'display_data';\n",
              "        await google.colab.output.renderOutput(dataTable, element);\n",
              "        const docLink = document.createElement('div');\n",
              "        docLink.innerHTML = docLinkHtml;\n",
              "        element.appendChild(docLink);\n",
              "      }\n",
              "    </script>\n",
              "  </div>\n",
              "\n",
              "\n",
              "<div id=\"df-3e333a9f-3e57-47a9-9fbd-f656b871856b\">\n",
              "  <button class=\"colab-df-quickchart\" onclick=\"quickchart('df-3e333a9f-3e57-47a9-9fbd-f656b871856b')\"\n",
              "            title=\"Suggest charts\"\n",
              "            style=\"display:none;\">\n",
              "\n",
              "<svg xmlns=\"http://www.w3.org/2000/svg\" height=\"24px\"viewBox=\"0 0 24 24\"\n",
              "     width=\"24px\">\n",
              "    <g>\n",
              "        <path d=\"M19 3H5c-1.1 0-2 .9-2 2v14c0 1.1.9 2 2 2h14c1.1 0 2-.9 2-2V5c0-1.1-.9-2-2-2zM9 17H7v-7h2v7zm4 0h-2V7h2v10zm4 0h-2v-4h2v4z\"/>\n",
              "    </g>\n",
              "</svg>\n",
              "  </button>\n",
              "\n",
              "<style>\n",
              "  .colab-df-quickchart {\n",
              "      --bg-color: #E8F0FE;\n",
              "      --fill-color: #1967D2;\n",
              "      --hover-bg-color: #E2EBFA;\n",
              "      --hover-fill-color: #174EA6;\n",
              "      --disabled-fill-color: #AAA;\n",
              "      --disabled-bg-color: #DDD;\n",
              "  }\n",
              "\n",
              "  [theme=dark] .colab-df-quickchart {\n",
              "      --bg-color: #3B4455;\n",
              "      --fill-color: #D2E3FC;\n",
              "      --hover-bg-color: #434B5C;\n",
              "      --hover-fill-color: #FFFFFF;\n",
              "      --disabled-bg-color: #3B4455;\n",
              "      --disabled-fill-color: #666;\n",
              "  }\n",
              "\n",
              "  .colab-df-quickchart {\n",
              "    background-color: var(--bg-color);\n",
              "    border: none;\n",
              "    border-radius: 50%;\n",
              "    cursor: pointer;\n",
              "    display: none;\n",
              "    fill: var(--fill-color);\n",
              "    height: 32px;\n",
              "    padding: 0;\n",
              "    width: 32px;\n",
              "  }\n",
              "\n",
              "  .colab-df-quickchart:hover {\n",
              "    background-color: var(--hover-bg-color);\n",
              "    box-shadow: 0 1px 2px rgba(60, 64, 67, 0.3), 0 1px 3px 1px rgba(60, 64, 67, 0.15);\n",
              "    fill: var(--button-hover-fill-color);\n",
              "  }\n",
              "\n",
              "  .colab-df-quickchart-complete:disabled,\n",
              "  .colab-df-quickchart-complete:disabled:hover {\n",
              "    background-color: var(--disabled-bg-color);\n",
              "    fill: var(--disabled-fill-color);\n",
              "    box-shadow: none;\n",
              "  }\n",
              "\n",
              "  .colab-df-spinner {\n",
              "    border: 2px solid var(--fill-color);\n",
              "    border-color: transparent;\n",
              "    border-bottom-color: var(--fill-color);\n",
              "    animation:\n",
              "      spin 1s steps(1) infinite;\n",
              "  }\n",
              "\n",
              "  @keyframes spin {\n",
              "    0% {\n",
              "      border-color: transparent;\n",
              "      border-bottom-color: var(--fill-color);\n",
              "      border-left-color: var(--fill-color);\n",
              "    }\n",
              "    20% {\n",
              "      border-color: transparent;\n",
              "      border-left-color: var(--fill-color);\n",
              "      border-top-color: var(--fill-color);\n",
              "    }\n",
              "    30% {\n",
              "      border-color: transparent;\n",
              "      border-left-color: var(--fill-color);\n",
              "      border-top-color: var(--fill-color);\n",
              "      border-right-color: var(--fill-color);\n",
              "    }\n",
              "    40% {\n",
              "      border-color: transparent;\n",
              "      border-right-color: var(--fill-color);\n",
              "      border-top-color: var(--fill-color);\n",
              "    }\n",
              "    60% {\n",
              "      border-color: transparent;\n",
              "      border-right-color: var(--fill-color);\n",
              "    }\n",
              "    80% {\n",
              "      border-color: transparent;\n",
              "      border-right-color: var(--fill-color);\n",
              "      border-bottom-color: var(--fill-color);\n",
              "    }\n",
              "    90% {\n",
              "      border-color: transparent;\n",
              "      border-bottom-color: var(--fill-color);\n",
              "    }\n",
              "  }\n",
              "</style>\n",
              "\n",
              "  <script>\n",
              "    async function quickchart(key) {\n",
              "      const quickchartButtonEl =\n",
              "        document.querySelector('#' + key + ' button');\n",
              "      quickchartButtonEl.disabled = true;  // To prevent multiple clicks.\n",
              "      quickchartButtonEl.classList.add('colab-df-spinner');\n",
              "      try {\n",
              "        const charts = await google.colab.kernel.invokeFunction(\n",
              "            'suggestCharts', [key], {});\n",
              "      } catch (error) {\n",
              "        console.error('Error during call to suggestCharts:', error);\n",
              "      }\n",
              "      quickchartButtonEl.classList.remove('colab-df-spinner');\n",
              "      quickchartButtonEl.classList.add('colab-df-quickchart-complete');\n",
              "    }\n",
              "    (() => {\n",
              "      let quickchartButtonEl =\n",
              "        document.querySelector('#df-3e333a9f-3e57-47a9-9fbd-f656b871856b button');\n",
              "      quickchartButtonEl.style.display =\n",
              "        google.colab.kernel.accessAllowed ? 'block' : 'none';\n",
              "    })();\n",
              "  </script>\n",
              "</div>\n",
              "\n",
              "    </div>\n",
              "  </div>\n"
            ],
            "application/vnd.google.colaboratory.intrinsic+json": {
              "type": "dataframe",
              "summary": "{\n  \"name\": \"test_df\",\n  \"rows\": 5,\n  \"fields\": [\n    {\n      \"column\": \"pmcid\",\n      \"properties\": {\n        \"dtype\": \"string\",\n        \"num_unique_values\": 5,\n        \"samples\": [\n          \"27492005\",\n          \"19787084\",\n          \"26442161\"\n        ],\n        \"semantic_type\": \"\",\n        \"description\": \"\"\n      }\n    },\n    {\n      \"column\": \"question\",\n      \"properties\": {\n        \"dtype\": \"string\",\n        \"num_unique_values\": 5,\n        \"samples\": [\n          \"Which section does describe the Fig. 2?\",\n          \"Which section does cite the 'Schwarz DS et al,2006'?\",\n          \"Where can you find the Figure 1?\"\n        ],\n        \"semantic_type\": \"\",\n        \"description\": \"\"\n      }\n    },\n    {\n      \"column\": \"answer\",\n      \"properties\": {\n        \"dtype\": \"object\",\n        \"semantic_type\": \"\",\n        \"description\": \"\"\n      }\n    },\n    {\n      \"column\": \"global_id\",\n      \"properties\": {\n        \"dtype\": \"object\",\n        \"semantic_type\": \"\",\n        \"description\": \"\"\n      }\n    },\n    {\n      \"column\": \"question_type\",\n      \"properties\": {\n        \"dtype\": \"category\",\n        \"num_unique_values\": 1,\n        \"samples\": [\n          \"parent_relationship_understanding\"\n        ],\n        \"semantic_type\": \"\",\n        \"description\": \"\"\n      }\n    }\n  ]\n}"
            }
          },
          "metadata": {},
          "execution_count": 15
        }
      ]
    },
    {
      "cell_type": "code",
      "source": [
        "test_df['question_type'].unique()"
      ],
      "metadata": {
        "id": "IN1lxn-zCfuJ",
        "outputId": "a14440a9-3d33-4114-a8ad-4bfbf290fad8",
        "colab": {
          "base_uri": "https://localhost:8080/"
        }
      },
      "execution_count": 16,
      "outputs": [
        {
          "output_type": "execute_result",
          "data": {
            "text/plain": [
              "array(['parent_relationship_understanding',\n",
              "       'child_relationship_understanding'], dtype=object)"
            ]
          },
          "metadata": {},
          "execution_count": 16
        }
      ]
    },
    {
      "cell_type": "markdown",
      "source": [
        "### doc_info file exploring\n",
        "Let's loading the train_doc_info.pkl file to check what kind of information can be used for developing your solution."
      ],
      "metadata": {
        "id": "RLmCoshATQq3"
      }
    },
    {
      "cell_type": "code",
      "source": [
        "train_doc_info = pkl_to_def(\"/content/drive/MyDrive/Year 4/FYP_Personal_Shared/PDFVQA/train_doc_info_visual.pkl\")\n",
        "test_doc_info = pkl_to_def(\"/content/drive/MyDrive/Year 4/FYP_Personal_Shared/PDFVQA/test_doc_info_visual.pkl\")\n",
        "val_doc_info = pkl_to_def(\"/content/drive/MyDrive/Year 4/FYP_Personal_Shared/PDFVQA/val_doc_info_visual.pkl\")"
      ],
      "metadata": {
        "id": "A8taZvzwSE_k"
      },
      "execution_count": 19,
      "outputs": []
    },
    {
      "cell_type": "markdown",
      "source": [
        "Next, we load the 'train_doc_info.pkl' file to access the dictionary containing RoI information for model development. By utilizing the unique pmcid (e.g., 27923395), we can easily retrieve specific details from the targeting document, such as its content.\n"
      ],
      "metadata": {
        "id": "JTwnEGzET1Tg"
      }
    },
    {
      "cell_type": "code",
      "source": [
        "type(train_doc_info)"
      ],
      "metadata": {
        "id": "pSRNW0JBE_1Q",
        "outputId": "f5718c9b-5b26-468e-f4f2-80e5588e0237",
        "colab": {
          "base_uri": "https://localhost:8080/"
        }
      },
      "execution_count": 22,
      "outputs": [
        {
          "output_type": "execute_result",
          "data": {
            "text/plain": [
              "dict"
            ]
          },
          "metadata": {},
          "execution_count": 22
        }
      ]
    },
    {
      "cell_type": "code",
      "source": [
        "print(train_doc_info['27923395'].keys())\n",
        "print(train_doc_info['27923395']['pages'].keys())\n",
        "print(train_doc_info['27923395']['pages'][0].keys())"
      ],
      "metadata": {
        "id": "j2KM6L59E8GY",
        "outputId": "2d0c0957-063c-4dbf-fcab-7af193c1b418",
        "colab": {
          "base_uri": "https://localhost:8080/"
        }
      },
      "execution_count": 21,
      "outputs": [
        {
          "output_type": "stream",
          "name": "stdout",
          "text": [
            "dict_keys(['pages'])\n",
            "dict_keys([0, 1, 2, 3, 4, 5, 6, 7, 8, 9, 10, 11, 12, 13, 14])\n",
            "dict_keys(['name', 'height', 'width', 'objects', 'ordered_box', 'ordered_id', 'ordered_label', 'object_list', 'visual_list'])\n"
          ]
        }
      ]
    },
    {
      "cell_type": "code",
      "source": [
        "train_doc_info['27923395']['pages'][0]['name']"
      ],
      "metadata": {
        "id": "yxiuJou3Klme",
        "outputId": "6f262b47-1d8c-4a95-854e-874f8ead345d",
        "colab": {
          "base_uri": "https://localhost:8080/",
          "height": 36
        }
      },
      "execution_count": 25,
      "outputs": [
        {
          "output_type": "execute_result",
          "data": {
            "text/plain": [
              "'27923395.pdf_0.png'"
            ],
            "application/vnd.google.colaboratory.intrinsic+json": {
              "type": "string"
            }
          },
          "metadata": {},
          "execution_count": 25
        }
      ]
    },
    {
      "cell_type": "code",
      "source": [
        "print(train_doc_info['27923395']['pages'][0]['objects'].keys())\n",
        "print(train_doc_info['27923395']['pages'][0]['objects'][\"0\"].keys())\n",
        "print(train_doc_info['27923395']['pages'][0]['objects'][\"0\"][\"name\"])\n",
        "print(train_doc_info['27923395']['pages'][0]['objects'][\"0\"][\"gap\"])\n",
        "print(train_doc_info['27923395']['pages'][0]['objects'][\"0\"][\"relations\"])\n",
        "print(train_doc_info['27923395']['pages'][0]['objects'][\"0\"][\"text\"])"
      ],
      "metadata": {
        "id": "B4umXocjK5d6",
        "outputId": "f39b51fa-ce14-4770-d433-9044d0f59b81",
        "colab": {
          "base_uri": "https://localhost:8080/"
        }
      },
      "execution_count": 37,
      "outputs": [
        {
          "output_type": "stream",
          "name": "stdout",
          "text": [
            "dict_keys(['0', '1', '2', '3', '4', '5', '6', '7', '8', '9', '10', '11'])\n",
            "dict_keys(['bbox', 'category_id', 'score', 'name', 'id', 'gap', 'relations', 'global_id', 'text', 'near_gap'])\n",
            "27923395.pdf_0.png\n",
            "{'1': 14.063140869140625, '2': 126.1593017578125, '3': 1.287261962890625, '4': 60.6949462890625, '5': 88.15640258789062, '6': 43.418426513671875, '7': 231.18887329101562, '8': 344.1037902832031, '9': 252.55052185058594, '10': 304.53655405685475, '11': 340.26596525030857}\n",
            "[['child', '10']]\n",
            "In all neuronal tissue, expression of specific neuronal\n",
            "transcription factors needs to be tightly controlled to\n",
            "ensure the correct patterning of neuronal populations\n",
            "both temporally and spatially [3]. This patterning is\n",
            "regulated in part by the Notch signalling pathway,\n",
            "which has remained highly conserved throughout verte-\n",
            "brate evolution. Lateral inhibition with feedback regula-\n",
            "tion allows Notch signalling to maintain the number of\n",
            "neural progenitor cells (NPCS) by controlling the num-\n",
            "ber of neighbouring cells that can exit the cell cycle\n",
            "and subsequently undergo neural differentiation [14).\n",
            "Cell cycle exit is controlled by a limited number of\n",
            "basic helix-loop-helix (BHLH) proneural genes that are\n",
            "both necessary and sufficient to activate neurogenesis\n",
            "[5, 28). Loss of function studies indicate that proneural\n",
            "transcription factors direct not only general aspects of\n",
            "neuronal differentiation, but also specific aspects of\n",
            "neuronal identity within NPCS (23, 39, 60). These pro-\n",
            "neural transcription factors include ASCLI and members\n",
            "of the Neurogenin family. In many neuronal tissues these\n",
            "proneural genes are expressed in complementary domains\n",
            "\n"
          ]
        }
      ]
    },
    {
      "cell_type": "markdown",
      "source": [
        "The train dataframe includes the following important columns:\n",
        "\n",
        "- `name`: This key represents the name of the document image page.\n",
        "- `height/width`: These keys contain the height and width of the current document image, providing information about its size.\n",
        "- `objects`: This key holds comprehensive information about the different components (Regions of Interest - RoIs) present in the document layout. Each object is described with multiple aspects.\n",
        "- `ordered_box`, `ordered_id`, `ordered_label`: These keys store the RoIs that have been re-ordered based on the human reading order. The reading order ID is assigned to each object on the document page, following the methodology presented in the [V-Doc paper (CVPR 2022)](https://openaccess.thecvf.com/content/CVPR2022/html/Ding_V-Doc_Visual_Questions_Answers_With_Documents_CVPR_2022_paper.html). The re-ordering ensures that the RoIs are arranged in a manner that facilitates the model in learning proper context representation.\n",
        "\n",
        "These columns collectively contribute to the effective training and representation learning for the model, particularly in visual question-answering tasks involving documents."
      ],
      "metadata": {
        "id": "fzi9m5Qi93sY"
      }
    },
    {
      "cell_type": "markdown",
      "source": [
        "Additionally, getting into the \"objects\" key, we can check the information provided for each layout component detected by Mask-RCNN."
      ],
      "metadata": {
        "id": "PzOwsSGobJl0"
      }
    },
    {
      "cell_type": "code",
      "source": [
        "print(train_doc_info['27923395']['pages'][0]['objects']['0'].keys())"
      ],
      "metadata": {
        "id": "knV8E9aRUseV",
        "colab": {
          "base_uri": "https://localhost:8080/"
        },
        "outputId": "94b31328-5214-4506-9227-a5368ef5bf8b"
      },
      "execution_count": 23,
      "outputs": [
        {
          "output_type": "stream",
          "name": "stdout",
          "text": [
            "dict_keys(['bbox', 'category_id', 'score', 'name', 'id', 'gap', 'relations', 'global_id', 'text', 'near_gap'])\n"
          ]
        }
      ]
    },
    {
      "cell_type": "markdown",
      "source": [
        "As we can see above, each layout component we provided a set of attributes including:\n",
        "\n",
        "- `bbox`: bounding box coordinates of the layout component\n",
        "\n",
        "- `category_id`: category id of the component. There are seven category types provided.\n",
        "\n",
        "- `name`: document image name matched with image name in the corresponding image folders.\n",
        "\n",
        "- `id`: local object id in this document page. Note, the local id is randomly assigned. If you want to use proper reading order sequence input, you need to use the reading order information provided above or find another replacement way.\n",
        "\n",
        "- `gap`: represents the gap distance between this component to others in this document page.\n",
        "\n",
        "- `relations`: shows the parent-child relation between components.\n",
        "\n",
        "- `global_id`: shows the global id of each object which is aligned with the CSV file. **Participant can use this ID to locate the answers of each question.**\n",
        "\n",
        "- `text`: this key gives the text content of each layout component.\n"
      ],
      "metadata": {
        "id": "J2oiRd4Z_0i3"
      }
    },
    {
      "cell_type": "code",
      "source": [
        "print(train_doc_info['27923395']['pages'][0]['objects']['0']['bbox'])"
      ],
      "metadata": {
        "colab": {
          "base_uri": "https://localhost:8080/"
        },
        "id": "OAAGo2Jn_vmU",
        "outputId": "baba6e2c-94a5-42a9-e0f0-1076fa8234f6"
      },
      "execution_count": null,
      "outputs": [
        {
          "output_type": "stream",
          "name": "stdout",
          "text": [
            "[304.7059326171875, 449.4801025390625, 234.154052734375, 252.0694580078125]\n"
          ]
        }
      ]
    },
    {
      "cell_type": "code",
      "source": [
        "print(train_doc_info['27923395']['pages'][0]['objects']['0']['category_id'])"
      ],
      "metadata": {
        "colab": {
          "base_uri": "https://localhost:8080/"
        },
        "id": "rYWioVlBBCeB",
        "outputId": "01c48d8f-0efe-4c53-eb90-84c4101097d8"
      },
      "execution_count": null,
      "outputs": [
        {
          "output_type": "stream",
          "name": "stdout",
          "text": [
            "1\n"
          ]
        }
      ]
    },
    {
      "cell_type": "code",
      "source": [
        "print(train_doc_info['27923395']['pages'][0]['objects']['0']['gap'])"
      ],
      "metadata": {
        "colab": {
          "base_uri": "https://localhost:8080/"
        },
        "id": "1L1bsUKBBKLQ",
        "outputId": "1d879e33-b5e7-47d3-f2f3-2de8f34bde8c"
      },
      "execution_count": null,
      "outputs": [
        {
          "output_type": "stream",
          "name": "stdout",
          "text": [
            "{'1': 14.063140869140625, '2': 126.1593017578125, '3': 1.287261962890625, '4': 60.6949462890625, '5': 88.15640258789062, '6': 43.418426513671875, '7': 231.18887329101562, '8': 344.1037902832031, '9': 252.55052185058594, '10': 304.53655405685475, '11': 340.26596525030857}\n"
          ]
        }
      ]
    },
    {
      "cell_type": "code",
      "source": [
        "print(train_doc_info['27923395']['pages'][0]['objects']['0']['relations'])"
      ],
      "metadata": {
        "colab": {
          "base_uri": "https://localhost:8080/"
        },
        "id": "t1VX8Q2DBQlt",
        "outputId": "518f50b7-e532-49c5-d5f1-e513215d346f"
      },
      "execution_count": null,
      "outputs": [
        {
          "output_type": "stream",
          "name": "stdout",
          "text": [
            "[['child', '10']]\n"
          ]
        }
      ]
    },
    {
      "cell_type": "code",
      "source": [
        "print(train_doc_info['27923395']['pages'][0]['objects']['0']['global_id'])"
      ],
      "metadata": {
        "colab": {
          "base_uri": "https://localhost:8080/"
        },
        "id": "9a_KaI-KBT_G",
        "outputId": "2462c6b6-77c1-49f7-fe61-1e223d5349f7"
      },
      "execution_count": null,
      "outputs": [
        {
          "output_type": "stream",
          "name": "stdout",
          "text": [
            "243796\n"
          ]
        }
      ]
    },
    {
      "cell_type": "code",
      "source": [
        "print(train_doc_info['27923395']['pages'][0]['objects']['0']['text'])"
      ],
      "metadata": {
        "colab": {
          "base_uri": "https://localhost:8080/"
        },
        "id": "hPf5UwixBY-H",
        "outputId": "c85b566f-8ba3-4ae8-e91c-bae2a3975aca"
      },
      "execution_count": null,
      "outputs": [
        {
          "output_type": "stream",
          "name": "stdout",
          "text": [
            "In all neuronal tissue, expression of specific neuronal\n",
            "transcription factors needs to be tightly controlled to\n",
            "ensure the correct patterning of neuronal populations\n",
            "both temporally and spatially [3]. This patterning is\n",
            "regulated in part by the Notch signalling pathway,\n",
            "which has remained highly conserved throughout verte-\n",
            "brate evolution. Lateral inhibition with feedback regula-\n",
            "tion allows Notch signalling to maintain the number of\n",
            "neural progenitor cells (NPCS) by controlling the num-\n",
            "ber of neighbouring cells that can exit the cell cycle\n",
            "and subsequently undergo neural differentiation [14).\n",
            "Cell cycle exit is controlled by a limited number of\n",
            "basic helix-loop-helix (BHLH) proneural genes that are\n",
            "both necessary and sufficient to activate neurogenesis\n",
            "[5, 28). Loss of function studies indicate that proneural\n",
            "transcription factors direct not only general aspects of\n",
            "neuronal differentiation, but also specific aspects of\n",
            "neuronal identity within NPCS (23, 39, 60). These pro-\n",
            "neural transcription factors include ASCLI and members\n",
            "of the Neurogenin family. In many neuronal tissues these\n",
            "proneural genes are expressed in complementary domains\n",
            "\n"
          ]
        }
      ]
    },
    {
      "cell_type": "markdown",
      "source": [
        "Absolutely, not all the information provided is necessary to build a question-answering model. When developing your framework, participants have the flexibility to select and utilize the most relevant information to suit the specific requirements."
      ],
      "metadata": {
        "id": "AGNXw3VODrJt"
      }
    },
    {
      "cell_type": "code",
      "source": [],
      "metadata": {
        "id": "71o8XVpqNXEf"
      },
      "execution_count": null,
      "outputs": []
    },
    {
      "cell_type": "code",
      "source": [],
      "metadata": {
        "id": "1YbMVduSNFzZ"
      },
      "execution_count": null,
      "outputs": []
    }
  ]
}