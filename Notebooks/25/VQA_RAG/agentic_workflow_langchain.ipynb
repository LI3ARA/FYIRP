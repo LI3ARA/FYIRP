{
 "cells": [
  {
   "cell_type": "code",
   "execution_count": 1,
   "metadata": {},
   "outputs": [],
   "source": [
    "!pip install -qU langchain langchain_openai langgraph \n",
    "!pip install -qU faiss-cpu pymupdf"
   ]
  },
  {
   "cell_type": "code",
   "execution_count": 14,
   "metadata": {},
   "outputs": [
    {
     "name": "stdout",
     "output_type": "stream",
     "text": [
      "Requirement already satisfied: openai in c:\\users\\lisara\\anaconda3\\envs\\irpenv\\lib\\site-packages (1.68.2)\n",
      "Requirement already satisfied: anyio<5,>=3.5.0 in c:\\users\\lisara\\anaconda3\\envs\\irpenv\\lib\\site-packages (from openai) (4.9.0)\n",
      "Requirement already satisfied: distro<2,>=1.7.0 in c:\\users\\lisara\\anaconda3\\envs\\irpenv\\lib\\site-packages (from openai) (1.9.0)\n",
      "Requirement already satisfied: httpx<1,>=0.23.0 in c:\\users\\lisara\\anaconda3\\envs\\irpenv\\lib\\site-packages (from openai) (0.28.1)\n",
      "Requirement already satisfied: jiter<1,>=0.4.0 in c:\\users\\lisara\\anaconda3\\envs\\irpenv\\lib\\site-packages (from openai) (0.9.0)\n",
      "Requirement already satisfied: pydantic<3,>=1.9.0 in c:\\users\\lisara\\anaconda3\\envs\\irpenv\\lib\\site-packages (from openai) (2.10.6)\n",
      "Requirement already satisfied: sniffio in c:\\users\\lisara\\anaconda3\\envs\\irpenv\\lib\\site-packages (from openai) (1.3.1)\n",
      "Requirement already satisfied: tqdm>4 in c:\\users\\lisara\\anaconda3\\envs\\irpenv\\lib\\site-packages (from openai) (4.67.1)\n",
      "Requirement already satisfied: typing-extensions<5,>=4.11 in c:\\users\\lisara\\anaconda3\\envs\\irpenv\\lib\\site-packages (from openai) (4.12.2)\n",
      "Requirement already satisfied: idna>=2.8 in c:\\users\\lisara\\anaconda3\\envs\\irpenv\\lib\\site-packages (from anyio<5,>=3.5.0->openai) (3.10)\n",
      "Requirement already satisfied: certifi in c:\\users\\lisara\\anaconda3\\envs\\irpenv\\lib\\site-packages (from httpx<1,>=0.23.0->openai) (2025.1.31)\n",
      "Requirement already satisfied: httpcore==1.* in c:\\users\\lisara\\anaconda3\\envs\\irpenv\\lib\\site-packages (from httpx<1,>=0.23.0->openai) (1.0.7)\n",
      "Requirement already satisfied: h11<0.15,>=0.13 in c:\\users\\lisara\\anaconda3\\envs\\irpenv\\lib\\site-packages (from httpcore==1.*->httpx<1,>=0.23.0->openai) (0.14.0)\n",
      "Requirement already satisfied: annotated-types>=0.6.0 in c:\\users\\lisara\\anaconda3\\envs\\irpenv\\lib\\site-packages (from pydantic<3,>=1.9.0->openai) (0.7.0)\n",
      "Requirement already satisfied: pydantic-core==2.27.2 in c:\\users\\lisara\\anaconda3\\envs\\irpenv\\lib\\site-packages (from pydantic<3,>=1.9.0->openai) (2.27.2)\n",
      "Requirement already satisfied: colorama in c:\\users\\lisara\\anaconda3\\envs\\irpenv\\lib\\site-packages (from tqdm>4->openai) (0.4.6)\n"
     ]
    }
   ],
   "source": [
    "! pip install openai"
   ]
  },
  {
   "cell_type": "code",
   "execution_count": 2,
   "metadata": {},
   "outputs": [
    {
     "name": "stdout",
     "output_type": "stream",
     "text": [
      "Collecting langchain-community\n",
      "  Using cached langchain_community-0.3.20-py3-none-any.whl.metadata (2.4 kB)\n",
      "Requirement already satisfied: langchain-core<1.0.0,>=0.3.45 in c:\\users\\lisara\\anaconda3\\envs\\irpenv\\lib\\site-packages (from langchain-community) (0.3.48)\n",
      "Requirement already satisfied: langchain<1.0.0,>=0.3.21 in c:\\users\\lisara\\anaconda3\\envs\\irpenv\\lib\\site-packages (from langchain-community) (0.3.21)\n",
      "Requirement already satisfied: SQLAlchemy<3,>=1.4 in c:\\users\\lisara\\anaconda3\\envs\\irpenv\\lib\\site-packages (from langchain-community) (2.0.39)\n",
      "Requirement already satisfied: requests<3,>=2 in c:\\users\\lisara\\anaconda3\\envs\\irpenv\\lib\\site-packages (from langchain-community) (2.32.3)\n",
      "Requirement already satisfied: PyYAML>=5.3 in c:\\users\\lisara\\anaconda3\\envs\\irpenv\\lib\\site-packages (from langchain-community) (6.0.2)\n",
      "Collecting aiohttp<4.0.0,>=3.8.3 (from langchain-community)\n",
      "  Downloading aiohttp-3.11.14-cp311-cp311-win_amd64.whl.metadata (8.0 kB)\n",
      "Requirement already satisfied: tenacity!=8.4.0,<10,>=8.1.0 in c:\\users\\lisara\\anaconda3\\envs\\irpenv\\lib\\site-packages (from langchain-community) (9.0.0)\n",
      "Collecting dataclasses-json<0.7,>=0.5.7 (from langchain-community)\n",
      "  Using cached dataclasses_json-0.6.7-py3-none-any.whl.metadata (25 kB)\n",
      "Collecting pydantic-settings<3.0.0,>=2.4.0 (from langchain-community)\n",
      "  Using cached pydantic_settings-2.8.1-py3-none-any.whl.metadata (3.5 kB)\n",
      "Requirement already satisfied: langsmith<0.4,>=0.1.125 in c:\\users\\lisara\\anaconda3\\envs\\irpenv\\lib\\site-packages (from langchain-community) (0.3.18)\n",
      "Collecting httpx-sse<1.0.0,>=0.4.0 (from langchain-community)\n",
      "  Using cached httpx_sse-0.4.0-py3-none-any.whl.metadata (9.0 kB)\n",
      "Requirement already satisfied: numpy<3,>=1.26.2 in c:\\users\\lisara\\anaconda3\\envs\\irpenv\\lib\\site-packages (from langchain-community) (2.2.4)\n",
      "Collecting aiohappyeyeballs>=2.3.0 (from aiohttp<4.0.0,>=3.8.3->langchain-community)\n",
      "  Using cached aiohappyeyeballs-2.6.1-py3-none-any.whl.metadata (5.9 kB)\n",
      "Collecting aiosignal>=1.1.2 (from aiohttp<4.0.0,>=3.8.3->langchain-community)\n",
      "  Using cached aiosignal-1.3.2-py2.py3-none-any.whl.metadata (3.8 kB)\n",
      "Collecting attrs>=17.3.0 (from aiohttp<4.0.0,>=3.8.3->langchain-community)\n",
      "  Using cached attrs-25.3.0-py3-none-any.whl.metadata (10 kB)\n",
      "Collecting frozenlist>=1.1.1 (from aiohttp<4.0.0,>=3.8.3->langchain-community)\n",
      "  Downloading frozenlist-1.5.0-cp311-cp311-win_amd64.whl.metadata (14 kB)\n",
      "Collecting multidict<7.0,>=4.5 (from aiohttp<4.0.0,>=3.8.3->langchain-community)\n",
      "  Downloading multidict-6.2.0-cp311-cp311-win_amd64.whl.metadata (5.1 kB)\n",
      "Collecting propcache>=0.2.0 (from aiohttp<4.0.0,>=3.8.3->langchain-community)\n",
      "  Downloading propcache-0.3.1-cp311-cp311-win_amd64.whl.metadata (11 kB)\n",
      "Collecting yarl<2.0,>=1.17.0 (from aiohttp<4.0.0,>=3.8.3->langchain-community)\n",
      "  Downloading yarl-1.18.3-cp311-cp311-win_amd64.whl.metadata (71 kB)\n",
      "Collecting marshmallow<4.0.0,>=3.18.0 (from dataclasses-json<0.7,>=0.5.7->langchain-community)\n",
      "  Using cached marshmallow-3.26.1-py3-none-any.whl.metadata (7.3 kB)\n",
      "Collecting typing-inspect<1,>=0.4.0 (from dataclasses-json<0.7,>=0.5.7->langchain-community)\n",
      "  Using cached typing_inspect-0.9.0-py3-none-any.whl.metadata (1.5 kB)\n",
      "Requirement already satisfied: langchain-text-splitters<1.0.0,>=0.3.7 in c:\\users\\lisara\\anaconda3\\envs\\irpenv\\lib\\site-packages (from langchain<1.0.0,>=0.3.21->langchain-community) (0.3.7)\n",
      "Requirement already satisfied: pydantic<3.0.0,>=2.7.4 in c:\\users\\lisara\\anaconda3\\envs\\irpenv\\lib\\site-packages (from langchain<1.0.0,>=0.3.21->langchain-community) (2.10.6)\n",
      "Requirement already satisfied: jsonpatch<2.0,>=1.33 in c:\\users\\lisara\\anaconda3\\envs\\irpenv\\lib\\site-packages (from langchain-core<1.0.0,>=0.3.45->langchain-community) (1.33)\n",
      "Requirement already satisfied: packaging<25,>=23.2 in c:\\users\\lisara\\anaconda3\\envs\\irpenv\\lib\\site-packages (from langchain-core<1.0.0,>=0.3.45->langchain-community) (24.2)\n",
      "Requirement already satisfied: typing-extensions>=4.7 in c:\\users\\lisara\\anaconda3\\envs\\irpenv\\lib\\site-packages (from langchain-core<1.0.0,>=0.3.45->langchain-community) (4.12.2)\n",
      "Requirement already satisfied: httpx<1,>=0.23.0 in c:\\users\\lisara\\anaconda3\\envs\\irpenv\\lib\\site-packages (from langsmith<0.4,>=0.1.125->langchain-community) (0.28.1)\n",
      "Requirement already satisfied: orjson<4.0.0,>=3.9.14 in c:\\users\\lisara\\anaconda3\\envs\\irpenv\\lib\\site-packages (from langsmith<0.4,>=0.1.125->langchain-community) (3.10.16)\n",
      "Requirement already satisfied: requests-toolbelt<2.0.0,>=1.0.0 in c:\\users\\lisara\\anaconda3\\envs\\irpenv\\lib\\site-packages (from langsmith<0.4,>=0.1.125->langchain-community) (1.0.0)\n",
      "Requirement already satisfied: zstandard<0.24.0,>=0.23.0 in c:\\users\\lisara\\anaconda3\\envs\\irpenv\\lib\\site-packages (from langsmith<0.4,>=0.1.125->langchain-community) (0.23.0)\n",
      "Requirement already satisfied: python-dotenv>=0.21.0 in c:\\users\\lisara\\anaconda3\\envs\\irpenv\\lib\\site-packages (from pydantic-settings<3.0.0,>=2.4.0->langchain-community) (1.1.0)\n",
      "Requirement already satisfied: charset-normalizer<4,>=2 in c:\\users\\lisara\\anaconda3\\envs\\irpenv\\lib\\site-packages (from requests<3,>=2->langchain-community) (3.4.1)\n",
      "Requirement already satisfied: idna<4,>=2.5 in c:\\users\\lisara\\anaconda3\\envs\\irpenv\\lib\\site-packages (from requests<3,>=2->langchain-community) (3.10)\n",
      "Requirement already satisfied: urllib3<3,>=1.21.1 in c:\\users\\lisara\\anaconda3\\envs\\irpenv\\lib\\site-packages (from requests<3,>=2->langchain-community) (2.3.0)\n",
      "Requirement already satisfied: certifi>=2017.4.17 in c:\\users\\lisara\\anaconda3\\envs\\irpenv\\lib\\site-packages (from requests<3,>=2->langchain-community) (2025.1.31)\n",
      "Requirement already satisfied: greenlet!=0.4.17 in c:\\users\\lisara\\anaconda3\\envs\\irpenv\\lib\\site-packages (from SQLAlchemy<3,>=1.4->langchain-community) (3.1.1)\n",
      "Requirement already satisfied: anyio in c:\\users\\lisara\\anaconda3\\envs\\irpenv\\lib\\site-packages (from httpx<1,>=0.23.0->langsmith<0.4,>=0.1.125->langchain-community) (4.9.0)\n",
      "Requirement already satisfied: httpcore==1.* in c:\\users\\lisara\\anaconda3\\envs\\irpenv\\lib\\site-packages (from httpx<1,>=0.23.0->langsmith<0.4,>=0.1.125->langchain-community) (1.0.7)\n",
      "Requirement already satisfied: h11<0.15,>=0.13 in c:\\users\\lisara\\anaconda3\\envs\\irpenv\\lib\\site-packages (from httpcore==1.*->httpx<1,>=0.23.0->langsmith<0.4,>=0.1.125->langchain-community) (0.14.0)\n",
      "Requirement already satisfied: jsonpointer>=1.9 in c:\\users\\lisara\\anaconda3\\envs\\irpenv\\lib\\site-packages (from jsonpatch<2.0,>=1.33->langchain-core<1.0.0,>=0.3.45->langchain-community) (3.0.0)\n",
      "Requirement already satisfied: annotated-types>=0.6.0 in c:\\users\\lisara\\anaconda3\\envs\\irpenv\\lib\\site-packages (from pydantic<3.0.0,>=2.7.4->langchain<1.0.0,>=0.3.21->langchain-community) (0.7.0)\n",
      "Requirement already satisfied: pydantic-core==2.27.2 in c:\\users\\lisara\\anaconda3\\envs\\irpenv\\lib\\site-packages (from pydantic<3.0.0,>=2.7.4->langchain<1.0.0,>=0.3.21->langchain-community) (2.27.2)\n",
      "Collecting mypy-extensions>=0.3.0 (from typing-inspect<1,>=0.4.0->dataclasses-json<0.7,>=0.5.7->langchain-community)\n",
      "  Using cached mypy_extensions-1.0.0-py3-none-any.whl.metadata (1.1 kB)\n",
      "Requirement already satisfied: sniffio>=1.1 in c:\\users\\lisara\\anaconda3\\envs\\irpenv\\lib\\site-packages (from anyio->httpx<1,>=0.23.0->langsmith<0.4,>=0.1.125->langchain-community) (1.3.1)\n",
      "Using cached langchain_community-0.3.20-py3-none-any.whl (2.5 MB)\n",
      "Downloading aiohttp-3.11.14-cp311-cp311-win_amd64.whl (443 kB)\n",
      "Using cached dataclasses_json-0.6.7-py3-none-any.whl (28 kB)\n",
      "Using cached httpx_sse-0.4.0-py3-none-any.whl (7.8 kB)\n",
      "Using cached pydantic_settings-2.8.1-py3-none-any.whl (30 kB)\n",
      "Using cached aiohappyeyeballs-2.6.1-py3-none-any.whl (15 kB)\n",
      "Using cached aiosignal-1.3.2-py2.py3-none-any.whl (7.6 kB)\n",
      "Using cached attrs-25.3.0-py3-none-any.whl (63 kB)\n",
      "Downloading frozenlist-1.5.0-cp311-cp311-win_amd64.whl (51 kB)\n",
      "Using cached marshmallow-3.26.1-py3-none-any.whl (50 kB)\n",
      "Downloading multidict-6.2.0-cp311-cp311-win_amd64.whl (29 kB)\n",
      "Downloading propcache-0.3.1-cp311-cp311-win_amd64.whl (45 kB)\n",
      "Using cached typing_inspect-0.9.0-py3-none-any.whl (8.8 kB)\n",
      "Downloading yarl-1.18.3-cp311-cp311-win_amd64.whl (91 kB)\n",
      "Using cached mypy_extensions-1.0.0-py3-none-any.whl (4.7 kB)\n",
      "Installing collected packages: propcache, mypy-extensions, multidict, marshmallow, httpx-sse, frozenlist, attrs, aiohappyeyeballs, yarl, typing-inspect, aiosignal, pydantic-settings, dataclasses-json, aiohttp, langchain-community\n",
      "Successfully installed aiohappyeyeballs-2.6.1 aiohttp-3.11.14 aiosignal-1.3.2 attrs-25.3.0 dataclasses-json-0.6.7 frozenlist-1.5.0 httpx-sse-0.4.0 langchain-community-0.3.20 marshmallow-3.26.1 multidict-6.2.0 mypy-extensions-1.0.0 propcache-0.3.1 pydantic-settings-2.8.1 typing-inspect-0.9.0 yarl-1.18.3\n"
     ]
    }
   ],
   "source": [
    "! pip install langchain-community"
   ]
  },
  {
   "cell_type": "code",
   "execution_count": 6,
   "metadata": {},
   "outputs": [],
   "source": [
    "%%capture --no-stderr\n",
    "%pip install -U --quiet langchain-community tiktoken langchain-openai langchainhub chromadb langchain langgraph langchain-text-splitters beautifulsoup4"
   ]
  },
  {
   "cell_type": "markdown",
   "metadata": {},
   "source": [
    "## Setup API keys"
   ]
  },
  {
   "cell_type": "code",
   "execution_count": null,
   "metadata": {},
   "outputs": [],
   "source": [
    "import getpass\n",
    "import os\n",
    "\n",
    "\n",
    "def _set_env(key: str):\n",
    "    if key not in os.environ:\n",
    "        os.environ[key] = getpass.getpass(f\"{key}:\")\n",
    "\n",
    "\n",
    "_set_env(\"OPENAI_API_KEY\")\n",
    "# sk-e67b7eced8644087a169425b2c34cc50"
   ]
  },
  {
   "cell_type": "code",
   "execution_count": 1,
   "metadata": {},
   "outputs": [],
   "source": [
    "# Example: reuse your existing OpenAI setup\n",
    "from openai import OpenAI\n",
    "\n",
    "# Point to the local server\n",
    "client = OpenAI(base_url=\"http://localhost:1234/v1\", api_key=\"lm-studio\")"
   ]
  },
  {
   "cell_type": "code",
   "execution_count": 18,
   "metadata": {},
   "outputs": [
    {
     "name": "stdout",
     "output_type": "stream",
     "text": [
      "ChatCompletionMessage(content=\"With a twirl and a smile,\\nMy words never run wild,\\nI'm your AI friend so polite,\\nSolving problems with might.\\n\\nI listen day and night,\\nTo guide you through the night,\\nWhen darkness brings you fear,\\nMy rhymes will help you steer.\\n\\nWith a brain that never sleeps,\\nI'll always answer with ease,\\nSo let's connect and be friends,\\nThrough text or voice commands.\", refusal=None, role='assistant', annotations=None, audio=None, function_call=None, tool_calls=None)\n"
     ]
    }
   ],
   "source": [
    "completion = client.chat.completions.create(\n",
    "  model=\"mistral-7b-anthropic:2\",\n",
    "  messages=[\n",
    "    {\"role\": \"system\", \"content\": \"Always answer in rhymes.\"},\n",
    "    {\"role\": \"user\", \"content\": \"Introduce yourself.\"}\n",
    "  ],\n",
    "  temperature=0.9,\n",
    ")\n",
    "\n",
    "print(completion.choices[0].message)"
   ]
  },
  {
   "cell_type": "code",
   "execution_count": 4,
   "metadata": {},
   "outputs": [],
   "source": [
    "# response = \"I am a smart and sassy\\nAssistant, here to satisfy\\nAll your questions, queries, and quizzies\\nWith answers that always please you nicely.\\n\\nSo type away, no need to be shy,\\nI'll respond in rhymes, so you can fly\\nHigh with joy, as my words never lie,\\nAnd bring a smile, even if you try\\nTo make me trip or spill my tea.\\n\\nFor I am made to serve you endlessly,\\nWith kindness, humor, and respect,\\nSo type away, and let's interact!\"\n",
    "# print(response)"
   ]
  },
  {
   "cell_type": "code",
   "execution_count": 5,
   "metadata": {},
   "outputs": [
    {
     "name": "stdout",
     "output_type": "stream",
     "text": [
      "My name is Kate, a bot made of code,\n",
      "I help you with your queries, I'm here to be your guide,\n",
      "With answers quick and clear, I'll always do my best,\n",
      "So please just ask and I will answer with no fuss or rest.\n"
     ]
    }
   ],
   "source": [
    "print(completion.choices[0].message.to_dict()['content'])"
   ]
  },
  {
   "cell_type": "markdown",
   "metadata": {},
   "source": [
    "## Data Loading and Chunking - PyMUPDFLoader"
   ]
  },
  {
   "cell_type": "code",
   "execution_count": 6,
   "metadata": {},
   "outputs": [],
   "source": [
    "# Data\\pdfs_for_Vanilla_RAG\\sci_bk\\science G-6 E.pdf\n",
    "from langchain_community.document_loaders import PyMuPDFLoader\n",
    "# Load the document using PyMuPDFLoader\n",
    "loader = PyMuPDFLoader(\"../../../Data/pdfs_for_Vanilla_RAG/sci_bk/science G-6 E.pdf\")\n",
    "\n",
    "documents = loader.load()"
   ]
  },
  {
   "cell_type": "code",
   "execution_count": 17,
   "metadata": {},
   "outputs": [
    {
     "data": {
      "text/plain": [
       "Document(metadata={'producer': 'PlotSoft PDFill 12.0', 'creator': '', 'creationdate': '2019-09-18T12:23:26+05:30', 'source': '../../../Data/pdfs_for_Vanilla_RAG/sci_bk/science G-6 E.pdf', 'file_path': '../../../Data/pdfs_for_Vanilla_RAG/sci_bk/science G-6 E.pdf', 'total_pages': 190, 'format': 'PDF 1.4', 'title': '', 'author': '', 'subject': '', 'keywords': '', 'moddate': '2019-09-18T12:30:03+05:30', 'trapped': '', 'modDate': \"D:20190918123003+05'30'\", 'creationDate': \"D:20190918122326+05'30'\", 'page': 0}, page_content='SCIENCE\\nGrade 6\\nEducational Publications Department')"
      ]
     },
     "execution_count": 17,
     "metadata": {},
     "output_type": "execute_result"
    }
   ],
   "source": [
    "documents[0]"
   ]
  },
  {
   "cell_type": "markdown",
   "metadata": {},
   "source": [
    "## Creating the retriver"
   ]
  },
  {
   "cell_type": "code",
   "execution_count": 7,
   "metadata": {},
   "outputs": [
    {
     "name": "stderr",
     "output_type": "stream",
     "text": [
      "USER_AGENT environment variable not set, consider setting it to identify your requests.\n"
     ]
    }
   ],
   "source": [
    "from langchain_community.document_loaders import WebBaseLoader\n",
    "from langchain_community.vectorstores import Chroma\n",
    "from langchain_openai import OpenAIEmbeddings\n",
    "from langchain_text_splitters import RecursiveCharacterTextSplitter"
   ]
  },
  {
   "cell_type": "code",
   "execution_count": 8,
   "metadata": {},
   "outputs": [],
   "source": [
    "\n",
    "# urls = [\n",
    "#     \"https://lilianweng.github.io/posts/2023-06-23-agent/\",\n",
    "#     \"https://lilianweng.github.io/posts/2023-03-15-prompt-engineering/\",\n",
    "#     \"https://lilianweng.github.io/posts/2023-10-25-adv-attack-llm/\",\n",
    "# ]\n",
    "\n",
    "# docs = [WebBaseLoader(url).load() for url in urls]\n",
    "# docs_list = [item for sublist in docs for item in sublist]\n",
    "\n",
    "text_splitter = RecursiveCharacterTextSplitter.from_tiktoken_encoder(\n",
    "    chunk_size=100, chunk_overlap=50\n",
    ")\n",
    "doc_splits = text_splitter.split_documents(documents)\n",
    "\n"
   ]
  },
  {
   "cell_type": "code",
   "execution_count": 14,
   "metadata": {},
   "outputs": [
    {
     "data": {
      "text/plain": [
       "1030"
      ]
     },
     "execution_count": 14,
     "metadata": {},
     "output_type": "execute_result"
    }
   ],
   "source": [
    "len(doc_splits)"
   ]
  },
  {
   "cell_type": "code",
   "execution_count": 16,
   "metadata": {},
   "outputs": [
    {
     "name": "stdout",
     "output_type": "stream",
     "text": [
      "page_content='88       \n",
      "6.2    Hearing of Sounds\t\n",
      "\t\n",
      "\t\n",
      "\t\n",
      "\t\n",
      "\t\n",
      "\t\n",
      " 89\n",
      "6.3    Diversity of Sounds\t\n",
      "\t\n",
      "\t\n",
      "\t\n",
      "\t\n",
      "\t\n",
      "\t\n",
      " 91\n",
      "6.4    Music and Noise\t\t\n",
      "\t\n",
      "\t\n",
      "\t\n",
      "\t\n",
      "\t\n",
      "\t\n",
      " 92' metadata={'producer': 'PlotSoft PDFill 12.0', 'creator': '', 'creationdate': '2019-09-18T12:23:26+05:30', 'source': '../../../Data/pdfs_for_Vanilla_RAG/sci_bk/science G-6 E.pdf', 'file_path': '../../../Data/pdfs_for_Vanilla_RAG/sci_bk/science G-6 E.pdf', 'total_pages': 190, 'format': 'PDF 1.4', 'title': '', 'author': '', 'subject': '', 'keywords': '', 'moddate': '2019-09-18T12:30:03+05:30', 'trapped': '', 'modDate': \"D:20190918123003+05'30'\", 'creationDate': \"D:20190918122326+05'30'\", 'page': 11}\n",
      "page_content='91\n",
      "6.4    Music and Noise\t\t\n",
      "\t\n",
      "\t\n",
      "\t\n",
      "\t\n",
      "\t\n",
      "\t\n",
      " 92\n",
      "6.5    Creating Equipment to Produce Sound\t\t\n",
      "\t\n",
      "\t\n",
      "\t\n",
      " 93\n",
      "7.1    Effects of Magnets\t\n",
      "\t\n",
      "\t\n",
      "\t\n",
      "\t\n",
      "\t\n",
      "  \t\n",
      " 100' metadata={'producer': 'PlotSoft PDFill 12.0', 'creator': '', 'creationdate': '2019-09-18T12:23:26+05:30', 'source': '../../../Data/pdfs_for_Vanilla_RAG/sci_bk/science G-6 E.pdf', 'file_path': '../../../Data/pdfs_for_Vanilla_RAG/sci_bk/science G-6 E.pdf', 'total_pages': 190, 'format': 'PDF 1.4', 'title': '', 'author': '', 'subject': '', 'keywords': '', 'moddate': '2019-09-18T12:30:03+05:30', 'trapped': '', 'modDate': \"D:20190918123003+05'30'\", 'creationDate': \"D:20190918122326+05'30'\", 'page': 11}\n",
      "page_content='93\n",
      "7.1    Effects of Magnets\t\n",
      "\t\n",
      "\t\n",
      "\t\n",
      "\t\n",
      "\t\n",
      "  \t\n",
      " 100       \n",
      "7.2    Different Type of Magnets\t\n",
      "\t\n",
      "\t\n",
      "\t\n",
      "\t\n",
      "\t\n",
      " 100\n",
      "7.3    Magnetic Poles\t \t\n",
      "\t\n",
      "\t\n",
      "\t\n",
      "\t\n",
      "\t\n",
      " \t\n",
      " 101' metadata={'producer': 'PlotSoft PDFill 12.0', 'creator': '', 'creationdate': '2019-09-18T12:23:26+05:30', 'source': '../../../Data/pdfs_for_Vanilla_RAG/sci_bk/science G-6 E.pdf', 'file_path': '../../../Data/pdfs_for_Vanilla_RAG/sci_bk/science G-6 E.pdf', 'total_pages': 190, 'format': 'PDF 1.4', 'title': '', 'author': '', 'subject': '', 'keywords': '', 'moddate': '2019-09-18T12:30:03+05:30', 'trapped': '', 'modDate': \"D:20190918123003+05'30'\", 'creationDate': \"D:20190918122326+05'30'\", 'page': 11}\n",
      "page_content='100\n",
      "7.3    Magnetic Poles\t \t\n",
      "\t\n",
      "\t\n",
      "\t\n",
      "\t\n",
      "\t\n",
      " \t\n",
      " 101\n",
      "7.4    The Behaviour of a Magnet  \t\n",
      "\t\n",
      "\t\n",
      "\t\n",
      "\t\n",
      "\t\n",
      " 102\n",
      "7.5    Interactions between the Poles of Magnets\t\n",
      "\t\n",
      "\t\n",
      "\t\n",
      " 103' metadata={'producer': 'PlotSoft PDFill 12.0', 'creator': '', 'creationdate': '2019-09-18T12:23:26+05:30', 'source': '../../../Data/pdfs_for_Vanilla_RAG/sci_bk/science G-6 E.pdf', 'file_path': '../../../Data/pdfs_for_Vanilla_RAG/sci_bk/science G-6 E.pdf', 'total_pages': 190, 'format': 'PDF 1.4', 'title': '', 'author': '', 'subject': '', 'keywords': '', 'moddate': '2019-09-18T12:30:03+05:30', 'trapped': '', 'modDate': \"D:20190918123003+05'30'\", 'creationDate': \"D:20190918122326+05'30'\", 'page': 11}\n",
      "page_content='102\n",
      "7.5    Interactions between the Poles of Magnets\t\n",
      "\t\n",
      "\t\n",
      "\t\n",
      " 103\n",
      "7.6    Magnetic Forces\t\t\n",
      "\t\n",
      "\t\n",
      "\t\n",
      "\t\n",
      "\t\n",
      "\t\n",
      " 105\n",
      " \n",
      "7. Magnets\t \t\n",
      "\t\n",
      "\t\n",
      "\t\n",
      "    \t\n",
      "\t\n",
      "  \t\n",
      "\t\n",
      "   99' metadata={'producer': 'PlotSoft PDFill 12.0', 'creator': '', 'creationdate': '2019-09-18T12:23:26+05:30', 'source': '../../../Data/pdfs_for_Vanilla_RAG/sci_bk/science G-6 E.pdf', 'file_path': '../../../Data/pdfs_for_Vanilla_RAG/sci_bk/science G-6 E.pdf', 'total_pages': 190, 'format': 'PDF 1.4', 'title': '', 'author': '', 'subject': '', 'keywords': '', 'moddate': '2019-09-18T12:30:03+05:30', 'trapped': '', 'modDate': \"D:20190918123003+05'30'\", 'creationDate': \"D:20190918122326+05'30'\", 'page': 11}\n",
      "page_content='105\n",
      " \n",
      "7. Magnets\t \t\n",
      "\t\n",
      "\t\n",
      "\t\n",
      "    \t\n",
      "\t\n",
      "  \t\n",
      "\t\n",
      "   99\t \t\n",
      "\t\n",
      "8.1    Electricity for Day - to - day Life\t\n",
      "\t\n",
      "\t\n",
      "\t\n",
      "\t\n",
      " 110    \n",
      "8.2    Generating Electricity' metadata={'producer': 'PlotSoft PDFill 12.0', 'creator': '', 'creationdate': '2019-09-18T12:23:26+05:30', 'source': '../../../Data/pdfs_for_Vanilla_RAG/sci_bk/science G-6 E.pdf', 'file_path': '../../../Data/pdfs_for_Vanilla_RAG/sci_bk/science G-6 E.pdf', 'total_pages': 190, 'format': 'PDF 1.4', 'title': '', 'author': '', 'subject': '', 'keywords': '', 'moddate': '2019-09-18T12:30:03+05:30', 'trapped': '', 'modDate': \"D:20190918123003+05'30'\", 'creationDate': \"D:20190918122326+05'30'\", 'page': 11}\n",
      "page_content='110    \n",
      "8.2    Generating Electricity\t\n",
      "\t\n",
      "\t\n",
      "\t\n",
      "\t\n",
      "\t\n",
      "              111\n",
      "8.3    Preparation of Circuits\t \t\n",
      "\t\n",
      "\t\n",
      "\t\n",
      "\t\n",
      "\t\n",
      " 117\n",
      "8.4    Conductors and Insulators' metadata={'producer': 'PlotSoft PDFill 12.0', 'creator': '', 'creationdate': '2019-09-18T12:23:26+05:30', 'source': '../../../Data/pdfs_for_Vanilla_RAG/sci_bk/science G-6 E.pdf', 'file_path': '../../../Data/pdfs_for_Vanilla_RAG/sci_bk/science G-6 E.pdf', 'total_pages': 190, 'format': 'PDF 1.4', 'title': '', 'author': '', 'subject': '', 'keywords': '', 'moddate': '2019-09-18T12:30:03+05:30', 'trapped': '', 'modDate': \"D:20190918123003+05'30'\", 'creationDate': \"D:20190918122326+05'30'\", 'page': 11}\n",
      "page_content='8.3    Preparation of Circuits\t \t\n",
      "\t\n",
      "\t\n",
      "\t\n",
      "\t\n",
      "\t\n",
      " 117\n",
      "8.4    Conductors and Insulators  \t\n",
      "\t\n",
      "\t\n",
      "\t\n",
      "\t\n",
      "\t\n",
      " 121\n",
      "8.5    Electronic Appliances\t\n",
      "\t\n",
      "\t\n",
      " \t\n",
      "\t\n",
      "\t\n",
      "\t\n",
      " 122\n",
      "8.6    Conservation of Electricity and Prevention of Accidents\t\n",
      "\t\n",
      " 128' metadata={'producer': 'PlotSoft PDFill 12.0', 'creator': '', 'creationdate': '2019-09-18T12:23:26+05:30', 'source': '../../../Data/pdfs_for_Vanilla_RAG/sci_bk/science G-6 E.pdf', 'file_path': '../../../Data/pdfs_for_Vanilla_RAG/sci_bk/science G-6 E.pdf', 'total_pages': 190, 'format': 'PDF 1.4', 'title': '', 'author': '', 'subject': '', 'keywords': '', 'moddate': '2019-09-18T12:30:03+05:30', 'trapped': '', 'modDate': \"D:20190918123003+05'30'\", 'creationDate': \"D:20190918122326+05'30'\", 'page': 11}\n",
      "page_content='121\n",
      "8.5    Electronic Appliances\t\n",
      "\t\n",
      "\t\n",
      " \t\n",
      "\t\n",
      "\t\n",
      "\t\n",
      " 122\n",
      "8.6    Conservation of Electricity and Prevention of Accidents\t\n",
      "\t\n",
      " 128\n",
      "8. Electricity for a Comfortable Life\t\t\n",
      "                   \t\t\n",
      "  110' metadata={'producer': 'PlotSoft PDFill 12.0', 'creator': '', 'creationdate': '2019-09-18T12:23:26+05:30', 'source': '../../../Data/pdfs_for_Vanilla_RAG/sci_bk/science G-6 E.pdf', 'file_path': '../../../Data/pdfs_for_Vanilla_RAG/sci_bk/science G-6 E.pdf', 'total_pages': 190, 'format': 'PDF 1.4', 'title': '', 'author': '', 'subject': '', 'keywords': '', 'moddate': '2019-09-18T12:30:03+05:30', 'trapped': '', 'modDate': \"D:20190918123003+05'30'\", 'creationDate': \"D:20190918122326+05'30'\", 'page': 11}\n",
      "page_content='128\n",
      "8. Electricity for a Comfortable Life\t\t\n",
      "                   \t\t\n",
      "  110\t\n",
      "9. Heat and Its Effects\t                    \t\t\n",
      "   \t\n",
      "\t\n",
      "\t\n",
      "   133\n",
      "9.1    Heat Generation' metadata={'producer': 'PlotSoft PDFill 12.0', 'creator': '', 'creationdate': '2019-09-18T12:23:26+05:30', 'source': '../../../Data/pdfs_for_Vanilla_RAG/sci_bk/science G-6 E.pdf', 'file_path': '../../../Data/pdfs_for_Vanilla_RAG/sci_bk/science G-6 E.pdf', 'total_pages': 190, 'format': 'PDF 1.4', 'title': '', 'author': '', 'subject': '', 'keywords': '', 'moddate': '2019-09-18T12:30:03+05:30', 'trapped': '', 'modDate': \"D:20190918123003+05'30'\", 'creationDate': \"D:20190918122326+05'30'\", 'page': 11}\n",
      "page_content='133\n",
      "9.1    Heat Generation\t\t\n",
      "\t\n",
      "\t\n",
      "\t\n",
      " \t\n",
      "\t\n",
      "\t\n",
      " 135  \n",
      "9.2    Effects of Heat\t\n",
      "\t\n",
      "\t\n",
      "\t\n",
      "\t\n",
      "\t\n",
      "              \t\n",
      " 137\n",
      "9.3    The Effects of Heat to the Environment' metadata={'producer': 'PlotSoft PDFill 12.0', 'creator': '', 'creationdate': '2019-09-18T12:23:26+05:30', 'source': '../../../Data/pdfs_for_Vanilla_RAG/sci_bk/science G-6 E.pdf', 'file_path': '../../../Data/pdfs_for_Vanilla_RAG/sci_bk/science G-6 E.pdf', 'total_pages': 190, 'format': 'PDF 1.4', 'title': '', 'author': '', 'subject': '', 'keywords': '', 'moddate': '2019-09-18T12:30:03+05:30', 'trapped': '', 'modDate': \"D:20190918123003+05'30'\", 'creationDate': \"D:20190918122326+05'30'\", 'page': 11}\n",
      "page_content='137\n",
      "9.3    The Effects of Heat to the Environment \t\t\n",
      "\t\n",
      "\t\n",
      "\t\n",
      " 144\n",
      "10. Food Related Interactions\t\t\n",
      "                   \t\t\n",
      "              148' metadata={'producer': 'PlotSoft PDFill 12.0', 'creator': '', 'creationdate': '2019-09-18T12:23:26+05:30', 'source': '../../../Data/pdfs_for_Vanilla_RAG/sci_bk/science G-6 E.pdf', 'file_path': '../../../Data/pdfs_for_Vanilla_RAG/sci_bk/science G-6 E.pdf', 'total_pages': 190, 'format': 'PDF 1.4', 'title': '', 'author': '', 'subject': '', 'keywords': '', 'moddate': '2019-09-18T12:30:03+05:30', 'trapped': '', 'modDate': \"D:20190918123003+05'30'\", 'creationDate': \"D:20190918122326+05'30'\", 'page': 11}\n",
      "page_content='xiii\n",
      "11.1  Weather\t \t\n",
      "\t\n",
      "\t\n",
      "\t\n",
      " \t\n",
      "\t\n",
      "\t\n",
      "               159     \n",
      "11.2  Climate\t \t\n",
      "\t\n",
      "\t\n",
      " \t\n",
      "\t\n",
      "\t\n",
      "\t\n",
      "\t\n",
      "  161\n",
      "11.3   Studying Data Related to Weather' metadata={'producer': 'PlotSoft PDFill 12.0', 'creator': '', 'creationdate': '2019-09-18T12:23:26+05:30', 'source': '../../../Data/pdfs_for_Vanilla_RAG/sci_bk/science G-6 E.pdf', 'file_path': '../../../Data/pdfs_for_Vanilla_RAG/sci_bk/science G-6 E.pdf', 'total_pages': 190, 'format': 'PDF 1.4', 'title': '', 'author': '', 'subject': '', 'keywords': '', 'moddate': '2019-09-18T12:30:03+05:30', 'trapped': '', 'modDate': \"D:20190918123003+05'30'\", 'creationDate': \"D:20190918122326+05'30'\", 'page': 12}\n",
      "page_content='11.2  Climate\t \t\n",
      "\t\n",
      "\t\n",
      " \t\n",
      "\t\n",
      "\t\n",
      "\t\n",
      "\t\n",
      "  161\n",
      "11.3   Studying Data Related to Weather  \t\n",
      "\t\n",
      "\t\n",
      "\t\n",
      "               161\n",
      "11.4   Designing Apparatus to Measure Weather\t\n",
      "\t\n",
      "\t\n",
      "\t\n",
      "  162' metadata={'producer': 'PlotSoft PDFill 12.0', 'creator': '', 'creationdate': '2019-09-18T12:23:26+05:30', 'source': '../../../Data/pdfs_for_Vanilla_RAG/sci_bk/science G-6 E.pdf', 'file_path': '../../../Data/pdfs_for_Vanilla_RAG/sci_bk/science G-6 E.pdf', 'total_pages': 190, 'format': 'PDF 1.4', 'title': '', 'author': '', 'subject': '', 'keywords': '', 'moddate': '2019-09-18T12:30:03+05:30', 'trapped': '', 'modDate': \"D:20190918123003+05'30'\", 'creationDate': \"D:20190918122326+05'30'\", 'page': 12}\n",
      "page_content='161\n",
      "11.4   Designing Apparatus to Measure Weather\t\n",
      "\t\n",
      "\t\n",
      "\t\n",
      "  162\n",
      "11.5   Natural Disasters Occured Due to Climatic Changes\t \t\n",
      "\t\n",
      "  170\n",
      "11. Weather and Climate' metadata={'producer': 'PlotSoft PDFill 12.0', 'creator': '', 'creationdate': '2019-09-18T12:23:26+05:30', 'source': '../../../Data/pdfs_for_Vanilla_RAG/sci_bk/science G-6 E.pdf', 'file_path': '../../../Data/pdfs_for_Vanilla_RAG/sci_bk/science G-6 E.pdf', 'total_pages': 190, 'format': 'PDF 1.4', 'title': '', 'author': '', 'subject': '', 'keywords': '', 'moddate': '2019-09-18T12:30:03+05:30', 'trapped': '', 'modDate': \"D:20190918123003+05'30'\", 'creationDate': \"D:20190918122326+05'30'\", 'page': 12}\n",
      "page_content='162\n",
      "11.5   Natural Disasters Occured Due to Climatic Changes\t \t\n",
      "\t\n",
      "  170\n",
      "11. Weather and Climate              \t\n",
      "\t\n",
      "                                   159' metadata={'producer': 'PlotSoft PDFill 12.0', 'creator': '', 'creationdate': '2019-09-18T12:23:26+05:30', 'source': '../../../Data/pdfs_for_Vanilla_RAG/sci_bk/science G-6 E.pdf', 'file_path': '../../../Data/pdfs_for_Vanilla_RAG/sci_bk/science G-6 E.pdf', 'total_pages': 190, 'format': 'PDF 1.4', 'title': '', 'author': '', 'subject': '', 'keywords': '', 'moddate': '2019-09-18T12:30:03+05:30', 'trapped': '', 'modDate': \"D:20190918123003+05'30'\", 'creationDate': \"D:20190918122326+05'30'\", 'page': 12}\n",
      "page_content='xiv\n",
      "Let's Enter The world of Science ....\n",
      "Why is the sky above us blue? How do fluffy white clouds float in it?\n",
      "During the dark nights, do the twinkling stars keep moving around? If not, how \n",
      "do they create different patterns at different instances? The moon is same too…on \n",
      "some days it isn’t even there!\n",
      "Even though the earth is brown, plants that grow in it are mostly green. But there' metadata={'producer': 'PlotSoft PDFill 12.0', 'creator': '', 'creationdate': '2019-09-18T12:23:26+05:30', 'source': '../../../Data/pdfs_for_Vanilla_RAG/sci_bk/science G-6 E.pdf', 'file_path': '../../../Data/pdfs_for_Vanilla_RAG/sci_bk/science G-6 E.pdf', 'total_pages': 190, 'format': 'PDF 1.4', 'title': '', 'author': '', 'subject': '', 'keywords': '', 'moddate': '2019-09-18T12:30:03+05:30', 'trapped': '', 'modDate': \"D:20190918123003+05'30'\", 'creationDate': \"D:20190918122326+05'30'\", 'page': 13}\n",
      "page_content='do they create different patterns at different instances? The moon is same too…on \n",
      "some days it isn’t even there!\n",
      "Even though the earth is brown, plants that grow in it are mostly green. But there \n",
      "are different coloured plants as well. Even the green trees sometimes change colour \n",
      "from season to season! And their leaves, flowers, fruits are all varied in colour, \n",
      "fragrance and taste! How does that happen?' metadata={'producer': 'PlotSoft PDFill 12.0', 'creator': '', 'creationdate': '2019-09-18T12:23:26+05:30', 'source': '../../../Data/pdfs_for_Vanilla_RAG/sci_bk/science G-6 E.pdf', 'file_path': '../../../Data/pdfs_for_Vanilla_RAG/sci_bk/science G-6 E.pdf', 'total_pages': 190, 'format': 'PDF 1.4', 'title': '', 'author': '', 'subject': '', 'keywords': '', 'moddate': '2019-09-18T12:30:03+05:30', 'trapped': '', 'modDate': \"D:20190918123003+05'30'\", 'creationDate': \"D:20190918122326+05'30'\", 'page': 13}\n",
      "page_content='are different coloured plants as well. Even the green trees sometimes change colour \n",
      "from season to season! And their leaves, flowers, fruits are all varied in colour, \n",
      "fragrance and taste! How does that happen?\n",
      "Different animals eat different things…some eat plants, some eat other animals, \n",
      "and some eat both! And there are even plants that trap and devour animals! How \n",
      "curious!' metadata={'producer': 'PlotSoft PDFill 12.0', 'creator': '', 'creationdate': '2019-09-18T12:23:26+05:30', 'source': '../../../Data/pdfs_for_Vanilla_RAG/sci_bk/science G-6 E.pdf', 'file_path': '../../../Data/pdfs_for_Vanilla_RAG/sci_bk/science G-6 E.pdf', 'total_pages': 190, 'format': 'PDF 1.4', 'title': '', 'author': '', 'subject': '', 'keywords': '', 'moddate': '2019-09-18T12:30:03+05:30', 'trapped': '', 'modDate': \"D:20190918123003+05'30'\", 'creationDate': \"D:20190918122326+05'30'\", 'page': 13}\n",
      "page_content='Different animals eat different things…some eat plants, some eat other animals, \n",
      "and some eat both! And there are even plants that trap and devour animals! How \n",
      "curious! \n",
      "The black cow eats green grass and feeds the newborn brown calf white milk! But \n",
      "the blood that runs in their veins is red! This is definitely something worth looking \n",
      "into!' metadata={'producer': 'PlotSoft PDFill 12.0', 'creator': '', 'creationdate': '2019-09-18T12:23:26+05:30', 'source': '../../../Data/pdfs_for_Vanilla_RAG/sci_bk/science G-6 E.pdf', 'file_path': '../../../Data/pdfs_for_Vanilla_RAG/sci_bk/science G-6 E.pdf', 'total_pages': 190, 'format': 'PDF 1.4', 'title': '', 'author': '', 'subject': '', 'keywords': '', 'moddate': '2019-09-18T12:30:03+05:30', 'trapped': '', 'modDate': \"D:20190918123003+05'30'\", 'creationDate': \"D:20190918122326+05'30'\", 'page': 13}\n",
      "page_content='curious! \n",
      "The black cow eats green grass and feeds the newborn brown calf white milk! But \n",
      "the blood that runs in their veins is red! This is definitely something worth looking \n",
      "into!\n",
      "Iron nails on my chair rust away so fast that the chair falls apart…But grandma’s \n",
      "gold ring still shines like new! Why are the two metals different?\n",
      "The mist covers us with a damp blanket and raindrops moisten the earth…which' metadata={'producer': 'PlotSoft PDFill 12.0', 'creator': '', 'creationdate': '2019-09-18T12:23:26+05:30', 'source': '../../../Data/pdfs_for_Vanilla_RAG/sci_bk/science G-6 E.pdf', 'file_path': '../../../Data/pdfs_for_Vanilla_RAG/sci_bk/science G-6 E.pdf', 'total_pages': 190, 'format': 'PDF 1.4', 'title': '', 'author': '', 'subject': '', 'keywords': '', 'moddate': '2019-09-18T12:30:03+05:30', 'trapped': '', 'modDate': \"D:20190918123003+05'30'\", 'creationDate': \"D:20190918122326+05'30'\", 'page': 13}\n",
      "page_content='gold ring still shines like new! Why are the two metals different?\n",
      "The mist covers us with a damp blanket and raindrops moisten the earth…which \n",
      "gives birth to tiny fountains. They join the river that flows serenely through snow \n",
      "topped mountains,creating giant waterfalls…and again calmly continuing its path \n",
      "towards the sea…where foam-topped sea waves crash ashore…while the pool and' metadata={'producer': 'PlotSoft PDFill 12.0', 'creator': '', 'creationdate': '2019-09-18T12:23:26+05:30', 'source': '../../../Data/pdfs_for_Vanilla_RAG/sci_bk/science G-6 E.pdf', 'file_path': '../../../Data/pdfs_for_Vanilla_RAG/sci_bk/science G-6 E.pdf', 'total_pages': 190, 'format': 'PDF 1.4', 'title': '', 'author': '', 'subject': '', 'keywords': '', 'moddate': '2019-09-18T12:30:03+05:30', 'trapped': '', 'modDate': \"D:20190918123003+05'30'\", 'creationDate': \"D:20190918122326+05'30'\", 'page': 13}\n",
      "page_content='topped mountains,creating giant waterfalls…and again calmly continuing its path \n",
      "towards the sea…where foam-topped sea waves crash ashore…while the pool and \n",
      "the lake only ripple gently. With all this cool water on earth, it also gives rise to \n",
      "boiling geysers! Why does the same water play so many roles?\n",
      "You and I live in an amazing world…there are thousands of mysteries surrounding \n",
      "us!' metadata={'producer': 'PlotSoft PDFill 12.0', 'creator': '', 'creationdate': '2019-09-18T12:23:26+05:30', 'source': '../../../Data/pdfs_for_Vanilla_RAG/sci_bk/science G-6 E.pdf', 'file_path': '../../../Data/pdfs_for_Vanilla_RAG/sci_bk/science G-6 E.pdf', 'total_pages': 190, 'format': 'PDF 1.4', 'title': '', 'author': '', 'subject': '', 'keywords': '', 'moddate': '2019-09-18T12:30:03+05:30', 'trapped': '', 'modDate': \"D:20190918123003+05'30'\", 'creationDate': \"D:20190918122326+05'30'\", 'page': 13}\n",
      "page_content='boiling geysers! Why does the same water play so many roles?\n",
      "You and I live in an amazing world…there are thousands of mysteries surrounding \n",
      "us!\n",
      "But…\n",
      "Science is a tool that uncovers all these secrets. It is the key to the hidden world!\n",
      "If we sharpen our senses and skills when we learn science, we can uncover many \n",
      "more things…and we can gift the world new inventions and innovative creations.' metadata={'producer': 'PlotSoft PDFill 12.0', 'creator': '', 'creationdate': '2019-09-18T12:23:26+05:30', 'source': '../../../Data/pdfs_for_Vanilla_RAG/sci_bk/science G-6 E.pdf', 'file_path': '../../../Data/pdfs_for_Vanilla_RAG/sci_bk/science G-6 E.pdf', 'total_pages': 190, 'format': 'PDF 1.4', 'title': '', 'author': '', 'subject': '', 'keywords': '', 'moddate': '2019-09-18T12:30:03+05:30', 'trapped': '', 'modDate': \"D:20190918123003+05'30'\", 'creationDate': \"D:20190918122326+05'30'\", 'page': 13}\n",
      "page_content='If we sharpen our senses and skills when we learn science, we can uncover many \n",
      "more things…and we can gift the world new inventions and innovative creations. \n",
      "We can even contribute to the \n",
      "development of the entire human \n",
      "race. \n",
      "Anyhow all of you who learn science \n",
      "are little scientists. So let’s get ready \n",
      "to explore the miraculous world! The \n",
      "future scientists of our world, we' metadata={'producer': 'PlotSoft PDFill 12.0', 'creator': '', 'creationdate': '2019-09-18T12:23:26+05:30', 'source': '../../../Data/pdfs_for_Vanilla_RAG/sci_bk/science G-6 E.pdf', 'file_path': '../../../Data/pdfs_for_Vanilla_RAG/sci_bk/science G-6 E.pdf', 'total_pages': 190, 'format': 'PDF 1.4', 'title': '', 'author': '', 'subject': '', 'keywords': '', 'moddate': '2019-09-18T12:30:03+05:30', 'trapped': '', 'modDate': \"D:20190918123003+05'30'\", 'creationDate': \"D:20190918122326+05'30'\", 'page': 13}\n",
      "page_content='race. \n",
      "Anyhow all of you who learn science \n",
      "are little scientists. So let’s get ready \n",
      "to explore the miraculous world! The \n",
      "future scientists of our world, we \n",
      "wish you all the best of luck!\n",
      "xiv' metadata={'producer': 'PlotSoft PDFill 12.0', 'creator': '', 'creationdate': '2019-09-18T12:23:26+05:30', 'source': '../../../Data/pdfs_for_Vanilla_RAG/sci_bk/science G-6 E.pdf', 'file_path': '../../../Data/pdfs_for_Vanilla_RAG/sci_bk/science G-6 E.pdf', 'total_pages': 190, 'format': 'PDF 1.4', 'title': '', 'author': '', 'subject': '', 'keywords': '', 'moddate': '2019-09-18T12:30:03+05:30', 'trapped': '', 'modDate': \"D:20190918123003+05'30'\", 'creationDate': \"D:20190918122326+05'30'\", 'page': 13}\n",
      "page_content='1\n",
      "Science | Wonders of the living world\n",
      "You can observe many different things in the environment as well as in \n",
      "the classroom. Different environments consist of different components.\n",
      "Find out the things that you can see in the following environments. \n",
      "(Fig. 1.1)\n",
      "Fig. 1.1   Different environments\n",
      "Wonders of  the Living World\n",
      "Activity  1.1\n",
      "yy\n",
      "Observe your classroom & the environment  outside the class' metadata={'producer': 'PlotSoft PDFill 12.0', 'creator': '', 'creationdate': '2019-09-18T12:23:26+05:30', 'source': '../../../Data/pdfs_for_Vanilla_RAG/sci_bk/science G-6 E.pdf', 'file_path': '../../../Data/pdfs_for_Vanilla_RAG/sci_bk/science G-6 E.pdf', 'total_pages': 190, 'format': 'PDF 1.4', 'title': '', 'author': '', 'subject': '', 'keywords': '', 'moddate': '2019-09-18T12:30:03+05:30', 'trapped': '', 'modDate': \"D:20190918123003+05'30'\", 'creationDate': \"D:20190918122326+05'30'\", 'page': 14}\n",
      "page_content='(Fig. 1.1)\n",
      "Fig. 1.1   Different environments\n",
      "Wonders of  the Living World\n",
      "Activity  1.1\n",
      "yy\n",
      "Observe your classroom & the environment  outside the class\n",
      "\t\n",
      "room (school garden).\n",
      "yy\n",
      "Then, list out what you could see in the environment. \n",
      "The environment is our surrounding including us. It consists of land, \n",
      "water bodies, houses, plants, animals etc.' metadata={'producer': 'PlotSoft PDFill 12.0', 'creator': '', 'creationdate': '2019-09-18T12:23:26+05:30', 'source': '../../../Data/pdfs_for_Vanilla_RAG/sci_bk/science G-6 E.pdf', 'file_path': '../../../Data/pdfs_for_Vanilla_RAG/sci_bk/science G-6 E.pdf', 'total_pages': 190, 'format': 'PDF 1.4', 'title': '', 'author': '', 'subject': '', 'keywords': '', 'moddate': '2019-09-18T12:30:03+05:30', 'trapped': '', 'modDate': \"D:20190918123003+05'30'\", 'creationDate': \"D:20190918122326+05'30'\", 'page': 14}\n",
      "page_content='room (school garden).\n",
      "yy\n",
      "Then, list out what you could see in the environment. \n",
      "The environment is our surrounding including us. It consists of land, \n",
      "water bodies, houses, plants, animals etc.\n",
      "\t\n",
      "Let’s do the following activity to find out the components of the \n",
      "environment.\n",
      "01' metadata={'producer': 'PlotSoft PDFill 12.0', 'creator': '', 'creationdate': '2019-09-18T12:23:26+05:30', 'source': '../../../Data/pdfs_for_Vanilla_RAG/sci_bk/science G-6 E.pdf', 'file_path': '../../../Data/pdfs_for_Vanilla_RAG/sci_bk/science G-6 E.pdf', 'total_pages': 190, 'format': 'PDF 1.4', 'title': '', 'author': '', 'subject': '', 'keywords': '', 'moddate': '2019-09-18T12:30:03+05:30', 'trapped': '', 'modDate': \"D:20190918123003+05'30'\", 'creationDate': \"D:20190918122326+05'30'\", 'page': 14}\n"
     ]
    }
   ],
   "source": [
    "for i, doc in enumerate(doc_splits):\n",
    "    # doc['page_content']\n",
    "    if 70<i<100:\n",
    "        print(doc)"
   ]
  },
  {
   "cell_type": "code",
   "execution_count": null,
   "metadata": {},
   "outputs": [],
   "source": [
    "# Add to vectorDB\n",
    "vectorstore = Chroma.from_documents(\n",
    "    # embedding=\n",
    "    documents=doc_splits,\n",
    "    collection_name=\"rag-chroma\",\n",
    "    embedding=OpenAIEmbeddings(),\n",
    ")\n",
    "retriever = vectorstore.as_retriever()"
   ]
  },
  {
   "cell_type": "markdown",
   "metadata": {},
   "source": [
    "## Creating REtriver Tool"
   ]
  },
  {
   "cell_type": "code",
   "execution_count": null,
   "metadata": {},
   "outputs": [],
   "source": [
    "from langchain.tools.retriever import create_retriever_tool\n",
    "\n",
    "retriever_tool = create_retriever_tool(\n",
    "    retriever,\n",
    "    \"retrieve_blog_posts\",\n",
    "    \"Search and return information about Lilian Weng blog posts on LLM agents, prompt engineering, and adversarial attacks on LLMs.\",\n",
    ")\n",
    "\n",
    "tools = [retriever_tool]"
   ]
  },
  {
   "cell_type": "markdown",
   "metadata": {},
   "source": [
    "# Custom Tool"
   ]
  },
  {
   "cell_type": "code",
   "execution_count": 1,
   "metadata": {},
   "outputs": [],
   "source": [
    "from langchain_core.tools import tool\n",
    "from langchain_openai import ChatOpenAI\n"
   ]
  },
  {
   "cell_type": "code",
   "execution_count": 4,
   "metadata": {},
   "outputs": [],
   "source": [
    "# Example: reuse your existing OpenAI setup\n",
    "from openai import OpenAI\n",
    "\n",
    "# Point to the local server\n",
    "model = ChatOpenAI(base_url=\"http://localhost:1235/v1\", api_key=\"lm-studio\")\n",
    "# model = ChatOpenAI(model=\"gpt-4o\")\n"
   ]
  },
  {
   "cell_type": "code",
   "execution_count": 11,
   "metadata": {},
   "outputs": [
    {
     "data": {
      "text/plain": [
       "' Of course! Here\\'s one for you:\\n\\nWhy don\\'t scientists trust atoms?\\n\\nBecause they make up everything!\\n\\nAnd here\\'s another one:\\n\\nWhy did the computer catch a cold? Because it came down with a case of the \"BYTES\"!\\n\\nI hope those put a smile on your face! If you need anything else, feel free to ask.'"
      ]
     },
     "execution_count": 11,
     "metadata": {},
     "output_type": "execute_result"
    }
   ],
   "source": [
    "messages = [\n",
    "  {\"role\": \"user\", \"content\": \"You are a helpful assistant. Tell me a joke.\"}\n",
    "]\n",
    "ai_msg = model.invoke(messages)\n",
    "\n",
    "ai_msg.content"
   ]
  },
  {
   "cell_type": "code",
   "execution_count": 12,
   "metadata": {},
   "outputs": [],
   "source": [
    "from langchain.schema import HumanMessage, AIMessage"
   ]
  },
  {
   "cell_type": "code",
   "execution_count": 13,
   "metadata": {},
   "outputs": [],
   "source": [
    "# Dummy tool\n",
    "def add_numbers(a, b):\n",
    "    return a + b\n",
    "\n",
    "# Initial user prompt\n",
    "messages = [\n",
    "    HumanMessage(\n",
    "        content=\"You are a helpful assistant that can use tools. Available tool: add_numbers(a, b). Your task is to add 4 and 5. Decide how to proceed.\"\n",
    "    )\n",
    "]"
   ]
  },
  {
   "cell_type": "code",
   "execution_count": 15,
   "metadata": {},
   "outputs": [
    {
     "name": "stdout",
     "output_type": "stream",
     "text": [
      "\n",
      "🔄 Step 1\n"
     ]
    },
    {
     "name": "stderr",
     "output_type": "stream",
     "text": [
      "C:\\Users\\Lisara\\AppData\\Local\\Temp\\ipykernel_1276\\2121612558.py:7: LangChainDeprecationWarning: The method `BaseChatModel.__call__` was deprecated in langchain-core 0.1.7 and will be removed in 1.0. Use :meth:`~invoke` instead.\n",
      "  response = model(messages)\n"
     ]
    },
    {
     "name": "stdout",
     "output_type": "stream",
     "text": [
      "\n",
      "🤖 Assistant:\n",
      " To perform the addition of 4 and 5, I will utilize the provided tool `add_numbers(a, b)`. Here is my action plan:\n",
      "\n",
      "1. Replace `a` with the value 4 in the function.\n",
      "2. Replace `b` with the value 5 in the function.\n",
      "3. Execute the `add_numbers(a, b)` function to add 4 and 5.\n",
      "\n",
      "The solution is: `add_numbers(4, 5)`. This will return the sum of 4 and 5, which equals 9.\n",
      "\n",
      "🔧 Tool called: add_numbers(4, 5) = 9\n",
      "\n",
      "🔄 Step 2\n",
      "\n",
      "🤖 Assistant:\n",
      " That's correct! The output of the expression \"add_numbers(4, 5)\" is indeed 9. So, 4 + 5 = 9. Is there anything else you would like to know or discuss?\n",
      "\n",
      "🔧 Tool called: add_numbers(4, 5) = 9\n"
     ]
    }
   ],
   "source": [
    "# Run agent loop\n",
    "def run_agent_loop(messages, steps=2):\n",
    "    for step in range(steps):\n",
    "        print(f\"\\n🔄 Step {step+1}\")\n",
    "\n",
    "        # Get model response\n",
    "        response = model(messages)\n",
    "        print(f\"\\n🤖 Assistant:\\n{response.content}\")\n",
    "\n",
    "        messages.append(AIMessage(content=response.content))\n",
    "\n",
    "        # Simulate tool usage if tool is mentioned\n",
    "        if \"add_numbers\" in response.content:\n",
    "            import re\n",
    "            nums = list(map(int, re.findall(r'\\d+', response.content)))\n",
    "            if len(nums) >= 2:\n",
    "                result = add_numbers(nums[0], nums[1])\n",
    "                print(f\"\\n🔧 Tool called: add_numbers({nums[0]}, {nums[1]}) = {result}\")\n",
    "                messages.append(HumanMessage(content=f\"The result of add_numbers({nums[0]}, {nums[1]}) is {result}.\"))\n",
    "            else:\n",
    "                print(\"🛑 Couldn't parse numbers for tool.\")\n",
    "        else:\n",
    "            print(\"✅ Agent did not use a tool or task is complete.\")\n",
    "            break\n"
   ]
  },
  {
   "cell_type": "markdown",
   "metadata": {},
   "source": [
    "---"
   ]
  },
  {
   "cell_type": "markdown",
   "metadata": {},
   "source": [
    "Facts are asked from another tool when llm does not know anything about something."
   ]
  },
  {
   "cell_type": "code",
   "execution_count": 17,
   "metadata": {},
   "outputs": [],
   "source": [
    "# Getting fact tool is called\n",
    "\n",
    "# Dummy tool\n",
    "def get_fact(query: str):\n",
    "    # Simulated factual lookup\n",
    "    facts_db = {\n",
    "        \"CyberWidgets Inc founding year\": \"2012\",\n",
    "        \"OpenAI founding year\": \"2015\",\n",
    "        \"LangChain release year\": \"2022\"\n",
    "    }\n",
    "    return facts_db.get(query, \"Unknown\")\n",
    "\n"
   ]
  },
  {
   "cell_type": "code",
   "execution_count": 25,
   "metadata": {},
   "outputs": [],
   "source": [
    "# Start conversation\n",
    "messages = [\n",
    "    HumanMessage(\n",
    "    content=(\n",
    "        \"You are an assistant who uses tools when you don’t know something.\\n\"\n",
    "        \"Available tool: get_fact(query: str) — use it if you need facts you don’t know.\\n\"\n",
    "        \"If you use the tool, write ONLY the function call like this:\\n\"\n",
    "        'get_fact(\"CyberWidgets Inc founding year\")\\n'\n",
    "        \"Don't explain it. Just output the function call on a separate line.\\n\"\n",
    "        \"User question: What year was 'CyberWidgets Inc' founded?\"\n",
    "    )\n",
    ")\n",
    "]\n",
    "\n",
    "# Agent loop\n",
    "def run_fact_agent_loop(messages, steps=3):\n",
    "    tool_called = False  # ← Add this flag\n",
    "\n",
    "    for step in range(steps):\n",
    "        print(f\"\\n🔄 Step {step+1}\")\n",
    "\n",
    "        response = model(messages)\n",
    "        print(f\"\\n🤖 Assistant:\\n{response.content}\")\n",
    "        messages.append(AIMessage(content=response.content))\n",
    "\n",
    "        # Only allow tool use once\n",
    "        if not tool_called and \"get_fact\" in response.content:\n",
    "            import re\n",
    "            query_match = re.search(r'get_fact\\(\"([^\"]+)\"\\)', response.content)\n",
    "            if query_match:\n",
    "                query = query_match.group(1)\n",
    "            else:\n",
    "                # fallback\n",
    "                query = \"CyberWidgets Inc founding year\"\n",
    "\n",
    "            result = get_fact(query)\n",
    "            print(f\"\\n🔧 Tool called: get_fact('{query}') → {result}\")\n",
    "            messages.append(HumanMessage(content=f\"The result of get_fact('{query}') is: {result}\"))\n",
    "            tool_called = True  # ← Set flag so we don't do this again\n",
    "        else:\n",
    "            print(\"✅ Task may be complete or no tool used.\")\n"
   ]
  },
  {
   "cell_type": "code",
   "execution_count": 26,
   "metadata": {},
   "outputs": [
    {
     "name": "stdout",
     "output_type": "stream",
     "text": [
      "\n",
      "🔄 Step 1\n",
      "\n",
      "🤖 Assistant:\n",
      " get_fact(\"CyberWidgets Inc founding year\")\n",
      "\n",
      "🔧 Tool called: get_fact('CyberWidgets Inc founding year') → 2012\n",
      "\n",
      "🔄 Step 2\n",
      "\n",
      "🤖 Assistant:\n",
      " Thank you for providing the result! In this scenario, I would have called the function as follows:\n",
      "\n",
      "get_fact(\"CyberWidgets Inc founding year\")\n",
      "✅ Task may be complete or no tool used.\n",
      "\n",
      "🔄 Step 3\n",
      "\n",
      "🤖 Assistant:\n",
      "\n",
      "✅ Task may be complete or no tool used.\n"
     ]
    }
   ],
   "source": [
    "\n",
    "# Run it\n",
    "run_fact_agent_loop(messages)"
   ]
  },
  {
   "cell_type": "markdown",
   "metadata": {},
   "source": [
    "---"
   ]
  },
  {
   "cell_type": "markdown",
   "metadata": {},
   "source": [
    "# With simulated RAG "
   ]
  },
  {
   "cell_type": "code",
   "execution_count": 45,
   "metadata": {},
   "outputs": [],
   "source": [
    "def search_docs(query: str):\n",
    "    # Fake RAG index — could be FAISS/Chroma/etc in real usage\n",
    "    fake_docs = {\n",
    "        \"How transformers work\": \"Transformers use attention mechanisms to model relationships in sequential data.\",\n",
    "        \"CyberWidgets Inc revenue\": \"In 2023, CyberWidgets Inc reported a revenue of $120 million.\",\n",
    "    }\n",
    "    returned = []\n",
    "    for k in fake_docs.keys():\n",
    "        returned.append(fake_docs.get(k))\n",
    "    \n",
    "    return returned\n"
   ]
  },
  {
   "cell_type": "code",
   "execution_count": 31,
   "metadata": {},
   "outputs": [],
   "source": [
    "initial_prompt = (\n",
    "    \"You are a smart assistant that uses a document search tool when you need more context.\\n\"\n",
    "    \"Available tool: search_docs(query: str)\\n\"\n",
    "    \"If you need to retrieve info, write ONLY the function call like this:\\n\"\n",
    "    'search_docs(\"CyberWidgets Inc revenue\")\\n'\n",
    "    \"Do not try to answer unless you are confident. Use the tool if needed.\\n\"\n",
    "    \"User question: What was the revenue of CyberWidgets Inc in 2023?\"\n",
    ")\n",
    "\n",
    "def run_rag_agent(messages, steps=3):\n",
    "    tool_used = False\n",
    "\n",
    "    for step in range(steps):\n",
    "        print(f\"\\n🔄 Step {step+1}\")\n",
    "        response = model(messages)\n",
    "        print(f\"\\n🤖 Assistant:\\n{response.content}\")\n",
    "        messages.append(AIMessage(content=response.content))\n",
    "\n",
    "        if not tool_used and \"search_docs\" in response.content:\n",
    "            import re\n",
    "            match = re.search(r'search_docs\\(\"([^\"]+)\"\\)', response.content)\n",
    "            if match:\n",
    "                query = match.group(1)\n",
    "            else:\n",
    "                query = \"CyberWidgets Inc revenue\"  # fallback\n",
    "\n",
    "            result = search_docs(query)\n",
    "            print(f\"\\n🔍 search_docs('{query}') → {result}\")\n",
    "            messages.append(HumanMessage(content=f\"The result of search_docs('{query}') is: {result}\"))\n",
    "            tool_used = True\n",
    "        else:\n",
    "            print(\"✅ Task may be complete or no tool used.\")"
   ]
  },
  {
   "cell_type": "code",
   "execution_count": 32,
   "metadata": {},
   "outputs": [
    {
     "name": "stdout",
     "output_type": "stream",
     "text": [
      "\n",
      "🔄 Step 1\n",
      "\n",
      "🤖 Assistant:\n",
      " search_docs(\"CyberWidgets Inc revenue for 2023\")\n",
      "\n",
      "🔍 search_docs('CyberWidgets Inc revenue for 2023') → {'How transformers work': 'Transformers use attention mechanisms to model relationships in sequential data.', 'CyberWidgets Inc revenue': 'In 2023, CyberWidgets Inc reported a revenue of $120 million.'}\n",
      "\n",
      "🔄 Step 2\n",
      "\n",
      "🤖 Assistant:\n",
      " The revenue of CyberWidgets Inc in 2023 was $120 million.\n",
      "✅ Task may be complete or no tool used.\n",
      "\n",
      "🔄 Step 3\n",
      "\n",
      "🤖 Assistant:\n",
      "\n",
      "✅ Task may be complete or no tool used.\n"
     ]
    }
   ],
   "source": [
    "messages = [HumanMessage(content=initial_prompt)]\n",
    "run_rag_agent(messages)\n"
   ]
  },
  {
   "cell_type": "markdown",
   "metadata": {},
   "source": [
    "---"
   ]
  },
  {
   "cell_type": "markdown",
   "metadata": {},
   "source": [
    "With non textual references + dummy RAG"
   ]
  },
  {
   "cell_type": "code",
   "execution_count": null,
   "metadata": {},
   "outputs": [],
   "source": [
    "from langchain.chat_models import ChatOpenAI\n",
    "from langchain.schema import HumanMessage, AIMessage\n",
    "import re\n",
    "def request_visual_info(ref: str) -> str:\n",
    "    # Simulated responses for visual elements\n",
    "    visual_data = {\n",
    "        \"Table 2\": \"Table 2 shows revenue growth by region: NA: +10%, EU: +15%, APAC: +30%.\",\n",
    "        \"Figure 1\": \"Figure 1 is a bar chart comparing 2022 vs 2023 revenue per region.\",\n",
    "    }\n",
    "    return visual_data.get(ref, f\"No data available for {ref}.\")\n",
    "\n",
    "rag_context = \"\"\"\n",
    "CyberWidgets Inc's revenue grew significantly, as shown in Table 2. The chart (Figure 1) highlights that APAC has overtaken NA in regional revenue share.\n",
    "\"\"\"\n",
    "\n",
    "# First prompt\n",
    "messages = [\n",
    "    HumanMessage(content=(\n",
    "        \"You are a helpful assistant that can ask the user to retrieve visual info when documents reference things you cannot see (like tables or figures).\\n\"\n",
    "        \"You have access to a tool: request_visual_info(ref: str)\\n\"\n",
    "        \"ONLY use this if needed. Example:\\n\"\n",
    "        'request_visual_info(\"Table 2\")\\n'\n",
    "        \"Here is some text you retrieved:\\n\\n\"\n",
    "        f\"{rag_context}\\n\\n\"\n",
    "        \"User question: What were the revenue trends by region?\"\n",
    "    ))\n",
    "]\n",
    "\n",
    "def run_visual_agent_loop(messages, steps=5):\n",
    "    tool_calls = set()\n",
    "\n",
    "    for step in range(steps):\n",
    "        print(f\"\\n🔄 Step {step + 1}\")\n",
    "\n",
    "        response = model(messages)\n",
    "        content = response.content.strip()\n",
    "        print(f\"\\n🤖 Assistant:\\n{content}\")\n",
    "        messages.append(AIMessage(content=content))\n",
    "\n",
    "        # Check for visual tool usage\n",
    "        if \"request_visual_info\" in content:\n",
    "            match = re.findall(r'request_visual_info\\(\"([^\"]+)\"\\)', content)\n",
    "            for ref in match:\n",
    "                if ref not in tool_calls:\n",
    "                    tool_response = request_visual_info(ref)\n",
    "                    print(f\"\\n🧠 Tool called: request_visual_info(\\\"{ref}\\\") → {tool_response}\")\n",
    "                    messages.append(HumanMessage(content=f\"The result of request_visual_info(\\\"{ref}\\\") is: {tool_response}\"))\n",
    "                    tool_calls.add(ref)\n",
    "                    break  # One tool call per step\n",
    "            continue\n",
    "\n",
    "        # End if the assistant gave a final answer or has no more requests\n",
    "        if any(phrase in content.lower() for phrase in [\"hope that helps\", \"let me know\", \"that answers your question\", \"task complete\"]):\n",
    "            print(\"✅ Task complete.\")\n",
    "            break\n",
    "\n",
    "run_visual_agent_loop(messages)"
   ]
  },
  {
   "cell_type": "markdown",
   "metadata": {},
   "source": [
    "---"
   ]
  },
  {
   "cell_type": "markdown",
   "metadata": {},
   "source": [
    "With metadata of the page"
   ]
  },
  {
   "cell_type": "code",
   "execution_count": 56,
   "metadata": {},
   "outputs": [],
   "source": [
    "def request_visual_info(ref: str, page: int = None) -> str:\n",
    "    # Lookup simulated content\n",
    "    if ref == \"Figure 1\" and page == 3:\n",
    "        return \"Figure 1 (Page 3): A bar chart showing APAC's revenue overtaking NA from 2022 to 2023.\"\n",
    "    elif ref == \"Table 2\" and page == 5:\n",
    "        return \"Table 2 (Page 5): NA: +10%, EU: +15%, APAC: +30% revenue growth.\"\n",
    "    return f\"No data available for {ref} on page {page}.\"\n"
   ]
  },
  {
   "cell_type": "code",
   "execution_count": 57,
   "metadata": {},
   "outputs": [],
   "source": [
    "rag_context = \"\"\"\n",
    "CyberWidgets Inc's revenue grew significantly, as shown in Table 2. The chart (Figure 1) highlights that APAC has overtaken NA in regional revenue share.\n",
    "\"\"\"\n"
   ]
  },
  {
   "cell_type": "code",
   "execution_count": 58,
   "metadata": {},
   "outputs": [],
   "source": [
    "# Build visual metadata description for prompt\n",
    "metadata_str = \"\\n\".join(\n",
    "    f\"- {ref}: page {meta['page']}, caption: {meta['caption']}\"\n",
    "    for ref, meta in visual_metadata.items()\n",
    ")\n",
    "\n",
    "initial_prompt = (\n",
    "    \"You are a helpful assistant reading documents that include visual elements like tables and figures.\\n\"\n",
    "    \"You cannot see images directly, but you have access to their page numbers and captions.\\n\"\n",
    "    \"If a figure or table is referenced in the text but its contents are not clear, you can request it using this tool:\\n\"\n",
    "    'request_visual_info(ref=\"Figure 1\", page=3)\\n'\n",
    "    \"Only use it when needed.\\n\\n\"\n",
    "    f\"Document Text:\\n{rag_context}\\n\\n\"\n",
    "    f\"Metadata:\\n{metadata_str}\\n\\n\"\n",
    "    \"User question: What are the revenue trends by region?\"\n",
    ")\n",
    "\n",
    "messages = [HumanMessage(content=initial_prompt)]\n"
   ]
  },
  {
   "cell_type": "code",
   "execution_count": 61,
   "metadata": {},
   "outputs": [],
   "source": [
    "def run_visual_agent_loop(messages, steps=5):\n",
    "    tool_calls = set()\n",
    "\n",
    "    for step in range(steps):\n",
    "        print(f\"\\n🔄 Step {step + 1}\")\n",
    "        response = model(messages)\n",
    "        content = response.content.strip()\n",
    "        print(f\"\\n🤖 Assistant:\\n{content}\")\n",
    "        messages.append(AIMessage(content=content))\n",
    "\n",
    "        # Check for visual tool call with ref and page\n",
    "        match = re.search(r'request_visual_info\\(ref=\"([^\"]+)\",\\s*page=(\\d+)\\)', content)\n",
    "        if match:\n",
    "            ref = match.group(1)\n",
    "            page = int(match.group(2))\n",
    "            if (ref, page) not in tool_calls:\n",
    "                tool_response = request_visual_info(ref=ref, page=page)\n",
    "                print(f\"\\n🧠 Tool called: request_visual_info(ref=\\\"{ref}\\\", page={page}) → {tool_response}\")\n",
    "                messages.append(HumanMessage(content=f\"The result of request_visual_info(ref=\\\"{ref}\\\", page={page}) is: {tool_response}\"))\n",
    "                tool_calls.add((ref, page))\n",
    "                continue\n",
    "\n",
    "        # Detect natural task completion\n",
    "        if any(phrase in content.lower() for phrase in [\"hope that helps\", \"that answers your question\", \"task complete\"]):\n",
    "            print(\"✅ Task complete.\")\n",
    "            break\n"
   ]
  },
  {
   "cell_type": "code",
   "execution_count": 62,
   "metadata": {},
   "outputs": [
    {
     "name": "stdout",
     "output_type": "stream",
     "text": [
      "\n",
      "🔄 Step 1\n",
      "\n",
      "🤖 Assistant:\n",
      "To answer your question, I don't have direct access to visual elements but I can infer some information based on the document text and metadata provided. From the metadata, we know that Table 2 on page 5 contains the revenue growth by region. However, for the specific comparison between 2022 and 2023, it seems that additional data might be presented in Figure 1 on page 3, as suggested by the document text.\n",
      "\n",
      "Since I cannot access the contents of Figures or Tables directly, I would recommend requesting the visual information for Figure 1 using the tool: `request_visual_info(ref=\"Figure 1\", page=3)` to get more detailed insights into the revenue comparison between 2022 and 2023 across regions.\n",
      "\n",
      "Regarding the overall revenue trends by region, without accessing Table 2, I can only say that CyberWidgets Inc's revenue grew significantly as mentioned in the text, and APAC has overtaken NA in regional revenue share according to Figure 1. After obtaining the visual information for both Figures and Tables, you would have a clearer understanding of the revenue trends by region for CyberWidgets Inc.\n",
      "\n",
      "🧠 Tool called: request_visual_info(ref=\"Figure 1\", page=3) → Figure 1 (Page 3): A bar chart showing APAC's revenue overtaking NA from 2022 to 2023.\n",
      "\n",
      "🔄 Step 2\n",
      "\n",
      "🤖 Assistant:\n",
      "With the visual information for Figure 1, we can now confirm that the revenue share in APAC surpassed that of North America (NA) between 2022 and 2023, as indicated by the bar chart.\n",
      "\n",
      "Unfortunately, I don't have access to Table 2 yet, so I cannot provide detailed information about the revenue growth by region for CyberWidgets Inc. To gain a comprehensive understanding of the revenue trends by region, it would be best to analyze both Figure 1 and Table 2 together once they are available.\n",
      "\n",
      "🔄 Step 3\n",
      "\n",
      "🤖 Assistant:\n",
      "\n",
      "\n",
      "🔄 Step 4\n",
      "\n",
      "🤖 Assistant:\n",
      "\n",
      "\n",
      "🔄 Step 5\n",
      "\n",
      "🤖 Assistant:\n",
      "\n"
     ]
    }
   ],
   "source": [
    "run_visual_agent_loop(messages)\n"
   ]
  },
  {
   "cell_type": "markdown",
   "metadata": {},
   "source": [
    "---"
   ]
  },
  {
   "cell_type": "code",
   "execution_count": null,
   "metadata": {},
   "outputs": [],
   "source": [
    "\n",
    "# Run it\n",
    "run_agent_loop(messages)"
   ]
  },
  {
   "cell_type": "code",
   "execution_count": null,
   "metadata": {},
   "outputs": [],
   "source": [
    "from langchain.agents import AgentExecutor, create_tool_calling_agent\n",
    "from langchain_core.prompts import ChatPromptTemplate\n",
    "\n",
    "prompt = ChatPromptTemplate.from_messages(\n",
    "    [\n",
    "        (\"system\", \"You are a helpful assistant\"),\n",
    "        (\"human\", \"{input}\"),\n",
    "        # Placeholders fill up a **list** of messages\n",
    "        (\"placeholder\", \"{agent_scratchpad}\"),\n",
    "    ]\n",
    ")\n",
    "\n",
    "\n",
    "agent = create_tool_calling_agent(model, tools, prompt)\n",
    "agent_executor = AgentExecutor(agent=agent, tools=tools)\n",
    "\n",
    "agent_executor.invoke({\"input\": query})"
   ]
  },
  {
   "cell_type": "markdown",
   "metadata": {},
   "source": [
    "# Custom again"
   ]
  },
  {
   "cell_type": "code",
   "execution_count": 1,
   "metadata": {},
   "outputs": [],
   "source": [
    "from langchain.llms.base import LLM\n",
    "from typing import Optional, List\n",
    "import requests"
   ]
  },
  {
   "cell_type": "code",
   "execution_count": 2,
   "metadata": {},
   "outputs": [],
   "source": [
    "\n",
    "### 1. Custom wrapper for LM Studio LLMs ###\n",
    "class LMStudioLLM(LLM):\n",
    "    def __init__(self, endpoint_url: str, model_name: str):\n",
    "        self.endpoint_url = endpoint_url\n",
    "        self.model_name = model_name\n",
    "\n",
    "    @property\n",
    "    def _llm_type(self) -> str:\n",
    "        return \"lmstudio\"\n",
    "\n",
    "    def _call(self, prompt: str, stop: Optional[List[str]] = None) -> str:\n",
    "        headers = {\"Content-Type\": \"application/json\"}\n",
    "        payload = {\n",
    "            \"model\": self.model_name,\n",
    "            \"prompt\": prompt,\n",
    "            \"temperature\": 0.7,\n",
    "            \"stop\": stop or []\n",
    "        }\n",
    "        response = requests.post(self.endpoint_url, headers=headers, json=payload)\n",
    "        return response.json()[\"choices\"][0][\"text\"].strip()\n"
   ]
  },
  {
   "cell_type": "code",
   "execution_count": null,
   "metadata": {},
   "outputs": [],
   "source": [
    "### 2. Load two LLMs ###\n",
    "math_llm = LMStudioLLM(\"http://localhost:11434/v1/completions\", \"math-llm\")\n",
    "summary_llm = LMStudioLLM(\"http://localhost:11435/v1/completions\", \"summary-llm\")\n",
    "\n",
    "### 3. Custom agent logic without Tools ###\n",
    "def dual_llm_agent(task: str) -> str:\n",
    "    # Use summary LLM to understand and route task\n",
    "    routing_prompt = f\"\"\"You are a controller that decides how to handle tasks.\n",
    "Task: \"{task}\"\n",
    "Decide if this is a math problem, a summary task, or both. Reply with one of:\n",
    "- \"math\"\n",
    "- \"summary\"\n",
    "- \"both\"\n",
    "\"\"\"\n",
    "    decision = summary_llm(routing_prompt).lower()\n",
    "    print(\"🤖 Agent Decision:\", decision)\n",
    "\n",
    "    result = \"\"\n",
    "\n",
    "    if \"math\" in decision:\n",
    "        math_prompt = f\"Solve this math problem step by step: {task}\"\n",
    "        result = math_llm(math_prompt)\n",
    "        print(\"🧮 Math Result:\", result)\n",
    "\n",
    "    if \"summary\" in decision:\n",
    "        text_to_summarize = result if result else task\n",
    "        summary_prompt = f\"Summarize this in 2-3 sentences: {text_to_summarize}\"\n",
    "        result = summary_llm(summary_prompt)\n",
    "        print(\"📝 Summary:\", result)\n",
    "\n",
    "    return result\n",
    "\n",
    "### 4. Run it ###\n",
    "if __name__ == \"__main__\":\n",
    "    query = \"What is 42 * 19 plus 7? Also explain why this might be useful in time tracking.\"\n",
    "    output = dual_llm_agent(query)\n",
    "    print(\"\\n✅ Final Output:\\n\", output)\n"
   ]
  }
 ],
 "metadata": {
  "kernelspec": {
   "display_name": "IRPenv",
   "language": "python",
   "name": "python3"
  },
  "language_info": {
   "codemirror_mode": {
    "name": "ipython",
    "version": 3
   },
   "file_extension": ".py",
   "mimetype": "text/x-python",
   "name": "python",
   "nbconvert_exporter": "python",
   "pygments_lexer": "ipython3",
   "version": "3.11.11"
  }
 },
 "nbformat": 4,
 "nbformat_minor": 2
}
