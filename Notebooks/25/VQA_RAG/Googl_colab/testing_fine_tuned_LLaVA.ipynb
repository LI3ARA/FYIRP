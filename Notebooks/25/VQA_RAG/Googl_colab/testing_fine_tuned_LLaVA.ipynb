{
 "cells": [
  {
   "cell_type": "code",
   "execution_count": null,
   "id": "64ca8ccf",
   "metadata": {},
   "outputs": [],
   "source": [
    "!pip install evaluate nltk"
   ]
  },
  {
   "cell_type": "code",
   "execution_count": null,
   "id": "3175350a",
   "metadata": {},
   "outputs": [],
   "source": [
    "from transformers import AutoTokenizer, AutoModelForCausalLM"
   ]
  },
  {
   "cell_type": "code",
   "execution_count": null,
   "id": "0d6f95c3",
   "metadata": {},
   "outputs": [],
   "source": [
    "import evaluate\n",
    "import nltk\n",
    "nltk.download('punkt')"
   ]
  },
  {
   "cell_type": "markdown",
   "id": "ee012c63",
   "metadata": {},
   "source": [
    "## Load the Models"
   ]
  },
  {
   "cell_type": "code",
   "execution_count": null,
   "id": "fd644889",
   "metadata": {},
   "outputs": [],
   "source": [
    "\n",
    "\n",
    "# Mount Google Drive\n",
    "from google.colab import drive\n",
    "drive.mount('/content/drive')\n",
    "\n",
    "# Load model from saved folder\n",
    "model_path = \"/content/drive/MyDrive/your_folder_name\"\n",
    "\n",
    "tokenizer = AutoTokenizer.from_pretrained(model_path)\n",
    "model = AutoModelForCausalLM.from_pretrained(model_path)\n",
    "model.eval().to(\"cuda\" if torch.cuda.is_available() else \"cpu\")\n"
   ]
  },
  {
   "cell_type": "markdown",
   "id": "061e5d1c",
   "metadata": {},
   "source": [
    "## Code to Compute Exact Match, BLEU, and ROUGE"
   ]
  },
  {
   "cell_type": "code",
   "execution_count": null,
   "id": "07e28d09",
   "metadata": {},
   "outputs": [],
   "source": [
    "# Initialize metrics\n",
    "bleu = evaluate.load(\"bleu\")\n",
    "rouge = evaluate.load(\"rouge\")\n",
    "exact_match_count = 0\n",
    "\n",
    "predictions = []\n",
    "references = []\n",
    "\n",
    "# Evaluation loop\n",
    "for example in test_dataset[:50]:  # or however many examples you want\n",
    "    inputs = processor(\n",
    "        images=Image.open(example[\"image\"]).convert(\"RGB\"),\n",
    "        text=example[\"instruction\"],\n",
    "        return_tensors=\"pt\"\n",
    "    ).to(model.device)\n",
    "\n",
    "    output_ids = model.generate(**inputs, max_new_tokens=50)\n",
    "    pred = processor.tokenizer.decode(output_ids[0], skip_special_tokens=True)\n",
    "    ref = example[\"output\"]\n",
    "\n",
    "    predictions.append(pred)\n",
    "    references.append(ref)\n",
    "\n",
    "    if pred.strip().lower() == ref.strip().lower():\n",
    "        exact_match_count += 1\n",
    "\n",
    "# Compute metrics\n",
    "bleu_score = bleu.compute(predictions=predictions, references=[[r] for r in references])\n",
    "rouge_score = rouge.compute(predictions=predictions, references=references)\n",
    "exact_match = exact_match_count / len(predictions)\n",
    "\n",
    "print(\"Exact Match:\", exact_match)\n",
    "print(\"BLEU:\", bleu_score[\"bleu\"])\n",
    "print(\"ROUGE-L:\", rouge_score[\"rougeL\"])\n"
   ]
  }
 ],
 "metadata": {
  "language_info": {
   "name": "python"
  }
 },
 "nbformat": 4,
 "nbformat_minor": 5
}
