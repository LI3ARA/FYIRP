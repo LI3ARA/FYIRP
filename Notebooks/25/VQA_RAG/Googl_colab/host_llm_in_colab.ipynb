{
<<<<<<< HEAD
 "cells": [
  {
   "cell_type": "code",
   "execution_count": null,
   "metadata": {},
   "outputs": [],
   "source": []
  }
 ],
 "metadata": {
  "language_info": {
   "name": "python"
  }
 },
 "nbformat": 4,
 "nbformat_minor": 2
}
=======
  "cells": [
    {
      "cell_type": "markdown",
      "metadata": {
        "id": "view-in-github",
        "colab_type": "text"
      },
      "source": [
        "<a href=\"https://colab.research.google.com/github/LI3ARA/FYIRP/blob/main/Notebooks/25/VQA_RAG/Googl_colab/host_llm_in_colab.ipynb\" target=\"_parent\"><img src=\"https://colab.research.google.com/assets/colab-badge.svg\" alt=\"Open In Colab\"/></a>"
      ]
    },
    {
      "cell_type": "markdown",
      "source": [
        "# Working code"
      ],
      "metadata": {
        "id": "m3Mt_D5cFL6S"
      }
    },
    {
      "cell_type": "code",
      "source": [
        "# Install dependencies\n",
        "!pip install flask llama-cpp-python --quiet\n",
        "!wget -q -O ngrok.tgz https://bin.equinox.io/c/bNyj1mQVY4c/ngrok-v3-stable-linux-amd64.tgz\n",
        "!tar -xzf ngrok.tgz\n",
        "!chmod +x ngrok\n",
        "# Add your ngrok auth token (looks like 2N...)\n",
        "!./ngrok config add-authtoken YOUR_REAL_NGROK_AUTHTOKEN"
      ],
      "metadata": {
        "id": "jngk4eW0FOrL"
      },
      "execution_count": null,
      "outputs": []
    },
    {
      "cell_type": "markdown",
      "source": [
        "\n",
        "\n",
        "---\n",
        "\n"
      ],
      "metadata": {
        "id": "Rp0AL-wF8Svw"
      }
    },
    {
      "cell_type": "markdown",
      "source": [
        "# Step by step working- test code"
      ],
      "metadata": {
        "id": "1DvZGmwsFPUF"
      }
    },
    {
      "cell_type": "markdown",
      "source": [
        "Without llm , just using a test text to pass"
      ],
      "metadata": {
        "id": "m-nmRAx4FUxf"
      }
    },
    {
      "cell_type": "markdown",
      "source": [
        "## In colab"
      ],
      "metadata": {
        "id": "A-BhImDgFaW3"
      }
    },
    {
      "cell_type": "code",
      "source": [
        "!pip install ngrok\n"
      ],
      "metadata": {
        "colab": {
          "base_uri": "https://localhost:8080/"
        },
        "id": "GqAiqrFm_gn4",
        "outputId": "0e72bfe3-b52a-4f10-e8d0-f894b888088a"
      },
      "execution_count": 4,
      "outputs": [
        {
          "output_type": "stream",
          "name": "stdout",
          "text": [
            "Requirement already satisfied: ngrok in /usr/local/lib/python3.11/dist-packages (1.4.0)\n"
          ]
        }
      ]
    },
    {
      "cell_type": "code",
      "source": [
        "!wget -q -O ngrok.tgz https://bin.equinox.io/c/bNyj1mQVY4c/ngrok-v3-stable-linux-amd64.tgz\n",
        "!tar -xzf ngrok.tgz\n",
        "!chmod +x ngrok\n",
        "\n",
        "# 🧠 Your ngrok auth token goes here (not your API key)\n",
        "!./ngrok config add-authtoken <here>\n"
      ],
      "metadata": {
        "colab": {
          "base_uri": "https://localhost:8080/"
        },
        "id": "vmr8FWlpAlHR",
        "outputId": "9acb59c2-f4d4-4292-a66f-37ee2eaa149c"
      },
      "execution_count": 5,
      "outputs": [
        {
          "output_type": "stream",
          "name": "stdout",
          "text": [
            "Authtoken saved to configuration file: /root/.config/ngrok/ngrok.yml\n"
          ]
        }
      ]
    },
    {
      "cell_type": "code",
      "source": [
        "! pip install llama_cpp"
      ],
      "metadata": {
        "colab": {
          "base_uri": "https://localhost:8080/"
        },
        "id": "RMtckAoTEZSu",
        "outputId": "2d5b1431-4ff4-42f9-cb01-f7c014d95824"
      },
      "execution_count": 21,
      "outputs": [
        {
          "output_type": "stream",
          "name": "stdout",
          "text": [
            "\u001b[31mERROR: Could not find a version that satisfies the requirement llama_cpp (from versions: none)\u001b[0m\u001b[31m\n",
            "\u001b[0m\u001b[31mERROR: No matching distribution found for llama_cpp\u001b[0m\u001b[31m\n",
            "\u001b[0m"
          ]
        }
      ]
    },
    {
      "cell_type": "markdown",
      "source": [
        "---"
      ],
      "metadata": {
        "id": "CxBHSwfaEYWH"
      }
    },
    {
      "cell_type": "code",
      "source": [
        "import subprocess, time, requests\n",
        "from flask import Flask\n",
        "\n",
        "# Start ngrok on port 5000\n",
        "ngrok_proc = subprocess.Popen([\"./ngrok\", \"http\", \"5000\"])\n",
        "time.sleep(5)\n",
        "\n",
        "# Try to get the public tunnel URL\n",
        "try:\n",
        "    tunnels = requests.get(\"http://localhost:4040/api/tunnels\").json()\n",
        "    public_url = tunnels[\"tunnels\"][0][\"public_url\"]\n",
        "    print(\"✅ ngrok public URL:\", public_url)\n",
        "except Exception as e:\n",
        "    print(\"❌ ngrok failed:\", e)\n"
      ],
      "metadata": {
        "colab": {
          "base_uri": "https://localhost:8080/"
        },
        "id": "3f6Mpll0_frA",
        "outputId": "98b5c725-ac53-4025-c213-4dc70f24395e"
      },
      "execution_count": 6,
      "outputs": [
        {
          "output_type": "stream",
          "name": "stdout",
          "text": [
            "✅ ngrok public URL: https://d67b-104-199-189-124.ngrok-free.app\n"
          ]
        }
      ]
    },
    {
      "cell_type": "code",
      "source": [
        "app = Flask(__name__)\n",
        "\n",
        "@app.route(\"/\")\n",
        "def index():\n",
        "    return \"✅ LLaMA Flask API is running!\"\n",
        "\n",
        "app.run(port=5000)\n"
      ],
      "metadata": {
        "colab": {
          "base_uri": "https://localhost:8080/"
        },
        "id": "EmwkYtOnA5Ke",
        "outputId": "ecc0e471-f557-4293-9394-dc66afd53381"
      },
      "execution_count": 7,
      "outputs": [
        {
          "output_type": "stream",
          "name": "stdout",
          "text": [
            " * Serving Flask app '__main__'\n",
            " * Debug mode: off\n"
          ]
        },
        {
          "output_type": "stream",
          "name": "stderr",
          "text": [
            "INFO:werkzeug:\u001b[31m\u001b[1mWARNING: This is a development server. Do not use it in a production deployment. Use a production WSGI server instead.\u001b[0m\n",
            " * Running on http://127.0.0.1:5000\n",
            "INFO:werkzeug:\u001b[33mPress CTRL+C to quit\u001b[0m\n"
          ]
        }
      ]
    },
    {
      "cell_type": "code",
      "source": [
        "# Check if ngrok is alive\n",
        "import subprocess, time, requests\n",
        "\n",
        "# Start ngrok (it runs in the background)\n",
        "ngrok_proc = subprocess.Popen([\"./ngrok\", \"http\", \"5000\"])\n",
        "time.sleep(4)\n",
        "\n",
        "# Try to read the tunnel info\n",
        "try:\n",
        "    res = requests.get(\"http://localhost:4040/api/tunnels\")\n",
        "    print(\"🔍 Raw response:\", res.text)\n",
        "    data = res.json()\n",
        "    print(\"✅ Public URL:\", data[\"tunnels\"][0][\"public_url\"])\n",
        "except Exception as e:\n",
        "    print(\"❌ Could not fetch ngrok tunnel:\", e)\n"
      ],
      "metadata": {
        "colab": {
          "base_uri": "https://localhost:8080/"
        },
        "id": "CsySGo50CHKs",
        "outputId": "cbca4b9e-7d17-4e60-f3ea-51da30d3c975"
      },
      "execution_count": 18,
      "outputs": [
        {
          "output_type": "stream",
          "name": "stdout",
          "text": [
            "🔍 Raw response: {\"tunnels\":[{\"name\":\"command_line\",\"ID\":\"e2a1c3a7137a897877e63bb2f6a64125\",\"uri\":\"/api/tunnels/command_line\",\"public_url\":\"https://f4cf-104-199-189-124.ngrok-free.app\",\"proto\":\"https\",\"config\":{\"addr\":\"http://localhost:5000\",\"inspect\":true},\"metrics\":{\"conns\":{\"count\":0,\"gauge\":0,\"rate1\":0,\"rate5\":0,\"rate15\":0,\"p50\":0,\"p90\":0,\"p95\":0,\"p99\":0},\"http\":{\"count\":0,\"rate1\":0,\"rate5\":0,\"rate15\":0,\"p50\":0,\"p90\":0,\"p95\":0,\"p99\":0}}}],\"uri\":\"/api/tunnels\"}\n",
            "\n",
            "✅ Public URL: https://f4cf-104-199-189-124.ngrok-free.app\n"
          ]
        }
      ]
    },
    {
      "cell_type": "code",
      "source": [
        "requests.get(\"http://localhost:4040/api/tunnels\").json()"
      ],
      "metadata": {
        "colab": {
          "base_uri": "https://localhost:8080/"
        },
        "id": "2daf9o11Cimp",
        "outputId": "ceff1232-2a55-4bdc-8d00-bd47ff15709e"
      },
      "execution_count": 19,
      "outputs": [
        {
          "output_type": "execute_result",
          "data": {
            "text/plain": [
              "{'tunnels': [{'name': 'command_line',\n",
              "   'ID': 'e2a1c3a7137a897877e63bb2f6a64125',\n",
              "   'uri': '/api/tunnels/command_line',\n",
              "   'public_url': 'https://f4cf-104-199-189-124.ngrok-free.app',\n",
              "   'proto': 'https',\n",
              "   'config': {'addr': 'http://localhost:5000', 'inspect': True},\n",
              "   'metrics': {'conns': {'count': 0,\n",
              "     'gauge': 0,\n",
              "     'rate1': 0,\n",
              "     'rate5': 0,\n",
              "     'rate15': 0,\n",
              "     'p50': 0,\n",
              "     'p90': 0,\n",
              "     'p95': 0,\n",
              "     'p99': 0},\n",
              "    'http': {'count': 0,\n",
              "     'rate1': 0,\n",
              "     'rate5': 0,\n",
              "     'rate15': 0,\n",
              "     'p50': 0,\n",
              "     'p90': 0,\n",
              "     'p95': 0,\n",
              "     'p99': 0}}}],\n",
              " 'uri': '/api/tunnels'}"
            ]
          },
          "metadata": {},
          "execution_count": 19
        }
      ]
    },
    {
      "cell_type": "code",
      "source": [
        "from flask import Flask, request, jsonify\n",
        "\n",
        "app = Flask(__name__)\n",
        "\n",
        "@app.route(\"/\")\n",
        "def home():\n",
        "    return \"✅ Hello from Flask with ngrok!\"\n",
        "\n",
        "@app.route(\"/generate\", methods=[\"POST\"])\n",
        "def generate():\n",
        "    data = request.get_json()\n",
        "    prompt = data.get(\"prompt\", \"No prompt provided.\")\n",
        "    return jsonify({\n",
        "        \"response\": f\"🧪 Test response to: '{prompt}'\"\n",
        "    })\n",
        "\n",
        "app.run(port=5000)"
      ],
      "metadata": {
        "colab": {
          "base_uri": "https://localhost:8080/"
        },
        "id": "OmUCNhATA518",
        "outputId": "987e1af2-34f7-4829-9405-c04c02726cc4"
      },
      "execution_count": 20,
      "outputs": [
        {
          "output_type": "stream",
          "name": "stdout",
          "text": [
            " * Serving Flask app '__main__'\n",
            " * Debug mode: off\n"
          ]
        },
        {
          "output_type": "stream",
          "name": "stderr",
          "text": [
            "INFO:werkzeug:\u001b[31m\u001b[1mWARNING: This is a development server. Do not use it in a production deployment. Use a production WSGI server instead.\u001b[0m\n",
            " * Running on http://127.0.0.1:5000\n",
            "INFO:werkzeug:\u001b[33mPress CTRL+C to quit\u001b[0m\n",
            "INFO:werkzeug:127.0.0.1 - - [06/Apr/2025 12:23:43] \"GET / HTTP/1.1\" 200 -\n",
            "INFO:werkzeug:127.0.0.1 - - [06/Apr/2025 12:23:44] \"\u001b[33mGET /favicon.ico HTTP/1.1\u001b[0m\" 404 -\n",
            "INFO:werkzeug:127.0.0.1 - - [06/Apr/2025 12:24:24] \"POST /generate HTTP/1.1\" 200 -\n",
            "INFO:werkzeug:127.0.0.1 - - [06/Apr/2025 12:29:44] \"GET / HTTP/1.1\" 200 -\n"
          ]
        }
      ]
    },
    {
      "cell_type": "markdown",
      "source": [
        "## In VS code"
      ],
      "metadata": {
        "id": "USnGfbJ_Fdxn"
      }
    },
    {
      "cell_type": "code",
      "source": [
        "# In vs code\n",
        "import requests\n",
        "\n",
        "url = \"https://f4cf-104-199-189-124.ngrok-free.app/generate\"  # Replace with your real one\n",
        "response = requests.post(url, json={\"prompt\": \"Hello world!\"})\n",
        "print(\"🧠 Response:\", response.json()[\"response\"])\n",
        "\n"
      ],
      "metadata": {
        "id": "7-MlibVFFjFu"
      },
      "execution_count": null,
      "outputs": []
    },
    {
      "cell_type": "markdown",
      "source": [
        "---"
      ],
      "metadata": {
        "id": "E8cvx9qlBQM2"
      }
    }
  ],
  "metadata": {
    "language_info": {
      "name": "python"
    },
    "colab": {
      "provenance": [],
      "machine_shape": "hm",
      "include_colab_link": true
    },
    "kernelspec": {
      "name": "python3",
      "display_name": "Python 3"
    }
  },
  "nbformat": 4,
  "nbformat_minor": 0
}
>>>>>>> 9feca7964c6122eebe0e67a8d89f2476f479a48b
