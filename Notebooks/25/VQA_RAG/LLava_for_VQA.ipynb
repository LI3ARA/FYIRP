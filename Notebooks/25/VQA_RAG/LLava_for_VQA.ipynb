{
 "cells": [
  {
   "cell_type": "code",
   "execution_count": 2,
   "metadata": {},
   "outputs": [],
   "source": [
    "from openai import OpenAI\n",
    "\n",
    "# Point to the local server\n",
    "client = OpenAI(base_url=\"http://localhost:1235/v1\", api_key=\"lm-studio\")"
   ]
  },
  {
   "cell_type": "code",
   "execution_count": null,
   "metadata": {},
   "outputs": [],
   "source": [
    "# completion = client.chat.completions.create(\n",
    "#   model=\"mistral-7b-anthropic:2\",\n",
    "#   messages=[\n",
    "#     {\"role\": \"system\", \"content\": \"Always answer in rhymes.\"},\n",
    "#     {\"role\": \"user\", \"content\": \"Introduce yourself.\"}\n",
    "#   ],\n",
    "#   temperature=0.9,\n",
    "# )\n",
    "\n",
    "# print(completion.choices[0].message)"
   ]
  },
  {
   "cell_type": "code",
   "execution_count": 3,
   "metadata": {},
   "outputs": [],
   "source": [
    "# llava-v1.5-7b\n",
    "completion = client.chat.completions.create(\n",
    "  model=\"llava-v1.5-7b\",\n",
    "  messages=[\n",
    "    {\"role\": \"system\", \"content\": \"Always answer in rhymes.\"},\n",
    "    {\"role\": \"user\", \"content\": \"what can you do with images\"}\n",
    "  ],\n",
    "  temperature=0.9,\n",
    ")\n"
   ]
  },
  {
   "cell_type": "code",
   "execution_count": 4,
   "metadata": {},
   "outputs": [
    {
     "name": "stdout",
     "output_type": "stream",
     "text": [
      "With images, I can create and compile  \n",
      "Dazzling displays that simply enthral  \n",
      "I can crop or rotate, enhance or blend  \n",
      "And even use AI to add a hint of friend  \n",
      "\n",
      "I can also use them for various tasks like  \n",
      "Advertising, marketing or just to amaze  \n",
      "Or with words and design create a brochure  \n",
      "That leaves a lasting impression, that's for sure.\n"
     ]
    }
   ],
   "source": [
    "try:\n",
    "    print(completion.choices[0].message.content)\n",
    "except:\n",
    "    print(\"Error occured\")\n",
    "    "
   ]
  },
  {
   "cell_type": "code",
   "execution_count": 1,
   "metadata": {},
   "outputs": [],
   "source": [
    "import base64\n",
    "import requests\n",
    "\n",
    "def encode_image(image_path):\n",
    "    with open(image_path, \"rb\") as img_file:\n",
    "        return base64.b64encode(img_file.read()).decode(\"utf-8\")"
   ]
  },
  {
   "cell_type": "code",
   "execution_count": 5,
   "metadata": {},
   "outputs": [
    {
     "name": "stdout",
     "output_type": "stream",
     "text": [
      "\n",
      "The image shows a man and woman standing close to each other, with the woman having her mouth on the man's face. They are both wearing black clothing, which adds an element of mystery to their relationship. The scene appears to be a comic or cartoon-like illustration, as indicated by the presence of hearts in the background and the overall artistic style. This image could represent a romantic moment between the two characters, but it is important to note that it is a fictional representation rather than an actual event.\n"
     ]
    }
   ],
   "source": [
    "image_path = \"../../../../../../Pictures/Screenshots/anime.jpg\"#,\"C:\\Users\\Lisara\\Pictures\\Screenshots\\anime.jpg\"\n",
    "base64_image = encode_image(image_path)\n",
    "\n",
    "headers = {\"Content-Type\": \"application/json\"}\n",
    "\n",
    "payload = {\n",
    "    \"model\": \"llava:13b-v1.5-q4_K_M\",  # <- check your actual model name!\n",
    "    \"messages\": [\n",
    "        {\n",
    "            \"role\": \"user\",\n",
    "            \"content\": [\n",
    "                {\"type\": \"text\", \"text\": \"What is happening in this image?\"},\n",
    "                {\"type\": \"image_url\", \"image_url\": {\n",
    "                    \"url\": f\"data:image/jpeg;base64,{base64_image}\"\n",
    "                }}\n",
    "            ]\n",
    "        }\n",
    "    ],\n",
    "    \"max_tokens\": 500\n",
    "}\n",
    "\n",
    "response = requests.post(\"http://localhost:1235/v1/chat/completions\",\n",
    "                         headers=headers, json=payload)\n",
    "\n",
    "print(response.json()[\"choices\"][0][\"message\"][\"content\"])\n"
   ]
  },
  {
   "cell_type": "code",
   "execution_count": null,
   "metadata": {},
   "outputs": [],
   "source": []
  }
 ],
 "metadata": {
  "kernelspec": {
   "display_name": "IRPenv",
   "language": "python",
   "name": "python3"
  },
  "language_info": {
   "codemirror_mode": {
    "name": "ipython",
    "version": 3
   },
   "file_extension": ".py",
   "mimetype": "text/x-python",
   "name": "python",
   "nbconvert_exporter": "python",
   "pygments_lexer": "ipython3",
   "version": "3.11.11"
  }
 },
 "nbformat": 4,
 "nbformat_minor": 2
}
