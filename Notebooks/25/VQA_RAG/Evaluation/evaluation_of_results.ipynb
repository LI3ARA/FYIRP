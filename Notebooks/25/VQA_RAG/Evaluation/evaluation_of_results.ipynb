{
  "cells": [
    {
      "cell_type": "markdown",
      "metadata": {
        "colab_type": "text",
        "id": "view-in-github"
      },
      "source": [
        "<a href=\"https://colab.research.google.com/github/LI3ARA/FYIRP/blob/main/Notebooks/25/VQA_RAG/Evaluation/evaluation_of_results.ipynb\" target=\"_parent\"><img src=\"https://colab.research.google.com/assets/colab-badge.svg\" alt=\"Open In Colab\"/></a>"
      ]
    },
    {
      "cell_type": "code",
      "execution_count": 1,
      "id": "pq-iyufOYvC4",
      "metadata": {
        "id": "pq-iyufOYvC4"
      },
      "outputs": [],
      "source": [
        "import os\n",
        "import pandas as pd"
      ]
    },
    {
      "cell_type": "code",
      "execution_count": null,
      "id": "3fb0bcff",
      "metadata": {
        "id": "3fb0bcff"
      },
      "outputs": [],
      "source": [
        "both_df = pd.read_csv(\"../../../../Data/spiqa_eval/agent_pipeline_batches/output/final_answer_batch_0_10.csv\")"
      ]
    },
    {
      "cell_type": "code",
      "execution_count": null,
      "id": "0da6ce3b",
      "metadata": {
        "id": "0da6ce3b"
      },
      "outputs": [],
      "source": [
        "llava_only_df = pd.read_csv(\"../../../../Data/spiqa_eval/llava_only/llava_generated_batch_0_10.csv\")\n",
        "mistral_only_df = pd.read_csv(\"../../../../Data/spiqa_eval/mistral_only/mistral_generated_batch_0_10.csv\")"
      ]
    },
    {
      "cell_type": "code",
      "execution_count": null,
      "id": "c445ccad",
      "metadata": {
        "id": "c445ccad",
        "outputId": "ae27e9e1-e3d8-4946-df2c-68a2c47c353e"
      },
      "outputs": [
        {
          "data": {
            "text/plain": [
              "Index(['q_id', 'doc_id', 'question', 'caption', 'true_answer', 'final_answer',\n",
              "       'vision_used', 'sub_question', 'vision_answer'],\n",
              "      dtype='object')"
            ]
          },
          "execution_count": 4,
          "metadata": {},
          "output_type": "execute_result"
        }
      ],
      "source": [
        "both_df.columns"
      ]
    },
    {
      "cell_type": "code",
      "execution_count": null,
      "id": "02aa0a8e",
      "metadata": {
        "id": "02aa0a8e",
        "outputId": "848be957-06ce-401c-c0cb-45419a232885"
      },
      "outputs": [
        {
          "data": {
            "text/plain": [
              "Index(['q_id', 'doc_id', 'question', 'true_answer', 'generated_answer',\n",
              "       'reference_figure', 'caption'],\n",
              "      dtype='object')"
            ]
          },
          "execution_count": 5,
          "metadata": {},
          "output_type": "execute_result"
        }
      ],
      "source": [
        "llava_only_df.columns"
      ]
    },
    {
      "cell_type": "code",
      "execution_count": null,
      "id": "313e8a0c",
      "metadata": {
        "id": "313e8a0c",
        "outputId": "46348eec-b736-4019-88de-63bd7451c93c"
      },
      "outputs": [
        {
          "data": {
            "text/html": [
              "<div>\n",
              "<style scoped>\n",
              "    .dataframe tbody tr th:only-of-type {\n",
              "        vertical-align: middle;\n",
              "    }\n",
              "\n",
              "    .dataframe tbody tr th {\n",
              "        vertical-align: top;\n",
              "    }\n",
              "\n",
              "    .dataframe thead th {\n",
              "        text-align: right;\n",
              "    }\n",
              "</style>\n",
              "<table border=\"1\" class=\"dataframe\">\n",
              "  <thead>\n",
              "    <tr style=\"text-align: right;\">\n",
              "      <th></th>\n",
              "      <th>q_id</th>\n",
              "      <th>doc_id</th>\n",
              "      <th>question</th>\n",
              "      <th>caption</th>\n",
              "      <th>true_answer</th>\n",
              "      <th>final_answer</th>\n",
              "      <th>vision_used</th>\n",
              "      <th>sub_question</th>\n",
              "      <th>vision_answer</th>\n",
              "    </tr>\n",
              "  </thead>\n",
              "  <tbody>\n",
              "    <tr>\n",
              "      <th>0</th>\n",
              "      <td>spiqa_0</td>\n",
              "      <td>1805.01216v3</td>\n",
              "      <td>\\n\\nWhat is the difference between the origin...</td>\n",
              "      <td>Figure 9: Pre-processing of SMD Navigate data ...</td>\n",
              "      <td>\\n\\nThe pre-processed SMD Navigate data combi...</td>\n",
              "      <td>The original SMD Navigate data consists of raw...</td>\n",
              "      <td>True</td>\n",
              "      <td>What are the steps involved in pre-processing ...</td>\n",
              "      <td>The steps involved in pre-processing of SMD Na...</td>\n",
              "    </tr>\n",
              "    <tr>\n",
              "      <th>1</th>\n",
              "      <td>spiqa_0</td>\n",
              "      <td>1805.01216v3</td>\n",
              "      <td>\\n\\nWhat is the difference between the origin...</td>\n",
              "      <td>Figure 9: Pre-processing of SMD Navigate data ...</td>\n",
              "      <td>\\n\\nThe pre-processed SMD Navigate data combi...</td>\n",
              "      <td>The difference between the original and pre-pr...</td>\n",
              "      <td>True</td>\n",
              "      <td>What changes or transformations occurred durin...</td>\n",
              "      <td>The pre-processing of SMD Navigate data involv...</td>\n",
              "    </tr>\n",
              "    <tr>\n",
              "      <th>2</th>\n",
              "      <td>spiqa_6</td>\n",
              "      <td>1706.04284v3</td>\n",
              "      <td>Which denoiser performs the best on the sheep...</td>\n",
              "      <td>Two semantic segmentation examples from Pascal...</td>\n",
              "      <td>The denoiser trained with the classification ...</td>\n",
              "      <td>Based on the given examples, it appears that t...</td>\n",
              "      <td>True</td>\n",
              "      <td>By comparing the segmentation label maps of th...</td>\n",
              "      <td>(d)</td>\n",
              "    </tr>\n",
              "    <tr>\n",
              "      <th>3</th>\n",
              "      <td>spiqa_7</td>\n",
              "      <td>1901.00398v2</td>\n",
              "      <td>Which type of review was more accurately iden...</td>\n",
              "      <td>Figure 2: Accuracy of human evaluators on indi...</td>\n",
              "      <td>The human evaluators were more accurate at ide...</td>\n",
              "      <td>The figure provided does not contain informati...</td>\n",
              "      <td>True</td>\n",
              "      <td>To determine whether human evaluators more acc...</td>\n",
              "      <td>No</td>\n",
              "    </tr>\n",
              "  </tbody>\n",
              "</table>\n",
              "</div>"
            ],
            "text/plain": [
              "      q_id        doc_id                                           question  \\\n",
              "0  spiqa_0  1805.01216v3   \\n\\nWhat is the difference between the origin...   \n",
              "1  spiqa_0  1805.01216v3   \\n\\nWhat is the difference between the origin...   \n",
              "2  spiqa_6  1706.04284v3   Which denoiser performs the best on the sheep...   \n",
              "3  spiqa_7  1901.00398v2   Which type of review was more accurately iden...   \n",
              "\n",
              "                                             caption  \\\n",
              "0  Figure 9: Pre-processing of SMD Navigate data ...   \n",
              "1  Figure 9: Pre-processing of SMD Navigate data ...   \n",
              "2  Two semantic segmentation examples from Pascal...   \n",
              "3  Figure 2: Accuracy of human evaluators on indi...   \n",
              "\n",
              "                                         true_answer  \\\n",
              "0   \\n\\nThe pre-processed SMD Navigate data combi...   \n",
              "1   \\n\\nThe pre-processed SMD Navigate data combi...   \n",
              "2   The denoiser trained with the classification ...   \n",
              "3  The human evaluators were more accurate at ide...   \n",
              "\n",
              "                                        final_answer  vision_used  \\\n",
              "0  The original SMD Navigate data consists of raw...         True   \n",
              "1  The difference between the original and pre-pr...         True   \n",
              "2  Based on the given examples, it appears that t...         True   \n",
              "3  The figure provided does not contain informati...         True   \n",
              "\n",
              "                                        sub_question  \\\n",
              "0  What are the steps involved in pre-processing ...   \n",
              "1  What changes or transformations occurred durin...   \n",
              "2  By comparing the segmentation label maps of th...   \n",
              "3  To determine whether human evaluators more acc...   \n",
              "\n",
              "                                       vision_answer  \n",
              "0  The steps involved in pre-processing of SMD Na...  \n",
              "1  The pre-processing of SMD Navigate data involv...  \n",
              "2                                                (d)  \n",
              "3                                                 No  "
            ]
          },
          "execution_count": 6,
          "metadata": {},
          "output_type": "execute_result"
        }
      ],
      "source": [
        "both_df"
      ]
    },
    {
      "cell_type": "code",
      "execution_count": null,
      "id": "15473053",
      "metadata": {
        "id": "15473053",
        "outputId": "1cdf9fb6-a233-41c5-b713-1e126f132be4"
      },
      "outputs": [
        {
          "data": {
            "text/html": [
              "<div>\n",
              "<style scoped>\n",
              "    .dataframe tbody tr th:only-of-type {\n",
              "        vertical-align: middle;\n",
              "    }\n",
              "\n",
              "    .dataframe tbody tr th {\n",
              "        vertical-align: top;\n",
              "    }\n",
              "\n",
              "    .dataframe thead th {\n",
              "        text-align: right;\n",
              "    }\n",
              "</style>\n",
              "<table border=\"1\" class=\"dataframe\">\n",
              "  <thead>\n",
              "    <tr style=\"text-align: right;\">\n",
              "      <th></th>\n",
              "      <th>q_id</th>\n",
              "      <th>doc_id</th>\n",
              "      <th>question</th>\n",
              "      <th>true_answer</th>\n",
              "      <th>generated_answer</th>\n",
              "      <th>reference_figure</th>\n",
              "      <th>caption</th>\n",
              "    </tr>\n",
              "  </thead>\n",
              "  <tbody>\n",
              "    <tr>\n",
              "      <th>0</th>\n",
              "      <td>spiqa_0</td>\n",
              "      <td>1805.01216v3</td>\n",
              "      <td>\\n\\nWhat is the difference between the origin...</td>\n",
              "      <td>\\n\\nThe pre-processed SMD Navigate data combi...</td>\n",
              "      <td>The caption doesn't provide specific details a...</td>\n",
              "      <td>1805.01216v3-Figure9-1.png</td>\n",
              "      <td>Figure 9: Pre-processing of SMD Navigate data ...</td>\n",
              "    </tr>\n",
              "    <tr>\n",
              "      <th>1</th>\n",
              "      <td>spiqa_1</td>\n",
              "      <td>1805.07567v2</td>\n",
              "      <td>\\n\\nWhat is the effect of increasing the valu...</td>\n",
              "      <td>\\n\\nIncreasing the value of β2 decreases the ...</td>\n",
              "      <td>The increase in the value of β2 results in a d...</td>\n",
              "      <td>1805.07567v2-Figure6-1.png</td>\n",
              "      <td>Precision, Recall, F-measure of model trained ...</td>\n",
              "    </tr>\n",
              "    <tr>\n",
              "      <th>2</th>\n",
              "      <td>spiqa_2</td>\n",
              "      <td>1603.00286v5</td>\n",
              "      <td>\\n\\nWhy does the author state that there is a...</td>\n",
              "      <td>\\n\\nIn 2-D division, there may be unallocated...</td>\n",
              "      <td>The caption does not explicitly state a qualit...</td>\n",
              "      <td>1603.00286v5-Figure1-1.png</td>\n",
              "      <td>Fig. 1 With geometric constraints, an efficien...</td>\n",
              "    </tr>\n",
              "    <tr>\n",
              "      <th>3</th>\n",
              "      <td>spiqa_3</td>\n",
              "      <td>1805.06431v4</td>\n",
              "      <td>How does the performance of ChoiceNet compare...</td>\n",
              "      <td>ChoiceNet generally performs well compared to ...</td>\n",
              "      <td>Based on the provided caption, the test accura...</td>\n",
              "      <td>1805.06431v4-Table2-1.png</td>\n",
              "      <td>Table 2: Test accuracies on the CIFAR-10 datas...</td>\n",
              "    </tr>\n",
              "    <tr>\n",
              "      <th>4</th>\n",
              "      <td>spiqa_4</td>\n",
              "      <td>1802.07459v2</td>\n",
              "      <td>How many negative samples are there in the tr...</td>\n",
              "      <td>There are approximately 9,719 negative samples...</td>\n",
              "      <td>The given caption does not provide information...</td>\n",
              "      <td>1802.07459v2-Table1-1.png</td>\n",
              "      <td>Table 1: Description of evaluation datasets.</td>\n",
              "    </tr>\n",
              "    <tr>\n",
              "      <th>5</th>\n",
              "      <td>spiqa_5</td>\n",
              "      <td>1811.09393v4</td>\n",
              "      <td>What is the role of the warped triplets in th...</td>\n",
              "      <td>The warped triplets provide additional inform...</td>\n",
              "      <td>In the context of the captions provided, the C...</td>\n",
              "      <td>1811.09393v4-Figure4-1.png</td>\n",
              "      <td>a) The frame-recurrent VSR Generator. b) Condi...</td>\n",
              "    </tr>\n",
              "    <tr>\n",
              "      <th>6</th>\n",
              "      <td>spiqa_6</td>\n",
              "      <td>1706.04284v3</td>\n",
              "      <td>Which denoiser performs the best on the sheep...</td>\n",
              "      <td>The denoiser trained with the classification ...</td>\n",
              "      <td>It is not explicitly stated in the caption whi...</td>\n",
              "      <td>1706.04284v3-Figure5-1.png</td>\n",
              "      <td>Two semantic segmentation examples from Pascal...</td>\n",
              "    </tr>\n",
              "    <tr>\n",
              "      <th>7</th>\n",
              "      <td>spiqa_7</td>\n",
              "      <td>1901.00398v2</td>\n",
              "      <td>Which type of review was more accurately iden...</td>\n",
              "      <td>The human evaluators were more accurate at ide...</td>\n",
              "      <td>The caption does not provide information about...</td>\n",
              "      <td>1901.00398v2-Figure2-1.png</td>\n",
              "      <td>Figure 2: Accuracy of human evaluators on indi...</td>\n",
              "    </tr>\n",
              "    <tr>\n",
              "      <th>8</th>\n",
              "      <td>spiqa_8</td>\n",
              "      <td>1709.02755v5</td>\n",
              "      <td>According to Table 1 and the passage, how does...</td>\n",
              "      <td>The SRU model outperforms the LSTM model in bo...</td>\n",
              "      <td>The SRU (Self-attentive Recurrent Unit) model ...</td>\n",
              "      <td>1709.02755v5-Table2-1.png</td>\n",
              "      <td>Table 2: Exact match (EM) and F1 scores of var...</td>\n",
              "    </tr>\n",
              "    <tr>\n",
              "      <th>9</th>\n",
              "      <td>spiqa_9</td>\n",
              "      <td>1804.07849v4</td>\n",
              "      <td>According to the ablation experiments, which f...</td>\n",
              "      <td>Morphological modeling with LSTMs contributes ...</td>\n",
              "      <td>Without specific numbers or details provided i...</td>\n",
              "      <td>1804.07849v4-Table2-1.png</td>\n",
              "      <td>Table 2: Ablation of the best model on Penn WSJ.</td>\n",
              "    </tr>\n",
              "  </tbody>\n",
              "</table>\n",
              "</div>"
            ],
            "text/plain": [
              "      q_id        doc_id                                           question  \\\n",
              "0  spiqa_0  1805.01216v3   \\n\\nWhat is the difference between the origin...   \n",
              "1  spiqa_1  1805.07567v2   \\n\\nWhat is the effect of increasing the valu...   \n",
              "2  spiqa_2  1603.00286v5   \\n\\nWhy does the author state that there is a...   \n",
              "3  spiqa_3  1805.06431v4   How does the performance of ChoiceNet compare...   \n",
              "4  spiqa_4  1802.07459v2   How many negative samples are there in the tr...   \n",
              "5  spiqa_5  1811.09393v4   What is the role of the warped triplets in th...   \n",
              "6  spiqa_6  1706.04284v3   Which denoiser performs the best on the sheep...   \n",
              "7  spiqa_7  1901.00398v2   Which type of review was more accurately iden...   \n",
              "8  spiqa_8  1709.02755v5  According to Table 1 and the passage, how does...   \n",
              "9  spiqa_9  1804.07849v4  According to the ablation experiments, which f...   \n",
              "\n",
              "                                         true_answer  \\\n",
              "0   \\n\\nThe pre-processed SMD Navigate data combi...   \n",
              "1   \\n\\nIncreasing the value of β2 decreases the ...   \n",
              "2   \\n\\nIn 2-D division, there may be unallocated...   \n",
              "3  ChoiceNet generally performs well compared to ...   \n",
              "4  There are approximately 9,719 negative samples...   \n",
              "5   The warped triplets provide additional inform...   \n",
              "6   The denoiser trained with the classification ...   \n",
              "7  The human evaluators were more accurate at ide...   \n",
              "8  The SRU model outperforms the LSTM model in bo...   \n",
              "9  Morphological modeling with LSTMs contributes ...   \n",
              "\n",
              "                                    generated_answer  \\\n",
              "0  The caption doesn't provide specific details a...   \n",
              "1  The increase in the value of β2 results in a d...   \n",
              "2  The caption does not explicitly state a qualit...   \n",
              "3  Based on the provided caption, the test accura...   \n",
              "4  The given caption does not provide information...   \n",
              "5  In the context of the captions provided, the C...   \n",
              "6  It is not explicitly stated in the caption whi...   \n",
              "7  The caption does not provide information about...   \n",
              "8  The SRU (Self-attentive Recurrent Unit) model ...   \n",
              "9  Without specific numbers or details provided i...   \n",
              "\n",
              "             reference_figure  \\\n",
              "0  1805.01216v3-Figure9-1.png   \n",
              "1  1805.07567v2-Figure6-1.png   \n",
              "2  1603.00286v5-Figure1-1.png   \n",
              "3   1805.06431v4-Table2-1.png   \n",
              "4   1802.07459v2-Table1-1.png   \n",
              "5  1811.09393v4-Figure4-1.png   \n",
              "6  1706.04284v3-Figure5-1.png   \n",
              "7  1901.00398v2-Figure2-1.png   \n",
              "8   1709.02755v5-Table2-1.png   \n",
              "9   1804.07849v4-Table2-1.png   \n",
              "\n",
              "                                             caption  \n",
              "0  Figure 9: Pre-processing of SMD Navigate data ...  \n",
              "1  Precision, Recall, F-measure of model trained ...  \n",
              "2  Fig. 1 With geometric constraints, an efficien...  \n",
              "3  Table 2: Test accuracies on the CIFAR-10 datas...  \n",
              "4       Table 1: Description of evaluation datasets.  \n",
              "5  a) The frame-recurrent VSR Generator. b) Condi...  \n",
              "6  Two semantic segmentation examples from Pascal...  \n",
              "7  Figure 2: Accuracy of human evaluators on indi...  \n",
              "8  Table 2: Exact match (EM) and F1 scores of var...  \n",
              "9   Table 2: Ablation of the best model on Penn WSJ.  "
            ]
          },
          "execution_count": 7,
          "metadata": {},
          "output_type": "execute_result"
        }
      ],
      "source": [
        "mistral_only_df"
      ]
    },
    {
      "cell_type": "code",
      "execution_count": null,
      "id": "dfe4c06b",
      "metadata": {
        "id": "dfe4c06b",
        "outputId": "55f7c6a1-df05-4193-fd7c-9174685c85e6"
      },
      "outputs": [
        {
          "data": {
            "text/html": [
              "<div>\n",
              "<style scoped>\n",
              "    .dataframe tbody tr th:only-of-type {\n",
              "        vertical-align: middle;\n",
              "    }\n",
              "\n",
              "    .dataframe tbody tr th {\n",
              "        vertical-align: top;\n",
              "    }\n",
              "\n",
              "    .dataframe thead th {\n",
              "        text-align: right;\n",
              "    }\n",
              "</style>\n",
              "<table border=\"1\" class=\"dataframe\">\n",
              "  <thead>\n",
              "    <tr style=\"text-align: right;\">\n",
              "      <th></th>\n",
              "      <th>q_id</th>\n",
              "      <th>doc_id</th>\n",
              "      <th>question</th>\n",
              "      <th>true_answer</th>\n",
              "      <th>generated_answer</th>\n",
              "      <th>reference_figure</th>\n",
              "      <th>caption</th>\n",
              "    </tr>\n",
              "  </thead>\n",
              "  <tbody>\n",
              "    <tr>\n",
              "      <th>0</th>\n",
              "      <td>spiqa_0</td>\n",
              "      <td>1805.01216v3</td>\n",
              "      <td>\\n\\nWhat is the difference between the origin...</td>\n",
              "      <td>\\n\\nThe pre-processed SMD Navigate data combi...</td>\n",
              "      <td>The original SMD Navigate data consists of two...</td>\n",
              "      <td>1805.01216v3-Figure9-1.png</td>\n",
              "      <td>Figure 9: Pre-processing of SMD Navigate data ...</td>\n",
              "    </tr>\n",
              "    <tr>\n",
              "      <th>1</th>\n",
              "      <td>spiqa_1</td>\n",
              "      <td>1805.07567v2</td>\n",
              "      <td>\\n\\nWhat is the effect of increasing the valu...</td>\n",
              "      <td>\\n\\nIncreasing the value of β2 decreases the ...</td>\n",
              "      <td>In the image, there's a graph showing the impa...</td>\n",
              "      <td>1805.07567v2-Figure6-1.png</td>\n",
              "      <td>Precision, Recall, F-measure of model trained ...</td>\n",
              "    </tr>\n",
              "    <tr>\n",
              "      <th>2</th>\n",
              "      <td>spiqa_2</td>\n",
              "      <td>1603.00286v5</td>\n",
              "      <td>\\n\\nWhy does the author state that there is a...</td>\n",
              "      <td>\\n\\nIn 2-D division, there may be unallocated...</td>\n",
              "      <td>The author states that there is a qualitative ...</td>\n",
              "      <td>1603.00286v5-Figure1-1.png</td>\n",
              "      <td>Fig. 1 With geometric constraints, an efficien...</td>\n",
              "    </tr>\n",
              "    <tr>\n",
              "      <th>3</th>\n",
              "      <td>spiqa_3</td>\n",
              "      <td>1805.06431v4</td>\n",
              "      <td>How does the performance of ChoiceNet compare...</td>\n",
              "      <td>ChoiceNet generally performs well compared to ...</td>\n",
              "      <td>ChoiceNet is a deep learning model that perfor...</td>\n",
              "      <td>1805.06431v4-Table2-1.png</td>\n",
              "      <td>Table 2: Test accuracies on the CIFAR-10 datas...</td>\n",
              "    </tr>\n",
              "    <tr>\n",
              "      <th>4</th>\n",
              "      <td>spiqa_4</td>\n",
              "      <td>1802.07459v2</td>\n",
              "      <td>How many negative samples are there in the tr...</td>\n",
              "      <td>There are approximately 9,719 negative samples...</td>\n",
              "      <td>The number of negative samples in the training...</td>\n",
              "      <td>1802.07459v2-Table1-1.png</td>\n",
              "      <td>Table 1: Description of evaluation datasets.</td>\n",
              "    </tr>\n",
              "    <tr>\n",
              "      <th>5</th>\n",
              "      <td>spiqa_5</td>\n",
              "      <td>1811.09393v4</td>\n",
              "      <td>What is the role of the warped triplets in th...</td>\n",
              "      <td>The warped triplets provide additional inform...</td>\n",
              "      <td>In the diagram, warped triplets are used as co...</td>\n",
              "      <td>1811.09393v4-Figure4-1.png</td>\n",
              "      <td>a) The frame-recurrent VSR Generator. b) Condi...</td>\n",
              "    </tr>\n",
              "    <tr>\n",
              "      <th>6</th>\n",
              "      <td>spiqa_6</td>\n",
              "      <td>1706.04284v3</td>\n",
              "      <td>Which denoiser performs the best on the sheep...</td>\n",
              "      <td>The denoiser trained with the classification ...</td>\n",
              "      <td>The denoiser that performs the best in this ca...</td>\n",
              "      <td>1706.04284v3-Figure5-1.png</td>\n",
              "      <td>Two semantic segmentation examples from Pascal...</td>\n",
              "    </tr>\n",
              "    <tr>\n",
              "      <th>7</th>\n",
              "      <td>spiqa_7</td>\n",
              "      <td>1901.00398v2</td>\n",
              "      <td>Which type of review was more accurately iden...</td>\n",
              "      <td>The human evaluators were more accurate at ide...</td>\n",
              "      <td>Human-written reviews were found to be more ac...</td>\n",
              "      <td>1901.00398v2-Figure2-1.png</td>\n",
              "      <td>Figure 2: Accuracy of human evaluators on indi...</td>\n",
              "    </tr>\n",
              "    <tr>\n",
              "      <th>8</th>\n",
              "      <td>spiqa_8</td>\n",
              "      <td>1709.02755v5</td>\n",
              "      <td>According to Table 1 and the passage, how does...</td>\n",
              "      <td>The SRU model outperforms the LSTM model in bo...</td>\n",
              "      <td>The SRU model outperforms the LSTM model with ...</td>\n",
              "      <td>1709.02755v5-Table2-1.png</td>\n",
              "      <td>Table 2: Exact match (EM) and F1 scores of var...</td>\n",
              "    </tr>\n",
              "    <tr>\n",
              "      <th>9</th>\n",
              "      <td>spiqa_9</td>\n",
              "      <td>1804.07849v4</td>\n",
              "      <td>According to the ablation experiments, which f...</td>\n",
              "      <td>Morphological modeling with LSTMs contributes ...</td>\n",
              "      <td>According to the table, it appears that the no...</td>\n",
              "      <td>1804.07849v4-Table2-1.png</td>\n",
              "      <td>Table 2: Ablation of the best model on Penn WSJ.</td>\n",
              "    </tr>\n",
              "  </tbody>\n",
              "</table>\n",
              "</div>"
            ],
            "text/plain": [
              "      q_id        doc_id                                           question  \\\n",
              "0  spiqa_0  1805.01216v3   \\n\\nWhat is the difference between the origin...   \n",
              "1  spiqa_1  1805.07567v2   \\n\\nWhat is the effect of increasing the valu...   \n",
              "2  spiqa_2  1603.00286v5   \\n\\nWhy does the author state that there is a...   \n",
              "3  spiqa_3  1805.06431v4   How does the performance of ChoiceNet compare...   \n",
              "4  spiqa_4  1802.07459v2   How many negative samples are there in the tr...   \n",
              "5  spiqa_5  1811.09393v4   What is the role of the warped triplets in th...   \n",
              "6  spiqa_6  1706.04284v3   Which denoiser performs the best on the sheep...   \n",
              "7  spiqa_7  1901.00398v2   Which type of review was more accurately iden...   \n",
              "8  spiqa_8  1709.02755v5  According to Table 1 and the passage, how does...   \n",
              "9  spiqa_9  1804.07849v4  According to the ablation experiments, which f...   \n",
              "\n",
              "                                         true_answer  \\\n",
              "0   \\n\\nThe pre-processed SMD Navigate data combi...   \n",
              "1   \\n\\nIncreasing the value of β2 decreases the ...   \n",
              "2   \\n\\nIn 2-D division, there may be unallocated...   \n",
              "3  ChoiceNet generally performs well compared to ...   \n",
              "4  There are approximately 9,719 negative samples...   \n",
              "5   The warped triplets provide additional inform...   \n",
              "6   The denoiser trained with the classification ...   \n",
              "7  The human evaluators were more accurate at ide...   \n",
              "8  The SRU model outperforms the LSTM model in bo...   \n",
              "9  Morphological modeling with LSTMs contributes ...   \n",
              "\n",
              "                                    generated_answer  \\\n",
              "0  The original SMD Navigate data consists of two...   \n",
              "1  In the image, there's a graph showing the impa...   \n",
              "2  The author states that there is a qualitative ...   \n",
              "3  ChoiceNet is a deep learning model that perfor...   \n",
              "4  The number of negative samples in the training...   \n",
              "5  In the diagram, warped triplets are used as co...   \n",
              "6  The denoiser that performs the best in this ca...   \n",
              "7  Human-written reviews were found to be more ac...   \n",
              "8  The SRU model outperforms the LSTM model with ...   \n",
              "9  According to the table, it appears that the no...   \n",
              "\n",
              "             reference_figure  \\\n",
              "0  1805.01216v3-Figure9-1.png   \n",
              "1  1805.07567v2-Figure6-1.png   \n",
              "2  1603.00286v5-Figure1-1.png   \n",
              "3   1805.06431v4-Table2-1.png   \n",
              "4   1802.07459v2-Table1-1.png   \n",
              "5  1811.09393v4-Figure4-1.png   \n",
              "6  1706.04284v3-Figure5-1.png   \n",
              "7  1901.00398v2-Figure2-1.png   \n",
              "8   1709.02755v5-Table2-1.png   \n",
              "9   1804.07849v4-Table2-1.png   \n",
              "\n",
              "                                             caption  \n",
              "0  Figure 9: Pre-processing of SMD Navigate data ...  \n",
              "1  Precision, Recall, F-measure of model trained ...  \n",
              "2  Fig. 1 With geometric constraints, an efficien...  \n",
              "3  Table 2: Test accuracies on the CIFAR-10 datas...  \n",
              "4       Table 1: Description of evaluation datasets.  \n",
              "5  a) The frame-recurrent VSR Generator. b) Condi...  \n",
              "6  Two semantic segmentation examples from Pascal...  \n",
              "7  Figure 2: Accuracy of human evaluators on indi...  \n",
              "8  Table 2: Exact match (EM) and F1 scores of var...  \n",
              "9   Table 2: Ablation of the best model on Penn WSJ.  "
            ]
          },
          "execution_count": 8,
          "metadata": {},
          "output_type": "execute_result"
        }
      ],
      "source": [
        "llava_only_df"
      ]
    },
    {
      "cell_type": "markdown",
      "id": "ETQ4uH4oWXys",
      "metadata": {
        "id": "ETQ4uH4oWXys"
      },
      "source": [
        "# Background work"
      ]
    },
    {
      "cell_type": "markdown",
      "id": "o7RuPoFZWbhR",
      "metadata": {
        "id": "o7RuPoFZWbhR"
      },
      "source": [
        "## Merge the evaluation results to one df"
      ]
    },
    {
      "cell_type": "code",
      "execution_count": null,
      "id": "189fdc89",
      "metadata": {
        "id": "189fdc89"
      },
      "outputs": [],
      "source": [
        "def get_merged_csvs(folder_path,label):\n",
        "  csv_files = [f for f in os.listdir(folder_path) if f.endswith('.csv')]\n",
        "  merged_df = pd.concat([pd.read_csv(os.path.join(folder_path, f)) for f in csv_files], ignore_index = True)\n",
        "  return merged_df"
      ]
    },
    {
      "cell_type": "markdown",
      "id": "4IORpiU-YY0Q",
      "metadata": {
        "id": "4IORpiU-YY0Q"
      },
      "source": [
        "## Index column add to gold truth df"
      ]
    },
    {
      "cell_type": "code",
      "execution_count": null,
      "id": "SlS-gpaoXhOv",
      "metadata": {
        "id": "SlS-gpaoXhOv"
      },
      "outputs": [],
      "source": [
        "def index_add_to_gold_truth_df(gold_truth_csv_path):\n",
        "\n",
        "    df_gold = pd.read_csv(gold_truth_csv_path)\n",
        "\n",
        "    df_gold.reset_index(drop=True, inplace=True)\n",
        "    df_gold['index'] = df_gold.index\n",
        "\n",
        "    # Move the index column to the front\n",
        "    cols = ['index'] + [col for col  in df_gold.columns if col!='index']\n",
        "    df_gold = df_gold[cols]\n",
        "\n",
        "    return df_gold"
      ]
    },
    {
      "cell_type": "markdown",
      "id": "gXm8Y7hcZhyp",
      "metadata": {
        "id": "gXm8Y7hcZhyp"
      },
      "source": [
        "## Merge gold Truth with Bot responeses"
      ]
    },
    {
      "cell_type": "code",
      "execution_count": 18,
      "id": "a0hTbBCJZnmc",
      "metadata": {
        "id": "a0hTbBCJZnmc"
      },
      "outputs": [],
      "source": [
        "import pandas as pd\n",
        "\n",
        "def merge_dfs_by(df_gold, df_bot,index='index'):\n",
        "        # Merge on 'index'\n",
        "    df_merged = pd.merge(df_gold, df_bot, on=index, how='inner')\n",
        "\n",
        "    # Optional: Save merged file\n",
        "    df_merged.to_csv(\"merged_for_evaluation.csv\", index=False)\n",
        "    \n",
        "    return df_merged\n"
      ]
    },
    {
      "cell_type": "markdown",
      "id": "16fbd3f9",
      "metadata": {},
      "source": [
        "## Only for text responses: Extract answers from template"
      ]
    },
    {
      "cell_type": "code",
      "execution_count": 21,
      "id": "6f0e9a6c",
      "metadata": {},
      "outputs": [],
      "source": [
        "import re\n",
        "\n",
        "def extract_reason(response):\n",
        "    # Find the reason part after \"Reason for answer:\"\n",
        "    match = re.search(r'Reason for answer:\\s*(.*)', response, re.DOTALL | re.IGNORECASE)\n",
        "    if match:\n",
        "        return match.group(1).strip()\n",
        "    return response.strip()  # fallback to full text if pattern not found"
      ]
    },
    {
      "cell_type": "code",
      "execution_count": 33,
      "id": "ae78112b",
      "metadata": {},
      "outputs": [],
      "source": [
        "def extract_answer_flag(response): # evaluates answered or not\n",
        "    match = re.search(r'Answered or not:\\s*(Yes|No)', response, re.IGNORECASE)\n",
        "    return match.group(1).strip().lower() if match else None"
      ]
    },
    {
      "cell_type": "markdown",
      "id": "vGj1YpexZpPq",
      "metadata": {
        "id": "vGj1YpexZpPq"
      },
      "source": [
        "## Evaluation Pipeline"
      ]
    },
    {
      "cell_type": "markdown",
      "id": "NfA4GDyVZ_ZW",
      "metadata": {
        "id": "NfA4GDyVZ_ZW"
      },
      "source": [
        "### Code for EM and F1"
      ]
    },
    {
      "cell_type": "code",
      "execution_count": 59,
      "id": "uIiKB_s3ZraG",
      "metadata": {
        "id": "uIiKB_s3ZraG"
      },
      "outputs": [],
      "source": [
        "from sklearn.metrics import f1_score\n",
        "import numpy as np\n",
        "\n",
        "# Preprocessing helper (optional, customize as needed)\n",
        "\n",
        "def normalize_text(s):\n",
        "    if not isinstance(s, str):\n",
        "        s = str(s) if s is not None else \"\"\n",
        "    return ''.join(e.lower() for e in s if e.isalnum() or e.isspace()).strip()\n",
        "\n"
      ]
    },
    {
      "cell_type": "code",
      "execution_count": 27,
      "id": "e8a343e6",
      "metadata": {},
      "outputs": [],
      "source": [
        "\n",
        "# Simple F1 (based on word overlap, not sklearn's classifier-based F1)\n",
        "def simple_f1(pred, truth):\n",
        "    pred_tokens = normalize_text(pred).split()\n",
        "    truth_tokens = normalize_text(truth).split()\n",
        "    common = set(pred_tokens) & set(truth_tokens)\n",
        "    if not common:\n",
        "        return 0.0\n",
        "    precision = len(common) / len(pred_tokens)\n",
        "    recall = len(common) / len(truth_tokens)\n",
        "    return 2 * precision * recall / (precision + recall)\n",
        "\n",
        "# df_merged['f1'] = df_merged.apply(\n",
        "#     lambda row: simple_f1(row['bot_response'], row['answer']),\n",
        "#     axis=1\n",
        "# )"
      ]
    },
    {
      "cell_type": "code",
      "execution_count": 29,
      "id": "344e45e6",
      "metadata": {},
      "outputs": [],
      "source": [
        "def print_summary_scores(df_merged): \n",
        "    # Summary scores\n",
        "    em_score = df_merged['exact_match'].mean()\n",
        "    avg_f1 = df_merged['f1'].mean()\n",
        "\n",
        "    print(f\"Exact Match: {em_score:.4f}\")\n",
        "    print(f\"Average F1: {avg_f1:.4f}\")\n"
      ]
    },
    {
      "cell_type": "markdown",
      "id": "Bmx11Y4VaCFP",
      "metadata": {
        "id": "Bmx11Y4VaCFP"
      },
      "source": [
        "### Code for BLEU/ROGUE and Semantic similarity"
      ]
    },
    {
      "cell_type": "code",
      "execution_count": null,
      "id": "0f0_wN8SaGwb",
      "metadata": {
        "id": "0f0_wN8SaGwb"
      },
      "outputs": [],
      "source": [
        "! pip install nltk rouge-score sentence-transformers"
      ]
    },
    {
      "cell_type": "code",
      "execution_count": 41,
      "id": "f06ba7af",
      "metadata": {},
      "outputs": [],
      "source": [
        "import pandas as pd\n",
        "from nltk.translate.bleu_score import sentence_bleu, SmoothingFunction\n",
        "from rouge_score import rouge_scorer\n",
        "from sentence_transformers import SentenceTransformer, util\n",
        "import re\n"
      ]
    },
    {
      "cell_type": "code",
      "execution_count": null,
      "id": "c8bd86bd",
      "metadata": {},
      "outputs": [],
      "source": [
        "\n",
        "# --- Utility Functions ---\n",
        "\n",
        "def simple_f1(pred, truth):\n",
        "    pred_tokens = normalize_text(pred).split()\n",
        "    truth_tokens = normalize_text(truth).split()\n",
        "    common = set(pred_tokens) & set(truth_tokens)\n",
        "    if not common:\n",
        "        return 0.0\n",
        "    precision = len(common) / len(pred_tokens)\n",
        "    recall = len(common) / len(truth_tokens)\n",
        "    return 2 * precision * recall / (precision + recall)\n",
        "\n",
        "def extract_reason(response):\n",
        "    match = re.search(r'Reason for answer:\\s*(.*)', response, re.DOTALL | re.IGNORECASE)\n",
        "    return match.group(1).strip() if match else response.strip()\n"
      ]
    },
    {
      "cell_type": "code",
      "execution_count": null,
      "id": "19e700d6",
      "metadata": {},
      "outputs": [],
      "source": [
        "\n",
        "# --- Load Data ---\n",
        "def get_evals_text(df):\n",
        "    # df = pd.read_csv(\"merged_for_evaluation.csv\")  # Replace with your actual merged dataset\n",
        "    # If you have a column like 'cleaned_response_raw', extract reason into 'cleaned_response'\n",
        "    df['cleaned_response'] = df['cleaned_response'].apply(extract_reason)\n",
        "\n",
        "    # --- Metrics ---\n",
        "\n",
        "    # Exact Match\n",
        "    df['exact_match'] = df.apply(\n",
        "        lambda row: normalize_text(row['cleaned_response']) == normalize_text(row['answer']),\n",
        "        axis=1\n",
        "    )\n",
        "\n",
        "    # F1\n",
        "    df['f1'] = df.apply(\n",
        "        lambda row: simple_f1(row['cleaned_response'], row['answer']),\n",
        "        axis=1\n",
        "    )\n",
        "\n",
        "    # BLEU\n",
        "    smoothie = SmoothingFunction().method4\n",
        "    df['bleu'] = df.apply(\n",
        "        lambda row: sentence_bleu([normalize_text(row['answer']).split()],\n",
        "                                normalize_text(row['cleaned_response']).split(),\n",
        "                                smoothing_function=smoothie), axis=1\n",
        "    )\n",
        "\n",
        "    # ROUGE-L\n",
        "    scorer = rouge_scorer.RougeScorer(['rougeL'], use_stemmer=True)\n",
        "    df['rougeL'] = df.apply(\n",
        "        lambda row: scorer.score(row['answer'], row['cleaned_response'])['rougeL'].fmeasure,\n",
        "        axis=1\n",
        "    )\n",
        "\n",
        "    # Semantic Similarity (SentenceBERT)\n",
        "    model = SentenceTransformer('paraphrase-MiniLM-L6-v2')\n",
        "    emb_gold = model.encode(df['answer'].tolist(), convert_to_tensor=True)\n",
        "    emb_bot = model.encode(df['cleaned_response'].tolist(), convert_to_tensor=True)\n",
        "    cos_sim = util.cos_sim(emb_gold, emb_bot).diagonal().cpu().numpy()\n",
        "    df['semantic_sim'] = cos_sim\n",
        "\n",
        "    # --- Summary ---\n",
        "    summary = {\n",
        "        \"Exact Match\": df['exact_match'].mean(),\n",
        "        \"F1 Score\": df['f1'].mean(),\n",
        "        \"BLEU\": df['bleu'].mean(),\n",
        "        \"ROUGE-L\": df['rougeL'].mean(),\n",
        "        \"Semantic Similarity\": df['semantic_sim'].mean(),\n",
        "    }\n",
        "        # Visualization\n",
        "    plt.figure(figsize=(10, 6))\n",
        "    plt.bar(summary.keys(), summary.values(), color='skyblue')\n",
        "    plt.ylim(0, 1)\n",
        "    plt.ylabel(\"Score\")\n",
        "    plt.title(\"Evaluation Metrics Summary\")\n",
        "    plt.xticks(rotation=45)\n",
        "    plt.tight_layout()\n",
        "    plt.show()\n",
        "    \n",
        "    print(\"Evaluation Summary:\")\n",
        "    for metric, score in summary.items():\n",
        "        print(f\"{metric}: {score:.4f}\")\n",
        "        \n",
        "    return df, summary\n"
      ]
    },
    {
      "cell_type": "code",
      "execution_count": 72,
      "id": "ce9f750e",
      "metadata": {},
      "outputs": [],
      "source": [
        "\n",
        "# --- Load Data ---\n",
        "def get_evals_img_onlyt(df):\n",
        "    # df = pd.read_csv(\"merged_for_evaluation.csv\")  # Replace with your actual merged dataset\n",
        "    # If you have a column like 'cleaned_response_raw', extract reason into 'cleaned_response'\n",
        "    # df['response'] = df['response'].apply(extract_reason)\n",
        "\n",
        "    # --- Metrics ---\n",
        "\n",
        "    # Exact Match\n",
        "    df['exact_match'] = df.apply(\n",
        "        lambda row: normalize_text(row['response']) == normalize_text(row['answer']),\n",
        "        axis=1\n",
        "    )\n",
        "\n",
        "    # F1\n",
        "    df['f1'] = df.apply(\n",
        "        lambda row: simple_f1(row['response'], row['answer']),\n",
        "        axis=1\n",
        "    )\n",
        "\n",
        "    # BLEU\n",
        "    smoothie = SmoothingFunction().method4\n",
        "    df['bleu'] = df.apply(\n",
        "        lambda row: sentence_bleu([normalize_text(row['answer']).split()],\n",
        "                                normalize_text(row['response']).split(),\n",
        "                                smoothing_function=smoothie), axis=1\n",
        "    )\n",
        "\n",
        "    # ROUGE-L\n",
        "    scorer = rouge_scorer.RougeScorer(['rougeL'], use_stemmer=True)\n",
        "    df['rougeL'] = df.apply(\n",
        "        lambda row: scorer.score(str(row['answer']), str(row['response']))['rougeL'].fmeasure,\n",
        "        axis=1\n",
        "    )\n",
        "\n",
        "    # Semantic Similarity (SentenceBERT)\n",
        "    model = SentenceTransformer('paraphrase-MiniLM-L6-v2')\n",
        "    emb_gold = model.encode(df['answer'].tolist(), convert_to_tensor=True)\n",
        "    emb_bot = model.encode(df['response'].tolist(), convert_to_tensor=True)\n",
        "    cos_sim = util.cos_sim(emb_gold, emb_bot).diagonal().cpu().numpy()\n",
        "    df['semantic_sim'] = cos_sim\n",
        "\n",
        "    # --- Summary ---\n",
        "    summary = {\n",
        "        \"Exact Match\": df['exact_match'].mean(),\n",
        "        \"F1 Score\": df['f1'].mean(),\n",
        "        \"BLEU\": df['bleu'].mean(),\n",
        "        \"ROUGE-L\": df['rougeL'].mean(),\n",
        "        \"Semantic Similarity\": df['semantic_sim'].mean(),\n",
        "    }\n",
        "        # Visualization\n",
        "    plt.figure(figsize=(10, 6))\n",
        "    plt.bar(summary.keys(), summary.values(), color='skyblue')\n",
        "    plt.ylim(0, 1)\n",
        "    plt.ylabel(\"Score\")\n",
        "    plt.title(\"Evaluation Metrics Summary\")\n",
        "    plt.xticks(rotation=45)\n",
        "    plt.tight_layout()\n",
        "    plt.show()\n",
        "    \n",
        "    print(\"Evaluation Summary:\")\n",
        "    for metric, score in summary.items():\n",
        "        print(f\"{metric}: {score:.4f}\")\n",
        "        \n",
        "    return df, summary\n"
      ]
    },
    {
      "cell_type": "markdown",
      "id": "7b0ddd23",
      "metadata": {},
      "source": [
        "---"
      ]
    },
    {
      "cell_type": "markdown",
      "id": "d41f33e8",
      "metadata": {},
      "source": [
        "# Code Running"
      ]
    },
    {
      "cell_type": "code",
      "execution_count": null,
      "id": "f2084212",
      "metadata": {},
      "outputs": [],
      "source": [
        "# Since there was no index column for ground truth df(to be used in)\n",
        "text_gt = index_add_to_gold_truth_df(gold_truth_csv_path = '../../../../Data/VisDoM-main/spiqa/spiqa.csv')\n",
        "text_gt.head(3)"
      ]
    },
    {
      "cell_type": "markdown",
      "id": "4e759a2c",
      "metadata": {},
      "source": [
        "## For text only evaluation"
      ]
    },
    {
      "cell_type": "code",
      "execution_count": null,
      "id": "e8786712",
      "metadata": {},
      "outputs": [],
      "source": [
        "# Concatenate answer csv files\n",
        "merged_text_answers = get_merged_csvs(folder_path = '../../../../Eval_outputs/SPIQA/text_only_vidsom', label='text_only_mistral_visdom')"
      ]
    },
    {
      "cell_type": "code",
      "execution_count": null,
      "id": "1bf7f49a",
      "metadata": {},
      "outputs": [
        {
          "data": {
            "text/html": [
              "<div>\n",
              "<style scoped>\n",
              "    .dataframe tbody tr th:only-of-type {\n",
              "        vertical-align: middle;\n",
              "    }\n",
              "\n",
              "    .dataframe tbody tr th {\n",
              "        vertical-align: top;\n",
              "    }\n",
              "\n",
              "    .dataframe thead th {\n",
              "        text-align: right;\n",
              "    }\n",
              "</style>\n",
              "<table border=\"1\" class=\"dataframe\">\n",
              "  <thead>\n",
              "    <tr style=\"text-align: right;\">\n",
              "      <th></th>\n",
              "      <th>index</th>\n",
              "      <th>question</th>\n",
              "      <th>response</th>\n",
              "    </tr>\n",
              "  </thead>\n",
              "  <tbody>\n",
              "    <tr>\n",
              "      <th>0</th>\n",
              "      <td>0</td>\n",
              "      <td>How does Figure 9 in the paper *Disentangling ...</td>\n",
              "      <td>Answered: Yes\\nReason for answer: Figure 9 in ...</td>\n",
              "    </tr>\n",
              "    <tr>\n",
              "      <th>1</th>\n",
              "      <td>1</td>\n",
              "      <td>Referring to the figure that illustrates the i...</td>\n",
              "      <td>Answered: Yes\\nReason for answer: Increasing β...</td>\n",
              "    </tr>\n",
              "    <tr>\n",
              "      <th>2</th>\n",
              "      <td>2</td>\n",
              "      <td>How does Figure 1 in the paper illustrate the ...</td>\n",
              "      <td>Answer: Yes\\nReason for answer: Figure 1 in th...</td>\n",
              "    </tr>\n",
              "  </tbody>\n",
              "</table>\n",
              "</div>"
            ],
            "text/plain": [
              "   index                                           question  \\\n",
              "0      0  How does Figure 9 in the paper *Disentangling ...   \n",
              "1      1  Referring to the figure that illustrates the i...   \n",
              "2      2  How does Figure 1 in the paper illustrate the ...   \n",
              "\n",
              "                                            response  \n",
              "0  Answered: Yes\\nReason for answer: Figure 9 in ...  \n",
              "1  Answered: Yes\\nReason for answer: Increasing β...  \n",
              "2  Answer: Yes\\nReason for answer: Figure 1 in th...  "
            ]
          },
          "execution_count": 15,
          "metadata": {},
          "output_type": "execute_result"
        }
      ],
      "source": [
        "merged_text_answers.head(3)"
      ]
    },
    {
      "cell_type": "code",
      "execution_count": 23,
      "id": "f9a93211",
      "metadata": {},
      "outputs": [],
      "source": [
        "# The answers and the gt files are merged to one dataframe for easy access\n",
        "df_merged = merge_dfs_by(df_gold=text_gt ,df_bot=merged_text_answers, index='index')"
      ]
    },
    {
      "cell_type": "code",
      "execution_count": 24,
      "id": "2d7b4291",
      "metadata": {},
      "outputs": [
        {
          "data": {
            "text/html": [
              "<div>\n",
              "<style scoped>\n",
              "    .dataframe tbody tr th:only-of-type {\n",
              "        vertical-align: middle;\n",
              "    }\n",
              "\n",
              "    .dataframe tbody tr th {\n",
              "        vertical-align: top;\n",
              "    }\n",
              "\n",
              "    .dataframe thead th {\n",
              "        text-align: right;\n",
              "    }\n",
              "</style>\n",
              "<table border=\"1\" class=\"dataframe\">\n",
              "  <thead>\n",
              "    <tr style=\"text-align: right;\">\n",
              "      <th></th>\n",
              "      <th>index</th>\n",
              "      <th>q_id</th>\n",
              "      <th>doc_id</th>\n",
              "      <th>old_question</th>\n",
              "      <th>answer</th>\n",
              "      <th>doc_path</th>\n",
              "      <th>documents</th>\n",
              "      <th>rationale</th>\n",
              "      <th>reference_figure</th>\n",
              "      <th>paper_title</th>\n",
              "      <th>paper_abstract</th>\n",
              "      <th>caption</th>\n",
              "      <th>question_x</th>\n",
              "      <th>question_y</th>\n",
              "      <th>response</th>\n",
              "    </tr>\n",
              "  </thead>\n",
              "  <tbody>\n",
              "    <tr>\n",
              "      <th>0</th>\n",
              "      <td>0</td>\n",
              "      <td>spiqa_0</td>\n",
              "      <td>1805.01216v3</td>\n",
              "      <td>How does Figure 9 in the paper *Disentangling ...</td>\n",
              "      <td>\\n\\nThe pre-processed SMD Navigate data combi...</td>\n",
              "      <td>1805.01216v3.pdf</td>\n",
              "      <td>['1805.01216v3.pdf', '1705.09296v2.pdf', '1705...</td>\n",
              "      <td>\\n\\nThe figure shows two tables. The top tabl...</td>\n",
              "      <td>1805.01216v3-Figure9-1.png</td>\n",
              "      <td>Disentangling Language and Knowledge in Task-O...</td>\n",
              "      <td>The Knowledge Base (KB) used for real-world ap...</td>\n",
              "      <td>Figure 9: Pre-processing of SMD Navigate data ...</td>\n",
              "      <td>\\n\\nWhat is the difference between the origin...</td>\n",
              "      <td>How does Figure 9 in the paper *Disentangling ...</td>\n",
              "      <td>Answered: Yes\\nReason for answer: Figure 9 in ...</td>\n",
              "    </tr>\n",
              "    <tr>\n",
              "      <th>1</th>\n",
              "      <td>1</td>\n",
              "      <td>spiqa_1</td>\n",
              "      <td>1805.07567v2</td>\n",
              "      <td>Referring to the figure that illustrates the i...</td>\n",
              "      <td>\\n\\nIncreasing the value of β2 decreases the ...</td>\n",
              "      <td>1805.07567v2.pdf</td>\n",
              "      <td>['1805.07567v2.pdf', '1802.07222v1.pdf', '1811...</td>\n",
              "      <td>\\n\\nThe figure shows that the precision curve...</td>\n",
              "      <td>1805.07567v2-Figure6-1.png</td>\n",
              "      <td>Optimizing the F-measure for Threshold-free Sa...</td>\n",
              "      <td>Current CNN-based solutions to salient object ...</td>\n",
              "      <td>Precision, Recall, F-measure of model trained ...</td>\n",
              "      <td>\\n\\nWhat is the effect of increasing the valu...</td>\n",
              "      <td>Referring to the figure that illustrates the i...</td>\n",
              "      <td>Answered: Yes\\nReason for answer: Increasing β...</td>\n",
              "    </tr>\n",
              "  </tbody>\n",
              "</table>\n",
              "</div>"
            ],
            "text/plain": [
              "   index     q_id        doc_id  \\\n",
              "0      0  spiqa_0  1805.01216v3   \n",
              "1      1  spiqa_1  1805.07567v2   \n",
              "\n",
              "                                        old_question  \\\n",
              "0  How does Figure 9 in the paper *Disentangling ...   \n",
              "1  Referring to the figure that illustrates the i...   \n",
              "\n",
              "                                              answer          doc_path  \\\n",
              "0   \\n\\nThe pre-processed SMD Navigate data combi...  1805.01216v3.pdf   \n",
              "1   \\n\\nIncreasing the value of β2 decreases the ...  1805.07567v2.pdf   \n",
              "\n",
              "                                           documents  \\\n",
              "0  ['1805.01216v3.pdf', '1705.09296v2.pdf', '1705...   \n",
              "1  ['1805.07567v2.pdf', '1802.07222v1.pdf', '1811...   \n",
              "\n",
              "                                           rationale  \\\n",
              "0   \\n\\nThe figure shows two tables. The top tabl...   \n",
              "1   \\n\\nThe figure shows that the precision curve...   \n",
              "\n",
              "             reference_figure  \\\n",
              "0  1805.01216v3-Figure9-1.png   \n",
              "1  1805.07567v2-Figure6-1.png   \n",
              "\n",
              "                                         paper_title  \\\n",
              "0  Disentangling Language and Knowledge in Task-O...   \n",
              "1  Optimizing the F-measure for Threshold-free Sa...   \n",
              "\n",
              "                                      paper_abstract  \\\n",
              "0  The Knowledge Base (KB) used for real-world ap...   \n",
              "1  Current CNN-based solutions to salient object ...   \n",
              "\n",
              "                                             caption  \\\n",
              "0  Figure 9: Pre-processing of SMD Navigate data ...   \n",
              "1  Precision, Recall, F-measure of model trained ...   \n",
              "\n",
              "                                          question_x  \\\n",
              "0   \\n\\nWhat is the difference between the origin...   \n",
              "1   \\n\\nWhat is the effect of increasing the valu...   \n",
              "\n",
              "                                          question_y  \\\n",
              "0  How does Figure 9 in the paper *Disentangling ...   \n",
              "1  Referring to the figure that illustrates the i...   \n",
              "\n",
              "                                            response  \n",
              "0  Answered: Yes\\nReason for answer: Figure 9 in ...  \n",
              "1  Answered: Yes\\nReason for answer: Increasing β...  "
            ]
          },
          "execution_count": 24,
          "metadata": {},
          "output_type": "execute_result"
        }
      ],
      "source": [
        "df_merged.head(2)"
      ]
    },
    {
      "cell_type": "code",
      "execution_count": 25,
      "id": "9c71e218",
      "metadata": {},
      "outputs": [],
      "source": [
        "df_merged['cleaned_response'] = df_merged['response'].apply(extract_reason)"
      ]
    },
    {
      "cell_type": "code",
      "execution_count": 30,
      "id": "ce00b5e4",
      "metadata": {},
      "outputs": [],
      "source": [
        "df_merged['exact_match'] = df_merged.apply(\n",
        "    lambda row: normalize_text(row['cleaned_response']) == normalize_text(row['answer']),\n",
        "    axis=1\n",
        ")\n"
      ]
    },
    {
      "cell_type": "code",
      "execution_count": 31,
      "id": "81a77a0a",
      "metadata": {},
      "outputs": [],
      "source": [
        "df_merged['f1'] = df_merged.apply(\n",
        "    lambda row: simple_f1(row['cleaned_response'], row['answer']),\n",
        "    axis=1\n",
        ")"
      ]
    },
    {
      "cell_type": "code",
      "execution_count": 32,
      "id": "c59add53",
      "metadata": {},
      "outputs": [
        {
          "name": "stdout",
          "output_type": "stream",
          "text": [
            "Exact Match: 0.0000\n",
            "Average F1: 0.2138\n"
          ]
        }
      ],
      "source": [
        "print_summary_scores(df_merged=df_merged)"
      ]
    },
    {
      "cell_type": "code",
      "execution_count": 34,
      "id": "b99beaa1",
      "metadata": {},
      "outputs": [],
      "source": [
        "df_merged['answered_flag'] = df_merged['cleaned_response'].apply(extract_answer_flag)"
      ]
    },
    {
      "cell_type": "code",
      "execution_count": 39,
      "id": "17e0b5de",
      "metadata": {},
      "outputs": [
        {
          "data": {
            "text/plain": [
              "1"
            ]
          },
          "execution_count": 39,
          "metadata": {},
          "output_type": "execute_result"
        }
      ],
      "source": [
        "df_merged['answered_flag'].nunique()"
      ]
    },
    {
      "cell_type": "code",
      "execution_count": 50,
      "id": "bd8d04dd",
      "metadata": {},
      "outputs": [
        {
          "data": {
            "image/png": "[encoded data removed]",
            "text/plain": [
              "<Figure size 1000x600 with 1 Axes>"
            ]
          },
          "metadata": {},
          "output_type": "display_data"
        },
        {
          "name": "stdout",
          "output_type": "stream",
          "text": [
            "Evaluation Summary:\n",
            "Exact Match: 0.0000\n",
            "F1 Score: 0.2138\n",
            "BLEU: 0.0646\n",
            "ROUGE-L: 0.2173\n",
            "Semantic Similarity: 0.5733\n"
          ]
        }
      ],
      "source": [
        "df_merged, text_only_summary =get_evals(df_merged)"
      ]
    },
    {
      "cell_type": "markdown",
      "id": "41e723ce",
      "metadata": {},
      "source": [
        "---"
      ]
    },
    {
      "cell_type": "markdown",
      "id": "a26826e1",
      "metadata": {},
      "source": [
        "## For Image only evaluation"
      ]
    },
    {
      "cell_type": "code",
      "execution_count": 51,
      "id": "99b6d051",
      "metadata": {},
      "outputs": [
        {
          "data": {
            "text/html": [
              "<div>\n",
              "<style scoped>\n",
              "    .dataframe tbody tr th:only-of-type {\n",
              "        vertical-align: middle;\n",
              "    }\n",
              "\n",
              "    .dataframe tbody tr th {\n",
              "        vertical-align: top;\n",
              "    }\n",
              "\n",
              "    .dataframe thead th {\n",
              "        text-align: right;\n",
              "    }\n",
              "</style>\n",
              "<table border=\"1\" class=\"dataframe\">\n",
              "  <thead>\n",
              "    <tr style=\"text-align: right;\">\n",
              "      <th></th>\n",
              "      <th>index</th>\n",
              "      <th>question</th>\n",
              "      <th>image</th>\n",
              "      <th>response</th>\n",
              "    </tr>\n",
              "  </thead>\n",
              "  <tbody>\n",
              "    <tr>\n",
              "      <th>0</th>\n",
              "      <td>0</td>\n",
              "      <td>How does Figure 9 in the paper *Disentangling ...</td>\n",
              "      <td>../Data/spiqa/test-A/SPIQA_testA_Images/SPIQA_...</td>\n",
              "      <td>The image presents a comparison of two tables ...</td>\n",
              "    </tr>\n",
              "    <tr>\n",
              "      <th>1</th>\n",
              "      <td>1</td>\n",
              "      <td>Referring to the figure that illustrates the i...</td>\n",
              "      <td>../Data/spiqa/test-A/SPIQA_testA_Images/SPIQA_...</td>\n",
              "      <td>In the image, there is a graph showing the rel...</td>\n",
              "    </tr>\n",
              "    <tr>\n",
              "      <th>2</th>\n",
              "      <td>2</td>\n",
              "      <td>How does Figure 1 in the paper illustrate the ...</td>\n",
              "      <td>../Data/spiqa/test-A/SPIQA_testA_Images/SPIQA_...</td>\n",
              "      <td>In Figure 1, a series of four squares is used ...</td>\n",
              "    </tr>\n",
              "  </tbody>\n",
              "</table>\n",
              "</div>"
            ],
            "text/plain": [
              "   index                                           question  \\\n",
              "0      0  How does Figure 9 in the paper *Disentangling ...   \n",
              "1      1  Referring to the figure that illustrates the i...   \n",
              "2      2  How does Figure 1 in the paper illustrate the ...   \n",
              "\n",
              "                                               image  \\\n",
              "0  ../Data/spiqa/test-A/SPIQA_testA_Images/SPIQA_...   \n",
              "1  ../Data/spiqa/test-A/SPIQA_testA_Images/SPIQA_...   \n",
              "2  ../Data/spiqa/test-A/SPIQA_testA_Images/SPIQA_...   \n",
              "\n",
              "                                            response  \n",
              "0  The image presents a comparison of two tables ...  \n",
              "1  In the image, there is a graph showing the rel...  \n",
              "2  In Figure 1, a series of four squares is used ...  "
            ]
          },
          "execution_count": 51,
          "metadata": {},
          "output_type": "execute_result"
        }
      ],
      "source": [
        "# Concatenate answer csv files\n",
        "merged_img_answers = get_merged_csvs(folder_path = '../../../../Eval_outputs/SPIQA/vision_only', label='vision_only_visdom')\n",
        "merged_img_answers.head(3)\n"
      ]
    },
    {
      "cell_type": "code",
      "execution_count": null,
      "id": "f8a9d5b7",
      "metadata": {},
      "outputs": [],
      "source": [
        "# Since there was no index column for ground truth df(to be used in merging)\n",
        "text_gt = index_add_to_gold_truth_df(gold_truth_csv_path = '../../../../Data/VisDoM-main/spiqa/spiqa.csv')\n",
        "text_gt.head(3)\n"
      ]
    },
    {
      "cell_type": "code",
      "execution_count": 54,
      "id": "9eb1396e",
      "metadata": {},
      "outputs": [
        {
          "data": {
            "text/html": [
              "<div>\n",
              "<style scoped>\n",
              "    .dataframe tbody tr th:only-of-type {\n",
              "        vertical-align: middle;\n",
              "    }\n",
              "\n",
              "    .dataframe tbody tr th {\n",
              "        vertical-align: top;\n",
              "    }\n",
              "\n",
              "    .dataframe thead th {\n",
              "        text-align: right;\n",
              "    }\n",
              "</style>\n",
              "<table border=\"1\" class=\"dataframe\">\n",
              "  <thead>\n",
              "    <tr style=\"text-align: right;\">\n",
              "      <th></th>\n",
              "      <th>index</th>\n",
              "      <th>q_id</th>\n",
              "      <th>doc_id</th>\n",
              "      <th>old_question</th>\n",
              "      <th>answer</th>\n",
              "      <th>doc_path</th>\n",
              "      <th>documents</th>\n",
              "      <th>rationale</th>\n",
              "      <th>reference_figure</th>\n",
              "      <th>paper_title</th>\n",
              "      <th>paper_abstract</th>\n",
              "      <th>caption</th>\n",
              "      <th>question_x</th>\n",
              "      <th>question_y</th>\n",
              "      <th>image</th>\n",
              "      <th>response</th>\n",
              "    </tr>\n",
              "  </thead>\n",
              "  <tbody>\n",
              "    <tr>\n",
              "      <th>0</th>\n",
              "      <td>0</td>\n",
              "      <td>spiqa_0</td>\n",
              "      <td>1805.01216v3</td>\n",
              "      <td>How does Figure 9 in the paper *Disentangling ...</td>\n",
              "      <td>\\n\\nThe pre-processed SMD Navigate data combi...</td>\n",
              "      <td>1805.01216v3.pdf</td>\n",
              "      <td>['1805.01216v3.pdf', '1705.09296v2.pdf', '1705...</td>\n",
              "      <td>\\n\\nThe figure shows two tables. The top tabl...</td>\n",
              "      <td>1805.01216v3-Figure9-1.png</td>\n",
              "      <td>Disentangling Language and Knowledge in Task-O...</td>\n",
              "      <td>The Knowledge Base (KB) used for real-world ap...</td>\n",
              "      <td>Figure 9: Pre-processing of SMD Navigate data ...</td>\n",
              "      <td>\\n\\nWhat is the difference between the origin...</td>\n",
              "      <td>How does Figure 9 in the paper *Disentangling ...</td>\n",
              "      <td>../Data/spiqa/test-A/SPIQA_testA_Images/SPIQA_...</td>\n",
              "      <td>The image presents a comparison of two tables ...</td>\n",
              "    </tr>\n",
              "    <tr>\n",
              "      <th>1</th>\n",
              "      <td>0</td>\n",
              "      <td>spiqa_0</td>\n",
              "      <td>1805.01216v3</td>\n",
              "      <td>How does Figure 9 in the paper *Disentangling ...</td>\n",
              "      <td>\\n\\nThe pre-processed SMD Navigate data combi...</td>\n",
              "      <td>1805.01216v3.pdf</td>\n",
              "      <td>['1805.01216v3.pdf', '1705.09296v2.pdf', '1705...</td>\n",
              "      <td>\\n\\nThe figure shows two tables. The top tabl...</td>\n",
              "      <td>1805.01216v3-Figure9-1.png</td>\n",
              "      <td>Disentangling Language and Knowledge in Task-O...</td>\n",
              "      <td>The Knowledge Base (KB) used for real-world ap...</td>\n",
              "      <td>Figure 9: Pre-processing of SMD Navigate data ...</td>\n",
              "      <td>\\n\\nWhat is the difference between the origin...</td>\n",
              "      <td>How does Figure 9 in the paper *Disentangling ...</td>\n",
              "      <td>../Data/spiqa/test-A/SPIQA_testA_Images/SPIQA_...</td>\n",
              "      <td>The image presents a comparison of two tables ...</td>\n",
              "    </tr>\n",
              "  </tbody>\n",
              "</table>\n",
              "</div>"
            ],
            "text/plain": [
              "   index     q_id        doc_id  \\\n",
              "0      0  spiqa_0  1805.01216v3   \n",
              "1      0  spiqa_0  1805.01216v3   \n",
              "\n",
              "                                        old_question  \\\n",
              "0  How does Figure 9 in the paper *Disentangling ...   \n",
              "1  How does Figure 9 in the paper *Disentangling ...   \n",
              "\n",
              "                                              answer          doc_path  \\\n",
              "0   \\n\\nThe pre-processed SMD Navigate data combi...  1805.01216v3.pdf   \n",
              "1   \\n\\nThe pre-processed SMD Navigate data combi...  1805.01216v3.pdf   \n",
              "\n",
              "                                           documents  \\\n",
              "0  ['1805.01216v3.pdf', '1705.09296v2.pdf', '1705...   \n",
              "1  ['1805.01216v3.pdf', '1705.09296v2.pdf', '1705...   \n",
              "\n",
              "                                           rationale  \\\n",
              "0   \\n\\nThe figure shows two tables. The top tabl...   \n",
              "1   \\n\\nThe figure shows two tables. The top tabl...   \n",
              "\n",
              "             reference_figure  \\\n",
              "0  1805.01216v3-Figure9-1.png   \n",
              "1  1805.01216v3-Figure9-1.png   \n",
              "\n",
              "                                         paper_title  \\\n",
              "0  Disentangling Language and Knowledge in Task-O...   \n",
              "1  Disentangling Language and Knowledge in Task-O...   \n",
              "\n",
              "                                      paper_abstract  \\\n",
              "0  The Knowledge Base (KB) used for real-world ap...   \n",
              "1  The Knowledge Base (KB) used for real-world ap...   \n",
              "\n",
              "                                             caption  \\\n",
              "0  Figure 9: Pre-processing of SMD Navigate data ...   \n",
              "1  Figure 9: Pre-processing of SMD Navigate data ...   \n",
              "\n",
              "                                          question_x  \\\n",
              "0   \\n\\nWhat is the difference between the origin...   \n",
              "1   \\n\\nWhat is the difference between the origin...   \n",
              "\n",
              "                                          question_y  \\\n",
              "0  How does Figure 9 in the paper *Disentangling ...   \n",
              "1  How does Figure 9 in the paper *Disentangling ...   \n",
              "\n",
              "                                               image  \\\n",
              "0  ../Data/spiqa/test-A/SPIQA_testA_Images/SPIQA_...   \n",
              "1  ../Data/spiqa/test-A/SPIQA_testA_Images/SPIQA_...   \n",
              "\n",
              "                                            response  \n",
              "0  The image presents a comparison of two tables ...  \n",
              "1  The image presents a comparison of two tables ...  "
            ]
          },
          "execution_count": 54,
          "metadata": {},
          "output_type": "execute_result"
        }
      ],
      "source": [
        "# The answers and the gt files are merged to one dataframe for easy access\n",
        "df_merged_v = merge_dfs_by(df_gold=text_gt ,df_bot=merged_img_answers, index='index')\n",
        "df_merged_v.head(2)\n"
      ]
    },
    {
      "cell_type": "code",
      "execution_count": 58,
      "id": "eabbd307",
      "metadata": {},
      "outputs": [
        {
          "data": {
            "text/plain": [
              "'kusdfuuh  sdfuh werv 234 sdf wf'"
            ]
          },
          "execution_count": 58,
          "metadata": {},
          "output_type": "execute_result"
        }
      ],
      "source": [
        "s= \"kusdfuuh  sdfuh WERv 234 sdf.? wf\"\n",
        "''.join(e.lower() for e in s if e.isalnum() or e.isspace()).strip()"
      ]
    },
    {
      "cell_type": "code",
      "execution_count": 60,
      "id": "32f02716",
      "metadata": {},
      "outputs": [
        {
          "data": {
            "text/plain": [
              "0      False\n",
              "1      False\n",
              "2      False\n",
              "3      False\n",
              "4      False\n",
              "       ...  \n",
              "611    False\n",
              "612    False\n",
              "613    False\n",
              "614    False\n",
              "615    False\n",
              "Length: 616, dtype: bool"
            ]
          },
          "execution_count": 60,
          "metadata": {},
          "output_type": "execute_result"
        }
      ],
      "source": [
        "df_merged_v.apply(\n",
        "    lambda row: normalize_text(row['response']) == normalize_text(row['answer']),\n",
        "    axis=1\n",
        ")"
      ]
    },
    {
      "cell_type": "code",
      "execution_count": 70,
      "id": "c604ae75",
      "metadata": {},
      "outputs": [],
      "source": [
        "# df_merged['cleaned_response'] = df_merged['response'].apply(extract_reason)\n",
        "df_merged_v['exact_match'] = df_merged_v.apply(\n",
        "    lambda row: normalize_text(row['response']) == normalize_text(row['answer']),\n",
        "    axis=1\n",
        ")\n"
      ]
    },
    {
      "cell_type": "code",
      "execution_count": 71,
      "id": "03f5a6b1",
      "metadata": {},
      "outputs": [
        {
          "name": "stdout",
          "output_type": "stream",
          "text": [
            "Exact Match: 0.0114\n",
            "Average F1: 0.1963\n"
          ]
        }
      ],
      "source": [
        "\n",
        "df_merged_v['f1'] = df_merged_v.apply(\n",
        "    lambda row: simple_f1(row['response'], row['answer']),\n",
        "    axis=1\n",
        ")\n",
        "print_summary_scores(df_merged=df_merged_v)\n",
        "# df_merged['answered_flag'] = df_merged['response'].apply(extract_answer_flag)\n",
        "# df_merged['answered_flag'].nunique()\n"
      ]
    },
    {
      "cell_type": "code",
      "execution_count": 74,
      "id": "e85a4595",
      "metadata": {},
      "outputs": [
        {
          "data": {
            "image/png": "[encoded data removed]",
            "text/plain": [
              "<Figure size 1000x600 with 1 Axes>"
            ]
          },
          "metadata": {},
          "output_type": "display_data"
        },
        {
          "name": "stdout",
          "output_type": "stream",
          "text": [
            "Evaluation Summary:\n",
            "Exact Match: 0.0114\n",
            "F1 Score: 0.1963\n",
            "BLEU: 0.0605\n",
            "ROUGE-L: 0.2001\n",
            "Semantic Similarity: 0.5565\n"
          ]
        }
      ],
      "source": [
        "df_merged_v, vis_only_summary =get_evals_img_onlyt(df_merged_v)"
      ]
    },
    {
      "cell_type": "code",
      "execution_count": 79,
      "id": "56703d74",
      "metadata": {},
      "outputs": [
        {
          "data": {
            "image/png": "[encoded data removed]",
            "text/plain": [
              "<Figure size 800x600 with 1 Axes>"
            ]
          },
          "metadata": {},
          "output_type": "display_data"
        }
      ],
      "source": [
        "import matplotlib.pyplot as plt\n",
        "import numpy as np\n",
        "\n",
        "# Example data\n",
        "labels = list(text_only_summary.keys())\n",
        "x = np.arange(len(labels))  # label positions\n",
        "width = 0.25  # width of each bar\n",
        "\n",
        "plt.figure(figsize=(8, 6))\n",
        "plt.bar(x - width/2, text_only_summary.values(), width, label='Text-only', color='skyblue', alpha=0.6)\n",
        "plt.bar(x + width/2, vis_only_summary.values(), width, label='Visual-only', color='orange', alpha=0.6)\n",
        "\n",
        "plt.ylim(0, 1)\n",
        "plt.ylabel(\"Score\")\n",
        "plt.title(\"Evaluation Metrics Summary\")\n",
        "plt.xticks(x, labels, rotation=45)\n",
        "plt.legend()\n",
        "plt.tight_layout()\n",
        "plt.show()\n"
      ]
    },
    {
      "cell_type": "markdown",
      "id": "7718b551",
      "metadata": {},
      "source": []
    }
  ],
  "metadata": {
    "colab": {
      "include_colab_link": true,
      "provenance": []
    },
    "kernelspec": {
      "display_name": "IRPenv",
      "language": "python",
      "name": "python3"
    },
    "language_info": {
      "codemirror_mode": {
        "name": "ipython",
        "version": 3
      },
      "file_extension": ".py",
      "mimetype": "text/x-python",
      "name": "python",
      "nbconvert_exporter": "python",
      "pygments_lexer": "ipython3",
      "version": "3.11.11"
    }
  },
  "nbformat": 4,
  "nbformat_minor": 5
}
