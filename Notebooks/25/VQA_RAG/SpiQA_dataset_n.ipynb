{
 "cells": [
  {
   "cell_type": "markdown",
   "metadata": {},
   "source": [
    "# Official SPIQA dataset downloading"
   ]
  },
  {
   "cell_type": "markdown",
   "metadata": {},
   "source": [
    "## Downlaoding"
   ]
  },
  {
   "cell_type": "code",
   "execution_count": 5,
   "metadata": {},
   "outputs": [
    {
     "name": "stdout",
     "output_type": "stream",
     "text": [
      "Collecting ipywidgets\n",
      "  Downloading ipywidgets-8.1.5-py3-none-any.whl.metadata (2.3 kB)\n",
      "Requirement already satisfied: comm>=0.1.3 in c:\\users\\lisara\\anaconda3\\envs\\irpenv\\lib\\site-packages (from ipywidgets) (0.2.2)\n",
      "Requirement already satisfied: ipython>=6.1.0 in c:\\users\\lisara\\anaconda3\\envs\\irpenv\\lib\\site-packages (from ipywidgets) (9.0.2)\n",
      "Requirement already satisfied: traitlets>=4.3.1 in c:\\users\\lisara\\anaconda3\\envs\\irpenv\\lib\\site-packages (from ipywidgets) (5.14.3)\n",
      "Collecting widgetsnbextension~=4.0.12 (from ipywidgets)\n",
      "  Downloading widgetsnbextension-4.0.13-py3-none-any.whl.metadata (1.6 kB)\n",
      "Collecting jupyterlab-widgets~=3.0.12 (from ipywidgets)\n",
      "  Downloading jupyterlab_widgets-3.0.13-py3-none-any.whl.metadata (4.1 kB)\n",
      "Requirement already satisfied: colorama in c:\\users\\lisara\\anaconda3\\envs\\irpenv\\lib\\site-packages (from ipython>=6.1.0->ipywidgets) (0.4.6)\n",
      "Requirement already satisfied: decorator in c:\\users\\lisara\\anaconda3\\envs\\irpenv\\lib\\site-packages (from ipython>=6.1.0->ipywidgets) (5.2.1)\n",
      "Requirement already satisfied: ipython-pygments-lexers in c:\\users\\lisara\\anaconda3\\envs\\irpenv\\lib\\site-packages (from ipython>=6.1.0->ipywidgets) (1.1.1)\n",
      "Requirement already satisfied: jedi>=0.16 in c:\\users\\lisara\\anaconda3\\envs\\irpenv\\lib\\site-packages (from ipython>=6.1.0->ipywidgets) (0.19.2)\n",
      "Requirement already satisfied: matplotlib-inline in c:\\users\\lisara\\anaconda3\\envs\\irpenv\\lib\\site-packages (from ipython>=6.1.0->ipywidgets) (0.1.7)\n",
      "Requirement already satisfied: prompt_toolkit<3.1.0,>=3.0.41 in c:\\users\\lisara\\anaconda3\\envs\\irpenv\\lib\\site-packages (from ipython>=6.1.0->ipywidgets) (3.0.50)\n",
      "Requirement already satisfied: pygments>=2.4.0 in c:\\users\\lisara\\anaconda3\\envs\\irpenv\\lib\\site-packages (from ipython>=6.1.0->ipywidgets) (2.19.1)\n",
      "Requirement already satisfied: stack_data in c:\\users\\lisara\\anaconda3\\envs\\irpenv\\lib\\site-packages (from ipython>=6.1.0->ipywidgets) (0.6.3)\n",
      "Requirement already satisfied: typing_extensions>=4.6 in c:\\users\\lisara\\anaconda3\\envs\\irpenv\\lib\\site-packages (from ipython>=6.1.0->ipywidgets) (4.12.2)\n",
      "Requirement already satisfied: parso<0.9.0,>=0.8.4 in c:\\users\\lisara\\anaconda3\\envs\\irpenv\\lib\\site-packages (from jedi>=0.16->ipython>=6.1.0->ipywidgets) (0.8.4)\n",
      "Requirement already satisfied: wcwidth in c:\\users\\lisara\\anaconda3\\envs\\irpenv\\lib\\site-packages (from prompt_toolkit<3.1.0,>=3.0.41->ipython>=6.1.0->ipywidgets) (0.2.13)\n",
      "Requirement already satisfied: executing>=1.2.0 in c:\\users\\lisara\\anaconda3\\envs\\irpenv\\lib\\site-packages (from stack_data->ipython>=6.1.0->ipywidgets) (2.1.0)\n",
      "Requirement already satisfied: asttokens>=2.1.0 in c:\\users\\lisara\\anaconda3\\envs\\irpenv\\lib\\site-packages (from stack_data->ipython>=6.1.0->ipywidgets) (3.0.0)\n",
      "Requirement already satisfied: pure_eval in c:\\users\\lisara\\anaconda3\\envs\\irpenv\\lib\\site-packages (from stack_data->ipython>=6.1.0->ipywidgets) (0.2.3)\n",
      "Downloading ipywidgets-8.1.5-py3-none-any.whl (139 kB)\n",
      "Downloading jupyterlab_widgets-3.0.13-py3-none-any.whl (214 kB)\n",
      "Downloading widgetsnbextension-4.0.13-py3-none-any.whl (2.3 MB)\n",
      "   ---------------------------------------- 0.0/2.3 MB ? eta -:--:--\n",
      "   ------------- -------------------------- 0.8/2.3 MB 4.8 MB/s eta 0:00:01\n",
      "   ------------------------------- -------- 1.8/2.3 MB 5.3 MB/s eta 0:00:01\n",
      "   ---------------------------------------- 2.3/2.3 MB 5.1 MB/s eta 0:00:00\n",
      "Installing collected packages: widgetsnbextension, jupyterlab-widgets, ipywidgets\n",
      "Successfully installed ipywidgets-8.1.5 jupyterlab-widgets-3.0.13 widgetsnbextension-4.0.13\n"
     ]
    }
   ],
   "source": [
    "! pip install ipywidgets"
   ]
  },
  {
   "cell_type": "code",
   "execution_count": null,
   "metadata": {},
   "outputs": [
    {
     "name": "stdout",
     "output_type": "stream",
     "text": [
      "^C\n"
     ]
    }
   ],
   "source": [
    "# ! conda install -c conda-forge ipywidgets \n",
    "# Taking too much time"
   ]
  },
  {
   "cell_type": "code",
   "execution_count": 1,
   "metadata": {},
   "outputs": [
    {
     "name": "stdout",
     "output_type": "stream",
     "text": [
      "Requirement already satisfied: huggingface-hub in c:\\users\\lisara\\anaconda3\\envs\\irpenv\\lib\\site-packages (0.29.3)\n",
      "Requirement already satisfied: filelock in c:\\users\\lisara\\anaconda3\\envs\\irpenv\\lib\\site-packages (from huggingface-hub) (3.18.0)\n",
      "Requirement already satisfied: fsspec>=2023.5.0 in c:\\users\\lisara\\anaconda3\\envs\\irpenv\\lib\\site-packages (from huggingface-hub) (2025.3.0)\n",
      "Requirement already satisfied: packaging>=20.9 in c:\\users\\lisara\\anaconda3\\envs\\irpenv\\lib\\site-packages (from huggingface-hub) (24.2)\n",
      "Requirement already satisfied: pyyaml>=5.1 in c:\\users\\lisara\\anaconda3\\envs\\irpenv\\lib\\site-packages (from huggingface-hub) (6.0.2)\n",
      "Requirement already satisfied: requests in c:\\users\\lisara\\anaconda3\\envs\\irpenv\\lib\\site-packages (from huggingface-hub) (2.32.3)\n",
      "Requirement already satisfied: tqdm>=4.42.1 in c:\\users\\lisara\\anaconda3\\envs\\irpenv\\lib\\site-packages (from huggingface-hub) (4.67.1)\n",
      "Requirement already satisfied: typing-extensions>=3.7.4.3 in c:\\users\\lisara\\anaconda3\\envs\\irpenv\\lib\\site-packages (from huggingface-hub) (4.12.2)\n",
      "Requirement already satisfied: colorama in c:\\users\\lisara\\anaconda3\\envs\\irpenv\\lib\\site-packages (from tqdm>=4.42.1->huggingface-hub) (0.4.6)\n",
      "Requirement already satisfied: charset-normalizer<4,>=2 in c:\\users\\lisara\\anaconda3\\envs\\irpenv\\lib\\site-packages (from requests->huggingface-hub) (3.4.1)\n",
      "Requirement already satisfied: idna<4,>=2.5 in c:\\users\\lisara\\anaconda3\\envs\\irpenv\\lib\\site-packages (from requests->huggingface-hub) (3.10)\n",
      "Requirement already satisfied: urllib3<3,>=1.21.1 in c:\\users\\lisara\\anaconda3\\envs\\irpenv\\lib\\site-packages (from requests->huggingface-hub) (2.3.0)\n",
      "Requirement already satisfied: certifi>=2017.4.17 in c:\\users\\lisara\\anaconda3\\envs\\irpenv\\lib\\site-packages (from requests->huggingface-hub) (2025.1.31)\n"
     ]
    }
   ],
   "source": [
    "! pip install huggingface-hub"
   ]
  },
  {
   "cell_type": "code",
   "execution_count": 1,
   "metadata": {},
   "outputs": [],
   "source": [
    "from huggingface_hub import hf_hub_download"
   ]
  },
  {
   "cell_type": "code",
   "execution_count": null,
   "metadata": {},
   "outputs": [
    {
     "data": {
      "text/plain": [
       "'..\\\\..\\\\..\\\\Data\\\\test-B\\\\SPIQA_testB.json'"
      ]
     },
     "execution_count": 7,
     "metadata": {},
     "output_type": "execute_result"
    }
   ],
   "source": [
    "hf_hub_download(repo_id=\"google/spiqa\", filename=\"test-B/SPIQA_testB.json\", repo_type=\"dataset\", local_dir='../../../Data/spiqa/') ### Mention the local directory path"
   ]
  },
  {
   "cell_type": "code",
   "execution_count": null,
   "metadata": {},
   "outputs": [],
   "source": [
    "# import json\n",
    "\n",
    "# test_b_data_meta = json.load('./test-B/SPIQA_testB.json')"
   ]
  },
  {
   "cell_type": "code",
   "execution_count": 2,
   "metadata": {},
   "outputs": [
    {
     "data": {
      "application/vnd.jupyter.widget-view+json": {
       "model_id": "580123780aab4cc99c1c7a97b5d2da07",
       "version_major": 2,
       "version_minor": 0
      },
      "text/plain": [
       "SPIQA_testB_Images.zip:   0%|          | 0.00/196M [00:00<?, ?B/s]"
      ]
     },
     "metadata": {},
     "output_type": "display_data"
    },
    {
     "data": {
      "text/plain": [
       "'..\\\\..\\\\..\\\\Data\\\\spiqa\\\\test-B\\\\SPIQA_testB_Images.zip'"
      ]
     },
     "execution_count": 2,
     "metadata": {},
     "output_type": "execute_result"
    }
   ],
   "source": [
    "\n",
    "hf_hub_download(repo_id=\"google/spiqa\", filename=\"test-B/SPIQA_testB_Images.zip\", repo_type=\"dataset\", local_dir='../../../Data/spiqa/') ### Mention the local directory path"
   ]
  },
  {
   "cell_type": "code",
   "execution_count": 3,
   "metadata": {},
   "outputs": [
    {
     "data": {
      "application/vnd.jupyter.widget-view+json": {
       "model_id": "d52604ebf3854d378fa4e489be2e6e40",
       "version_major": 2,
       "version_minor": 0
      },
      "text/plain": [
       "Fetching 18 files:   0%|          | 0/18 [00:00<?, ?it/s]"
      ]
     },
     "metadata": {},
     "output_type": "display_data"
    },
    {
     "data": {
      "application/vnd.jupyter.widget-view+json": {
       "model_id": "14d2f2d508a145b0b8c7f0dec2e3133f",
       "version_major": 2,
       "version_minor": 0
      },
      "text/plain": [
       "example.json:   0%|          | 0.00/103 [00:00<?, ?B/s]"
      ]
     },
     "metadata": {},
     "output_type": "display_data"
    },
    {
     "data": {
      "application/vnd.jupyter.widget-view+json": {
       "model_id": "87ada014c809433da53ed507999c7e51",
       "version_major": 2,
       "version_minor": 0
      },
      "text/plain": [
       "README.md:   0%|          | 0.00/8.60k [00:00<?, ?B/s]"
      ]
     },
     "metadata": {},
     "output_type": "display_data"
    },
    {
     "data": {
      "application/vnd.jupyter.widget-view+json": {
       "model_id": "496751b7bef4458794ad04b881b994a4",
       "version_major": 2,
       "version_minor": 0
      },
      "text/plain": [
       "SPIQA_testA.json:   0%|          | 0.00/778k [00:00<?, ?B/s]"
      ]
     },
     "metadata": {},
     "output_type": "display_data"
    },
    {
     "data": {
      "application/vnd.jupyter.widget-view+json": {
       "model_id": "60dc3e2328874275ab628bff31155638",
       "version_major": 2,
       "version_minor": 0
      },
      "text/plain": [
       "SPIQA_testA_Images_224px.zip:   0%|          | 0.00/47.1M [00:00<?, ?B/s]"
      ]
     },
     "metadata": {},
     "output_type": "display_data"
    },
    {
     "data": {
      "application/vnd.jupyter.widget-view+json": {
       "model_id": "a3c62634d8e24fdc815ac4e975961e30",
       "version_major": 2,
       "version_minor": 0
      },
      "text/plain": [
       "SPIQA_train_val_test-A_raw_tex.zip:   0%|          | 0.00/440M [00:00<?, ?B/s]"
      ]
     },
     "metadata": {},
     "output_type": "display_data"
    },
    {
     "data": {
      "application/vnd.jupyter.widget-view+json": {
       "model_id": "83dffacc41dd403ba37acdbd452856d7",
       "version_major": 2,
       "version_minor": 0
      },
      "text/plain": [
       "SPIQA_testA_Images.zip:   0%|          | 0.00/121M [00:00<?, ?B/s]"
      ]
     },
     "metadata": {},
     "output_type": "display_data"
    },
    {
     "data": {
      "application/vnd.jupyter.widget-view+json": {
       "model_id": "450c5b05010e446b8e3c0d8977e0b10e",
       "version_major": 2,
       "version_minor": 0
      },
      "text/plain": [
       ".gitattributes:   0%|          | 0.00/2.43k [00:00<?, ?B/s]"
      ]
     },
     "metadata": {},
     "output_type": "display_data"
    },
    {
     "data": {
      "application/vnd.jupyter.widget-view+json": {
       "model_id": "f16c6a9c7f824a1fb8dc916bc024da96",
       "version_major": 2,
       "version_minor": 0
      },
      "text/plain": [
       "(…)rain_val_test-A_extracted_paragraphs.zip:   0%|          | 0.00/321M [00:00<?, ?B/s]"
      ]
     },
     "metadata": {},
     "output_type": "display_data"
    },
    {
     "data": {
      "application/vnd.jupyter.widget-view+json": {
       "model_id": "aca35bcd1ec44f1bbaefbb0f6da34fab",
       "version_major": 2,
       "version_minor": 0
      },
      "text/plain": [
       "SPIQA_testB.json:   0%|          | 0.00/3.96M [00:00<?, ?B/s]"
      ]
     },
     "metadata": {},
     "output_type": "display_data"
    },
    {
     "data": {
      "application/vnd.jupyter.widget-view+json": {
       "model_id": "802915d97fc14e8b8ae188177bde345a",
       "version_major": 2,
       "version_minor": 0
      },
      "text/plain": [
       "SPIQA_testB_Images.zip:   0%|          | 0.00/196M [00:00<?, ?B/s]"
      ]
     },
     "metadata": {},
     "output_type": "display_data"
    },
    {
     "data": {
      "application/vnd.jupyter.widget-view+json": {
       "model_id": "50db97a8e46a4349adadb64ef530d5cc",
       "version_major": 2,
       "version_minor": 0
      },
      "text/plain": [
       "SPIQA_testC.json:   0%|          | 0.00/9.29M [00:00<?, ?B/s]"
      ]
     },
     "metadata": {},
     "output_type": "display_data"
    },
    {
     "data": {
      "application/vnd.jupyter.widget-view+json": {
       "model_id": "768fe2fc197d4074af2fe3d44dc0a405",
       "version_major": 2,
       "version_minor": 0
      },
      "text/plain": [
       "SPIQA_testB_Images_224px.zip:   0%|          | 0.00/33.8M [00:00<?, ?B/s]"
      ]
     },
     "metadata": {},
     "output_type": "display_data"
    },
    {
     "data": {
      "application/vnd.jupyter.widget-view+json": {
       "model_id": "019f86599fff4eca955a122205082900",
       "version_major": 2,
       "version_minor": 0
      },
      "text/plain": [
       "SPIQA_testC_Images.zip:   0%|          | 0.00/112M [00:00<?, ?B/s]"
      ]
     },
     "metadata": {},
     "output_type": "display_data"
    },
    {
     "data": {
      "application/vnd.jupyter.widget-view+json": {
       "model_id": "a921639c34354915babd382e4f177b6e",
       "version_major": 2,
       "version_minor": 0
      },
      "text/plain": [
       "SPIQA_testC_Images_224px.zip:   0%|          | 0.00/63.3M [00:00<?, ?B/s]"
      ]
     },
     "metadata": {},
     "output_type": "display_data"
    },
    {
     "data": {
      "application/vnd.jupyter.widget-view+json": {
       "model_id": "1804f954649d4c1e8ce9c00240f433be",
       "version_major": 2,
       "version_minor": 0
      },
      "text/plain": [
       "testA_data_viewer.json:   0%|          | 0.00/2.89M [00:00<?, ?B/s]"
      ]
     },
     "metadata": {},
     "output_type": "display_data"
    },
    {
     "data": {
      "application/vnd.jupyter.widget-view+json": {
       "model_id": "4524740957ce4ce28da0b5dbccc45c52",
       "version_major": 2,
       "version_minor": 0
      },
      "text/plain": [
       "SPIQA_train.json:   0%|          | 0.00/209M [00:00<?, ?B/s]"
      ]
     },
     "metadata": {},
     "output_type": "display_data"
    },
    {
     "data": {
      "application/vnd.jupyter.widget-view+json": {
       "model_id": "c1f89149504f4e2ca6ac4e595e49e570",
       "version_major": 2,
       "version_minor": 0
      },
      "text/plain": [
       "SPIQA_train_val_Images.zip:   0%|          | 0.00/32.0G [00:00<?, ?B/s]"
      ]
     },
     "metadata": {},
     "output_type": "display_data"
    },
    {
     "data": {
      "application/vnd.jupyter.widget-view+json": {
       "model_id": "062533fc08b84e168c60db90b8268dcb",
       "version_major": 2,
       "version_minor": 0
      },
      "text/plain": [
       "SPIQA_val.json:   0%|          | 0.00/1.68M [00:00<?, ?B/s]"
      ]
     },
     "metadata": {},
     "output_type": "display_data"
    },
    {
     "name": "stderr",
     "output_type": "stream",
     "text": [
      "Error while downloading from https://cdn-lfs-us-1.hf.co/repos/63/88/6388569e1d634cab41e6699e2366790abb879acf00621ba94a63125a0eb882f9/83162b3385b21fa06e2e9500b7b8b11a85c44951f5bf0c18fc8d8d249d185c9f?response-content-disposition=inline%3B+filename*%3DUTF-8%27%27SPIQA_train_val_Images.zip%3B+filename%3D%22SPIQA_train_val_Images.zip%22%3B&response-content-type=application%2Fzip&Expires=1743828243&Policy=eyJTdGF0ZW1lbnQiOlt7IkNvbmRpdGlvbiI6eyJEYXRlTGVzc1RoYW4iOnsiQVdTOkVwb2NoVGltZSI6MTc0MzgyODI0M319LCJSZXNvdXJjZSI6Imh0dHBzOi8vY2RuLWxmcy11cy0xLmhmLmNvL3JlcG9zLzYzLzg4LzYzODg1NjllMWQ2MzRjYWI0MWU2Njk5ZTIzNjY3OTBhYmI4NzlhY2YwMDYyMWJhOTRhNjMxMjVhMGViODgyZjkvODMxNjJiMzM4NWIyMWZhMDZlMmU5NTAwYjdiOGIxMWE4NWM0NDk1MWY1YmYwYzE4ZmM4ZDhkMjQ5ZDE4NWM5Zj9yZXNwb25zZS1jb250ZW50LWRpc3Bvc2l0aW9uPSomcmVzcG9uc2UtY29udGVudC10eXBlPSoifV19&Signature=W4uGPvqCxb60LsqtuE0807icOzLplFFoix3Dabg40PqvG%7ErOXpqormJFbvWcmM-pSWG-Z9%7EjHvEa3HutFIx3pil501MAWeoo4b4fws7ZXXKtfqaol4%7EYBqqjJSY3%7E8Mm19ZzQBNHrxffh3WsrRBgYgOSBluuOH7QVN0yTQglLmVbDtOXzk5YMFELfjgiaeWewlpaofWbF%7E00iiSUN3ZFj-tN3TzVKd3Hund0jF1hKj8PmemjDsAqyg8W4M6-hoNnZjsZE0zudciyuh3AdrQsGRD8OZv5bdzpxBwJSItrxdVbF8M1L2ua68XgKgP6KHZjFc3AXNfD88DI0wZDCBFhBg__&Key-Pair-Id=K24J24Z295AEI9: HTTPSConnectionPool(host='cdn-lfs-us-1.hf.co', port=443): Read timed out.\n",
      "Trying to resume download...\n"
     ]
    },
    {
     "data": {
      "application/vnd.jupyter.widget-view+json": {
       "model_id": "564635314ec44a52996cf6341a1af338",
       "version_major": 2,
       "version_minor": 0
      },
      "text/plain": [
       "SPIQA_train_val_Images.zip:   3%|2         | 923M/32.0G [00:00<?, ?B/s]"
      ]
     },
     "metadata": {},
     "output_type": "display_data"
    },
    {
     "name": "stderr",
     "output_type": "stream",
     "text": [
      "Error while downloading from https://cdn-lfs-us-1.hf.co/repos/63/88/6388569e1d634cab41e6699e2366790abb879acf00621ba94a63125a0eb882f9/83162b3385b21fa06e2e9500b7b8b11a85c44951f5bf0c18fc8d8d249d185c9f?response-content-disposition=inline%3B+filename*%3DUTF-8%27%27SPIQA_train_val_Images.zip%3B+filename%3D%22SPIQA_train_val_Images.zip%22%3B&response-content-type=application%2Fzip&Expires=1743828243&Policy=eyJTdGF0ZW1lbnQiOlt7IkNvbmRpdGlvbiI6eyJEYXRlTGVzc1RoYW4iOnsiQVdTOkVwb2NoVGltZSI6MTc0MzgyODI0M319LCJSZXNvdXJjZSI6Imh0dHBzOi8vY2RuLWxmcy11cy0xLmhmLmNvL3JlcG9zLzYzLzg4LzYzODg1NjllMWQ2MzRjYWI0MWU2Njk5ZTIzNjY3OTBhYmI4NzlhY2YwMDYyMWJhOTRhNjMxMjVhMGViODgyZjkvODMxNjJiMzM4NWIyMWZhMDZlMmU5NTAwYjdiOGIxMWE4NWM0NDk1MWY1YmYwYzE4ZmM4ZDhkMjQ5ZDE4NWM5Zj9yZXNwb25zZS1jb250ZW50LWRpc3Bvc2l0aW9uPSomcmVzcG9uc2UtY29udGVudC10eXBlPSoifV19&Signature=W4uGPvqCxb60LsqtuE0807icOzLplFFoix3Dabg40PqvG%7ErOXpqormJFbvWcmM-pSWG-Z9%7EjHvEa3HutFIx3pil501MAWeoo4b4fws7ZXXKtfqaol4%7EYBqqjJSY3%7E8Mm19ZzQBNHrxffh3WsrRBgYgOSBluuOH7QVN0yTQglLmVbDtOXzk5YMFELfjgiaeWewlpaofWbF%7E00iiSUN3ZFj-tN3TzVKd3Hund0jF1hKj8PmemjDsAqyg8W4M6-hoNnZjsZE0zudciyuh3AdrQsGRD8OZv5bdzpxBwJSItrxdVbF8M1L2ua68XgKgP6KHZjFc3AXNfD88DI0wZDCBFhBg__&Key-Pair-Id=K24J24Z295AEI9: HTTPSConnectionPool(host='cdn-lfs-us-1.hf.co', port=443): Read timed out.\n",
      "Trying to resume download...\n"
     ]
    },
    {
     "ename": "HfHubHTTPError",
     "evalue": "403 Forbidden: None.\nCannot access content at: https://cdn-lfs-us-1.hf.co/repos/63/88/6388569e1d634cab41e6699e2366790abb879acf00621ba94a63125a0eb882f9/83162b3385b21fa06e2e9500b7b8b11a85c44951f5bf0c18fc8d8d249d185c9f?response-content-disposition=inline%3B+filename*%3DUTF-8%27%27SPIQA_train_val_Images.zip%3B+filename%3D%22SPIQA_train_val_Images.zip%22%3B&response-content-type=application%2Fzip&Expires=1743828243&Policy=eyJTdGF0ZW1lbnQiOlt7IkNvbmRpdGlvbiI6eyJEYXRlTGVzc1RoYW4iOnsiQVdTOkVwb2NoVGltZSI6MTc0MzgyODI0M319LCJSZXNvdXJjZSI6Imh0dHBzOi8vY2RuLWxmcy11cy0xLmhmLmNvL3JlcG9zLzYzLzg4LzYzODg1NjllMWQ2MzRjYWI0MWU2Njk5ZTIzNjY3OTBhYmI4NzlhY2YwMDYyMWJhOTRhNjMxMjVhMGViODgyZjkvODMxNjJiMzM4NWIyMWZhMDZlMmU5NTAwYjdiOGIxMWE4NWM0NDk1MWY1YmYwYzE4ZmM4ZDhkMjQ5ZDE4NWM5Zj9yZXNwb25zZS1jb250ZW50LWRpc3Bvc2l0aW9uPSomcmVzcG9uc2UtY29udGVudC10eXBlPSoifV19&Signature=W4uGPvqCxb60LsqtuE0807icOzLplFFoix3Dabg40PqvG~rOXpqormJFbvWcmM-pSWG-Z9~jHvEa3HutFIx3pil501MAWeoo4b4fws7ZXXKtfqaol4~YBqqjJSY3~8Mm19ZzQBNHrxffh3WsrRBgYgOSBluuOH7QVN0yTQglLmVbDtOXzk5YMFELfjgiaeWewlpaofWbF~00iiSUN3ZFj-tN3TzVKd3Hund0jF1hKj8PmemjDsAqyg8W4M6-hoNnZjsZE0zudciyuh3AdrQsGRD8OZv5bdzpxBwJSItrxdVbF8M1L2ua68XgKgP6KHZjFc3AXNfD88DI0wZDCBFhBg__&Key-Pair-Id=K24J24Z295AEI9.\nMake sure your token has the correct permissions.\n<?xml version=\"1.0\" encoding=\"UTF-8\"?><Error><Code>AccessDenied</Code><Message>Access denied</Message></Error>",
     "output_type": "error",
     "traceback": [
      "\u001b[31m---------------------------------------------------------------------------\u001b[39m",
      "\u001b[31mTimeoutError\u001b[39m                              Traceback (most recent call last)",
      "\u001b[36mFile \u001b[39m\u001b[32mc:\\Users\\Lisara\\anaconda3\\envs\\IRPenv\\Lib\\site-packages\\urllib3\\response.py:754\u001b[39m, in \u001b[36mHTTPResponse._error_catcher\u001b[39m\u001b[34m(self)\u001b[39m\n\u001b[32m    753\u001b[39m \u001b[38;5;28;01mtry\u001b[39;00m:\n\u001b[32m--> \u001b[39m\u001b[32m754\u001b[39m     \u001b[38;5;28;01myield\u001b[39;00m\n\u001b[32m    756\u001b[39m \u001b[38;5;28;01mexcept\u001b[39;00m SocketTimeout \u001b[38;5;28;01mas\u001b[39;00m e:\n\u001b[32m    757\u001b[39m     \u001b[38;5;66;03m# FIXME: Ideally we'd like to include the url in the ReadTimeoutError but\u001b[39;00m\n\u001b[32m    758\u001b[39m     \u001b[38;5;66;03m# there is yet no clean way to get at it from this context.\u001b[39;00m\n",
      "\u001b[36mFile \u001b[39m\u001b[32mc:\\Users\\Lisara\\anaconda3\\envs\\IRPenv\\Lib\\site-packages\\urllib3\\response.py:879\u001b[39m, in \u001b[36mHTTPResponse._raw_read\u001b[39m\u001b[34m(self, amt, read1)\u001b[39m\n\u001b[32m    878\u001b[39m \u001b[38;5;28;01mwith\u001b[39;00m \u001b[38;5;28mself\u001b[39m._error_catcher():\n\u001b[32m--> \u001b[39m\u001b[32m879\u001b[39m     data = \u001b[38;5;28;43mself\u001b[39;49m\u001b[43m.\u001b[49m\u001b[43m_fp_read\u001b[49m\u001b[43m(\u001b[49m\u001b[43mamt\u001b[49m\u001b[43m,\u001b[49m\u001b[43m \u001b[49m\u001b[43mread1\u001b[49m\u001b[43m=\u001b[49m\u001b[43mread1\u001b[49m\u001b[43m)\u001b[49m \u001b[38;5;28;01mif\u001b[39;00m \u001b[38;5;129;01mnot\u001b[39;00m fp_closed \u001b[38;5;28;01melse\u001b[39;00m \u001b[33mb\u001b[39m\u001b[33m\"\u001b[39m\u001b[33m\"\u001b[39m\n\u001b[32m    880\u001b[39m     \u001b[38;5;28;01mif\u001b[39;00m amt \u001b[38;5;129;01mis\u001b[39;00m \u001b[38;5;129;01mnot\u001b[39;00m \u001b[38;5;28;01mNone\u001b[39;00m \u001b[38;5;129;01mand\u001b[39;00m amt != \u001b[32m0\u001b[39m \u001b[38;5;129;01mand\u001b[39;00m \u001b[38;5;129;01mnot\u001b[39;00m data:\n\u001b[32m    881\u001b[39m         \u001b[38;5;66;03m# Platform-specific: Buggy versions of Python.\u001b[39;00m\n\u001b[32m    882\u001b[39m         \u001b[38;5;66;03m# Close the connection when no data is returned\u001b[39;00m\n\u001b[32m   (...)\u001b[39m\u001b[32m    887\u001b[39m         \u001b[38;5;66;03m# not properly close the connection in all cases. There is\u001b[39;00m\n\u001b[32m    888\u001b[39m         \u001b[38;5;66;03m# no harm in redundantly calling close.\u001b[39;00m\n",
      "\u001b[36mFile \u001b[39m\u001b[32mc:\\Users\\Lisara\\anaconda3\\envs\\IRPenv\\Lib\\site-packages\\urllib3\\response.py:862\u001b[39m, in \u001b[36mHTTPResponse._fp_read\u001b[39m\u001b[34m(self, amt, read1)\u001b[39m\n\u001b[32m    860\u001b[39m \u001b[38;5;28;01melse\u001b[39;00m:\n\u001b[32m    861\u001b[39m     \u001b[38;5;66;03m# StringIO doesn't like amt=None\u001b[39;00m\n\u001b[32m--> \u001b[39m\u001b[32m862\u001b[39m     \u001b[38;5;28;01mreturn\u001b[39;00m \u001b[38;5;28;43mself\u001b[39;49m\u001b[43m.\u001b[49m\u001b[43m_fp\u001b[49m\u001b[43m.\u001b[49m\u001b[43mread\u001b[49m\u001b[43m(\u001b[49m\u001b[43mamt\u001b[49m\u001b[43m)\u001b[49m \u001b[38;5;28;01mif\u001b[39;00m amt \u001b[38;5;129;01mis\u001b[39;00m \u001b[38;5;129;01mnot\u001b[39;00m \u001b[38;5;28;01mNone\u001b[39;00m \u001b[38;5;28;01melse\u001b[39;00m \u001b[38;5;28mself\u001b[39m._fp.read()\n",
      "\u001b[36mFile \u001b[39m\u001b[32mc:\\Users\\Lisara\\anaconda3\\envs\\IRPenv\\Lib\\http\\client.py:473\u001b[39m, in \u001b[36mHTTPResponse.read\u001b[39m\u001b[34m(self, amt)\u001b[39m\n\u001b[32m    472\u001b[39m     amt = \u001b[38;5;28mself\u001b[39m.length\n\u001b[32m--> \u001b[39m\u001b[32m473\u001b[39m s = \u001b[38;5;28mself\u001b[39m.fp.read(amt)\n\u001b[32m    474\u001b[39m \u001b[38;5;28;01mif\u001b[39;00m \u001b[38;5;129;01mnot\u001b[39;00m s \u001b[38;5;129;01mand\u001b[39;00m amt:\n\u001b[32m    475\u001b[39m     \u001b[38;5;66;03m# Ideally, we would raise IncompleteRead if the content-length\u001b[39;00m\n\u001b[32m    476\u001b[39m     \u001b[38;5;66;03m# wasn't satisfied, but it might break compatibility.\u001b[39;00m\n",
      "\u001b[36mFile \u001b[39m\u001b[32mc:\\Users\\Lisara\\anaconda3\\envs\\IRPenv\\Lib\\socket.py:718\u001b[39m, in \u001b[36mSocketIO.readinto\u001b[39m\u001b[34m(self, b)\u001b[39m\n\u001b[32m    717\u001b[39m \u001b[38;5;28;01mtry\u001b[39;00m:\n\u001b[32m--> \u001b[39m\u001b[32m718\u001b[39m     \u001b[38;5;28;01mreturn\u001b[39;00m \u001b[38;5;28;43mself\u001b[39;49m\u001b[43m.\u001b[49m\u001b[43m_sock\u001b[49m\u001b[43m.\u001b[49m\u001b[43mrecv_into\u001b[49m\u001b[43m(\u001b[49m\u001b[43mb\u001b[49m\u001b[43m)\u001b[49m\n\u001b[32m    719\u001b[39m \u001b[38;5;28;01mexcept\u001b[39;00m timeout:\n",
      "\u001b[36mFile \u001b[39m\u001b[32mc:\\Users\\Lisara\\anaconda3\\envs\\IRPenv\\Lib\\ssl.py:1314\u001b[39m, in \u001b[36mSSLSocket.recv_into\u001b[39m\u001b[34m(self, buffer, nbytes, flags)\u001b[39m\n\u001b[32m   1311\u001b[39m         \u001b[38;5;28;01mraise\u001b[39;00m \u001b[38;5;167;01mValueError\u001b[39;00m(\n\u001b[32m   1312\u001b[39m           \u001b[33m\"\u001b[39m\u001b[33mnon-zero flags not allowed in calls to recv_into() on \u001b[39m\u001b[38;5;132;01m%s\u001b[39;00m\u001b[33m\"\u001b[39m %\n\u001b[32m   1313\u001b[39m           \u001b[38;5;28mself\u001b[39m.\u001b[34m__class__\u001b[39m)\n\u001b[32m-> \u001b[39m\u001b[32m1314\u001b[39m     \u001b[38;5;28;01mreturn\u001b[39;00m \u001b[38;5;28;43mself\u001b[39;49m\u001b[43m.\u001b[49m\u001b[43mread\u001b[49m\u001b[43m(\u001b[49m\u001b[43mnbytes\u001b[49m\u001b[43m,\u001b[49m\u001b[43m \u001b[49m\u001b[43mbuffer\u001b[49m\u001b[43m)\u001b[49m\n\u001b[32m   1315\u001b[39m \u001b[38;5;28;01melse\u001b[39;00m:\n",
      "\u001b[36mFile \u001b[39m\u001b[32mc:\\Users\\Lisara\\anaconda3\\envs\\IRPenv\\Lib\\ssl.py:1166\u001b[39m, in \u001b[36mSSLSocket.read\u001b[39m\u001b[34m(self, len, buffer)\u001b[39m\n\u001b[32m   1165\u001b[39m \u001b[38;5;28;01mif\u001b[39;00m buffer \u001b[38;5;129;01mis\u001b[39;00m \u001b[38;5;129;01mnot\u001b[39;00m \u001b[38;5;28;01mNone\u001b[39;00m:\n\u001b[32m-> \u001b[39m\u001b[32m1166\u001b[39m     \u001b[38;5;28;01mreturn\u001b[39;00m \u001b[38;5;28;43mself\u001b[39;49m\u001b[43m.\u001b[49m\u001b[43m_sslobj\u001b[49m\u001b[43m.\u001b[49m\u001b[43mread\u001b[49m\u001b[43m(\u001b[49m\u001b[38;5;28;43mlen\u001b[39;49m\u001b[43m,\u001b[49m\u001b[43m \u001b[49m\u001b[43mbuffer\u001b[49m\u001b[43m)\u001b[49m\n\u001b[32m   1167\u001b[39m \u001b[38;5;28;01melse\u001b[39;00m:\n",
      "\u001b[31mTimeoutError\u001b[39m: The read operation timed out",
      "\nThe above exception was the direct cause of the following exception:\n",
      "\u001b[31mReadTimeoutError\u001b[39m                          Traceback (most recent call last)",
      "\u001b[36mFile \u001b[39m\u001b[32mc:\\Users\\Lisara\\anaconda3\\envs\\IRPenv\\Lib\\site-packages\\requests\\models.py:820\u001b[39m, in \u001b[36mResponse.iter_content.<locals>.generate\u001b[39m\u001b[34m()\u001b[39m\n\u001b[32m    819\u001b[39m \u001b[38;5;28;01mtry\u001b[39;00m:\n\u001b[32m--> \u001b[39m\u001b[32m820\u001b[39m     \u001b[38;5;28;01myield from\u001b[39;00m \u001b[38;5;28mself\u001b[39m.raw.stream(chunk_size, decode_content=\u001b[38;5;28;01mTrue\u001b[39;00m)\n\u001b[32m    821\u001b[39m \u001b[38;5;28;01mexcept\u001b[39;00m ProtocolError \u001b[38;5;28;01mas\u001b[39;00m e:\n",
      "\u001b[36mFile \u001b[39m\u001b[32mc:\\Users\\Lisara\\anaconda3\\envs\\IRPenv\\Lib\\site-packages\\urllib3\\response.py:1066\u001b[39m, in \u001b[36mHTTPResponse.stream\u001b[39m\u001b[34m(self, amt, decode_content)\u001b[39m\n\u001b[32m   1065\u001b[39m \u001b[38;5;28;01mwhile\u001b[39;00m \u001b[38;5;129;01mnot\u001b[39;00m is_fp_closed(\u001b[38;5;28mself\u001b[39m._fp) \u001b[38;5;129;01mor\u001b[39;00m \u001b[38;5;28mlen\u001b[39m(\u001b[38;5;28mself\u001b[39m._decoded_buffer) > \u001b[32m0\u001b[39m:\n\u001b[32m-> \u001b[39m\u001b[32m1066\u001b[39m     data = \u001b[38;5;28;43mself\u001b[39;49m\u001b[43m.\u001b[49m\u001b[43mread\u001b[49m\u001b[43m(\u001b[49m\u001b[43mamt\u001b[49m\u001b[43m=\u001b[49m\u001b[43mamt\u001b[49m\u001b[43m,\u001b[49m\u001b[43m \u001b[49m\u001b[43mdecode_content\u001b[49m\u001b[43m=\u001b[49m\u001b[43mdecode_content\u001b[49m\u001b[43m)\u001b[49m\n\u001b[32m   1068\u001b[39m     \u001b[38;5;28;01mif\u001b[39;00m data:\n",
      "\u001b[36mFile \u001b[39m\u001b[32mc:\\Users\\Lisara\\anaconda3\\envs\\IRPenv\\Lib\\site-packages\\urllib3\\response.py:955\u001b[39m, in \u001b[36mHTTPResponse.read\u001b[39m\u001b[34m(self, amt, decode_content, cache_content)\u001b[39m\n\u001b[32m    953\u001b[39m         \u001b[38;5;28;01mreturn\u001b[39;00m \u001b[38;5;28mself\u001b[39m._decoded_buffer.get(amt)\n\u001b[32m--> \u001b[39m\u001b[32m955\u001b[39m data = \u001b[38;5;28;43mself\u001b[39;49m\u001b[43m.\u001b[49m\u001b[43m_raw_read\u001b[49m\u001b[43m(\u001b[49m\u001b[43mamt\u001b[49m\u001b[43m)\u001b[49m\n\u001b[32m    957\u001b[39m flush_decoder = amt \u001b[38;5;129;01mis\u001b[39;00m \u001b[38;5;28;01mNone\u001b[39;00m \u001b[38;5;129;01mor\u001b[39;00m (amt != \u001b[32m0\u001b[39m \u001b[38;5;129;01mand\u001b[39;00m \u001b[38;5;129;01mnot\u001b[39;00m data)\n",
      "\u001b[36mFile \u001b[39m\u001b[32mc:\\Users\\Lisara\\anaconda3\\envs\\IRPenv\\Lib\\site-packages\\urllib3\\response.py:878\u001b[39m, in \u001b[36mHTTPResponse._raw_read\u001b[39m\u001b[34m(self, amt, read1)\u001b[39m\n\u001b[32m    876\u001b[39m fp_closed = \u001b[38;5;28mgetattr\u001b[39m(\u001b[38;5;28mself\u001b[39m._fp, \u001b[33m\"\u001b[39m\u001b[33mclosed\u001b[39m\u001b[33m\"\u001b[39m, \u001b[38;5;28;01mFalse\u001b[39;00m)\n\u001b[32m--> \u001b[39m\u001b[32m878\u001b[39m \u001b[43m\u001b[49m\u001b[38;5;28;43;01mwith\u001b[39;49;00m\u001b[43m \u001b[49m\u001b[38;5;28;43mself\u001b[39;49m\u001b[43m.\u001b[49m\u001b[43m_error_catcher\u001b[49m\u001b[43m(\u001b[49m\u001b[43m)\u001b[49m\u001b[43m:\u001b[49m\n\u001b[32m    879\u001b[39m \u001b[43m    \u001b[49m\u001b[43mdata\u001b[49m\u001b[43m \u001b[49m\u001b[43m=\u001b[49m\u001b[43m \u001b[49m\u001b[38;5;28;43mself\u001b[39;49m\u001b[43m.\u001b[49m\u001b[43m_fp_read\u001b[49m\u001b[43m(\u001b[49m\u001b[43mamt\u001b[49m\u001b[43m,\u001b[49m\u001b[43m \u001b[49m\u001b[43mread1\u001b[49m\u001b[43m=\u001b[49m\u001b[43mread1\u001b[49m\u001b[43m)\u001b[49m\u001b[43m \u001b[49m\u001b[38;5;28;43;01mif\u001b[39;49;00m\u001b[43m \u001b[49m\u001b[38;5;129;43;01mnot\u001b[39;49;00m\u001b[43m \u001b[49m\u001b[43mfp_closed\u001b[49m\u001b[43m \u001b[49m\u001b[38;5;28;43;01melse\u001b[39;49;00m\u001b[43m \u001b[49m\u001b[33;43mb\u001b[39;49m\u001b[33;43m\"\u001b[39;49m\u001b[33;43m\"\u001b[39;49m\n",
      "\u001b[36mFile \u001b[39m\u001b[32mc:\\Users\\Lisara\\anaconda3\\envs\\IRPenv\\Lib\\contextlib.py:158\u001b[39m, in \u001b[36m_GeneratorContextManager.__exit__\u001b[39m\u001b[34m(self, typ, value, traceback)\u001b[39m\n\u001b[32m    157\u001b[39m \u001b[38;5;28;01mtry\u001b[39;00m:\n\u001b[32m--> \u001b[39m\u001b[32m158\u001b[39m     \u001b[38;5;28mself\u001b[39m.gen.throw(typ, value, traceback)\n\u001b[32m    159\u001b[39m \u001b[38;5;28;01mexcept\u001b[39;00m \u001b[38;5;167;01mStopIteration\u001b[39;00m \u001b[38;5;28;01mas\u001b[39;00m exc:\n\u001b[32m    160\u001b[39m     \u001b[38;5;66;03m# Suppress StopIteration *unless* it's the same exception that\u001b[39;00m\n\u001b[32m    161\u001b[39m     \u001b[38;5;66;03m# was passed to throw().  This prevents a StopIteration\u001b[39;00m\n\u001b[32m    162\u001b[39m     \u001b[38;5;66;03m# raised inside the \"with\" statement from being suppressed.\u001b[39;00m\n",
      "\u001b[36mFile \u001b[39m\u001b[32mc:\\Users\\Lisara\\anaconda3\\envs\\IRPenv\\Lib\\site-packages\\urllib3\\response.py:759\u001b[39m, in \u001b[36mHTTPResponse._error_catcher\u001b[39m\u001b[34m(self)\u001b[39m\n\u001b[32m    756\u001b[39m \u001b[38;5;28;01mexcept\u001b[39;00m SocketTimeout \u001b[38;5;28;01mas\u001b[39;00m e:\n\u001b[32m    757\u001b[39m     \u001b[38;5;66;03m# FIXME: Ideally we'd like to include the url in the ReadTimeoutError but\u001b[39;00m\n\u001b[32m    758\u001b[39m     \u001b[38;5;66;03m# there is yet no clean way to get at it from this context.\u001b[39;00m\n\u001b[32m--> \u001b[39m\u001b[32m759\u001b[39m     \u001b[38;5;28;01mraise\u001b[39;00m ReadTimeoutError(\u001b[38;5;28mself\u001b[39m._pool, \u001b[38;5;28;01mNone\u001b[39;00m, \u001b[33m\"\u001b[39m\u001b[33mRead timed out.\u001b[39m\u001b[33m\"\u001b[39m) \u001b[38;5;28;01mfrom\u001b[39;00m\u001b[38;5;250m \u001b[39m\u001b[34;01me\u001b[39;00m  \u001b[38;5;66;03m# type: ignore[arg-type]\u001b[39;00m\n\u001b[32m    761\u001b[39m \u001b[38;5;28;01mexcept\u001b[39;00m BaseSSLError \u001b[38;5;28;01mas\u001b[39;00m e:\n\u001b[32m    762\u001b[39m     \u001b[38;5;66;03m# FIXME: Is there a better way to differentiate between SSLErrors?\u001b[39;00m\n",
      "\u001b[31mReadTimeoutError\u001b[39m: HTTPSConnectionPool(host='cdn-lfs-us-1.hf.co', port=443): Read timed out.",
      "\nDuring handling of the above exception, another exception occurred:\n",
      "\u001b[31mConnectionError\u001b[39m                           Traceback (most recent call last)",
      "\u001b[36mFile \u001b[39m\u001b[32mc:\\Users\\Lisara\\anaconda3\\envs\\IRPenv\\Lib\\site-packages\\huggingface_hub\\file_download.py:454\u001b[39m, in \u001b[36mhttp_get\u001b[39m\u001b[34m(url, temp_file, proxies, resume_size, headers, expected_size, displayed_filename, _nb_retries, _tqdm_bar)\u001b[39m\n\u001b[32m    453\u001b[39m \u001b[38;5;28;01mtry\u001b[39;00m:\n\u001b[32m--> \u001b[39m\u001b[32m454\u001b[39m \u001b[43m    \u001b[49m\u001b[38;5;28;43;01mfor\u001b[39;49;00m\u001b[43m \u001b[49m\u001b[43mchunk\u001b[49m\u001b[43m \u001b[49m\u001b[38;5;129;43;01min\u001b[39;49;00m\u001b[43m \u001b[49m\u001b[43mr\u001b[49m\u001b[43m.\u001b[49m\u001b[43miter_content\u001b[49m\u001b[43m(\u001b[49m\u001b[43mchunk_size\u001b[49m\u001b[43m=\u001b[49m\u001b[43mconstants\u001b[49m\u001b[43m.\u001b[49m\u001b[43mDOWNLOAD_CHUNK_SIZE\u001b[49m\u001b[43m)\u001b[49m\u001b[43m:\u001b[49m\n\u001b[32m    455\u001b[39m \u001b[43m        \u001b[49m\u001b[38;5;28;43;01mif\u001b[39;49;00m\u001b[43m \u001b[49m\u001b[43mchunk\u001b[49m\u001b[43m:\u001b[49m\u001b[43m  \u001b[49m\u001b[38;5;66;43;03m# filter out keep-alive new chunks\u001b[39;49;00m\n",
      "\u001b[36mFile \u001b[39m\u001b[32mc:\\Users\\Lisara\\anaconda3\\envs\\IRPenv\\Lib\\site-packages\\requests\\models.py:826\u001b[39m, in \u001b[36mResponse.iter_content.<locals>.generate\u001b[39m\u001b[34m()\u001b[39m\n\u001b[32m    825\u001b[39m \u001b[38;5;28;01mexcept\u001b[39;00m ReadTimeoutError \u001b[38;5;28;01mas\u001b[39;00m e:\n\u001b[32m--> \u001b[39m\u001b[32m826\u001b[39m     \u001b[38;5;28;01mraise\u001b[39;00m \u001b[38;5;167;01mConnectionError\u001b[39;00m(e)\n\u001b[32m    827\u001b[39m \u001b[38;5;28;01mexcept\u001b[39;00m SSLError \u001b[38;5;28;01mas\u001b[39;00m e:\n",
      "\u001b[31mConnectionError\u001b[39m: HTTPSConnectionPool(host='cdn-lfs-us-1.hf.co', port=443): Read timed out.",
      "\nDuring handling of the above exception, another exception occurred:\n",
      "\u001b[31mTimeoutError\u001b[39m                              Traceback (most recent call last)",
      "\u001b[36mFile \u001b[39m\u001b[32mc:\\Users\\Lisara\\anaconda3\\envs\\IRPenv\\Lib\\site-packages\\urllib3\\response.py:754\u001b[39m, in \u001b[36mHTTPResponse._error_catcher\u001b[39m\u001b[34m(self)\u001b[39m\n\u001b[32m    753\u001b[39m \u001b[38;5;28;01mtry\u001b[39;00m:\n\u001b[32m--> \u001b[39m\u001b[32m754\u001b[39m     \u001b[38;5;28;01myield\u001b[39;00m\n\u001b[32m    756\u001b[39m \u001b[38;5;28;01mexcept\u001b[39;00m SocketTimeout \u001b[38;5;28;01mas\u001b[39;00m e:\n\u001b[32m    757\u001b[39m     \u001b[38;5;66;03m# FIXME: Ideally we'd like to include the url in the ReadTimeoutError but\u001b[39;00m\n\u001b[32m    758\u001b[39m     \u001b[38;5;66;03m# there is yet no clean way to get at it from this context.\u001b[39;00m\n",
      "\u001b[36mFile \u001b[39m\u001b[32mc:\\Users\\Lisara\\anaconda3\\envs\\IRPenv\\Lib\\site-packages\\urllib3\\response.py:879\u001b[39m, in \u001b[36mHTTPResponse._raw_read\u001b[39m\u001b[34m(self, amt, read1)\u001b[39m\n\u001b[32m    878\u001b[39m \u001b[38;5;28;01mwith\u001b[39;00m \u001b[38;5;28mself\u001b[39m._error_catcher():\n\u001b[32m--> \u001b[39m\u001b[32m879\u001b[39m     data = \u001b[38;5;28;43mself\u001b[39;49m\u001b[43m.\u001b[49m\u001b[43m_fp_read\u001b[49m\u001b[43m(\u001b[49m\u001b[43mamt\u001b[49m\u001b[43m,\u001b[49m\u001b[43m \u001b[49m\u001b[43mread1\u001b[49m\u001b[43m=\u001b[49m\u001b[43mread1\u001b[49m\u001b[43m)\u001b[49m \u001b[38;5;28;01mif\u001b[39;00m \u001b[38;5;129;01mnot\u001b[39;00m fp_closed \u001b[38;5;28;01melse\u001b[39;00m \u001b[33mb\u001b[39m\u001b[33m\"\u001b[39m\u001b[33m\"\u001b[39m\n\u001b[32m    880\u001b[39m     \u001b[38;5;28;01mif\u001b[39;00m amt \u001b[38;5;129;01mis\u001b[39;00m \u001b[38;5;129;01mnot\u001b[39;00m \u001b[38;5;28;01mNone\u001b[39;00m \u001b[38;5;129;01mand\u001b[39;00m amt != \u001b[32m0\u001b[39m \u001b[38;5;129;01mand\u001b[39;00m \u001b[38;5;129;01mnot\u001b[39;00m data:\n\u001b[32m    881\u001b[39m         \u001b[38;5;66;03m# Platform-specific: Buggy versions of Python.\u001b[39;00m\n\u001b[32m    882\u001b[39m         \u001b[38;5;66;03m# Close the connection when no data is returned\u001b[39;00m\n\u001b[32m   (...)\u001b[39m\u001b[32m    887\u001b[39m         \u001b[38;5;66;03m# not properly close the connection in all cases. There is\u001b[39;00m\n\u001b[32m    888\u001b[39m         \u001b[38;5;66;03m# no harm in redundantly calling close.\u001b[39;00m\n",
      "\u001b[36mFile \u001b[39m\u001b[32mc:\\Users\\Lisara\\anaconda3\\envs\\IRPenv\\Lib\\site-packages\\urllib3\\response.py:862\u001b[39m, in \u001b[36mHTTPResponse._fp_read\u001b[39m\u001b[34m(self, amt, read1)\u001b[39m\n\u001b[32m    860\u001b[39m \u001b[38;5;28;01melse\u001b[39;00m:\n\u001b[32m    861\u001b[39m     \u001b[38;5;66;03m# StringIO doesn't like amt=None\u001b[39;00m\n\u001b[32m--> \u001b[39m\u001b[32m862\u001b[39m     \u001b[38;5;28;01mreturn\u001b[39;00m \u001b[38;5;28;43mself\u001b[39;49m\u001b[43m.\u001b[49m\u001b[43m_fp\u001b[49m\u001b[43m.\u001b[49m\u001b[43mread\u001b[49m\u001b[43m(\u001b[49m\u001b[43mamt\u001b[49m\u001b[43m)\u001b[49m \u001b[38;5;28;01mif\u001b[39;00m amt \u001b[38;5;129;01mis\u001b[39;00m \u001b[38;5;129;01mnot\u001b[39;00m \u001b[38;5;28;01mNone\u001b[39;00m \u001b[38;5;28;01melse\u001b[39;00m \u001b[38;5;28mself\u001b[39m._fp.read()\n",
      "\u001b[36mFile \u001b[39m\u001b[32mc:\\Users\\Lisara\\anaconda3\\envs\\IRPenv\\Lib\\http\\client.py:473\u001b[39m, in \u001b[36mHTTPResponse.read\u001b[39m\u001b[34m(self, amt)\u001b[39m\n\u001b[32m    472\u001b[39m     amt = \u001b[38;5;28mself\u001b[39m.length\n\u001b[32m--> \u001b[39m\u001b[32m473\u001b[39m s = \u001b[38;5;28mself\u001b[39m.fp.read(amt)\n\u001b[32m    474\u001b[39m \u001b[38;5;28;01mif\u001b[39;00m \u001b[38;5;129;01mnot\u001b[39;00m s \u001b[38;5;129;01mand\u001b[39;00m amt:\n\u001b[32m    475\u001b[39m     \u001b[38;5;66;03m# Ideally, we would raise IncompleteRead if the content-length\u001b[39;00m\n\u001b[32m    476\u001b[39m     \u001b[38;5;66;03m# wasn't satisfied, but it might break compatibility.\u001b[39;00m\n",
      "\u001b[36mFile \u001b[39m\u001b[32mc:\\Users\\Lisara\\anaconda3\\envs\\IRPenv\\Lib\\socket.py:718\u001b[39m, in \u001b[36mSocketIO.readinto\u001b[39m\u001b[34m(self, b)\u001b[39m\n\u001b[32m    717\u001b[39m \u001b[38;5;28;01mtry\u001b[39;00m:\n\u001b[32m--> \u001b[39m\u001b[32m718\u001b[39m     \u001b[38;5;28;01mreturn\u001b[39;00m \u001b[38;5;28;43mself\u001b[39;49m\u001b[43m.\u001b[49m\u001b[43m_sock\u001b[49m\u001b[43m.\u001b[49m\u001b[43mrecv_into\u001b[49m\u001b[43m(\u001b[49m\u001b[43mb\u001b[49m\u001b[43m)\u001b[49m\n\u001b[32m    719\u001b[39m \u001b[38;5;28;01mexcept\u001b[39;00m timeout:\n",
      "\u001b[36mFile \u001b[39m\u001b[32mc:\\Users\\Lisara\\anaconda3\\envs\\IRPenv\\Lib\\ssl.py:1314\u001b[39m, in \u001b[36mSSLSocket.recv_into\u001b[39m\u001b[34m(self, buffer, nbytes, flags)\u001b[39m\n\u001b[32m   1311\u001b[39m         \u001b[38;5;28;01mraise\u001b[39;00m \u001b[38;5;167;01mValueError\u001b[39;00m(\n\u001b[32m   1312\u001b[39m           \u001b[33m\"\u001b[39m\u001b[33mnon-zero flags not allowed in calls to recv_into() on \u001b[39m\u001b[38;5;132;01m%s\u001b[39;00m\u001b[33m\"\u001b[39m %\n\u001b[32m   1313\u001b[39m           \u001b[38;5;28mself\u001b[39m.\u001b[34m__class__\u001b[39m)\n\u001b[32m-> \u001b[39m\u001b[32m1314\u001b[39m     \u001b[38;5;28;01mreturn\u001b[39;00m \u001b[38;5;28;43mself\u001b[39;49m\u001b[43m.\u001b[49m\u001b[43mread\u001b[49m\u001b[43m(\u001b[49m\u001b[43mnbytes\u001b[49m\u001b[43m,\u001b[49m\u001b[43m \u001b[49m\u001b[43mbuffer\u001b[49m\u001b[43m)\u001b[49m\n\u001b[32m   1315\u001b[39m \u001b[38;5;28;01melse\u001b[39;00m:\n",
      "\u001b[36mFile \u001b[39m\u001b[32mc:\\Users\\Lisara\\anaconda3\\envs\\IRPenv\\Lib\\ssl.py:1166\u001b[39m, in \u001b[36mSSLSocket.read\u001b[39m\u001b[34m(self, len, buffer)\u001b[39m\n\u001b[32m   1165\u001b[39m \u001b[38;5;28;01mif\u001b[39;00m buffer \u001b[38;5;129;01mis\u001b[39;00m \u001b[38;5;129;01mnot\u001b[39;00m \u001b[38;5;28;01mNone\u001b[39;00m:\n\u001b[32m-> \u001b[39m\u001b[32m1166\u001b[39m     \u001b[38;5;28;01mreturn\u001b[39;00m \u001b[38;5;28;43mself\u001b[39;49m\u001b[43m.\u001b[49m\u001b[43m_sslobj\u001b[49m\u001b[43m.\u001b[49m\u001b[43mread\u001b[49m\u001b[43m(\u001b[49m\u001b[38;5;28;43mlen\u001b[39;49m\u001b[43m,\u001b[49m\u001b[43m \u001b[49m\u001b[43mbuffer\u001b[49m\u001b[43m)\u001b[49m\n\u001b[32m   1167\u001b[39m \u001b[38;5;28;01melse\u001b[39;00m:\n",
      "\u001b[31mTimeoutError\u001b[39m: The read operation timed out",
      "\nThe above exception was the direct cause of the following exception:\n",
      "\u001b[31mReadTimeoutError\u001b[39m                          Traceback (most recent call last)",
      "\u001b[36mFile \u001b[39m\u001b[32mc:\\Users\\Lisara\\anaconda3\\envs\\IRPenv\\Lib\\site-packages\\requests\\models.py:820\u001b[39m, in \u001b[36mResponse.iter_content.<locals>.generate\u001b[39m\u001b[34m()\u001b[39m\n\u001b[32m    819\u001b[39m \u001b[38;5;28;01mtry\u001b[39;00m:\n\u001b[32m--> \u001b[39m\u001b[32m820\u001b[39m     \u001b[38;5;28;01myield from\u001b[39;00m \u001b[38;5;28mself\u001b[39m.raw.stream(chunk_size, decode_content=\u001b[38;5;28;01mTrue\u001b[39;00m)\n\u001b[32m    821\u001b[39m \u001b[38;5;28;01mexcept\u001b[39;00m ProtocolError \u001b[38;5;28;01mas\u001b[39;00m e:\n",
      "\u001b[36mFile \u001b[39m\u001b[32mc:\\Users\\Lisara\\anaconda3\\envs\\IRPenv\\Lib\\site-packages\\urllib3\\response.py:1066\u001b[39m, in \u001b[36mHTTPResponse.stream\u001b[39m\u001b[34m(self, amt, decode_content)\u001b[39m\n\u001b[32m   1065\u001b[39m \u001b[38;5;28;01mwhile\u001b[39;00m \u001b[38;5;129;01mnot\u001b[39;00m is_fp_closed(\u001b[38;5;28mself\u001b[39m._fp) \u001b[38;5;129;01mor\u001b[39;00m \u001b[38;5;28mlen\u001b[39m(\u001b[38;5;28mself\u001b[39m._decoded_buffer) > \u001b[32m0\u001b[39m:\n\u001b[32m-> \u001b[39m\u001b[32m1066\u001b[39m     data = \u001b[38;5;28;43mself\u001b[39;49m\u001b[43m.\u001b[49m\u001b[43mread\u001b[49m\u001b[43m(\u001b[49m\u001b[43mamt\u001b[49m\u001b[43m=\u001b[49m\u001b[43mamt\u001b[49m\u001b[43m,\u001b[49m\u001b[43m \u001b[49m\u001b[43mdecode_content\u001b[49m\u001b[43m=\u001b[49m\u001b[43mdecode_content\u001b[49m\u001b[43m)\u001b[49m\n\u001b[32m   1068\u001b[39m     \u001b[38;5;28;01mif\u001b[39;00m data:\n",
      "\u001b[36mFile \u001b[39m\u001b[32mc:\\Users\\Lisara\\anaconda3\\envs\\IRPenv\\Lib\\site-packages\\urllib3\\response.py:955\u001b[39m, in \u001b[36mHTTPResponse.read\u001b[39m\u001b[34m(self, amt, decode_content, cache_content)\u001b[39m\n\u001b[32m    953\u001b[39m         \u001b[38;5;28;01mreturn\u001b[39;00m \u001b[38;5;28mself\u001b[39m._decoded_buffer.get(amt)\n\u001b[32m--> \u001b[39m\u001b[32m955\u001b[39m data = \u001b[38;5;28;43mself\u001b[39;49m\u001b[43m.\u001b[49m\u001b[43m_raw_read\u001b[49m\u001b[43m(\u001b[49m\u001b[43mamt\u001b[49m\u001b[43m)\u001b[49m\n\u001b[32m    957\u001b[39m flush_decoder = amt \u001b[38;5;129;01mis\u001b[39;00m \u001b[38;5;28;01mNone\u001b[39;00m \u001b[38;5;129;01mor\u001b[39;00m (amt != \u001b[32m0\u001b[39m \u001b[38;5;129;01mand\u001b[39;00m \u001b[38;5;129;01mnot\u001b[39;00m data)\n",
      "\u001b[36mFile \u001b[39m\u001b[32mc:\\Users\\Lisara\\anaconda3\\envs\\IRPenv\\Lib\\site-packages\\urllib3\\response.py:878\u001b[39m, in \u001b[36mHTTPResponse._raw_read\u001b[39m\u001b[34m(self, amt, read1)\u001b[39m\n\u001b[32m    876\u001b[39m fp_closed = \u001b[38;5;28mgetattr\u001b[39m(\u001b[38;5;28mself\u001b[39m._fp, \u001b[33m\"\u001b[39m\u001b[33mclosed\u001b[39m\u001b[33m\"\u001b[39m, \u001b[38;5;28;01mFalse\u001b[39;00m)\n\u001b[32m--> \u001b[39m\u001b[32m878\u001b[39m \u001b[43m\u001b[49m\u001b[38;5;28;43;01mwith\u001b[39;49;00m\u001b[43m \u001b[49m\u001b[38;5;28;43mself\u001b[39;49m\u001b[43m.\u001b[49m\u001b[43m_error_catcher\u001b[49m\u001b[43m(\u001b[49m\u001b[43m)\u001b[49m\u001b[43m:\u001b[49m\n\u001b[32m    879\u001b[39m \u001b[43m    \u001b[49m\u001b[43mdata\u001b[49m\u001b[43m \u001b[49m\u001b[43m=\u001b[49m\u001b[43m \u001b[49m\u001b[38;5;28;43mself\u001b[39;49m\u001b[43m.\u001b[49m\u001b[43m_fp_read\u001b[49m\u001b[43m(\u001b[49m\u001b[43mamt\u001b[49m\u001b[43m,\u001b[49m\u001b[43m \u001b[49m\u001b[43mread1\u001b[49m\u001b[43m=\u001b[49m\u001b[43mread1\u001b[49m\u001b[43m)\u001b[49m\u001b[43m \u001b[49m\u001b[38;5;28;43;01mif\u001b[39;49;00m\u001b[43m \u001b[49m\u001b[38;5;129;43;01mnot\u001b[39;49;00m\u001b[43m \u001b[49m\u001b[43mfp_closed\u001b[49m\u001b[43m \u001b[49m\u001b[38;5;28;43;01melse\u001b[39;49;00m\u001b[43m \u001b[49m\u001b[33;43mb\u001b[39;49m\u001b[33;43m\"\u001b[39;49m\u001b[33;43m\"\u001b[39;49m\n",
      "\u001b[36mFile \u001b[39m\u001b[32mc:\\Users\\Lisara\\anaconda3\\envs\\IRPenv\\Lib\\contextlib.py:158\u001b[39m, in \u001b[36m_GeneratorContextManager.__exit__\u001b[39m\u001b[34m(self, typ, value, traceback)\u001b[39m\n\u001b[32m    157\u001b[39m \u001b[38;5;28;01mtry\u001b[39;00m:\n\u001b[32m--> \u001b[39m\u001b[32m158\u001b[39m     \u001b[38;5;28mself\u001b[39m.gen.throw(typ, value, traceback)\n\u001b[32m    159\u001b[39m \u001b[38;5;28;01mexcept\u001b[39;00m \u001b[38;5;167;01mStopIteration\u001b[39;00m \u001b[38;5;28;01mas\u001b[39;00m exc:\n\u001b[32m    160\u001b[39m     \u001b[38;5;66;03m# Suppress StopIteration *unless* it's the same exception that\u001b[39;00m\n\u001b[32m    161\u001b[39m     \u001b[38;5;66;03m# was passed to throw().  This prevents a StopIteration\u001b[39;00m\n\u001b[32m    162\u001b[39m     \u001b[38;5;66;03m# raised inside the \"with\" statement from being suppressed.\u001b[39;00m\n",
      "\u001b[36mFile \u001b[39m\u001b[32mc:\\Users\\Lisara\\anaconda3\\envs\\IRPenv\\Lib\\site-packages\\urllib3\\response.py:759\u001b[39m, in \u001b[36mHTTPResponse._error_catcher\u001b[39m\u001b[34m(self)\u001b[39m\n\u001b[32m    756\u001b[39m \u001b[38;5;28;01mexcept\u001b[39;00m SocketTimeout \u001b[38;5;28;01mas\u001b[39;00m e:\n\u001b[32m    757\u001b[39m     \u001b[38;5;66;03m# FIXME: Ideally we'd like to include the url in the ReadTimeoutError but\u001b[39;00m\n\u001b[32m    758\u001b[39m     \u001b[38;5;66;03m# there is yet no clean way to get at it from this context.\u001b[39;00m\n\u001b[32m--> \u001b[39m\u001b[32m759\u001b[39m     \u001b[38;5;28;01mraise\u001b[39;00m ReadTimeoutError(\u001b[38;5;28mself\u001b[39m._pool, \u001b[38;5;28;01mNone\u001b[39;00m, \u001b[33m\"\u001b[39m\u001b[33mRead timed out.\u001b[39m\u001b[33m\"\u001b[39m) \u001b[38;5;28;01mfrom\u001b[39;00m\u001b[38;5;250m \u001b[39m\u001b[34;01me\u001b[39;00m  \u001b[38;5;66;03m# type: ignore[arg-type]\u001b[39;00m\n\u001b[32m    761\u001b[39m \u001b[38;5;28;01mexcept\u001b[39;00m BaseSSLError \u001b[38;5;28;01mas\u001b[39;00m e:\n\u001b[32m    762\u001b[39m     \u001b[38;5;66;03m# FIXME: Is there a better way to differentiate between SSLErrors?\u001b[39;00m\n",
      "\u001b[31mReadTimeoutError\u001b[39m: HTTPSConnectionPool(host='cdn-lfs-us-1.hf.co', port=443): Read timed out.",
      "\nDuring handling of the above exception, another exception occurred:\n",
      "\u001b[31mConnectionError\u001b[39m                           Traceback (most recent call last)",
      "\u001b[36mFile \u001b[39m\u001b[32mc:\\Users\\Lisara\\anaconda3\\envs\\IRPenv\\Lib\\site-packages\\huggingface_hub\\file_download.py:454\u001b[39m, in \u001b[36mhttp_get\u001b[39m\u001b[34m(url, temp_file, proxies, resume_size, headers, expected_size, displayed_filename, _nb_retries, _tqdm_bar)\u001b[39m\n\u001b[32m    453\u001b[39m \u001b[38;5;28;01mtry\u001b[39;00m:\n\u001b[32m--> \u001b[39m\u001b[32m454\u001b[39m \u001b[43m    \u001b[49m\u001b[38;5;28;43;01mfor\u001b[39;49;00m\u001b[43m \u001b[49m\u001b[43mchunk\u001b[49m\u001b[43m \u001b[49m\u001b[38;5;129;43;01min\u001b[39;49;00m\u001b[43m \u001b[49m\u001b[43mr\u001b[49m\u001b[43m.\u001b[49m\u001b[43miter_content\u001b[49m\u001b[43m(\u001b[49m\u001b[43mchunk_size\u001b[49m\u001b[43m=\u001b[49m\u001b[43mconstants\u001b[49m\u001b[43m.\u001b[49m\u001b[43mDOWNLOAD_CHUNK_SIZE\u001b[49m\u001b[43m)\u001b[49m\u001b[43m:\u001b[49m\n\u001b[32m    455\u001b[39m \u001b[43m        \u001b[49m\u001b[38;5;28;43;01mif\u001b[39;49;00m\u001b[43m \u001b[49m\u001b[43mchunk\u001b[49m\u001b[43m:\u001b[49m\u001b[43m  \u001b[49m\u001b[38;5;66;43;03m# filter out keep-alive new chunks\u001b[39;49;00m\n",
      "\u001b[36mFile \u001b[39m\u001b[32mc:\\Users\\Lisara\\anaconda3\\envs\\IRPenv\\Lib\\site-packages\\requests\\models.py:826\u001b[39m, in \u001b[36mResponse.iter_content.<locals>.generate\u001b[39m\u001b[34m()\u001b[39m\n\u001b[32m    825\u001b[39m \u001b[38;5;28;01mexcept\u001b[39;00m ReadTimeoutError \u001b[38;5;28;01mas\u001b[39;00m e:\n\u001b[32m--> \u001b[39m\u001b[32m826\u001b[39m     \u001b[38;5;28;01mraise\u001b[39;00m \u001b[38;5;167;01mConnectionError\u001b[39;00m(e)\n\u001b[32m    827\u001b[39m \u001b[38;5;28;01mexcept\u001b[39;00m SSLError \u001b[38;5;28;01mas\u001b[39;00m e:\n",
      "\u001b[31mConnectionError\u001b[39m: HTTPSConnectionPool(host='cdn-lfs-us-1.hf.co', port=443): Read timed out.",
      "\nDuring handling of the above exception, another exception occurred:\n",
      "\u001b[31mHTTPError\u001b[39m                                 Traceback (most recent call last)",
      "\u001b[36mFile \u001b[39m\u001b[32mc:\\Users\\Lisara\\anaconda3\\envs\\IRPenv\\Lib\\site-packages\\huggingface_hub\\utils\\_http.py:409\u001b[39m, in \u001b[36mhf_raise_for_status\u001b[39m\u001b[34m(response, endpoint_name)\u001b[39m\n\u001b[32m    408\u001b[39m \u001b[38;5;28;01mtry\u001b[39;00m:\n\u001b[32m--> \u001b[39m\u001b[32m409\u001b[39m     \u001b[43mresponse\u001b[49m\u001b[43m.\u001b[49m\u001b[43mraise_for_status\u001b[49m\u001b[43m(\u001b[49m\u001b[43m)\u001b[49m\n\u001b[32m    410\u001b[39m \u001b[38;5;28;01mexcept\u001b[39;00m HTTPError \u001b[38;5;28;01mas\u001b[39;00m e:\n",
      "\u001b[36mFile \u001b[39m\u001b[32mc:\\Users\\Lisara\\anaconda3\\envs\\IRPenv\\Lib\\site-packages\\requests\\models.py:1024\u001b[39m, in \u001b[36mResponse.raise_for_status\u001b[39m\u001b[34m(self)\u001b[39m\n\u001b[32m   1023\u001b[39m \u001b[38;5;28;01mif\u001b[39;00m http_error_msg:\n\u001b[32m-> \u001b[39m\u001b[32m1024\u001b[39m     \u001b[38;5;28;01mraise\u001b[39;00m HTTPError(http_error_msg, response=\u001b[38;5;28mself\u001b[39m)\n",
      "\u001b[31mHTTPError\u001b[39m: 403 Client Error: Forbidden for url: https://cdn-lfs-us-1.hf.co/repos/63/88/6388569e1d634cab41e6699e2366790abb879acf00621ba94a63125a0eb882f9/83162b3385b21fa06e2e9500b7b8b11a85c44951f5bf0c18fc8d8d249d185c9f?response-content-disposition=inline%3B+filename*%3DUTF-8%27%27SPIQA_train_val_Images.zip%3B+filename%3D%22SPIQA_train_val_Images.zip%22%3B&response-content-type=application%2Fzip&Expires=1743828243&Policy=eyJTdGF0ZW1lbnQiOlt7IkNvbmRpdGlvbiI6eyJEYXRlTGVzc1RoYW4iOnsiQVdTOkVwb2NoVGltZSI6MTc0MzgyODI0M319LCJSZXNvdXJjZSI6Imh0dHBzOi8vY2RuLWxmcy11cy0xLmhmLmNvL3JlcG9zLzYzLzg4LzYzODg1NjllMWQ2MzRjYWI0MWU2Njk5ZTIzNjY3OTBhYmI4NzlhY2YwMDYyMWJhOTRhNjMxMjVhMGViODgyZjkvODMxNjJiMzM4NWIyMWZhMDZlMmU5NTAwYjdiOGIxMWE4NWM0NDk1MWY1YmYwYzE4ZmM4ZDhkMjQ5ZDE4NWM5Zj9yZXNwb25zZS1jb250ZW50LWRpc3Bvc2l0aW9uPSomcmVzcG9uc2UtY29udGVudC10eXBlPSoifV19&Signature=W4uGPvqCxb60LsqtuE0807icOzLplFFoix3Dabg40PqvG~rOXpqormJFbvWcmM-pSWG-Z9~jHvEa3HutFIx3pil501MAWeoo4b4fws7ZXXKtfqaol4~YBqqjJSY3~8Mm19ZzQBNHrxffh3WsrRBgYgOSBluuOH7QVN0yTQglLmVbDtOXzk5YMFELfjgiaeWewlpaofWbF~00iiSUN3ZFj-tN3TzVKd3Hund0jF1hKj8PmemjDsAqyg8W4M6-hoNnZjsZE0zudciyuh3AdrQsGRD8OZv5bdzpxBwJSItrxdVbF8M1L2ua68XgKgP6KHZjFc3AXNfD88DI0wZDCBFhBg__&Key-Pair-Id=K24J24Z295AEI9",
      "\nThe above exception was the direct cause of the following exception:\n",
      "\u001b[31mHfHubHTTPError\u001b[39m                            Traceback (most recent call last)",
      "\u001b[36mCell\u001b[39m\u001b[36m \u001b[39m\u001b[32mIn[3]\u001b[39m\u001b[32m, line 2\u001b[39m\n\u001b[32m      1\u001b[39m \u001b[38;5;28;01mfrom\u001b[39;00m\u001b[38;5;250m \u001b[39m\u001b[34;01mhuggingface_hub\u001b[39;00m\u001b[38;5;250m \u001b[39m\u001b[38;5;28;01mimport\u001b[39;00m snapshot_download\n\u001b[32m----> \u001b[39m\u001b[32m2\u001b[39m \u001b[43msnapshot_download\u001b[49m\u001b[43m(\u001b[49m\u001b[43mrepo_id\u001b[49m\u001b[43m=\u001b[49m\u001b[33;43m\"\u001b[39;49m\u001b[33;43mgoogle/spiqa\u001b[39;49m\u001b[33;43m\"\u001b[39;49m\u001b[43m,\u001b[49m\u001b[43m \u001b[49m\u001b[43mrepo_type\u001b[49m\u001b[43m=\u001b[49m\u001b[33;43m\"\u001b[39;49m\u001b[33;43mdataset\u001b[39;49m\u001b[33;43m\"\u001b[39;49m\u001b[43m,\u001b[49m\u001b[43m \u001b[49m\u001b[43mlocal_dir\u001b[49m\u001b[43m=\u001b[49m\u001b[33;43m'\u001b[39;49m\u001b[33;43m../../../Data/spiqa/\u001b[39;49m\u001b[33;43m'\u001b[39;49m\u001b[43m)\u001b[49m \u001b[38;5;66;03m### Mention the local directory path\u001b[39;00m\n",
      "\u001b[36mFile \u001b[39m\u001b[32mc:\\Users\\Lisara\\anaconda3\\envs\\IRPenv\\Lib\\site-packages\\huggingface_hub\\utils\\_validators.py:114\u001b[39m, in \u001b[36mvalidate_hf_hub_args.<locals>._inner_fn\u001b[39m\u001b[34m(*args, **kwargs)\u001b[39m\n\u001b[32m    111\u001b[39m \u001b[38;5;28;01mif\u001b[39;00m check_use_auth_token:\n\u001b[32m    112\u001b[39m     kwargs = smoothly_deprecate_use_auth_token(fn_name=fn.\u001b[34m__name__\u001b[39m, has_token=has_token, kwargs=kwargs)\n\u001b[32m--> \u001b[39m\u001b[32m114\u001b[39m \u001b[38;5;28;01mreturn\u001b[39;00m \u001b[43mfn\u001b[49m\u001b[43m(\u001b[49m\u001b[43m*\u001b[49m\u001b[43margs\u001b[49m\u001b[43m,\u001b[49m\u001b[43m \u001b[49m\u001b[43m*\u001b[49m\u001b[43m*\u001b[49m\u001b[43mkwargs\u001b[49m\u001b[43m)\u001b[49m\n",
      "\u001b[36mFile \u001b[39m\u001b[32mc:\\Users\\Lisara\\anaconda3\\envs\\IRPenv\\Lib\\site-packages\\huggingface_hub\\_snapshot_download.py:296\u001b[39m, in \u001b[36msnapshot_download\u001b[39m\u001b[34m(repo_id, repo_type, revision, cache_dir, local_dir, library_name, library_version, user_agent, proxies, etag_timeout, force_download, token, local_files_only, allow_patterns, ignore_patterns, max_workers, tqdm_class, headers, endpoint, local_dir_use_symlinks, resume_download)\u001b[39m\n\u001b[32m    294\u001b[39m         _inner_hf_hub_download(file)\n\u001b[32m    295\u001b[39m \u001b[38;5;28;01melse\u001b[39;00m:\n\u001b[32m--> \u001b[39m\u001b[32m296\u001b[39m     \u001b[43mthread_map\u001b[49m\u001b[43m(\u001b[49m\n\u001b[32m    297\u001b[39m \u001b[43m        \u001b[49m\u001b[43m_inner_hf_hub_download\u001b[49m\u001b[43m,\u001b[49m\n\u001b[32m    298\u001b[39m \u001b[43m        \u001b[49m\u001b[43mfiltered_repo_files\u001b[49m\u001b[43m,\u001b[49m\n\u001b[32m    299\u001b[39m \u001b[43m        \u001b[49m\u001b[43mdesc\u001b[49m\u001b[43m=\u001b[49m\u001b[33;43mf\u001b[39;49m\u001b[33;43m\"\u001b[39;49m\u001b[33;43mFetching \u001b[39;49m\u001b[38;5;132;43;01m{\u001b[39;49;00m\u001b[38;5;28;43mlen\u001b[39;49m\u001b[43m(\u001b[49m\u001b[43mfiltered_repo_files\u001b[49m\u001b[43m)\u001b[49m\u001b[38;5;132;43;01m}\u001b[39;49;00m\u001b[33;43m files\u001b[39;49m\u001b[33;43m\"\u001b[39;49m\u001b[43m,\u001b[49m\n\u001b[32m    300\u001b[39m \u001b[43m        \u001b[49m\u001b[43mmax_workers\u001b[49m\u001b[43m=\u001b[49m\u001b[43mmax_workers\u001b[49m\u001b[43m,\u001b[49m\n\u001b[32m    301\u001b[39m \u001b[43m        \u001b[49m\u001b[38;5;66;43;03m# User can use its own tqdm class or the default one from `huggingface_hub.utils`\u001b[39;49;00m\n\u001b[32m    302\u001b[39m \u001b[43m        \u001b[49m\u001b[43mtqdm_class\u001b[49m\u001b[43m=\u001b[49m\u001b[43mtqdm_class\u001b[49m\u001b[43m \u001b[49m\u001b[38;5;129;43;01mor\u001b[39;49;00m\u001b[43m \u001b[49m\u001b[43mhf_tqdm\u001b[49m\u001b[43m,\u001b[49m\n\u001b[32m    303\u001b[39m \u001b[43m    \u001b[49m\u001b[43m)\u001b[49m\n\u001b[32m    305\u001b[39m \u001b[38;5;28;01mif\u001b[39;00m local_dir \u001b[38;5;129;01mis\u001b[39;00m \u001b[38;5;129;01mnot\u001b[39;00m \u001b[38;5;28;01mNone\u001b[39;00m:\n\u001b[32m    306\u001b[39m     \u001b[38;5;28;01mreturn\u001b[39;00m \u001b[38;5;28mstr\u001b[39m(os.path.realpath(local_dir))\n",
      "\u001b[36mFile \u001b[39m\u001b[32mc:\\Users\\Lisara\\anaconda3\\envs\\IRPenv\\Lib\\site-packages\\tqdm\\contrib\\concurrent.py:69\u001b[39m, in \u001b[36mthread_map\u001b[39m\u001b[34m(fn, *iterables, **tqdm_kwargs)\u001b[39m\n\u001b[32m     55\u001b[39m \u001b[38;5;250m\u001b[39m\u001b[33;03m\"\"\"\u001b[39;00m\n\u001b[32m     56\u001b[39m \u001b[33;03mEquivalent of `list(map(fn, *iterables))`\u001b[39;00m\n\u001b[32m     57\u001b[39m \u001b[33;03mdriven by `concurrent.futures.ThreadPoolExecutor`.\u001b[39;00m\n\u001b[32m   (...)\u001b[39m\u001b[32m     66\u001b[39m \u001b[33;03m    [default: max(32, cpu_count() + 4)].\u001b[39;00m\n\u001b[32m     67\u001b[39m \u001b[33;03m\"\"\"\u001b[39;00m\n\u001b[32m     68\u001b[39m \u001b[38;5;28;01mfrom\u001b[39;00m\u001b[38;5;250m \u001b[39m\u001b[34;01mconcurrent\u001b[39;00m\u001b[34;01m.\u001b[39;00m\u001b[34;01mfutures\u001b[39;00m\u001b[38;5;250m \u001b[39m\u001b[38;5;28;01mimport\u001b[39;00m ThreadPoolExecutor\n\u001b[32m---> \u001b[39m\u001b[32m69\u001b[39m \u001b[38;5;28;01mreturn\u001b[39;00m \u001b[43m_executor_map\u001b[49m\u001b[43m(\u001b[49m\u001b[43mThreadPoolExecutor\u001b[49m\u001b[43m,\u001b[49m\u001b[43m \u001b[49m\u001b[43mfn\u001b[49m\u001b[43m,\u001b[49m\u001b[43m \u001b[49m\u001b[43m*\u001b[49m\u001b[43miterables\u001b[49m\u001b[43m,\u001b[49m\u001b[43m \u001b[49m\u001b[43m*\u001b[49m\u001b[43m*\u001b[49m\u001b[43mtqdm_kwargs\u001b[49m\u001b[43m)\u001b[49m\n",
      "\u001b[36mFile \u001b[39m\u001b[32mc:\\Users\\Lisara\\anaconda3\\envs\\IRPenv\\Lib\\site-packages\\tqdm\\contrib\\concurrent.py:51\u001b[39m, in \u001b[36m_executor_map\u001b[39m\u001b[34m(PoolExecutor, fn, *iterables, **tqdm_kwargs)\u001b[39m\n\u001b[32m     47\u001b[39m \u001b[38;5;28;01mwith\u001b[39;00m ensure_lock(tqdm_class, lock_name=lock_name) \u001b[38;5;28;01mas\u001b[39;00m lk:\n\u001b[32m     48\u001b[39m     \u001b[38;5;66;03m# share lock in case workers are already using `tqdm`\u001b[39;00m\n\u001b[32m     49\u001b[39m     \u001b[38;5;28;01mwith\u001b[39;00m PoolExecutor(max_workers=max_workers, initializer=tqdm_class.set_lock,\n\u001b[32m     50\u001b[39m                       initargs=(lk,)) \u001b[38;5;28;01mas\u001b[39;00m ex:\n\u001b[32m---> \u001b[39m\u001b[32m51\u001b[39m         \u001b[38;5;28;01mreturn\u001b[39;00m \u001b[38;5;28;43mlist\u001b[39;49m\u001b[43m(\u001b[49m\u001b[43mtqdm_class\u001b[49m\u001b[43m(\u001b[49m\u001b[43mex\u001b[49m\u001b[43m.\u001b[49m\u001b[43mmap\u001b[49m\u001b[43m(\u001b[49m\u001b[43mfn\u001b[49m\u001b[43m,\u001b[49m\u001b[43m \u001b[49m\u001b[43m*\u001b[49m\u001b[43miterables\u001b[49m\u001b[43m,\u001b[49m\u001b[43m \u001b[49m\u001b[43mchunksize\u001b[49m\u001b[43m=\u001b[49m\u001b[43mchunksize\u001b[49m\u001b[43m)\u001b[49m\u001b[43m,\u001b[49m\u001b[43m \u001b[49m\u001b[43m*\u001b[49m\u001b[43m*\u001b[49m\u001b[43mkwargs\u001b[49m\u001b[43m)\u001b[49m\u001b[43m)\u001b[49m\n",
      "\u001b[36mFile \u001b[39m\u001b[32mc:\\Users\\Lisara\\anaconda3\\envs\\IRPenv\\Lib\\site-packages\\tqdm\\notebook.py:250\u001b[39m, in \u001b[36mtqdm_notebook.__iter__\u001b[39m\u001b[34m(self)\u001b[39m\n\u001b[32m    248\u001b[39m \u001b[38;5;28;01mtry\u001b[39;00m:\n\u001b[32m    249\u001b[39m     it = \u001b[38;5;28msuper\u001b[39m().\u001b[34m__iter__\u001b[39m()\n\u001b[32m--> \u001b[39m\u001b[32m250\u001b[39m \u001b[43m    \u001b[49m\u001b[38;5;28;43;01mfor\u001b[39;49;00m\u001b[43m \u001b[49m\u001b[43mobj\u001b[49m\u001b[43m \u001b[49m\u001b[38;5;129;43;01min\u001b[39;49;00m\u001b[43m \u001b[49m\u001b[43mit\u001b[49m\u001b[43m:\u001b[49m\n\u001b[32m    251\u001b[39m \u001b[43m        \u001b[49m\u001b[38;5;66;43;03m# return super(tqdm...) will not catch exception\u001b[39;49;00m\n\u001b[32m    252\u001b[39m \u001b[43m        \u001b[49m\u001b[38;5;28;43;01myield\u001b[39;49;00m\u001b[43m \u001b[49m\u001b[43mobj\u001b[49m\n\u001b[32m    253\u001b[39m \u001b[38;5;66;03m# NB: except ... [ as ...] breaks IPython async KeyboardInterrupt\u001b[39;00m\n",
      "\u001b[36mFile \u001b[39m\u001b[32mc:\\Users\\Lisara\\anaconda3\\envs\\IRPenv\\Lib\\site-packages\\tqdm\\std.py:1181\u001b[39m, in \u001b[36mtqdm.__iter__\u001b[39m\u001b[34m(self)\u001b[39m\n\u001b[32m   1178\u001b[39m time = \u001b[38;5;28mself\u001b[39m._time\n\u001b[32m   1180\u001b[39m \u001b[38;5;28;01mtry\u001b[39;00m:\n\u001b[32m-> \u001b[39m\u001b[32m1181\u001b[39m \u001b[43m    \u001b[49m\u001b[38;5;28;43;01mfor\u001b[39;49;00m\u001b[43m \u001b[49m\u001b[43mobj\u001b[49m\u001b[43m \u001b[49m\u001b[38;5;129;43;01min\u001b[39;49;00m\u001b[43m \u001b[49m\u001b[43miterable\u001b[49m\u001b[43m:\u001b[49m\n\u001b[32m   1182\u001b[39m \u001b[43m        \u001b[49m\u001b[38;5;28;43;01myield\u001b[39;49;00m\u001b[43m \u001b[49m\u001b[43mobj\u001b[49m\n\u001b[32m   1183\u001b[39m \u001b[43m        \u001b[49m\u001b[38;5;66;43;03m# Update and possibly print the progressbar.\u001b[39;49;00m\n\u001b[32m   1184\u001b[39m \u001b[43m        \u001b[49m\u001b[38;5;66;43;03m# Note: does not call self.update(1) for speed optimisation.\u001b[39;49;00m\n",
      "\u001b[36mFile \u001b[39m\u001b[32mc:\\Users\\Lisara\\anaconda3\\envs\\IRPenv\\Lib\\concurrent\\futures\\_base.py:619\u001b[39m, in \u001b[36mExecutor.map.<locals>.result_iterator\u001b[39m\u001b[34m()\u001b[39m\n\u001b[32m    616\u001b[39m \u001b[38;5;28;01mwhile\u001b[39;00m fs:\n\u001b[32m    617\u001b[39m     \u001b[38;5;66;03m# Careful not to keep a reference to the popped future\u001b[39;00m\n\u001b[32m    618\u001b[39m     \u001b[38;5;28;01mif\u001b[39;00m timeout \u001b[38;5;129;01mis\u001b[39;00m \u001b[38;5;28;01mNone\u001b[39;00m:\n\u001b[32m--> \u001b[39m\u001b[32m619\u001b[39m         \u001b[38;5;28;01myield\u001b[39;00m \u001b[43m_result_or_cancel\u001b[49m\u001b[43m(\u001b[49m\u001b[43mfs\u001b[49m\u001b[43m.\u001b[49m\u001b[43mpop\u001b[49m\u001b[43m(\u001b[49m\u001b[43m)\u001b[49m\u001b[43m)\u001b[49m\n\u001b[32m    620\u001b[39m     \u001b[38;5;28;01melse\u001b[39;00m:\n\u001b[32m    621\u001b[39m         \u001b[38;5;28;01myield\u001b[39;00m _result_or_cancel(fs.pop(), end_time - time.monotonic())\n",
      "\u001b[36mFile \u001b[39m\u001b[32mc:\\Users\\Lisara\\anaconda3\\envs\\IRPenv\\Lib\\concurrent\\futures\\_base.py:317\u001b[39m, in \u001b[36m_result_or_cancel\u001b[39m\u001b[34m(***failed resolving arguments***)\u001b[39m\n\u001b[32m    315\u001b[39m \u001b[38;5;28;01mtry\u001b[39;00m:\n\u001b[32m    316\u001b[39m     \u001b[38;5;28;01mtry\u001b[39;00m:\n\u001b[32m--> \u001b[39m\u001b[32m317\u001b[39m         \u001b[38;5;28;01mreturn\u001b[39;00m \u001b[43mfut\u001b[49m\u001b[43m.\u001b[49m\u001b[43mresult\u001b[49m\u001b[43m(\u001b[49m\u001b[43mtimeout\u001b[49m\u001b[43m)\u001b[49m\n\u001b[32m    318\u001b[39m     \u001b[38;5;28;01mfinally\u001b[39;00m:\n\u001b[32m    319\u001b[39m         fut.cancel()\n",
      "\u001b[36mFile \u001b[39m\u001b[32mc:\\Users\\Lisara\\anaconda3\\envs\\IRPenv\\Lib\\concurrent\\futures\\_base.py:456\u001b[39m, in \u001b[36mFuture.result\u001b[39m\u001b[34m(self, timeout)\u001b[39m\n\u001b[32m    454\u001b[39m     \u001b[38;5;28;01mraise\u001b[39;00m CancelledError()\n\u001b[32m    455\u001b[39m \u001b[38;5;28;01melif\u001b[39;00m \u001b[38;5;28mself\u001b[39m._state == FINISHED:\n\u001b[32m--> \u001b[39m\u001b[32m456\u001b[39m     \u001b[38;5;28;01mreturn\u001b[39;00m \u001b[38;5;28;43mself\u001b[39;49m\u001b[43m.\u001b[49m\u001b[43m__get_result\u001b[49m\u001b[43m(\u001b[49m\u001b[43m)\u001b[49m\n\u001b[32m    457\u001b[39m \u001b[38;5;28;01melse\u001b[39;00m:\n\u001b[32m    458\u001b[39m     \u001b[38;5;28;01mraise\u001b[39;00m \u001b[38;5;167;01mTimeoutError\u001b[39;00m()\n",
      "\u001b[36mFile \u001b[39m\u001b[32mc:\\Users\\Lisara\\anaconda3\\envs\\IRPenv\\Lib\\concurrent\\futures\\_base.py:401\u001b[39m, in \u001b[36mFuture.__get_result\u001b[39m\u001b[34m(self)\u001b[39m\n\u001b[32m    399\u001b[39m \u001b[38;5;28;01mif\u001b[39;00m \u001b[38;5;28mself\u001b[39m._exception:\n\u001b[32m    400\u001b[39m     \u001b[38;5;28;01mtry\u001b[39;00m:\n\u001b[32m--> \u001b[39m\u001b[32m401\u001b[39m         \u001b[38;5;28;01mraise\u001b[39;00m \u001b[38;5;28mself\u001b[39m._exception\n\u001b[32m    402\u001b[39m     \u001b[38;5;28;01mfinally\u001b[39;00m:\n\u001b[32m    403\u001b[39m         \u001b[38;5;66;03m# Break a reference cycle with the exception in self._exception\u001b[39;00m\n\u001b[32m    404\u001b[39m         \u001b[38;5;28mself\u001b[39m = \u001b[38;5;28;01mNone\u001b[39;00m\n",
      "\u001b[36mFile \u001b[39m\u001b[32mc:\\Users\\Lisara\\anaconda3\\envs\\IRPenv\\Lib\\concurrent\\futures\\thread.py:58\u001b[39m, in \u001b[36m_WorkItem.run\u001b[39m\u001b[34m(self)\u001b[39m\n\u001b[32m     55\u001b[39m     \u001b[38;5;28;01mreturn\u001b[39;00m\n\u001b[32m     57\u001b[39m \u001b[38;5;28;01mtry\u001b[39;00m:\n\u001b[32m---> \u001b[39m\u001b[32m58\u001b[39m     result = \u001b[38;5;28;43mself\u001b[39;49m\u001b[43m.\u001b[49m\u001b[43mfn\u001b[49m\u001b[43m(\u001b[49m\u001b[43m*\u001b[49m\u001b[38;5;28;43mself\u001b[39;49m\u001b[43m.\u001b[49m\u001b[43margs\u001b[49m\u001b[43m,\u001b[49m\u001b[43m \u001b[49m\u001b[43m*\u001b[49m\u001b[43m*\u001b[49m\u001b[38;5;28;43mself\u001b[39;49m\u001b[43m.\u001b[49m\u001b[43mkwargs\u001b[49m\u001b[43m)\u001b[49m\n\u001b[32m     59\u001b[39m \u001b[38;5;28;01mexcept\u001b[39;00m \u001b[38;5;167;01mBaseException\u001b[39;00m \u001b[38;5;28;01mas\u001b[39;00m exc:\n\u001b[32m     60\u001b[39m     \u001b[38;5;28mself\u001b[39m.future.set_exception(exc)\n",
      "\u001b[36mFile \u001b[39m\u001b[32mc:\\Users\\Lisara\\anaconda3\\envs\\IRPenv\\Lib\\site-packages\\huggingface_hub\\_snapshot_download.py:270\u001b[39m, in \u001b[36msnapshot_download.<locals>._inner_hf_hub_download\u001b[39m\u001b[34m(repo_file)\u001b[39m\n\u001b[32m    269\u001b[39m \u001b[38;5;28;01mdef\u001b[39;00m\u001b[38;5;250m \u001b[39m\u001b[34m_inner_hf_hub_download\u001b[39m(repo_file: \u001b[38;5;28mstr\u001b[39m):\n\u001b[32m--> \u001b[39m\u001b[32m270\u001b[39m     \u001b[38;5;28;01mreturn\u001b[39;00m \u001b[43mhf_hub_download\u001b[49m\u001b[43m(\u001b[49m\n\u001b[32m    271\u001b[39m \u001b[43m        \u001b[49m\u001b[43mrepo_id\u001b[49m\u001b[43m,\u001b[49m\n\u001b[32m    272\u001b[39m \u001b[43m        \u001b[49m\u001b[43mfilename\u001b[49m\u001b[43m=\u001b[49m\u001b[43mrepo_file\u001b[49m\u001b[43m,\u001b[49m\n\u001b[32m    273\u001b[39m \u001b[43m        \u001b[49m\u001b[43mrepo_type\u001b[49m\u001b[43m=\u001b[49m\u001b[43mrepo_type\u001b[49m\u001b[43m,\u001b[49m\n\u001b[32m    274\u001b[39m \u001b[43m        \u001b[49m\u001b[43mrevision\u001b[49m\u001b[43m=\u001b[49m\u001b[43mcommit_hash\u001b[49m\u001b[43m,\u001b[49m\n\u001b[32m    275\u001b[39m \u001b[43m        \u001b[49m\u001b[43mendpoint\u001b[49m\u001b[43m=\u001b[49m\u001b[43mendpoint\u001b[49m\u001b[43m,\u001b[49m\n\u001b[32m    276\u001b[39m \u001b[43m        \u001b[49m\u001b[43mcache_dir\u001b[49m\u001b[43m=\u001b[49m\u001b[43mcache_dir\u001b[49m\u001b[43m,\u001b[49m\n\u001b[32m    277\u001b[39m \u001b[43m        \u001b[49m\u001b[43mlocal_dir\u001b[49m\u001b[43m=\u001b[49m\u001b[43mlocal_dir\u001b[49m\u001b[43m,\u001b[49m\n\u001b[32m    278\u001b[39m \u001b[43m        \u001b[49m\u001b[43mlocal_dir_use_symlinks\u001b[49m\u001b[43m=\u001b[49m\u001b[43mlocal_dir_use_symlinks\u001b[49m\u001b[43m,\u001b[49m\n\u001b[32m    279\u001b[39m \u001b[43m        \u001b[49m\u001b[43mlibrary_name\u001b[49m\u001b[43m=\u001b[49m\u001b[43mlibrary_name\u001b[49m\u001b[43m,\u001b[49m\n\u001b[32m    280\u001b[39m \u001b[43m        \u001b[49m\u001b[43mlibrary_version\u001b[49m\u001b[43m=\u001b[49m\u001b[43mlibrary_version\u001b[49m\u001b[43m,\u001b[49m\n\u001b[32m    281\u001b[39m \u001b[43m        \u001b[49m\u001b[43muser_agent\u001b[49m\u001b[43m=\u001b[49m\u001b[43muser_agent\u001b[49m\u001b[43m,\u001b[49m\n\u001b[32m    282\u001b[39m \u001b[43m        \u001b[49m\u001b[43mproxies\u001b[49m\u001b[43m=\u001b[49m\u001b[43mproxies\u001b[49m\u001b[43m,\u001b[49m\n\u001b[32m    283\u001b[39m \u001b[43m        \u001b[49m\u001b[43metag_timeout\u001b[49m\u001b[43m=\u001b[49m\u001b[43metag_timeout\u001b[49m\u001b[43m,\u001b[49m\n\u001b[32m    284\u001b[39m \u001b[43m        \u001b[49m\u001b[43mresume_download\u001b[49m\u001b[43m=\u001b[49m\u001b[43mresume_download\u001b[49m\u001b[43m,\u001b[49m\n\u001b[32m    285\u001b[39m \u001b[43m        \u001b[49m\u001b[43mforce_download\u001b[49m\u001b[43m=\u001b[49m\u001b[43mforce_download\u001b[49m\u001b[43m,\u001b[49m\n\u001b[32m    286\u001b[39m \u001b[43m        \u001b[49m\u001b[43mtoken\u001b[49m\u001b[43m=\u001b[49m\u001b[43mtoken\u001b[49m\u001b[43m,\u001b[49m\n\u001b[32m    287\u001b[39m \u001b[43m        \u001b[49m\u001b[43mheaders\u001b[49m\u001b[43m=\u001b[49m\u001b[43mheaders\u001b[49m\u001b[43m,\u001b[49m\n\u001b[32m    288\u001b[39m \u001b[43m    \u001b[49m\u001b[43m)\u001b[49m\n",
      "\u001b[36mFile \u001b[39m\u001b[32mc:\\Users\\Lisara\\anaconda3\\envs\\IRPenv\\Lib\\site-packages\\huggingface_hub\\utils\\_validators.py:114\u001b[39m, in \u001b[36mvalidate_hf_hub_args.<locals>._inner_fn\u001b[39m\u001b[34m(*args, **kwargs)\u001b[39m\n\u001b[32m    111\u001b[39m \u001b[38;5;28;01mif\u001b[39;00m check_use_auth_token:\n\u001b[32m    112\u001b[39m     kwargs = smoothly_deprecate_use_auth_token(fn_name=fn.\u001b[34m__name__\u001b[39m, has_token=has_token, kwargs=kwargs)\n\u001b[32m--> \u001b[39m\u001b[32m114\u001b[39m \u001b[38;5;28;01mreturn\u001b[39;00m \u001b[43mfn\u001b[49m\u001b[43m(\u001b[49m\u001b[43m*\u001b[49m\u001b[43margs\u001b[49m\u001b[43m,\u001b[49m\u001b[43m \u001b[49m\u001b[43m*\u001b[49m\u001b[43m*\u001b[49m\u001b[43mkwargs\u001b[49m\u001b[43m)\u001b[49m\n",
      "\u001b[36mFile \u001b[39m\u001b[32mc:\\Users\\Lisara\\anaconda3\\envs\\IRPenv\\Lib\\site-packages\\huggingface_hub\\file_download.py:842\u001b[39m, in \u001b[36mhf_hub_download\u001b[39m\u001b[34m(repo_id, filename, subfolder, repo_type, revision, library_name, library_version, cache_dir, local_dir, user_agent, force_download, proxies, etag_timeout, token, local_files_only, headers, endpoint, resume_download, force_filename, local_dir_use_symlinks)\u001b[39m\n\u001b[32m    833\u001b[39m     \u001b[38;5;28;01mif\u001b[39;00m local_dir_use_symlinks != \u001b[33m\"\u001b[39m\u001b[33mauto\u001b[39m\u001b[33m\"\u001b[39m:\n\u001b[32m    834\u001b[39m         warnings.warn(\n\u001b[32m    835\u001b[39m             \u001b[33m\"\u001b[39m\u001b[33m`local_dir_use_symlinks` parameter is deprecated and will be ignored. \u001b[39m\u001b[33m\"\u001b[39m\n\u001b[32m    836\u001b[39m             \u001b[33m\"\u001b[39m\u001b[33mThe process to download files to a local folder has been updated and do \u001b[39m\u001b[33m\"\u001b[39m\n\u001b[32m   (...)\u001b[39m\u001b[32m    839\u001b[39m             \u001b[33m\"\u001b[39m\u001b[33mFor more details, check out https://huggingface.co/docs/huggingface_hub/main/en/guides/download#download-files-to-local-folder.\u001b[39m\u001b[33m\"\u001b[39m\n\u001b[32m    840\u001b[39m         )\n\u001b[32m--> \u001b[39m\u001b[32m842\u001b[39m     \u001b[38;5;28;01mreturn\u001b[39;00m \u001b[43m_hf_hub_download_to_local_dir\u001b[49m\u001b[43m(\u001b[49m\n\u001b[32m    843\u001b[39m \u001b[43m        \u001b[49m\u001b[38;5;66;43;03m# Destination\u001b[39;49;00m\n\u001b[32m    844\u001b[39m \u001b[43m        \u001b[49m\u001b[43mlocal_dir\u001b[49m\u001b[43m=\u001b[49m\u001b[43mlocal_dir\u001b[49m\u001b[43m,\u001b[49m\n\u001b[32m    845\u001b[39m \u001b[43m        \u001b[49m\u001b[38;5;66;43;03m# File info\u001b[39;49;00m\n\u001b[32m    846\u001b[39m \u001b[43m        \u001b[49m\u001b[43mrepo_id\u001b[49m\u001b[43m=\u001b[49m\u001b[43mrepo_id\u001b[49m\u001b[43m,\u001b[49m\n\u001b[32m    847\u001b[39m \u001b[43m        \u001b[49m\u001b[43mrepo_type\u001b[49m\u001b[43m=\u001b[49m\u001b[43mrepo_type\u001b[49m\u001b[43m,\u001b[49m\n\u001b[32m    848\u001b[39m \u001b[43m        \u001b[49m\u001b[43mfilename\u001b[49m\u001b[43m=\u001b[49m\u001b[43mfilename\u001b[49m\u001b[43m,\u001b[49m\n\u001b[32m    849\u001b[39m \u001b[43m        \u001b[49m\u001b[43mrevision\u001b[49m\u001b[43m=\u001b[49m\u001b[43mrevision\u001b[49m\u001b[43m,\u001b[49m\n\u001b[32m    850\u001b[39m \u001b[43m        \u001b[49m\u001b[38;5;66;43;03m# HTTP info\u001b[39;49;00m\n\u001b[32m    851\u001b[39m \u001b[43m        \u001b[49m\u001b[43mendpoint\u001b[49m\u001b[43m=\u001b[49m\u001b[43mendpoint\u001b[49m\u001b[43m,\u001b[49m\n\u001b[32m    852\u001b[39m \u001b[43m        \u001b[49m\u001b[43metag_timeout\u001b[49m\u001b[43m=\u001b[49m\u001b[43metag_timeout\u001b[49m\u001b[43m,\u001b[49m\n\u001b[32m    853\u001b[39m \u001b[43m        \u001b[49m\u001b[43mheaders\u001b[49m\u001b[43m=\u001b[49m\u001b[43mhf_headers\u001b[49m\u001b[43m,\u001b[49m\n\u001b[32m    854\u001b[39m \u001b[43m        \u001b[49m\u001b[43mproxies\u001b[49m\u001b[43m=\u001b[49m\u001b[43mproxies\u001b[49m\u001b[43m,\u001b[49m\n\u001b[32m    855\u001b[39m \u001b[43m        \u001b[49m\u001b[43mtoken\u001b[49m\u001b[43m=\u001b[49m\u001b[43mtoken\u001b[49m\u001b[43m,\u001b[49m\n\u001b[32m    856\u001b[39m \u001b[43m        \u001b[49m\u001b[38;5;66;43;03m# Additional options\u001b[39;49;00m\n\u001b[32m    857\u001b[39m \u001b[43m        \u001b[49m\u001b[43mcache_dir\u001b[49m\u001b[43m=\u001b[49m\u001b[43mcache_dir\u001b[49m\u001b[43m,\u001b[49m\n\u001b[32m    858\u001b[39m \u001b[43m        \u001b[49m\u001b[43mforce_download\u001b[49m\u001b[43m=\u001b[49m\u001b[43mforce_download\u001b[49m\u001b[43m,\u001b[49m\n\u001b[32m    859\u001b[39m \u001b[43m        \u001b[49m\u001b[43mlocal_files_only\u001b[49m\u001b[43m=\u001b[49m\u001b[43mlocal_files_only\u001b[49m\u001b[43m,\u001b[49m\n\u001b[32m    860\u001b[39m \u001b[43m    \u001b[49m\u001b[43m)\u001b[49m\n\u001b[32m    861\u001b[39m \u001b[38;5;28;01melse\u001b[39;00m:\n\u001b[32m    862\u001b[39m     \u001b[38;5;28;01mreturn\u001b[39;00m _hf_hub_download_to_cache_dir(\n\u001b[32m    863\u001b[39m         \u001b[38;5;66;03m# Destination\u001b[39;00m\n\u001b[32m    864\u001b[39m         cache_dir=cache_dir,\n\u001b[32m   (...)\u001b[39m\u001b[32m    878\u001b[39m         force_download=force_download,\n\u001b[32m    879\u001b[39m     )\n",
      "\u001b[36mFile \u001b[39m\u001b[32mc:\\Users\\Lisara\\anaconda3\\envs\\IRPenv\\Lib\\site-packages\\huggingface_hub\\file_download.py:1138\u001b[39m, in \u001b[36m_hf_hub_download_to_local_dir\u001b[39m\u001b[34m(local_dir, repo_id, repo_type, filename, revision, endpoint, etag_timeout, headers, proxies, token, cache_dir, force_download, local_files_only)\u001b[39m\n\u001b[32m   1136\u001b[39m \u001b[38;5;28;01mwith\u001b[39;00m WeakFileLock(paths.lock_path):\n\u001b[32m   1137\u001b[39m     paths.file_path.unlink(missing_ok=\u001b[38;5;28;01mTrue\u001b[39;00m)  \u001b[38;5;66;03m# delete outdated file first\u001b[39;00m\n\u001b[32m-> \u001b[39m\u001b[32m1138\u001b[39m     \u001b[43m_download_to_tmp_and_move\u001b[49m\u001b[43m(\u001b[49m\n\u001b[32m   1139\u001b[39m \u001b[43m        \u001b[49m\u001b[43mincomplete_path\u001b[49m\u001b[43m=\u001b[49m\u001b[43mpaths\u001b[49m\u001b[43m.\u001b[49m\u001b[43mincomplete_path\u001b[49m\u001b[43m(\u001b[49m\u001b[43metag\u001b[49m\u001b[43m)\u001b[49m\u001b[43m,\u001b[49m\n\u001b[32m   1140\u001b[39m \u001b[43m        \u001b[49m\u001b[43mdestination_path\u001b[49m\u001b[43m=\u001b[49m\u001b[43mpaths\u001b[49m\u001b[43m.\u001b[49m\u001b[43mfile_path\u001b[49m\u001b[43m,\u001b[49m\n\u001b[32m   1141\u001b[39m \u001b[43m        \u001b[49m\u001b[43murl_to_download\u001b[49m\u001b[43m=\u001b[49m\u001b[43murl_to_download\u001b[49m\u001b[43m,\u001b[49m\n\u001b[32m   1142\u001b[39m \u001b[43m        \u001b[49m\u001b[43mproxies\u001b[49m\u001b[43m=\u001b[49m\u001b[43mproxies\u001b[49m\u001b[43m,\u001b[49m\n\u001b[32m   1143\u001b[39m \u001b[43m        \u001b[49m\u001b[43mheaders\u001b[49m\u001b[43m=\u001b[49m\u001b[43mheaders\u001b[49m\u001b[43m,\u001b[49m\n\u001b[32m   1144\u001b[39m \u001b[43m        \u001b[49m\u001b[43mexpected_size\u001b[49m\u001b[43m=\u001b[49m\u001b[43mexpected_size\u001b[49m\u001b[43m,\u001b[49m\n\u001b[32m   1145\u001b[39m \u001b[43m        \u001b[49m\u001b[43mfilename\u001b[49m\u001b[43m=\u001b[49m\u001b[43mfilename\u001b[49m\u001b[43m,\u001b[49m\n\u001b[32m   1146\u001b[39m \u001b[43m        \u001b[49m\u001b[43mforce_download\u001b[49m\u001b[43m=\u001b[49m\u001b[43mforce_download\u001b[49m\u001b[43m,\u001b[49m\n\u001b[32m   1147\u001b[39m \u001b[43m    \u001b[49m\u001b[43m)\u001b[49m\n\u001b[32m   1149\u001b[39m write_download_metadata(local_dir=local_dir, filename=filename, commit_hash=commit_hash, etag=etag)\n\u001b[32m   1150\u001b[39m \u001b[38;5;28;01mreturn\u001b[39;00m \u001b[38;5;28mstr\u001b[39m(paths.file_path)\n",
      "\u001b[36mFile \u001b[39m\u001b[32mc:\\Users\\Lisara\\anaconda3\\envs\\IRPenv\\Lib\\site-packages\\huggingface_hub\\file_download.py:1547\u001b[39m, in \u001b[36m_download_to_tmp_and_move\u001b[39m\u001b[34m(incomplete_path, destination_path, url_to_download, proxies, headers, expected_size, filename, force_download)\u001b[39m\n\u001b[32m   1544\u001b[39m         _check_disk_space(expected_size, incomplete_path.parent)\n\u001b[32m   1545\u001b[39m         _check_disk_space(expected_size, destination_path.parent)\n\u001b[32m-> \u001b[39m\u001b[32m1547\u001b[39m     \u001b[43mhttp_get\u001b[49m\u001b[43m(\u001b[49m\n\u001b[32m   1548\u001b[39m \u001b[43m        \u001b[49m\u001b[43murl_to_download\u001b[49m\u001b[43m,\u001b[49m\n\u001b[32m   1549\u001b[39m \u001b[43m        \u001b[49m\u001b[43mf\u001b[49m\u001b[43m,\u001b[49m\n\u001b[32m   1550\u001b[39m \u001b[43m        \u001b[49m\u001b[43mproxies\u001b[49m\u001b[43m=\u001b[49m\u001b[43mproxies\u001b[49m\u001b[43m,\u001b[49m\n\u001b[32m   1551\u001b[39m \u001b[43m        \u001b[49m\u001b[43mresume_size\u001b[49m\u001b[43m=\u001b[49m\u001b[43mresume_size\u001b[49m\u001b[43m,\u001b[49m\n\u001b[32m   1552\u001b[39m \u001b[43m        \u001b[49m\u001b[43mheaders\u001b[49m\u001b[43m=\u001b[49m\u001b[43mheaders\u001b[49m\u001b[43m,\u001b[49m\n\u001b[32m   1553\u001b[39m \u001b[43m        \u001b[49m\u001b[43mexpected_size\u001b[49m\u001b[43m=\u001b[49m\u001b[43mexpected_size\u001b[49m\u001b[43m,\u001b[49m\n\u001b[32m   1554\u001b[39m \u001b[43m    \u001b[49m\u001b[43m)\u001b[49m\n\u001b[32m   1556\u001b[39m logger.info(\u001b[33mf\u001b[39m\u001b[33m\"\u001b[39m\u001b[33mDownload complete. Moving file to \u001b[39m\u001b[38;5;132;01m{\u001b[39;00mdestination_path\u001b[38;5;132;01m}\u001b[39;00m\u001b[33m\"\u001b[39m)\n\u001b[32m   1557\u001b[39m _chmod_and_move(incomplete_path, destination_path)\n",
      "\u001b[36mFile \u001b[39m\u001b[32mc:\\Users\\Lisara\\anaconda3\\envs\\IRPenv\\Lib\\site-packages\\huggingface_hub\\file_download.py:471\u001b[39m, in \u001b[36mhttp_get\u001b[39m\u001b[34m(url, temp_file, proxies, resume_size, headers, expected_size, displayed_filename, _nb_retries, _tqdm_bar)\u001b[39m\n\u001b[32m    469\u001b[39m         time.sleep(\u001b[32m1\u001b[39m)\n\u001b[32m    470\u001b[39m         reset_sessions()  \u001b[38;5;66;03m# In case of SSLError it's best to reset the shared requests.Session objects\u001b[39;00m\n\u001b[32m--> \u001b[39m\u001b[32m471\u001b[39m         \u001b[38;5;28;01mreturn\u001b[39;00m \u001b[43mhttp_get\u001b[49m\u001b[43m(\u001b[49m\n\u001b[32m    472\u001b[39m \u001b[43m            \u001b[49m\u001b[43murl\u001b[49m\u001b[43m=\u001b[49m\u001b[43murl\u001b[49m\u001b[43m,\u001b[49m\n\u001b[32m    473\u001b[39m \u001b[43m            \u001b[49m\u001b[43mtemp_file\u001b[49m\u001b[43m=\u001b[49m\u001b[43mtemp_file\u001b[49m\u001b[43m,\u001b[49m\n\u001b[32m    474\u001b[39m \u001b[43m            \u001b[49m\u001b[43mproxies\u001b[49m\u001b[43m=\u001b[49m\u001b[43mproxies\u001b[49m\u001b[43m,\u001b[49m\n\u001b[32m    475\u001b[39m \u001b[43m            \u001b[49m\u001b[43mresume_size\u001b[49m\u001b[43m=\u001b[49m\u001b[43mnew_resume_size\u001b[49m\u001b[43m,\u001b[49m\n\u001b[32m    476\u001b[39m \u001b[43m            \u001b[49m\u001b[43mheaders\u001b[49m\u001b[43m=\u001b[49m\u001b[43minitial_headers\u001b[49m\u001b[43m,\u001b[49m\n\u001b[32m    477\u001b[39m \u001b[43m            \u001b[49m\u001b[43mexpected_size\u001b[49m\u001b[43m=\u001b[49m\u001b[43mexpected_size\u001b[49m\u001b[43m,\u001b[49m\n\u001b[32m    478\u001b[39m \u001b[43m            \u001b[49m\u001b[43m_nb_retries\u001b[49m\u001b[43m=\u001b[49m\u001b[43m_nb_retries\u001b[49m\u001b[43m \u001b[49m\u001b[43m-\u001b[49m\u001b[43m \u001b[49m\u001b[32;43m1\u001b[39;49m\u001b[43m,\u001b[49m\n\u001b[32m    479\u001b[39m \u001b[43m            \u001b[49m\u001b[43m_tqdm_bar\u001b[49m\u001b[43m=\u001b[49m\u001b[43m_tqdm_bar\u001b[49m\u001b[43m,\u001b[49m\n\u001b[32m    480\u001b[39m \u001b[43m        \u001b[49m\u001b[43m)\u001b[49m\n\u001b[32m    482\u001b[39m \u001b[38;5;28;01mif\u001b[39;00m expected_size \u001b[38;5;129;01mis\u001b[39;00m \u001b[38;5;129;01mnot\u001b[39;00m \u001b[38;5;28;01mNone\u001b[39;00m \u001b[38;5;129;01mand\u001b[39;00m expected_size != temp_file.tell():\n\u001b[32m    483\u001b[39m     \u001b[38;5;28;01mraise\u001b[39;00m \u001b[38;5;167;01mEnvironmentError\u001b[39;00m(\n\u001b[32m    484\u001b[39m         consistency_error_message.format(\n\u001b[32m    485\u001b[39m             actual_size=temp_file.tell(),\n\u001b[32m    486\u001b[39m         )\n\u001b[32m    487\u001b[39m     )\n",
      "\u001b[36mFile \u001b[39m\u001b[32mc:\\Users\\Lisara\\anaconda3\\envs\\IRPenv\\Lib\\site-packages\\huggingface_hub\\file_download.py:471\u001b[39m, in \u001b[36mhttp_get\u001b[39m\u001b[34m(url, temp_file, proxies, resume_size, headers, expected_size, displayed_filename, _nb_retries, _tqdm_bar)\u001b[39m\n\u001b[32m    469\u001b[39m         time.sleep(\u001b[32m1\u001b[39m)\n\u001b[32m    470\u001b[39m         reset_sessions()  \u001b[38;5;66;03m# In case of SSLError it's best to reset the shared requests.Session objects\u001b[39;00m\n\u001b[32m--> \u001b[39m\u001b[32m471\u001b[39m         \u001b[38;5;28;01mreturn\u001b[39;00m \u001b[43mhttp_get\u001b[49m\u001b[43m(\u001b[49m\n\u001b[32m    472\u001b[39m \u001b[43m            \u001b[49m\u001b[43murl\u001b[49m\u001b[43m=\u001b[49m\u001b[43murl\u001b[49m\u001b[43m,\u001b[49m\n\u001b[32m    473\u001b[39m \u001b[43m            \u001b[49m\u001b[43mtemp_file\u001b[49m\u001b[43m=\u001b[49m\u001b[43mtemp_file\u001b[49m\u001b[43m,\u001b[49m\n\u001b[32m    474\u001b[39m \u001b[43m            \u001b[49m\u001b[43mproxies\u001b[49m\u001b[43m=\u001b[49m\u001b[43mproxies\u001b[49m\u001b[43m,\u001b[49m\n\u001b[32m    475\u001b[39m \u001b[43m            \u001b[49m\u001b[43mresume_size\u001b[49m\u001b[43m=\u001b[49m\u001b[43mnew_resume_size\u001b[49m\u001b[43m,\u001b[49m\n\u001b[32m    476\u001b[39m \u001b[43m            \u001b[49m\u001b[43mheaders\u001b[49m\u001b[43m=\u001b[49m\u001b[43minitial_headers\u001b[49m\u001b[43m,\u001b[49m\n\u001b[32m    477\u001b[39m \u001b[43m            \u001b[49m\u001b[43mexpected_size\u001b[49m\u001b[43m=\u001b[49m\u001b[43mexpected_size\u001b[49m\u001b[43m,\u001b[49m\n\u001b[32m    478\u001b[39m \u001b[43m            \u001b[49m\u001b[43m_nb_retries\u001b[49m\u001b[43m=\u001b[49m\u001b[43m_nb_retries\u001b[49m\u001b[43m \u001b[49m\u001b[43m-\u001b[49m\u001b[43m \u001b[49m\u001b[32;43m1\u001b[39;49m\u001b[43m,\u001b[49m\n\u001b[32m    479\u001b[39m \u001b[43m            \u001b[49m\u001b[43m_tqdm_bar\u001b[49m\u001b[43m=\u001b[49m\u001b[43m_tqdm_bar\u001b[49m\u001b[43m,\u001b[49m\n\u001b[32m    480\u001b[39m \u001b[43m        \u001b[49m\u001b[43m)\u001b[49m\n\u001b[32m    482\u001b[39m \u001b[38;5;28;01mif\u001b[39;00m expected_size \u001b[38;5;129;01mis\u001b[39;00m \u001b[38;5;129;01mnot\u001b[39;00m \u001b[38;5;28;01mNone\u001b[39;00m \u001b[38;5;129;01mand\u001b[39;00m expected_size != temp_file.tell():\n\u001b[32m    483\u001b[39m     \u001b[38;5;28;01mraise\u001b[39;00m \u001b[38;5;167;01mEnvironmentError\u001b[39;00m(\n\u001b[32m    484\u001b[39m         consistency_error_message.format(\n\u001b[32m    485\u001b[39m             actual_size=temp_file.tell(),\n\u001b[32m    486\u001b[39m         )\n\u001b[32m    487\u001b[39m     )\n",
      "\u001b[36mFile \u001b[39m\u001b[32mc:\\Users\\Lisara\\anaconda3\\envs\\IRPenv\\Lib\\site-packages\\huggingface_hub\\file_download.py:371\u001b[39m, in \u001b[36mhttp_get\u001b[39m\u001b[34m(url, temp_file, proxies, resume_size, headers, expected_size, displayed_filename, _nb_retries, _tqdm_bar)\u001b[39m\n\u001b[32m    368\u001b[39m \u001b[38;5;28;01mif\u001b[39;00m resume_size > \u001b[32m0\u001b[39m:\n\u001b[32m    369\u001b[39m     headers[\u001b[33m\"\u001b[39m\u001b[33mRange\u001b[39m\u001b[33m\"\u001b[39m] = _adjust_range_header(headers.get(\u001b[33m\"\u001b[39m\u001b[33mRange\u001b[39m\u001b[33m\"\u001b[39m), resume_size)\n\u001b[32m--> \u001b[39m\u001b[32m371\u001b[39m r = \u001b[43m_request_wrapper\u001b[49m\u001b[43m(\u001b[49m\n\u001b[32m    372\u001b[39m \u001b[43m    \u001b[49m\u001b[43mmethod\u001b[49m\u001b[43m=\u001b[49m\u001b[33;43m\"\u001b[39;49m\u001b[33;43mGET\u001b[39;49m\u001b[33;43m\"\u001b[39;49m\u001b[43m,\u001b[49m\u001b[43m \u001b[49m\u001b[43murl\u001b[49m\u001b[43m=\u001b[49m\u001b[43murl\u001b[49m\u001b[43m,\u001b[49m\u001b[43m \u001b[49m\u001b[43mstream\u001b[49m\u001b[43m=\u001b[49m\u001b[38;5;28;43;01mTrue\u001b[39;49;00m\u001b[43m,\u001b[49m\u001b[43m \u001b[49m\u001b[43mproxies\u001b[49m\u001b[43m=\u001b[49m\u001b[43mproxies\u001b[49m\u001b[43m,\u001b[49m\u001b[43m \u001b[49m\u001b[43mheaders\u001b[49m\u001b[43m=\u001b[49m\u001b[43mheaders\u001b[49m\u001b[43m,\u001b[49m\u001b[43m \u001b[49m\u001b[43mtimeout\u001b[49m\u001b[43m=\u001b[49m\u001b[43mconstants\u001b[49m\u001b[43m.\u001b[49m\u001b[43mHF_HUB_DOWNLOAD_TIMEOUT\u001b[49m\n\u001b[32m    373\u001b[39m \u001b[43m\u001b[49m\u001b[43m)\u001b[49m\n\u001b[32m    374\u001b[39m hf_raise_for_status(r)\n\u001b[32m    375\u001b[39m content_length = r.headers.get(\u001b[33m\"\u001b[39m\u001b[33mContent-Length\u001b[39m\u001b[33m\"\u001b[39m)\n",
      "\u001b[36mFile \u001b[39m\u001b[32mc:\\Users\\Lisara\\anaconda3\\envs\\IRPenv\\Lib\\site-packages\\huggingface_hub\\file_download.py:304\u001b[39m, in \u001b[36m_request_wrapper\u001b[39m\u001b[34m(method, url, follow_relative_redirects, **params)\u001b[39m\n\u001b[32m    302\u001b[39m \u001b[38;5;66;03m# Perform request and return if status_code is not in the retry list.\u001b[39;00m\n\u001b[32m    303\u001b[39m response = get_session().request(method=method, url=url, **params)\n\u001b[32m--> \u001b[39m\u001b[32m304\u001b[39m \u001b[43mhf_raise_for_status\u001b[49m\u001b[43m(\u001b[49m\u001b[43mresponse\u001b[49m\u001b[43m)\u001b[49m\n\u001b[32m    305\u001b[39m \u001b[38;5;28;01mreturn\u001b[39;00m response\n",
      "\u001b[36mFile \u001b[39m\u001b[32mc:\\Users\\Lisara\\anaconda3\\envs\\IRPenv\\Lib\\site-packages\\huggingface_hub\\utils\\_http.py:472\u001b[39m, in \u001b[36mhf_raise_for_status\u001b[39m\u001b[34m(response, endpoint_name)\u001b[39m\n\u001b[32m    466\u001b[39m \u001b[38;5;28;01melif\u001b[39;00m response.status_code == \u001b[32m403\u001b[39m:\n\u001b[32m    467\u001b[39m     message = (\n\u001b[32m    468\u001b[39m         \u001b[33mf\u001b[39m\u001b[33m\"\u001b[39m\u001b[38;5;130;01m\\n\u001b[39;00m\u001b[38;5;130;01m\\n\u001b[39;00m\u001b[38;5;132;01m{\u001b[39;00mresponse.status_code\u001b[38;5;132;01m}\u001b[39;00m\u001b[33m Forbidden: \u001b[39m\u001b[38;5;132;01m{\u001b[39;00merror_message\u001b[38;5;132;01m}\u001b[39;00m\u001b[33m.\u001b[39m\u001b[33m\"\u001b[39m\n\u001b[32m    469\u001b[39m         + \u001b[33mf\u001b[39m\u001b[33m\"\u001b[39m\u001b[38;5;130;01m\\n\u001b[39;00m\u001b[33mCannot access content at: \u001b[39m\u001b[38;5;132;01m{\u001b[39;00mresponse.url\u001b[38;5;132;01m}\u001b[39;00m\u001b[33m.\u001b[39m\u001b[33m\"\u001b[39m\n\u001b[32m    470\u001b[39m         + \u001b[33m\"\u001b[39m\u001b[38;5;130;01m\\n\u001b[39;00m\u001b[33mMake sure your token has the correct permissions.\u001b[39m\u001b[33m\"\u001b[39m\n\u001b[32m    471\u001b[39m     )\n\u001b[32m--> \u001b[39m\u001b[32m472\u001b[39m     \u001b[38;5;28;01mraise\u001b[39;00m _format(HfHubHTTPError, message, response) \u001b[38;5;28;01mfrom\u001b[39;00m\u001b[38;5;250m \u001b[39m\u001b[34;01me\u001b[39;00m\n\u001b[32m    474\u001b[39m \u001b[38;5;28;01melif\u001b[39;00m response.status_code == \u001b[32m416\u001b[39m:\n\u001b[32m    475\u001b[39m     range_header = response.request.headers.get(\u001b[33m\"\u001b[39m\u001b[33mRange\u001b[39m\u001b[33m\"\u001b[39m)\n",
      "\u001b[31mHfHubHTTPError\u001b[39m: 403 Forbidden: None.\nCannot access content at: https://cdn-lfs-us-1.hf.co/repos/63/88/6388569e1d634cab41e6699e2366790abb879acf00621ba94a63125a0eb882f9/83162b3385b21fa06e2e9500b7b8b11a85c44951f5bf0c18fc8d8d249d185c9f?response-content-disposition=inline%3B+filename*%3DUTF-8%27%27SPIQA_train_val_Images.zip%3B+filename%3D%22SPIQA_train_val_Images.zip%22%3B&response-content-type=application%2Fzip&Expires=1743828243&Policy=eyJTdGF0ZW1lbnQiOlt7IkNvbmRpdGlvbiI6eyJEYXRlTGVzc1RoYW4iOnsiQVdTOkVwb2NoVGltZSI6MTc0MzgyODI0M319LCJSZXNvdXJjZSI6Imh0dHBzOi8vY2RuLWxmcy11cy0xLmhmLmNvL3JlcG9zLzYzLzg4LzYzODg1NjllMWQ2MzRjYWI0MWU2Njk5ZTIzNjY3OTBhYmI4NzlhY2YwMDYyMWJhOTRhNjMxMjVhMGViODgyZjkvODMxNjJiMzM4NWIyMWZhMDZlMmU5NTAwYjdiOGIxMWE4NWM0NDk1MWY1YmYwYzE4ZmM4ZDhkMjQ5ZDE4NWM5Zj9yZXNwb25zZS1jb250ZW50LWRpc3Bvc2l0aW9uPSomcmVzcG9uc2UtY29udGVudC10eXBlPSoifV19&Signature=W4uGPvqCxb60LsqtuE0807icOzLplFFoix3Dabg40PqvG~rOXpqormJFbvWcmM-pSWG-Z9~jHvEa3HutFIx3pil501MAWeoo4b4fws7ZXXKtfqaol4~YBqqjJSY3~8Mm19ZzQBNHrxffh3WsrRBgYgOSBluuOH7QVN0yTQglLmVbDtOXzk5YMFELfjgiaeWewlpaofWbF~00iiSUN3ZFj-tN3TzVKd3Hund0jF1hKj8PmemjDsAqyg8W4M6-hoNnZjsZE0zudciyuh3AdrQsGRD8OZv5bdzpxBwJSItrxdVbF8M1L2ua68XgKgP6KHZjFc3AXNfD88DI0wZDCBFhBg__&Key-Pair-Id=K24J24Z295AEI9.\nMake sure your token has the correct permissions.\n<?xml version=\"1.0\" encoding=\"UTF-8\"?><Error><Code>AccessDenied</Code><Message>Access denied</Message></Error>"
     ]
    }
   ],
   "source": [
    "from huggingface_hub import snapshot_download\n",
    "snapshot_download(repo_id=\"google/spiqa\", repo_type=\"dataset\", local_dir='../../../Data/spiqa/') ### Mention the local directory path\n"
   ]
  },
  {
   "cell_type": "markdown",
   "metadata": {},
   "source": [
    "## Json File EDA"
   ]
  },
  {
   "cell_type": "code",
   "execution_count": 1,
   "metadata": {},
   "outputs": [],
   "source": [
    "import json"
   ]
  },
  {
   "cell_type": "code",
   "execution_count": 3,
   "metadata": {},
   "outputs": [],
   "source": [
    "with open('../../../Data/spiqa/test-B/SPIQA_testB.json') as f:\n",
    "    spiqa_d = json.load(f)"
   ]
  },
  {
   "cell_type": "code",
   "execution_count": 5,
   "metadata": {},
   "outputs": [
    {
     "data": {
      "text/plain": [
       "dict_keys(['1506.06579', '2204.11673', '1804.02767', '1502.04681', '1505.07293', '1506.02640', '1511.07247', '1507.06228', '1704.06904', '1603.05959', '2208.01626', '2103.12204', '1609.08144', '1508.04025', '2204.03458', '2204.08110', '1511.04599', '2301.00122', '1508.06576', '2210.15541', '2209.02939', '2210.01504', '2007.08294', '2110.05379', '2210.12302', '2206.03715', '2102.01373', '1911.03814', '1708.07747', '1703.06870', '2212.10560', '1812.02833', '1512.03385', '1804.06655', '1606.04797', '2004.04092', '1706.03762', '1704.04861', '1602.03409', '1511.04587', '1801.06146', '2201.06009', '1506.03340', '1801.04381', '1503.04069', '1503.02531', '1506.07503', '1711.09020', '2112.05364', '1508.06615', '1611.01603', '2202.03036', '1706.02216', '1703.10593', '1703.05175', '1703.03400', '1809.11096', '1602.02697', '1612.08242', '1610.06475', '1707.01083', '1707.07012', '1708.02002', '1312.6114', '2105.05233'])"
      ]
     },
     "execution_count": 5,
     "metadata": {},
     "output_type": "execute_result"
    }
   ],
   "source": [
    "spiqa_d.keys()"
   ]
  },
  {
   "cell_type": "code",
   "execution_count": 6,
   "metadata": {},
   "outputs": [
    {
     "data": {
      "text/plain": [
       "dict_keys(['paper_id', 'title', 'arxiv_url', 's2orc_url', 'all_figures_tables', 'referred_figures_tables', 'question_id', 'question', 'question_section', 'question_trigger_sentence', 'question_type', 'evidential_info', 'composition', 'Is_figure_in_evidence', 'Is_table_in_evidence', 'question_key', 'passages', 'figure_types'])"
      ]
     },
     "execution_count": 6,
     "metadata": {},
     "output_type": "execute_result"
    }
   ],
   "source": [
    "spiqa_d['1506.06579'].keys()"
   ]
  },
  {
   "cell_type": "code",
   "execution_count": 41,
   "metadata": {},
   "outputs": [
    {
     "data": {
      "text/plain": [
       "['1506.06579',\n",
       " '2204.11673',\n",
       " '1804.02767',\n",
       " '1502.04681',\n",
       " '1505.07293',\n",
       " '1506.02640',\n",
       " '1511.07247',\n",
       " '1507.06228',\n",
       " '1704.06904',\n",
       " '1603.05959',\n",
       " '2208.01626',\n",
       " '2103.12204',\n",
       " '1609.08144',\n",
       " '1508.04025',\n",
       " '2204.03458',\n",
       " '2204.08110',\n",
       " '1511.04599',\n",
       " '2301.00122',\n",
       " '1508.06576',\n",
       " '2210.15541',\n",
       " '2209.02939',\n",
       " '2210.01504',\n",
       " '2007.08294',\n",
       " '2110.05379',\n",
       " '2210.12302',\n",
       " '2206.03715',\n",
       " '2102.01373',\n",
       " '1911.03814',\n",
       " '1708.07747',\n",
       " '1703.06870',\n",
       " '2212.10560',\n",
       " '1812.02833',\n",
       " '1512.03385',\n",
       " '1804.06655',\n",
       " '1606.04797',\n",
       " '2004.04092',\n",
       " '1706.03762',\n",
       " '1704.04861',\n",
       " '1602.03409',\n",
       " '1511.04587',\n",
       " '1801.06146',\n",
       " '2201.06009',\n",
       " '1506.03340',\n",
       " '1801.04381',\n",
       " '1503.04069',\n",
       " '1503.02531',\n",
       " '1506.07503',\n",
       " '1711.09020',\n",
       " '2112.05364',\n",
       " '1508.06615',\n",
       " '1611.01603',\n",
       " '2202.03036',\n",
       " '1706.02216',\n",
       " '1703.10593',\n",
       " '1703.05175',\n",
       " '1703.03400',\n",
       " '1809.11096',\n",
       " '1602.02697',\n",
       " '1612.08242',\n",
       " '1610.06475',\n",
       " '1707.01083',\n",
       " '1707.07012',\n",
       " '1708.02002',\n",
       " '1312.6114',\n",
       " '2105.05233']"
      ]
     },
     "execution_count": 41,
     "metadata": {},
     "output_type": "execute_result"
    }
   ],
   "source": [
    "doc_keys_json = list(spiqa_d.keys())\n",
    "doc_keys_json"
   ]
  },
  {
   "cell_type": "code",
   "execution_count": 7,
   "metadata": {},
   "outputs": [
    {
     "data": {
      "text/plain": [
       "{'paper_id': 'paper_10',\n",
       " 'title': 'Understanding Neural Networks Through Deep Visualization',\n",
       " 'arxiv_url': 'https://arxiv.org/abs/1506.06579',\n",
       " 's2orc_url': 'https://www.semanticscholar.org/paper/1b5a24639fa80056d1a17b15f6997d10e76cc731',\n",
       " 'all_figures_tables': {'1b5a24639fa80056d1a17b15f6997d10e76cc731/3-Figure1-1.png': 'Figure 1. The bottom shows a screenshot from the interactive visualization software. The webcam input is shown, along with the whole layer of conv5 activations. The selected channel pane shows an enlarged version of the 13x13 conv5151 channel activations. Below it, the deconv starting at the selected channel is shown. On the right, three selections of nine images are shown: synthetic images produced using the regularized gradient ascent methods described in Section 3, the top 9 image patches from the training set (the images from the training set that caused the highest activations for the selected channel), and the deconv of the those top 9 images. All areas highlighted with a green star relate to the particular selected channel, here conv5151; when the selection changes, these panels update. The top depicts enlarged numerical optimization results for this and other channels. conv52 is a channel that responds most strongly to dog faces (as evidenced by the top nine images, which are not shown due to space constraints), but it also responds to flowers on the blanket on the bottom and half way up the right side of the image (as seen in the inset red highlight). This response to flowers can be partially seen in the optimized images but would be missed in an analysis focusing only on the top nine images and their deconv versions, which contain no flowers. conv5151 detects different types of faces. The top nine images are all of human faces, but here we see it responds also to the cat’s face (and in Figure 2 a lion’s face). Finally, conv5111 activates strongly for the cat’s face, the optimized images show catlike fur and ears, and the top nine images (not shown here) are also all of cats. For this image, the softmax output layer top two predictions are “Egyptian Cat” and “Computer Keyboard.” All figures in this paper are best viewed digitally, in color, significantly zoomed in.',\n",
       "  '1b5a24639fa80056d1a17b15f6997d10e76cc731/5-Figure2-1.png': 'Figure 2. A view of the 13×13 activations of the 151st channel on the conv5 layer of a deep neural network trained on ImageNet, a dataset that does not contain a face class, but does contain many images with faces. The channel responds to human and animal faces and is robust to changes in scale, pose, lighting, and context, which can be discerned by a user by actively changing the scene in front of a webcam or by loading static images (e.g. of the lions) and seeing the corresponding response of the unit. Photo of lions via Flickr user arnolouise, licensed under CC BY-NC-SA 2.0.',\n",
       "  '1b5a24639fa80056d1a17b15f6997d10e76cc731/7-Figure4-1.png': 'Figure 4. Visualizations of the preferred inputs for different class units on layer fc8, the 1000-dimensional output of the network just before the final softmax. In the lower left are 9 visualizations each (in 3×3 grids) for four different sets of regularization hyperparameters for the Gorilla class (Table 1). For all other classes, we have selected four interpretable visualizations produced by our regularized optimization method. We chose the four combinations of regularization hyperparameters by performing a random hyperparameter search and selecting combinations that complement each other. For example, the lower left quadrant tends to show lower frequency patterns, the upper right shows high frequency patterns, and the upper left shows a sparse set of important regions. Often greater intuition can be gleaned by considering all four at once. In nearly every case, we have found that one can guess what class a neuron represents by viewing sets of these optimized, preferred images. Best viewed electronically, zoomed in.7',\n",
       "  '1b5a24639fa80056d1a17b15f6997d10e76cc731/8-Figure5-1.png': 'Figure 5. Visualization of example features of eight layers of a deep, convolutional neural network. The images reflect the true sizes of the features at different layers. In each layer, we show visualizations from 4 random gradient descent runs for each channel. While these images are hand picked to showcase the diversity and interpretability of the visualizations, one image for each filter of all five convolutional layers is shown in Figure S1 in supplementary information. One can recognize important features of objects at different scales, such as edges, corners, wheels, eyes, shoulders, faces, handles, bottles, etc. The visualizations show the increase in complexity and variation on higher layers, comprised of simpler components from lower layers. The variation of patterns increases with increasing layer number, indicating that increasingly invariant representations are learned. In particular, the jump from Layer 5 (the last convolution layer) to Layer 6 (the first fully-connected layer) brings about a large increase in variation. Best viewed electronically, zoomed in.',\n",
       "  '1b5a24639fa80056d1a17b15f6997d10e76cc731/9-Figure3-1.png': 'Figure 3. The effects of each regularization method from Section 3 when used individually. Each of the four rows shows a linear sweep in hyperparameter space from no regularization (left) to strong regularization (right). When applied too strongly, some regularizations cause the optimization to fail (e.g. L2 decay, top row) or the images to be less interpretable (small norm and small contribution clipping, bottom two rows). For this reason, a random hyperparameter search was useful for finding joint hyperparameter settings that worked well together (see Figure 4). Best viewed electronically, zoomed in.',\n",
       "  '1b5a24639fa80056d1a17b15f6997d10e76cc731/9-Table1-1.png': 'Table 1. Four hyperparameter combinations that produce different styles of recognizable images. We identified these four after reviewing images produced by 300 randomly selected hyperparameter combinations. From top to bottom, they are the hyperparameter combinations that produced the top-left, top-right, bottomleft, and bottom-right Gorilla class visualizations, respectively, in Figure 4. The third row hyperparameters produced most of the visualizations for the other classes in Figure 4, and all of those in Figure 5.'},\n",
       " 'referred_figures_tables': [['1b5a24639fa80056d1a17b15f6997d10e76cc731/9-Figure3-1.png',\n",
       "   '1b5a24639fa80056d1a17b15f6997d10e76cc731/7-Figure4-1.png',\n",
       "   '1b5a24639fa80056d1a17b15f6997d10e76cc731/8-Figure5-1.png',\n",
       "   '1b5a24639fa80056d1a17b15f6997d10e76cc731/9-Table1-1.png'],\n",
       "  ['1b5a24639fa80056d1a17b15f6997d10e76cc731/9-Figure3-1.png',\n",
       "   '1b5a24639fa80056d1a17b15f6997d10e76cc731/7-Figure4-1.png'],\n",
       "  ['1b5a24639fa80056d1a17b15f6997d10e76cc731/9-Figure3-1.png',\n",
       "   '1b5a24639fa80056d1a17b15f6997d10e76cc731/7-Figure4-1.png',\n",
       "   '1b5a24639fa80056d1a17b15f6997d10e76cc731/8-Figure5-1.png',\n",
       "   '1b5a24639fa80056d1a17b15f6997d10e76cc731/9-Table1-1.png']],\n",
       " 'question_id': [15, 17, 16],\n",
       " 'question': ['For the images used for visualization in the paper, were they selected randomly or picked by the authors?',\n",
       "  'What is meant by \"linear sweep\" in hyperparameter space?',\n",
       "  'How many hyperparameter combinations were used for the random hyperparameter search?'],\n",
       " 'question_section': ['Visualizing via Regularized Optimization',\n",
       "  'Visualizing via Regularized Optimization',\n",
       "  'Visualizing via Regularized Optimization'],\n",
       " 'question_trigger_sentence': ['Figure 5. Visualization of example features of eight layers of a deep, convolutional neural network. The images reflect the true sizes of the features at different layers. In each layer, we show visualizations from 4 random gradient descent runs for each channel.',\n",
       "  'Figure 3. The effects of each regularization method from Section 3 when used individually. Each of the four rows shows a linear sweep in hyperparameter space from no regularization (left) to strong regularization (right).',\n",
       "  'While each of these regularization methods helps on its own, in combination they are even more effective. We found useful combinations via a random hyperparameter search'],\n",
       " 'question_type': ['Shallow question', 'Shallow question', 'Testing question'],\n",
       " 'evidential_info': [[{'context': 'If the above regularization methods are applied individually, they aresomewhat effective at producing more interpretable images; Figure\\xa03 shows the effects of each individual hyperparameter.However, preliminary experiments uncovered that their combinedeffect produces better visualizations. To pick a reasonable set ofhyperparameters for all methods at once, we ran a randomhyperparameter search of 300 possible combinations and settled on fourthat complement each other well. The four selected combinations arelisted in Table\\xa01 and optimized images using each are shown for the “Gorilla” class output unit in Figure\\xa04. Of the four, some show highfrequency information, others low frequency; some contain densepixel data, and others contain only sparse outlines of importantregions.We found the version in the lower-left quadrant to be the best single set of hyperparameters, but often greater intuition canbe gleaned by considering all four at once.Figure\\xa05 shows the optimization results computed for a selection of units on all layers. A single image for every filter of all five convolutional layers is shown in Supplementary Figure\\xa0S1. Nine images for each filter of all layers, including each of the 1000 ImageNet output classes, can be viewed at http://yosinski.com/deepvis.',\n",
       "    'rationale': 'If the above regularization methods are applied individually, they are somewhat effective at producing more interpretable images; Figure 3 shows the effects of each individual hyperparameter. However, preliminary experiments uncovered that their combined effect produces better visualizations.To pick a reasonable set of hyperparameters for all methods at once, we ran a random hyperparameter search of 300 possible combinations and settled on four that complement each other well. The four selected combinations are listed in Table 1 and optimized images using each are shown for the “Gorilla” class output unit in Figure 4. Of the four, some show high frequency information, others low frequency; some contain dense pixel data, and others contain only sparse outlines of important regions.'}],\n",
       "  [{'context': 'Figure 3. The effects of each regularization method from Section 3 when used individually. Each of the four rows shows a linear sweep in hyperparameter space from no regularization (left) to strong regularization (right). When applied too strongly, some regularizations cause the optimization to fail (e.g. L2 decay, top row) or the images to be less interpretable (small norm and small contribution clipping, bottom two rows). For this reason, a random hyperparameter search was useful for finding joint hyperparameter settings that worked well together (see Figure 4). Best viewed electronically, zoomed in.',\n",
       "    'rationale': 'Each of the four rows shows a linear sweep in hyperparameter space from no regularization (left) to strong regularization (right).'}],\n",
       "  [{'context': 'If the above regularization methods are applied individually, they aresomewhat effective at producing more interpretable images; Figure\\xa03 shows the effects of each individual hyperparameter.However, preliminary experiments uncovered that their combinedeffect produces better visualizations. To pick a reasonable set ofhyperparameters for all methods at once, we ran a randomhyperparameter search of 300 possible combinations and settled on fourthat complement each other well. The four selected combinations arelisted in Table\\xa01 and optimized images using each are shown for the “Gorilla” class output unit in Figure\\xa04. Of the four, some show highfrequency information, others low frequency; some contain densepixel data, and others contain only sparse outlines of importantregions.We found the version in the lower-left quadrant to be the best single set of hyperparameters, but often greater intuition canbe gleaned by considering all four at once.Figure\\xa05 shows the optimization results computed for a selection of units on all layers. A single image for every filter of all five convolutional layers is shown in Supplementary Figure\\xa0S1. Nine images for each filter of all layers, including each of the 1000 ImageNet output classes, can be viewed at http://yosinski.com/deepvis.',\n",
       "    'rationale': 'To pick a reasonable set of hyperparameters for all methods at once, we ran a random hyperparameter search of 300 possible combinations and settled on four that complement each other well.'}]],\n",
       " 'composition': ['Authors best practices were to combine effects of different ways of regularization to produce interpretable images. They first search randomly through 300 different combinations of  hyperparameters, then they pick the best four sets of hyperparameters that are compliments to each other and then these sets would be used to visualize preferred images for different classes.',\n",
       "  'linear sweep can be seen as a regular increment in the values of some regularization hyperparameter (from leftmost where there is no regularization to rightmost where strong regularization occur ) to see the variation of their effects on the corresponding activations.',\n",
       "  '300 sets of possible hyperparameter combinations then choose four of them that complement each other well.'],\n",
       " 'Is_figure_in_evidence': [False, True, False],\n",
       " 'Is_table_in_evidence': [True, False, True],\n",
       " 'question_key': ['9', '12', '24'],\n",
       " 'passages': ['The last several years have produced tremendous progress in training powerful, deep neural network models that are approaching and even surpassing human abilities on a variety of challenging machine learning tasks (Taigman et\\xa0al., 2014; Schroff et\\xa0al., 2015; Hannun et\\xa0al., 2014). A flagship example is training deep, convolutional neural networks (CNNs) with supervised learning to classify natural images (Krizhevsky et\\xa0al., 2012). That area has benefitted from the combined effects of faster computing (e.g. GPUs), better training techniques (e.g. dropout (Hinton et\\xa0al., 2012)), better activation units (e.g. rectified linear units (Glorot et\\xa0al., 2011)), and larger labeled datasets (Deng et\\xa0al., 2009; Lin et\\xa0al., 2014).',\n",
       "  'While there has thus been considerable improvements in our knowledge of how to create high-performing architectures and learning algorithms, our understanding of how these large neural models operate has lagged behind. Neural networks have long been known as “black boxes” because it is difficult to understand exactly how any particular, trained neural network functions due to the large number of interacting, non-linear parts. Large modern neural networks are even harder to study because of their size; for example, understanding the widely-used AlexNet DNN involves making sense of the values taken by the 60 million trained network parameters. Understanding what is learned is interesting in its own right, but it is also one key way of further improving models: the intuitions provided by understanding the current generation of models should suggest ways to make them better. For example, the deconvolutional technique for visualizing the features learned by the hidden units of DNNs suggested an architectural change of smaller convolutional filters that led to state of the art performance on the ImageNet benchmark in 2013\\xa0(Zeiler & Fergus, 2013).',\n",
       "  'We also note that tools that enable understanding will especially benefit the vast numbers of newcomers to deep learning, who would like to take advantage of off-the-shelf software packages — like Theano (Bergstra et\\xa0al., 2010), Pylearn2 (Goodfellow et\\xa0al., 2013), Caffe (Jia et\\xa0al., 2014), and Torch (Collobert et\\xa0al., 2011) — in new domains, but who may not have any intuition for why their models work (or do not). Experts can also benefit as they iterate ideas for new models or when they are searching for good hyperparameters. We thus believe that both experts and newcomers will benefit from tools that provide intuitions about the inner workings of DNNs. This paper provides two such tools, both of which are open source so that scientists and practitioners can integrate them with their own DNNs to better understand them.',\n",
       "  'The first tool is software that interactively plots the activations produced on each layer of a trained DNN for user-provided images or video. Static images afford a slow, detailed investigation of a particular input, whereas video input highlights the DNNs changing responses to dynamic input. At present, the videos are processed live from a user’s computer camera, which is especially helpful because users can move different items around the field of view, occlude and combine them, and perform other manipulations to actively learn how different features in the network respond.',\n",
       "  'The second tool we introduce enables better visualization of the learned features computed by individual neurons at every layer of a DNN. Seeing what features have been learned is important both to understand how current DNNs work and to fuel intuitions for how to improve them.',\n",
       "  'Attempting to understand what computations are performed at each layer in DNNs is an increasingly popular direction of research. One approach is to study each layer as a group and investigate the type of computation performed by the set of neurons on a layer as a whole\\xa0(Yosinski et\\xa0al., 2014; Mahendran & Vedaldi, 2014). This approach is informative because the neurons in a layer interact with each other to pass information to higher layers, and thus each neuron’s contribution to the entire function performed by the DNN depends on that neuron’s context in the layer.',\n",
       "  'Another approach is to try to interpret the function computed by each individual neuron. Past studies in this vein roughly divide into two different camps: dataset-centric and network-centric. The former requires both a trained DNN and running data through that network; the latter requires only the trained network itself. One dataset-centric approach is to display images from the training or test set that cause high or low activations for individual units. Another is the deconvolution method of Zeiler & Fergus\\xa0(2013), which highlights the portions of a particular image that are responsible for the firing of each neural unit.',\n",
       "  'Network-centric approaches investigate a network directly without any data from a dataset. For example, Erhan et al.\\xa0(2009) synthesized images that cause high activations for particular units. Starting with some initial input 𝐱=𝐱𝟎𝐱subscript𝐱0\\\\mathbf{x}=\\\\mathbf{x_{0}}bold_x = bold_x start_POSTSUBSCRIPT bold_0 end_POSTSUBSCRIPT, the activation ai(𝐱)subscript𝑎𝑖𝐱a_{i}(\\\\mathbf{x})italic_a start_POSTSUBSCRIPT italic_i end_POSTSUBSCRIPT ( bold_x ) caused at some unit i𝑖iitalic_i by this input is computed, and then steps are taken in input spacealong the gradient ∂ai(𝐱)/∂𝐱subscript𝑎𝑖𝐱𝐱\\\\partial a_{i}(\\\\mathbf{x})/\\\\partial\\\\mathbf{x}∂ italic_a start_POSTSUBSCRIPT italic_i end_POSTSUBSCRIPT ( bold_x ) / ∂ bold_x to synthesize inputs that cause higher and higher activations of unit i𝑖iitalic_i, eventually terminating at some 𝐱*superscript𝐱\\\\mathbf{x^{*}}bold_x start_POSTSUPERSCRIPT * end_POSTSUPERSCRIPT which is deemed to be a preferred input stimulus for the unit in question. In the case where the input space is an image, 𝐱*superscript𝐱\\\\mathbf{x^{*}}bold_x start_POSTSUPERSCRIPT * end_POSTSUPERSCRIPT can be displayed directly for interpretation. Others have followed suit, using the gradient to find images that cause higher activations (Simonyan et\\xa0al., 2013; Nguyen et\\xa0al., 2014) or lower activations (Szegedy et\\xa0al., 2013) for output units.',\n",
       "  'These gradient-based approaches are attractive in their simplicity, but the optimization process tends to produce images that do not greatly resemble natural images. Instead, they are composed of a collection of “hacks” that happen to cause high (or low) activations: extreme pixel values, structured high frequency patterns, and copies of common motifs without global structure\\xa0(Simonyan et\\xa0al., 2013; Nguyen et\\xa0al., 2014; Szegedy et\\xa0al., 2013; Goodfellow et\\xa0al., 2014). The fact that activations may be effected by such hacks is better understood thanks to several recent studies. Specifically, it has been shown that such hacks may be applied to correctly classified images to cause them to be misclassified even via imperceptibly small changes (Szegedy et\\xa0al., 2013), that such hacks can be found even without the gradient information to produce unrecognizable “fooling examples” (Nguyen et\\xa0al., 2014), and that the abundance of non-natural looking images that cause extreme activations can be explained by the locally linear behavior of neural nets(Goodfellow et\\xa0al., 2014).',\n",
       "  'With such strong evidence that optimizing images to cause high activations produces unrecognizable images, is there any hope of using such methods to obtain useful visualizations? It turns out there is, if one is able to appropriately regularize the optimization. Simonyan et al.\\xa0(2013) showed that slightly discernible images for the final layers of a convnet could be produced with L2subscript𝐿2L_{2}italic_L start_POSTSUBSCRIPT 2 end_POSTSUBSCRIPT-regularization. Mahendran and Vedaldi (2014) also showed the importance of incorporating natural-image priors in the optimization process when producing images that mimic an entire-layer’s firing pattern produced by a specific input image. We build on these works and contribute three additional forms of regularization that, when combined, produce more recognizable, optimization-based samples than previous methods. Because the optimization is stochastic, by starting at different random initial images, we can produce a set of optimized images whose variance provides information about the invariances learned by the unit.',\n",
       "  'To summarize, this paper makes the following two contributions:',\n",
       "  '1.We describe and release a software tool that provides a live, interactive visualization of every neuron in a trained convnet as it responds to a user-provided image or video. The tool displays forward activation values, preferred stimuli via gradient ascent, top images for each unit from the training set, deconv highlighting (Zeiler & Fergus, 2013) of top images, and backward diffs computed via backprop or deconv starting from arbitrary units. The combined effect of these complementary visualizations promotes a greater understanding of what a neuron computes than any single method on its own. We also describe a few insights we have gained from using this tool.(Section\\xa02).2.We extend past efforts to visualize preferred activation patterns in input space by adding several new types of regularization, which produce what we believe are the most interpretable images for large convnets so far (Section\\xa03).',\n",
       "  'Both of our tools are released as open source and are available athttp://yosinski.com/deepvis. While the tools could be adapted to integrate with any DNN software framework, they work out of the box withthe popular Caffe DNN software package (Jia et\\xa0al., 2014).Users may run visualizations with their own Caffe DNN or our pre-trained DNN, which comes with pre-computed images optimized to activate each neuron in this trained network. Our pre-trained network is nearly identical to the “AlexNet” architecture (Krizhevsky et\\xa0al., 2012), but with local reponse normalization layers after pooling layers following (Jia et\\xa0al., 2014). It was trained with the Caffe framework on the ImageNet 2012 dataset (Deng et\\xa0al., 2009).',\n",
       "  'Our first visualization method is straightforward: plotting the activation values for the neurons in each layer of a convnet in response to an image or video. In fully connected neural networks, the order of the units is irrelevant, so plots of these vectors are not spatially informative. However, in convolutional networks, filters are applied in a way that respects the underlying geometry of the input; in the case of 2D images, filters are applied in a 2D convolution over the two spatial dimensions of the image. This convolution produces activations on subsequent layers that are, for each channel, also arranged spatially.',\n",
       "  'Figure\\xa01 shows examples of this type of plot for the 𝖼𝗈𝗇𝗏𝟧𝖼𝗈𝗇𝗏𝟧\\\\mathsf{conv5}sansserif_conv5 layer.The 𝖼𝗈𝗇𝗏𝟧𝖼𝗈𝗇𝗏𝟧\\\\mathsf{conv5}sansserif_conv5 layer has size 256×\\\\times×13×\\\\times×13, which we depict as 256 separate 13×\\\\times×13 grayscale images. Each of the 256 small images contains activations in the same spatial x𝑥xitalic_x-y𝑦yitalic_y spatial layout as the input data, and the 256 images are simply and arbitrarily tiled into a 16×\\\\times×16 grid in row-major order.Figure\\xa02 shows a zoomed in view of one particular channel, 𝖼𝗈𝗇𝗏𝟧𝟣𝟧𝟣subscript𝖼𝗈𝗇𝗏𝟧151\\\\mathsf{conv5_{151}}sansserif_conv5 start_POSTSUBSCRIPT sansserif_151 end_POSTSUBSCRIPT, that responds to human and animal faces. All layers can be viewed in the software tool, including pooling and normalization layers. Visualizing these layers provides intuitions about their effects and functions.',\n",
       "  'Although this visualization is simple to implement, we find it informative becauseall data flowing through the network can be visualized. There is nothing mysterious happening behind the scenes. Because this convnet contains only a single path from input to output, every layer is a bottleneck through which all information must pass en-route to a classification decision. The layer sizes are all small enough that any one layer can easily fit on a computer screen.111The layer with the most activations is 𝖼𝗈𝗇𝗏𝟣𝖼𝗈𝗇𝗏𝟣\\\\mathsf{conv1}sansserif_conv1 which, when tiled, is only 550x550 before adding padding. So far, we have gleaned several surprising intuitions from using the tool:',\n",
       "  '•One of the most interesting conclusions so far has been that representations on some layers seem to be surprisingly local. Instead of finding distributed representations on all layers, we see, for example, detectors for text, flowers, fruit, and faces on 𝖼𝗈𝗇𝗏𝟦𝖼𝗈𝗇𝗏𝟦\\\\mathsf{conv4}sansserif_conv4 and 𝖼𝗈𝗇𝗏𝟧𝖼𝗈𝗇𝗏𝟧\\\\mathsf{conv5}sansserif_conv5. These conclusions can be drawn either from the live visualization or the optimized images (or, best, by using both in concert) and suggest several directions for future research (discussed in Section\\xa04).•When using direct file input to classify photos from Flickr or Google Images, classifications are often correct and highly confident (softmax probability for correct class near 1). On the other hand, when using input from a webcam, predictions often cannot be correct because no items from the training set are shown in the image. The training set’s 1000 classes, though numerous, do not cover most common household objects. Thus, when shown a typical webcam view of a person with no ImageNet classes present, the output has no single high probability, as is expected. Surprisingly, however, this probability vector is noisy and varies significantly in response to tiny changes in the input, often changing merely in response to the noise from the webcam. We might have instead expected unchanging and low confidence predictions for a given scene when no object the network has been trained to classify is present. Plotting the fully connected layers (𝖿𝖼𝟨𝖿𝖼𝟨\\\\mathsf{fc6}sansserif_fc6 and 𝖿𝖼𝟩𝖿𝖼𝟩\\\\mathsf{fc7}sansserif_fc7) also reveals a similar sensitivity to small input changes.•Although the last three layers are sensitive to small input changes, much of the lower layer computation is more robust. For example, when visualizing the 𝖼𝗈𝗇𝗏𝟧𝖼𝗈𝗇𝗏𝟧\\\\mathsf{conv5}sansserif_conv5 layer, one can find many invariant detectors for faces, shoulders, text, etc. by moving oneself or objects in front of the camera. Even though the 1000 classes contain no explicitly labeled faces or text, the network learns to identify these concepts simply because they represent useful partial information for making a later classification decision. One face detector, denoted 𝖼𝗈𝗇𝗏𝟧𝟣𝟧𝟣subscript𝖼𝗈𝗇𝗏𝟧151\\\\mathsf{conv5_{151}}sansserif_conv5 start_POSTSUBSCRIPT sansserif_151 end_POSTSUBSCRIPT (channel number 151 on 𝖼𝗈𝗇𝗏𝟧𝖼𝗈𝗇𝗏𝟧\\\\mathsf{conv5}sansserif_conv5), is shown in Figure\\xa02 activating for human and lion faces and in Figure\\xa01 activating for a cat face. Zhou et al.\\xa0(2014) recently observed a similar effect where convnets trained only to recognize different scene types — playgrounds, restaurant patios, living rooms, etc. — learn object detectors (e.g. for chairs, books, and sofas) on intermediate layers.',\n",
       "  'The reader is encouraged to try this visualization tool out for him or herself. The code, together with pre-trained models and images synthesized by gradient ascent, can be downloaded athttp://yosinski.com/deepvis.',\n",
       "  'The second contribution of this work is introducing several regularization methods to bias images found via optimization toward more visually interpretable examples. While each of these regularization methods helps on its own, in combination they are even more effective. We found useful combinations via a random hyperparameter search, as discussed below.',\n",
       "  'Formally, consider an image 𝐱∈ℝC×H×W𝐱superscriptℝ𝐶𝐻𝑊\\\\mathbf{x}\\\\in\\\\mathbb{R}^{C\\\\times H\\\\times W}bold_x ∈ blackboard_R start_POSTSUPERSCRIPT italic_C × italic_H × italic_W end_POSTSUPERSCRIPT, where\\xa0C=3𝐶3C=3italic_C = 3 color channels and the height (H𝐻Hitalic_H) and width (W𝑊Witalic_W) are both 227 pixels. When this image is presented to a neural network, it causes an activation ai(𝐱)subscript𝑎𝑖𝐱a_{i}(\\\\mathbf{x})italic_a start_POSTSUBSCRIPT italic_i end_POSTSUBSCRIPT ( bold_x ) for some unit i𝑖iitalic_i, where for simplicity i𝑖iitalic_i is an index that runs over all units on all layers. We also define a parameterized regularization function Rθ(𝐱)subscript𝑅𝜃𝐱R_{\\\\theta}(\\\\mathbf{x})italic_R start_POSTSUBSCRIPT italic_θ end_POSTSUBSCRIPT ( bold_x ) that penalizes images in various ways.',\n",
       "  'Our network was trained on ImageNet by first subtracting the per-pixel mean of examples in ImageNet before inputting training examples to the network. Thus, the direct input to the network, 𝐱𝐱\\\\mathbf{x}bold_x, can be thought of as a zero-centered input. We may pose the optimization problem as finding an image 𝐱*superscript𝐱\\\\mathbf{x^{*}}bold_x start_POSTSUPERSCRIPT * end_POSTSUPERSCRIPT where',\n",
       "  '𝐱*=argmax𝐱\\u2061(ai(𝐱)−Rθ(𝐱))superscript𝐱subscriptargmax𝐱subscript𝑎𝑖𝐱subscript𝑅𝜃𝐱\\\\mathbf{x^{*}}=\\\\operatorname*{arg\\\\,max}_{\\\\mathbf{x}}(a_{i}(\\\\mathbf{x})-R_{\\\\theta}(\\\\mathbf{x}))bold_x start_POSTSUPERSCRIPT * end_POSTSUPERSCRIPT = start_OPERATOR roman_arg roman_max end_OPERATOR start_POSTSUBSCRIPT bold_x end_POSTSUBSCRIPT ( italic_a start_POSTSUBSCRIPT italic_i end_POSTSUBSCRIPT ( bold_x ) - italic_R start_POSTSUBSCRIPT italic_θ end_POSTSUBSCRIPT ( bold_x ) )(1)',\n",
       "  'In practice, we use a slightly different formulation. Because we search for 𝐱*superscript𝐱\\\\mathbf{x^{*}}bold_x start_POSTSUPERSCRIPT * end_POSTSUPERSCRIPT by starting at some 𝐱𝟎subscript𝐱0\\\\mathbf{x_{0}}bold_x start_POSTSUBSCRIPT bold_0 end_POSTSUBSCRIPT and taking gradient steps, we instead define the regularization via an operator rθ(⋅)subscript𝑟𝜃⋅r_{\\\\theta}(\\\\cdot)italic_r start_POSTSUBSCRIPT italic_θ end_POSTSUBSCRIPT ( ⋅ ) that maps 𝐱𝐱\\\\mathbf{x}bold_x to a slightly more regularized version of itself. This latter definition is strictly more expressive, allowing regularization operators rθsubscript𝑟𝜃r_{\\\\theta}italic_r start_POSTSUBSCRIPT italic_θ end_POSTSUBSCRIPT that are not the gradient of any Rθsubscript𝑅𝜃R_{\\\\theta}italic_R start_POSTSUBSCRIPT italic_θ end_POSTSUBSCRIPT.This method is easy to implement within a gradient descent framework by simply alternating between taking a step toward the gradient of ai(𝐱)subscript𝑎𝑖𝐱a_{i}(\\\\mathbf{x})italic_a start_POSTSUBSCRIPT italic_i end_POSTSUBSCRIPT ( bold_x ) and taking a step in the direction given by rθsubscript𝑟𝜃r_{\\\\theta}italic_r start_POSTSUBSCRIPT italic_θ end_POSTSUBSCRIPT. With a gradient descent step size of η𝜂\\\\etaitalic_η, a single step in this process applies the update:',\n",
       "  '𝐱←rθ(𝐱+η∂ai∂𝐱)←𝐱subscript𝑟𝜃𝐱𝜂subscript𝑎𝑖𝐱\\\\mathbf{x}\\\\leftarrow r_{\\\\theta}\\\\left(\\\\mathbf{x}+\\\\eta\\\\frac{\\\\partial a_{i}}{\\\\partial\\\\mathbf{x}}\\\\right)\\\\\\\\bold_x ← italic_r start_POSTSUBSCRIPT italic_θ end_POSTSUBSCRIPT ( bold_x + italic_η divide start_ARG ∂ italic_a start_POSTSUBSCRIPT italic_i end_POSTSUBSCRIPT end_ARG start_ARG ∂ bold_x end_ARG )(2)',\n",
       "  'We investigated the following four regularizations. All are designed to overcome different pathologies commonly encountered by gradient descent without regularization.',\n",
       "  'L2subscript𝐿2L_{2}italic_L start_POSTSUBSCRIPT 2 end_POSTSUBSCRIPT decay: A common regularization, L2subscript𝐿2L_{2}italic_L start_POSTSUBSCRIPT 2 end_POSTSUBSCRIPT decay penalizes large values and is implemented as rθ(𝐱)=(1−θdecay)⋅𝐱subscript𝑟𝜃𝐱⋅1subscript𝜃decay𝐱r_{\\\\theta}(\\\\mathbf{x})=(1-\\\\theta_{\\\\mathrm{decay}})\\\\cdot\\\\mathbf{x}italic_r start_POSTSUBSCRIPT italic_θ end_POSTSUBSCRIPT ( bold_x ) = ( 1 - italic_θ start_POSTSUBSCRIPT roman_decay end_POSTSUBSCRIPT ) ⋅ bold_x. L2subscript𝐿2L_{2}italic_L start_POSTSUBSCRIPT 2 end_POSTSUBSCRIPT decay tends to prevent a small number of extreme pixel values from dominating the example image. Such extreme single-pixel values neither occur naturally with great frequency nor are useful for visualization. L2subscript𝐿2L_{2}italic_L start_POSTSUBSCRIPT 2 end_POSTSUBSCRIPT decay was also used by Simonyan et al.\\xa0(2013).',\n",
       "  'Gaussian blur: Producing images via gradient ascent tends to produce examples with high frequency information (see Supplementary Section\\xa0S1 for a possible reason). While these images cause high activations, they are neither realistic nor interpretable (Nguyen et\\xa0al., 2014). A useful regularization is thus to penalize high frequency information. We implement this as a Gaussian blur step rθ(𝐱)=GaussianBlur(𝐱,θb_width)subscript𝑟𝜃𝐱GaussianBlur𝐱subscript𝜃b_widthr_{\\\\theta}(\\\\mathbf{x})=\\\\mathrm{GaussianBlur}(\\\\mathbf{x},\\\\theta_{\\\\mathrm{b\\\\_width}})italic_r start_POSTSUBSCRIPT italic_θ end_POSTSUBSCRIPT ( bold_x ) = roman_GaussianBlur ( bold_x , italic_θ start_POSTSUBSCRIPT roman_b _ roman_width end_POSTSUBSCRIPT ). Convolving with a blur kernel is more computationally expensive than the other regularization methods, so we added another hyperparameter θb_everysubscript𝜃b_every\\\\theta_{\\\\mathrm{b\\\\_every}}italic_θ start_POSTSUBSCRIPT roman_b _ roman_every end_POSTSUBSCRIPT to allow, for example, blurring every several optimization steps instead of every step. Blurring an image multiple times with a small width Gaussian kernel is equivalent to blurring once with a larger width kernel, and the effect will be similar even if the image changes slightly during the optimization process. This technique thus lowers computational costs without limiting the expressiveness of the regularization. Mahendran & Vedaldi\\xa0(2014) used a penalty with a similar effect to blurring, called total variation, in their work reconstructing images from layer codes.',\n",
       "  'Clipping pixels with small norm: The first two regularizations suppress high amplitude and high frequency information, so after applying both, we are left with an 𝐱*superscript𝐱\\\\mathbf{x^{*}}bold_x start_POSTSUPERSCRIPT * end_POSTSUPERSCRIPT that contains somewhat small, somewhat smooth values. However, 𝐱*superscript𝐱\\\\mathbf{x^{*}}bold_x start_POSTSUPERSCRIPT * end_POSTSUPERSCRIPT will still tend to contain non-zero pixel values everywhere. Even if some pixels in 𝐱*superscript𝐱\\\\mathbf{x^{*}}bold_x start_POSTSUPERSCRIPT * end_POSTSUPERSCRIPT show the primary object or type of input causing the unit under consideration to activate, the gradient with respect to all other pixels in 𝐱*superscript𝐱\\\\mathbf{x^{*}}bold_x start_POSTSUPERSCRIPT * end_POSTSUPERSCRIPT will still generally be non-zero, so these pixels will also shift to show some pattern as well, contributing in whatever small way they can to ultimately raise the chosen unit’s activation. We wish to bias the search away from such behavior and instead show only the main object, letting other regions be exactly zero if they are not needed. We implement this bias using an rθ(𝐱)subscript𝑟𝜃𝐱r_{\\\\theta}(\\\\mathbf{x})italic_r start_POSTSUBSCRIPT italic_θ end_POSTSUBSCRIPT ( bold_x ) that computes the norm of each pixel (over red, green, and blue channels) and then sets any pixels with small norm to zero. The threshold for the norm, θn_pctsubscript𝜃n_pct\\\\theta_{\\\\mathrm{n\\\\_pct}}italic_θ start_POSTSUBSCRIPT roman_n _ roman_pct end_POSTSUBSCRIPT, is specified as a percentile of all pixel norms in 𝐱𝐱\\\\mathbf{x}bold_x.',\n",
       "  'Clipping pixels with small contribution: Instead of clipping pixels with small norms, we can try something slightly smarter and clip pixels with small contributions to the activation. One way of computing a pixel’s contribution to an activation is to measure how much the activation increases or decreases when the pixel is set to zero; that is, to compute the contribution as |ai(𝐱)−ai(𝐱−j)|subscript𝑎𝑖𝐱subscript𝑎𝑖subscript𝐱𝑗|a_{i}(\\\\mathbf{x})-a_{i}(\\\\mathbf{x}_{-j})|| italic_a start_POSTSUBSCRIPT italic_i end_POSTSUBSCRIPT ( bold_x ) - italic_a start_POSTSUBSCRIPT italic_i end_POSTSUBSCRIPT ( bold_x start_POSTSUBSCRIPT - italic_j end_POSTSUBSCRIPT ) |, where 𝐱−jsubscript𝐱𝑗\\\\mathbf{x}_{-j}bold_x start_POSTSUBSCRIPT - italic_j end_POSTSUBSCRIPT is 𝐱𝐱\\\\mathbf{x}bold_x but with the jthsuperscript𝑗𝑡ℎj^{th}italic_j start_POSTSUPERSCRIPT italic_t italic_h end_POSTSUPERSCRIPT pixel set to zero. This approach is straightforward but prohibitively slow, requiring a forward pass for every pixel. Instead, we approximate this process by linearizing ai(𝐱)subscript𝑎𝑖𝐱a_{i}(\\\\mathbf{x})italic_a start_POSTSUBSCRIPT italic_i end_POSTSUBSCRIPT ( bold_x ) around 𝐱𝐱\\\\mathbf{x}bold_x, in which case the contribution of each dimension of 𝐱𝐱\\\\mathbf{x}bold_x can be estimated as the elementwise product of 𝐱𝐱\\\\mathbf{x}bold_x and the gradient. We then sum over all three channels and take the absolute value, computing |∑c𝐱∘∇𝐱ai(𝐱)|subscript𝑐𝐱subscript∇𝐱subscript𝑎𝑖𝐱\\\\left|\\\\sum_{c}\\\\mathbf{x}\\\\circ\\\\nabla_{\\\\mathbf{x}}a_{i}(\\\\mathbf{x})\\\\right|| ∑ start_POSTSUBSCRIPT italic_c end_POSTSUBSCRIPT bold_x ∘ ∇ start_POSTSUBSCRIPT bold_x end_POSTSUBSCRIPT italic_a start_POSTSUBSCRIPT italic_i end_POSTSUBSCRIPT ( bold_x ) |. We use the absolute value to find pixels with small contribution in either direction, positive or negative. While we could choose to keep the pixel transitions where setting the pixel to zero would result in a large activation increase, these shifts are already handled by gradient ascent, and here we prefer to clip only the pixels that are deemed not to matter, not to take large gradient steps outside the region where the linear approximation is most valid. We define this rθ(𝐱)subscript𝑟𝜃𝐱r_{\\\\theta}(\\\\mathbf{x})italic_r start_POSTSUBSCRIPT italic_θ end_POSTSUBSCRIPT ( bold_x ) as the operation that sets pixels with contribution under the θc_pctsubscript𝜃c_pct\\\\theta_{\\\\mathrm{c\\\\_pct}}italic_θ start_POSTSUBSCRIPT roman_c _ roman_pct end_POSTSUBSCRIPT percentile to zero.',\n",
       "  'If the above regularization methods are applied individually, they aresomewhat effective at producing more interpretable images; Figure\\xa03 shows the effects of each individual hyperparameter.However, preliminary experiments uncovered that their combinedeffect produces better visualizations. To pick a reasonable set ofhyperparameters for all methods at once, we ran a randomhyperparameter search of 300 possible combinations and settled on fourthat complement each other well. The four selected combinations arelisted in Table\\xa01 and optimized images using each are shown for the “Gorilla” class output unit in Figure\\xa04. Of the four, some show highfrequency information, others low frequency; some contain densepixel data, and others contain only sparse outlines of importantregions.We found the version in the lower-left quadrant to be the best single set of hyperparameters, but often greater intuition canbe gleaned by considering all four at once.Figure\\xa05 shows the optimization results computed for a selection of units on all layers. A single image for every filter of all five convolutional layers is shown in Supplementary Figure\\xa0S1. Nine images for each filter of all layers, including each of the 1000 ImageNet output classes, can be viewed at http://yosinski.com/deepvis.',\n",
       "  'We have introduced two visual tools for aiding in the interpretationof trained neural nets.Intuition gained from these tools may prompt ideas for improved methods and future research. Here we discuss several such ideas.',\n",
       "  'The interactive tool reveals that representations on later convolutional layers tend to be somewhat local, where channels correspond to specific, natural parts (e.g. wheels, faces) instead of being dimensions in a completely distributed code. That said, not all features correspond to natural parts, raising the possibility of a different decomposition of the world than humans might expect. These visualizations suggest that further study into the exact nature of learned representations — whether they are local to a single channel or distributed across several — is likely to be interesting (see Zhou et al.\\xa0(2014) for work in this direction). The locality of the representation also suggests that during transfer learning, when new models are trained atop the 𝖼𝗈𝗇𝗏𝟦𝖼𝗈𝗇𝗏𝟦\\\\mathsf{conv4}sansserif_conv4 or 𝖼𝗈𝗇𝗏𝟧𝖼𝗈𝗇𝗏𝟧\\\\mathsf{conv5}sansserif_conv5 representations, a bias toward sparse connectivity could be helpful because it may be necessary to combine only a few features from these layers to create important features at higher layers.',\n",
       "  'The second tool — new regularizations that enable improved, interpretable, optimized visualizations of learned features — will help researchers and practitioners understand, debug, and improve their models. The visualizations also reveal a new twist in an ongoing story. Previous studieshave shown that discriminative networks can easily be fooled or hacked by the addition of certain structurednoise in image space (Szegedy et\\xa0al., 2013; Nguyen et\\xa0al., 2014).An oft-cited reason for this property is that discriminative training leads networksto ignore non-discriminative information in their input, e.g. learning to detect jaguars by matching the unique spots on their fur while ignoring the fact that they have four legs. For this reason it has been seen as a hopeless endeavor to create a generative model in which one randomly samples an x𝑥xitalic_x from a broad distribution on the space of all possible imagesand then iteratively transforms x𝑥xitalic_x into a recognizable image by moving it to a region that satisfies both a prior p(x)𝑝𝑥p(x)italic_p ( italic_x ) and posterior p(y|x)𝑝conditional𝑦𝑥p(y|x)italic_p ( italic_y | italic_x ) for some class label y𝑦yitalic_y.Past attempts have largely supported this view by producing unrealistic images using this method (Nguyen et\\xa0al., 2014; Simonyan et\\xa0al., 2013).',\n",
       "  'However, the results presented here suggest an alternate possibility: the previously used priors may simply have been too weak (see Section\\xa0S1 for one hypothesis of why a strong p(x)𝑝𝑥p(x)italic_p ( italic_x ) model is needed). With the careful design or learning of a p(x)𝑝𝑥p(x)italic_p ( italic_x ) model that biases toward realism,one may be able to harnessthe large number of parameters present in a discriminately learned p(y|x)𝑝conditional𝑦𝑥p(y|x)italic_p ( italic_y | italic_x ) modelto generate realistic images by enforcing probability under both models simultaneously.Even with the simple, hand-coded p(x)𝑝𝑥p(x)italic_p ( italic_x ) models we use in this paper as regularizers, complex dependencies between distant pixels already arise (cf. the beetles with structure spanning over 100 pixels in Figure\\xa04). This implies that the discriminative parameters also contain significant “generative” structure from thetraining dataset; that is, the parameters encodenot only the jaguar’s spots, but to some extent also its four legs.With better, learned probabilistic models over the input and activations of higher layers, much more structure may be apparent. Work by Dai et al.\\xa0(2015) shows some interesting results in this direction.While the images generated in this paper are far from being photo-realistic, they do suggest thattransferring discriminatively trained parameters to generative models — opposite the direction of the usual unsupervised pretraining approach — may be a fruitful area for further investigation.'],\n",
       " 'figure_types': {'1b5a24639fa80056d1a17b15f6997d10e76cc731/3-Figure1-1.png': 'schematic',\n",
       "  '1b5a24639fa80056d1a17b15f6997d10e76cc731/5-Figure2-1.png': 'photograph(s)',\n",
       "  '1b5a24639fa80056d1a17b15f6997d10e76cc731/7-Figure4-1.png': 'photograph(s)',\n",
       "  '1b5a24639fa80056d1a17b15f6997d10e76cc731/9-Figure3-1.png': 'plot',\n",
       "  '1b5a24639fa80056d1a17b15f6997d10e76cc731/9-Table1-1.png': 'table',\n",
       "  '1b5a24639fa80056d1a17b15f6997d10e76cc731/8-Figure5-1.png': 'photograph(s)'}}"
      ]
     },
     "execution_count": 7,
     "metadata": {},
     "output_type": "execute_result"
    }
   ],
   "source": [
    "spiqa_d['1506.06579']"
   ]
  },
  {
   "cell_type": "markdown",
   "metadata": {},
   "source": [
    "----"
   ]
  },
  {
   "cell_type": "markdown",
   "metadata": {},
   "source": [
    "# 1 SPIQA dataset from the VisDoMRAG  - Questions"
   ]
  },
  {
   "cell_type": "markdown",
   "metadata": {},
   "source": [
    "# 2 1. Generral Structural Analysis"
   ]
  },
  {
   "cell_type": "code",
   "execution_count": 7,
   "metadata": {},
   "outputs": [],
   "source": [
    "import pandas as pd"
   ]
  },
  {
   "cell_type": "code",
   "execution_count": 8,
   "metadata": {},
   "outputs": [],
   "source": [
    "df = pd.read_csv(\"../../../Data/VisDoM-main/spiqa/spiqa.csv\")"
   ]
  },
  {
   "cell_type": "code",
   "execution_count": 24,
   "metadata": {},
   "outputs": [
    {
     "data": {
      "text/html": [
       "<div>\n",
       "<style scoped>\n",
       "    .dataframe tbody tr th:only-of-type {\n",
       "        vertical-align: middle;\n",
       "    }\n",
       "\n",
       "    .dataframe tbody tr th {\n",
       "        vertical-align: top;\n",
       "    }\n",
       "\n",
       "    .dataframe thead th {\n",
       "        text-align: right;\n",
       "    }\n",
       "</style>\n",
       "<table border=\"1\" class=\"dataframe\">\n",
       "  <thead>\n",
       "    <tr style=\"text-align: right;\">\n",
       "      <th></th>\n",
       "      <th>doc_id</th>\n",
       "      <th>old_question</th>\n",
       "      <th>question</th>\n",
       "    </tr>\n",
       "  </thead>\n",
       "  <tbody>\n",
       "    <tr>\n",
       "      <th>182</th>\n",
       "      <td>1611.04684v1</td>\n",
       "      <td>What educational approaches of the Bonaparte and Voltaire schools are contrasted in the figure titled \"A difficult example from QA,\" and how are these approaches specifically differentiated in terms of physical versus cognitive development, and their respective goals of leadership versus philosophical thinking?</td>\n",
       "      <td>What are the main differences between the educational philosophies of the Bonaparte and Voltaire schools?</td>\n",
       "    </tr>\n",
       "    <tr>\n",
       "      <th>329</th>\n",
       "      <td>1611.04684v1</td>\n",
       "      <td>In the KEHNN model architecture, as depicted in the figure, how do the knowledge gates interact with both the hidden state of the BiGRU (h_t) and the knowledge base (K) to selectively incorporate external knowledge into the hidden state?</td>\n",
       "      <td>What is the role of the knowledge gates in the KEHNN architecture?</td>\n",
       "    </tr>\n",
       "    <tr>\n",
       "      <th>509</th>\n",
       "      <td>1611.04684v1</td>\n",
       "      <td>According to the figure titled \"Accuracy on different lengths of text,\" comparing LSTM, MV-LSTM, and KEHNN on the Ubuntu dataset, which model achieves the highest accuracy for text lengths between 60 and 90 words?</td>\n",
       "      <td>Which model performs best on the Ubuntu dataset for text lengths between 60 and 90 words?</td>\n",
       "    </tr>\n",
       "    <tr>\n",
       "      <th>517</th>\n",
       "      <td>1611.04684v1</td>\n",
       "      <td>In Table 1 of the paper *Knowledge Enhanced Hybrid Neural Network for Text Matching*, which model achieves the highest scores for response selection across the metrics R$2$@1, R${10}$@1, R${10}$@2, and R${10}$@5, and how do the results justify the model's superior performance?</td>\n",
       "      <td>Which model performs the best for response selection, and how can we tell?</td>\n",
       "    </tr>\n",
       "  </tbody>\n",
       "</table>\n",
       "</div>"
      ],
      "text/plain": [
       "           doc_id  \\\n",
       "182  1611.04684v1   \n",
       "329  1611.04684v1   \n",
       "509  1611.04684v1   \n",
       "517  1611.04684v1   \n",
       "\n",
       "                                                                                                                                                                                                                                                                                                                 old_question  \\\n",
       "182  What educational approaches of the Bonaparte and Voltaire schools are contrasted in the figure titled \"A difficult example from QA,\" and how are these approaches specifically differentiated in terms of physical versus cognitive development, and their respective goals of leadership versus philosophical thinking?   \n",
       "329                                                                             In the KEHNN model architecture, as depicted in the figure, how do the knowledge gates interact with both the hidden state of the BiGRU (h_t) and the knowledge base (K) to selectively incorporate external knowledge into the hidden state?   \n",
       "509                                                                                                     According to the figure titled \"Accuracy on different lengths of text,\" comparing LSTM, MV-LSTM, and KEHNN on the Ubuntu dataset, which model achieves the highest accuracy for text lengths between 60 and 90 words?   \n",
       "517                                     In Table 1 of the paper *Knowledge Enhanced Hybrid Neural Network for Text Matching*, which model achieves the highest scores for response selection across the metrics R$2$@1, R${10}$@1, R${10}$@2, and R${10}$@5, and how do the results justify the model's superior performance?   \n",
       "\n",
       "                                                                                                      question  \n",
       "182  What are the main differences between the educational philosophies of the Bonaparte and Voltaire schools?  \n",
       "329                                         What is the role of the knowledge gates in the KEHNN architecture?  \n",
       "509                  Which model performs best on the Ubuntu dataset for text lengths between 60 and 90 words?  \n",
       "517                                 Which model performs the best for response selection, and how can we tell?  "
      ]
     },
     "execution_count": 24,
     "metadata": {},
     "output_type": "execute_result"
    }
   ],
   "source": [
    "pd.set_option('display.max_colwidth', None)\n",
    "df.loc[df['doc_id']=='1611.04684v1'][['doc_id','old_question','question']]"
   ]
  },
  {
   "cell_type": "code",
   "execution_count": 33,
   "metadata": {},
   "outputs": [
    {
     "data": {
      "text/html": [
       "<div>\n",
       "<style scoped>\n",
       "    .dataframe tbody tr th:only-of-type {\n",
       "        vertical-align: middle;\n",
       "    }\n",
       "\n",
       "    .dataframe tbody tr th {\n",
       "        vertical-align: top;\n",
       "    }\n",
       "\n",
       "    .dataframe thead th {\n",
       "        text-align: right;\n",
       "    }\n",
       "</style>\n",
       "<table border=\"1\" class=\"dataframe\">\n",
       "  <thead>\n",
       "    <tr style=\"text-align: right;\">\n",
       "      <th></th>\n",
       "      <th>q_id</th>\n",
       "      <th>doc_id</th>\n",
       "      <th>old_question</th>\n",
       "      <th>answer</th>\n",
       "      <th>doc_path</th>\n",
       "      <th>documents</th>\n",
       "      <th>rationale</th>\n",
       "      <th>reference_figure</th>\n",
       "      <th>paper_title</th>\n",
       "      <th>paper_abstract</th>\n",
       "      <th>caption</th>\n",
       "      <th>question</th>\n",
       "    </tr>\n",
       "  </thead>\n",
       "  <tbody>\n",
       "    <tr>\n",
       "      <th>486</th>\n",
       "      <td>spiqa_496</td>\n",
       "      <td>1708.03797v1</td>\n",
       "      <td>Based on the data presented in Table 2 of the \"Hybrid Deep-Semantic Matrix Factorization\" paper, which model consistently achieved the highest performance across all ranking metrics, including Precision (P@k), Recall (R@k), F-Score (F@k), Mean Reciprocal Rank (MRR), and Mean Average Precision (MAP), in the context of tag-aware personalized recommendation?</td>\n",
       "      <td>HDMF achieved the best overall performance.</td>\n",
       "      <td>1708.03797v1.pdf</td>\n",
       "      <td>['1708.03797v1.pdf', '1703.07015v3.pdf', '1804.07931v2.pdf', '1701.03077v10.pdf', '1705.07384v2.pdf']</td>\n",
       "      <td>The table shows the performance of various models on several metrics, including Precision at different cut-off ranks (P@k), Recall at different cut-off ranks (R@k), F-score at different cut-off ranks (F@k), Mean Average Precision (MAP), and Mean Reciprocal Rank (MRR). Higher values indicate better performance for all metrics. Observing the bolded values in the table, which represent the highest scores achieved for each metric, we can see that HDMF consistently outperforms all other models across all the listed metrics. This suggests that HDMF is most effective at ranking relevant tags for users compared to the other models considered.</td>\n",
       "      <td>1708.03797v1-Table2-1.png</td>\n",
       "      <td>Hybrid Deep-Semantic Matrix Factorization for Tag-Aware Personalized Recommendation</td>\n",
       "      <td>Matrix factorization has now become a dominant solution for personalized\\nrecommendation on the Social Web. To alleviate the cold start problem, previous\\napproaches have incorporated various additional sources of information into\\ntraditional matrix factorization models. These upgraded models, however,\\nachieve only \"marginal\" enhancements on the performance of personalized\\nrecommendation. Therefore, inspired by the recent development of deep-semantic\\nmodeling, we propose a hybrid deep-semantic matrix factorization (HDMF) model\\nto further improve the performance of tag-aware personalized recommendation by\\nintegrating the techniques of deep-semantic modeling, hybrid learning, and\\nmatrix factorization. Experimental results show that HDMF significantly\\noutperforms the state-of-the-art baselines in tag-aware personalized\\nrecommendation, in terms of all evaluation metrics, e.g., its mean reciprocal\\nrank (resp., mean average precision) is 1.52 (resp., 1.66) times as high as\\nthat of the best baseline.</td>\n",
       "      <td>Table 2: Recommendation Performance of Various Models (in %)</td>\n",
       "      <td>Which model achieved the best overall performance in terms of ranking relevant tags for users?</td>\n",
       "    </tr>\n",
       "  </tbody>\n",
       "</table>\n",
       "</div>"
      ],
      "text/plain": [
       "          q_id        doc_id  \\\n",
       "486  spiqa_496  1708.03797v1   \n",
       "\n",
       "                                                                                                                                                                                                                                                                                                                                                              old_question  \\\n",
       "486  Based on the data presented in Table 2 of the \"Hybrid Deep-Semantic Matrix Factorization\" paper, which model consistently achieved the highest performance across all ranking metrics, including Precision (P@k), Recall (R@k), F-Score (F@k), Mean Reciprocal Rank (MRR), and Mean Average Precision (MAP), in the context of tag-aware personalized recommendation?   \n",
       "\n",
       "                                          answer          doc_path  \\\n",
       "486  HDMF achieved the best overall performance.  1708.03797v1.pdf   \n",
       "\n",
       "                                                                                                 documents  \\\n",
       "486  ['1708.03797v1.pdf', '1703.07015v3.pdf', '1804.07931v2.pdf', '1701.03077v10.pdf', '1705.07384v2.pdf']   \n",
       "\n",
       "                                                                                                                                                                                                                                                                                                                                                                                                                                                                                                                                                                                                                                                              rationale  \\\n",
       "486  The table shows the performance of various models on several metrics, including Precision at different cut-off ranks (P@k), Recall at different cut-off ranks (R@k), F-score at different cut-off ranks (F@k), Mean Average Precision (MAP), and Mean Reciprocal Rank (MRR). Higher values indicate better performance for all metrics. Observing the bolded values in the table, which represent the highest scores achieved for each metric, we can see that HDMF consistently outperforms all other models across all the listed metrics. This suggests that HDMF is most effective at ranking relevant tags for users compared to the other models considered.   \n",
       "\n",
       "              reference_figure  \\\n",
       "486  1708.03797v1-Table2-1.png   \n",
       "\n",
       "                                                                             paper_title  \\\n",
       "486  Hybrid Deep-Semantic Matrix Factorization for Tag-Aware Personalized Recommendation   \n",
       "\n",
       "                                                                                                                                                                                                                                                                                                                                                                                                                                                                                                                                                                                                                                                                                                                                                                                                                                                                                                                                                                                                                                                  paper_abstract  \\\n",
       "486  Matrix factorization has now become a dominant solution for personalized\\nrecommendation on the Social Web. To alleviate the cold start problem, previous\\napproaches have incorporated various additional sources of information into\\ntraditional matrix factorization models. These upgraded models, however,\\nachieve only \"marginal\" enhancements on the performance of personalized\\nrecommendation. Therefore, inspired by the recent development of deep-semantic\\nmodeling, we propose a hybrid deep-semantic matrix factorization (HDMF) model\\nto further improve the performance of tag-aware personalized recommendation by\\nintegrating the techniques of deep-semantic modeling, hybrid learning, and\\nmatrix factorization. Experimental results show that HDMF significantly\\noutperforms the state-of-the-art baselines in tag-aware personalized\\nrecommendation, in terms of all evaluation metrics, e.g., its mean reciprocal\\nrank (resp., mean average precision) is 1.52 (resp., 1.66) times as high as\\nthat of the best baseline.   \n",
       "\n",
       "                                                          caption  \\\n",
       "486  Table 2: Recommendation Performance of Various Models (in %)   \n",
       "\n",
       "                                                                                           question  \n",
       "486  Which model achieved the best overall performance in terms of ranking relevant tags for users?  "
      ]
     },
     "execution_count": 33,
     "metadata": {},
     "output_type": "execute_result"
    }
   ],
   "source": [
    "df.iloc[[486]]#[['doc_id','old_question','question']]"
   ]
  },
  {
   "cell_type": "code",
   "execution_count": null,
   "metadata": {},
   "outputs": [],
   "source": []
  },
  {
   "cell_type": "code",
   "execution_count": 5,
   "metadata": {},
   "outputs": [
    {
     "data": {
      "text/html": [
       "<div>\n",
       "<style scoped>\n",
       "    .dataframe tbody tr th:only-of-type {\n",
       "        vertical-align: middle;\n",
       "    }\n",
       "\n",
       "    .dataframe tbody tr th {\n",
       "        vertical-align: top;\n",
       "    }\n",
       "\n",
       "    .dataframe thead th {\n",
       "        text-align: right;\n",
       "    }\n",
       "</style>\n",
       "<table border=\"1\" class=\"dataframe\">\n",
       "  <thead>\n",
       "    <tr style=\"text-align: right;\">\n",
       "      <th></th>\n",
       "      <th>q_id</th>\n",
       "      <th>doc_id</th>\n",
       "      <th>old_question</th>\n",
       "      <th>answer</th>\n",
       "      <th>doc_path</th>\n",
       "      <th>documents</th>\n",
       "      <th>rationale</th>\n",
       "      <th>reference_figure</th>\n",
       "      <th>paper_title</th>\n",
       "      <th>paper_abstract</th>\n",
       "      <th>caption</th>\n",
       "      <th>question</th>\n",
       "    </tr>\n",
       "  </thead>\n",
       "  <tbody>\n",
       "    <tr>\n",
       "      <th>445</th>\n",
       "      <td>spiqa_447</td>\n",
       "      <td>1701.03077v10</td>\n",
       "      <td>Based on the experimental results presented in...</td>\n",
       "      <td>The \"adaptive $\\power \\in (0, 2)$\" strategy, w...</td>\n",
       "      <td>1701.03077v10.pdf</td>\n",
       "      <td>['1701.03077v10.pdf', '1709.02755v5.pdf', '190...</td>\n",
       "      <td>The table presents various error and accuracy ...</td>\n",
       "      <td>1701.03077v10-Table2-1.png</td>\n",
       "      <td>A General and Adaptive Robust Loss Function</td>\n",
       "      <td>We present a generalization of the Cauchy/Lore...</td>\n",
       "      <td>Table 2. Results on unsupervised monocular dep...</td>\n",
       "      <td>Which method for setting the shape parameter o...</td>\n",
       "    </tr>\n",
       "    <tr>\n",
       "      <th>6</th>\n",
       "      <td>spiqa_6</td>\n",
       "      <td>1706.04284v3</td>\n",
       "      <td>In the figure from the paper illustrating sema...</td>\n",
       "      <td>The denoiser trained with the classification ...</td>\n",
       "      <td>1706.04284v3.pdf</td>\n",
       "      <td>['1706.04284v3.pdf', '1611.04363v2.pdf', '1802...</td>\n",
       "      <td>The figure shows the ground truth image and t...</td>\n",
       "      <td>1706.04284v3-Figure5-1.png</td>\n",
       "      <td>When Image Denoising Meets High-Level Vision T...</td>\n",
       "      <td>Conventionally, image denoising and high-level...</td>\n",
       "      <td>Two semantic segmentation examples from Pascal...</td>\n",
       "      <td>Which denoiser performs the best on the sheep...</td>\n",
       "    </tr>\n",
       "    <tr>\n",
       "      <th>354</th>\n",
       "      <td>spiqa_355</td>\n",
       "      <td>1805.07567v2</td>\n",
       "      <td>Based on the figure comparing the performance ...</td>\n",
       "      <td>F-DSS.</td>\n",
       "      <td>1805.07567v2.pdf</td>\n",
       "      <td>['1805.07567v2.pdf', '1611.02654v2.pdf', '1705...</td>\n",
       "      <td>The plot shows that F-DSS has a higher F-measu...</td>\n",
       "      <td>1805.07567v2-Figure5-1.png</td>\n",
       "      <td>Optimizing the F-measure for Threshold-free Sa...</td>\n",
       "      <td>Current CNN-based solutions to salient object ...</td>\n",
       "      <td>Precision, Recall, F-measure and Maximal F-mea...</td>\n",
       "      <td>Which algorithm achieves a better balance betw...</td>\n",
       "    </tr>\n",
       "    <tr>\n",
       "      <th>13</th>\n",
       "      <td>spiqa_13</td>\n",
       "      <td>1802.07351v2</td>\n",
       "      <td>Based on the ablation study results in Table 1...</td>\n",
       "      <td>Removing the normalization in the relation mod...</td>\n",
       "      <td>1802.07351v2.pdf</td>\n",
       "      <td>['1802.07351v2.pdf', '1702.08694v3.pdf', '1606...</td>\n",
       "      <td>Table 1 shows the results of various modificat...</td>\n",
       "      <td>1802.07351v2-Table5-1.png</td>\n",
       "      <td>Devon: Deformable Volume Network for Learning ...</td>\n",
       "      <td>State-of-the-art neural network models estimat...</td>\n",
       "      <td>Table 5. Results of ablation experiments after...</td>\n",
       "      <td>Based on the ablation study, which modificatio...</td>\n",
       "    </tr>\n",
       "    <tr>\n",
       "      <th>304</th>\n",
       "      <td>spiqa_305</td>\n",
       "      <td>1704.07854v4</td>\n",
       "      <td>Referring to the figure showcasing timings on ...</td>\n",
       "      <td>The higher the resolution of the simulation, ...</td>\n",
       "      <td>1704.07854v4.pdf</td>\n",
       "      <td>['1704.07854v4.pdf', '1802.07351v2.pdf', '1611...</td>\n",
       "      <td>The table in the figure shows that the traini...</td>\n",
       "      <td>1704.07854v4-Table2-1.png</td>\n",
       "      <td>Generating Liquid Simulations with Deformation...</td>\n",
       "      <td>We propose a novel approach for deformation-aw...</td>\n",
       "      <td>Overview of our 2D and 4D simulation and machi...</td>\n",
       "      <td>What is the relationship between the resolutio...</td>\n",
       "    </tr>\n",
       "    <tr>\n",
       "      <th>508</th>\n",
       "      <td>spiqa_518</td>\n",
       "      <td>1707.06320v2</td>\n",
       "      <td>Based on Table 3 of *\"Learning Visually Ground...</td>\n",
       "      <td>The GroundSent-Both model performs best on the...</td>\n",
       "      <td>1707.06320v2.pdf</td>\n",
       "      <td>['1707.06320v2.pdf', '1705.09966v2.pdf', '1811...</td>\n",
       "      <td>The table displays the performance of differen...</td>\n",
       "      <td>1707.06320v2-Table3-1.png</td>\n",
       "      <td>Learning Visually Grounded Sentence Representa...</td>\n",
       "      <td>We introduce a variety of models, trained on a...</td>\n",
       "      <td>Table 3: Thorough investigation of the contrib...</td>\n",
       "      <td>Which model performs best on the SNLI dataset,...</td>\n",
       "    </tr>\n",
       "  </tbody>\n",
       "</table>\n",
       "</div>"
      ],
      "text/plain": [
       "          q_id         doc_id  \\\n",
       "445  spiqa_447  1701.03077v10   \n",
       "6      spiqa_6   1706.04284v3   \n",
       "354  spiqa_355   1805.07567v2   \n",
       "13    spiqa_13   1802.07351v2   \n",
       "304  spiqa_305   1704.07854v4   \n",
       "508  spiqa_518   1707.06320v2   \n",
       "\n",
       "                                          old_question  \\\n",
       "445  Based on the experimental results presented in...   \n",
       "6    In the figure from the paper illustrating sema...   \n",
       "354  Based on the figure comparing the performance ...   \n",
       "13   Based on the ablation study results in Table 1...   \n",
       "304  Referring to the figure showcasing timings on ...   \n",
       "508  Based on Table 3 of *\"Learning Visually Ground...   \n",
       "\n",
       "                                                answer           doc_path  \\\n",
       "445  The \"adaptive $\\power \\in (0, 2)$\" strategy, w...  1701.03077v10.pdf   \n",
       "6     The denoiser trained with the classification ...   1706.04284v3.pdf   \n",
       "354                                             F-DSS.   1805.07567v2.pdf   \n",
       "13   Removing the normalization in the relation mod...   1802.07351v2.pdf   \n",
       "304   The higher the resolution of the simulation, ...   1704.07854v4.pdf   \n",
       "508  The GroundSent-Both model performs best on the...   1707.06320v2.pdf   \n",
       "\n",
       "                                             documents  \\\n",
       "445  ['1701.03077v10.pdf', '1709.02755v5.pdf', '190...   \n",
       "6    ['1706.04284v3.pdf', '1611.04363v2.pdf', '1802...   \n",
       "354  ['1805.07567v2.pdf', '1611.02654v2.pdf', '1705...   \n",
       "13   ['1802.07351v2.pdf', '1702.08694v3.pdf', '1606...   \n",
       "304  ['1704.07854v4.pdf', '1802.07351v2.pdf', '1611...   \n",
       "508  ['1707.06320v2.pdf', '1705.09966v2.pdf', '1811...   \n",
       "\n",
       "                                             rationale  \\\n",
       "445  The table presents various error and accuracy ...   \n",
       "6     The figure shows the ground truth image and t...   \n",
       "354  The plot shows that F-DSS has a higher F-measu...   \n",
       "13   Table 1 shows the results of various modificat...   \n",
       "304   The table in the figure shows that the traini...   \n",
       "508  The table displays the performance of differen...   \n",
       "\n",
       "               reference_figure  \\\n",
       "445  1701.03077v10-Table2-1.png   \n",
       "6    1706.04284v3-Figure5-1.png   \n",
       "354  1805.07567v2-Figure5-1.png   \n",
       "13    1802.07351v2-Table5-1.png   \n",
       "304   1704.07854v4-Table2-1.png   \n",
       "508   1707.06320v2-Table3-1.png   \n",
       "\n",
       "                                           paper_title  \\\n",
       "445        A General and Adaptive Robust Loss Function   \n",
       "6    When Image Denoising Meets High-Level Vision T...   \n",
       "354  Optimizing the F-measure for Threshold-free Sa...   \n",
       "13   Devon: Deformable Volume Network for Learning ...   \n",
       "304  Generating Liquid Simulations with Deformation...   \n",
       "508  Learning Visually Grounded Sentence Representa...   \n",
       "\n",
       "                                        paper_abstract  \\\n",
       "445  We present a generalization of the Cauchy/Lore...   \n",
       "6    Conventionally, image denoising and high-level...   \n",
       "354  Current CNN-based solutions to salient object ...   \n",
       "13   State-of-the-art neural network models estimat...   \n",
       "304  We propose a novel approach for deformation-aw...   \n",
       "508  We introduce a variety of models, trained on a...   \n",
       "\n",
       "                                               caption  \\\n",
       "445  Table 2. Results on unsupervised monocular dep...   \n",
       "6    Two semantic segmentation examples from Pascal...   \n",
       "354  Precision, Recall, F-measure and Maximal F-mea...   \n",
       "13   Table 5. Results of ablation experiments after...   \n",
       "304  Overview of our 2D and 4D simulation and machi...   \n",
       "508  Table 3: Thorough investigation of the contrib...   \n",
       "\n",
       "                                              question  \n",
       "445  Which method for setting the shape parameter o...  \n",
       "6     Which denoiser performs the best on the sheep...  \n",
       "354  Which algorithm achieves a better balance betw...  \n",
       "13   Based on the ablation study, which modificatio...  \n",
       "304  What is the relationship between the resolutio...  \n",
       "508  Which model performs best on the SNLI dataset,...  "
      ]
     },
     "execution_count": 5,
     "metadata": {},
     "output_type": "execute_result"
    }
   ],
   "source": [
    "df.sample(6)"
   ]
  },
  {
   "cell_type": "code",
   "execution_count": 6,
   "metadata": {},
   "outputs": [
    {
     "name": "stdout",
     "output_type": "stream",
     "text": [
      "<class 'pandas.core.frame.DataFrame'>\n",
      "RangeIndex: 586 entries, 0 to 585\n",
      "Data columns (total 12 columns):\n",
      " #   Column            Non-Null Count  Dtype \n",
      "---  ------            --------------  ----- \n",
      " 0   q_id              586 non-null    object\n",
      " 1   doc_id            586 non-null    object\n",
      " 2   old_question      586 non-null    object\n",
      " 3   answer            586 non-null    object\n",
      " 4   doc_path          586 non-null    object\n",
      " 5   documents         586 non-null    object\n",
      " 6   rationale         586 non-null    object\n",
      " 7   reference_figure  586 non-null    object\n",
      " 8   paper_title       586 non-null    object\n",
      " 9   paper_abstract    586 non-null    object\n",
      " 10  caption           586 non-null    object\n",
      " 11  question          586 non-null    object\n",
      "dtypes: object(12)\n",
      "memory usage: 55.1+ KB\n"
     ]
    }
   ],
   "source": [
    "df.info()"
   ]
  },
  {
   "cell_type": "code",
   "execution_count": 12,
   "metadata": {},
   "outputs": [
    {
     "data": {
      "text/html": [
       "<div>\n",
       "<style scoped>\n",
       "    .dataframe tbody tr th:only-of-type {\n",
       "        vertical-align: middle;\n",
       "    }\n",
       "\n",
       "    .dataframe tbody tr th {\n",
       "        vertical-align: top;\n",
       "    }\n",
       "\n",
       "    .dataframe thead th {\n",
       "        text-align: right;\n",
       "    }\n",
       "</style>\n",
       "<table border=\"1\" class=\"dataframe\">\n",
       "  <thead>\n",
       "    <tr style=\"text-align: right;\">\n",
       "      <th></th>\n",
       "      <th>old_question</th>\n",
       "      <th>question</th>\n",
       "    </tr>\n",
       "  </thead>\n",
       "  <tbody>\n",
       "    <tr>\n",
       "      <th>486</th>\n",
       "      <td>Based on the data presented in Table 2 of the \"Hybrid Deep-Semantic Matrix Factorization\" paper, which model consistently achieved the highest performance across all ranking metrics, including Precision (P@k), Recall (R@k), F-Score (F@k), Mean Reciprocal Rank (MRR), and Mean Average Precision (MAP), in the context of tag-aware personalized recommendation?</td>\n",
       "      <td>Which model achieved the best overall performance in terms of ranking relevant tags for users?</td>\n",
       "    </tr>\n",
       "    <tr>\n",
       "      <th>305</th>\n",
       "      <td>Referring to the figure illustrating the general loss function in \"A General and Adaptive Robust Loss Function,\" how does the shape parameter α control the sharpness and behavior of the loss function around zero, and what impact does it have on penalizing small errors as α is varied from high to low values?</td>\n",
       "      <td>What is the relationship between the shape parameter α and the shape of the loss function?</td>\n",
       "    </tr>\n",
       "    <tr>\n",
       "      <th>182</th>\n",
       "      <td>What educational approaches of the Bonaparte and Voltaire schools are contrasted in the figure titled \"A difficult example from QA,\" and how are these approaches specifically differentiated in terms of physical versus cognitive development, and their respective goals of leadership versus philosophical thinking?</td>\n",
       "      <td>What are the main differences between the educational philosophies of the Bonaparte and Voltaire schools?</td>\n",
       "    </tr>\n",
       "    <tr>\n",
       "      <th>14</th>\n",
       "      <td>Looking at the performance results in Figure (b), which specific question type within the WikiQA dataset does the ACNN model achieve its highest accuracy compared to all others?</td>\n",
       "      <td>Based on the figure, which type of question does ACNN perform the best on?</td>\n",
       "    </tr>\n",
       "    <tr>\n",
       "      <th>252</th>\n",
       "      <td>Based on the figure depicting the distribution of scene categories in the BDD100K dataset, which specific scene type has the highest number of instances?</td>\n",
       "      <td>What is the most common type of scene in the dataset?</td>\n",
       "    </tr>\n",
       "    <tr>\n",
       "      <th>525</th>\n",
       "      <td>Based on Table 1 of the *Devon* paper, which configuration shows the fastest processing times for both the forward and backward passes, and what is the exact difference in milliseconds between the \"Without dilation\" configuration and the full model for the backward pass?</td>\n",
       "      <td>Which modification to the Devon model resulted in the fastest processing time for both forward and backward passes, and how much faster was it compared to the full model in terms of the backward pass?</td>\n",
       "    </tr>\n",
       "    <tr>\n",
       "      <th>204</th>\n",
       "      <td>Referring to the examples in Figure 6 of the CAN paper, how does the model's treatment of overlapping cases, where multiple aspects share an opinion snippet, differ from its handling of error cases, where an aspect or opinion is misidentified in multi-aspect sentiment analysis?</td>\n",
       "      <td>What is the difference between an overlapping case and an error case?</td>\n",
       "    </tr>\n",
       "    <tr>\n",
       "      <th>71</th>\n",
       "      <td>Referring to Figure 2 of the paper, how does the learned RL policy impact the number of index blocks accessed compared to the baseline for CAT2 queries on the weighted set?</td>\n",
       "      <td>How does the RL policy compare to the baseline in terms of index blocks accessed?</td>\n",
       "    </tr>\n",
       "    <tr>\n",
       "      <th>324</th>\n",
       "      <td>In the Frame-Recurrent Generator depicted in Figure b of the paper, how does the Motion Compensation block utilize the warping operation to align the previous frame \\( g_{t-1} \\) with the current frame \\( g_t \\) and contribute to temporally coherent video generation?</td>\n",
       "      <td>What is the role of the Motion Compensation block in the Frame-Recurrent Generator?</td>\n",
       "    </tr>\n",
       "    <tr>\n",
       "      <th>178</th>\n",
       "      <td>In the LSTNet model architecture shown in Figure 2 of the paper \"Modeling Long- and Short-Term Temporal Patterns with Deep Neural Networks,\" how do the convolutional, recurrent, and autoregressive layers collaborate to capture both local short-term and global long-term time series dependencies, and how do their outputs contribute to the final prediction layer?</td>\n",
       "      <td>What are the different types of layers in the LSTNet model and how are they connected?</td>\n",
       "    </tr>\n",
       "  </tbody>\n",
       "</table>\n",
       "</div>"
      ],
      "text/plain": [
       "                                                                                                                                                                                                                                                                                                                                                                   old_question  \\\n",
       "486       Based on the data presented in Table 2 of the \"Hybrid Deep-Semantic Matrix Factorization\" paper, which model consistently achieved the highest performance across all ranking metrics, including Precision (P@k), Recall (R@k), F-Score (F@k), Mean Reciprocal Rank (MRR), and Mean Average Precision (MAP), in the context of tag-aware personalized recommendation?   \n",
       "305                                                        Referring to the figure illustrating the general loss function in \"A General and Adaptive Robust Loss Function,\" how does the shape parameter α control the sharpness and behavior of the loss function around zero, and what impact does it have on penalizing small errors as α is varied from high to low values?   \n",
       "182                                                    What educational approaches of the Bonaparte and Voltaire schools are contrasted in the figure titled \"A difficult example from QA,\" and how are these approaches specifically differentiated in terms of physical versus cognitive development, and their respective goals of leadership versus philosophical thinking?   \n",
       "14                                                                                                                                                                                            Looking at the performance results in Figure (b), which specific question type within the WikiQA dataset does the ACNN model achieve its highest accuracy compared to all others?   \n",
       "252                                                                                                                                                                                                                   Based on the figure depicting the distribution of scene categories in the BDD100K dataset, which specific scene type has the highest number of instances?   \n",
       "525                                                                                             Based on Table 1 of the *Devon* paper, which configuration shows the fastest processing times for both the forward and backward passes, and what is the exact difference in milliseconds between the \"Without dilation\" configuration and the full model for the backward pass?   \n",
       "204                                                                                      Referring to the examples in Figure 6 of the CAN paper, how does the model's treatment of overlapping cases, where multiple aspects share an opinion snippet, differ from its handling of error cases, where an aspect or opinion is misidentified in multi-aspect sentiment analysis?   \n",
       "71                                                                                                                                                                                                 Referring to Figure 2 of the paper, how does the learned RL policy impact the number of index blocks accessed compared to the baseline for CAT2 queries on the weighted set?   \n",
       "324                                                                                                 In the Frame-Recurrent Generator depicted in Figure b of the paper, how does the Motion Compensation block utilize the warping operation to align the previous frame \\( g_{t-1} \\) with the current frame \\( g_t \\) and contribute to temporally coherent video generation?   \n",
       "178  In the LSTNet model architecture shown in Figure 2 of the paper \"Modeling Long- and Short-Term Temporal Patterns with Deep Neural Networks,\" how do the convolutional, recurrent, and autoregressive layers collaborate to capture both local short-term and global long-term time series dependencies, and how do their outputs contribute to the final prediction layer?   \n",
       "\n",
       "                                                                                                                                                                                                      question  \n",
       "486                                                                                                             Which model achieved the best overall performance in terms of ranking relevant tags for users?  \n",
       "305                                                                                                                 What is the relationship between the shape parameter α and the shape of the loss function?  \n",
       "182                                                                                                  What are the main differences between the educational philosophies of the Bonaparte and Voltaire schools?  \n",
       "14                                                                                                                                  Based on the figure, which type of question does ACNN perform the best on?  \n",
       "252                                                                                                                                                      What is the most common type of scene in the dataset?  \n",
       "525  Which modification to the Devon model resulted in the fastest processing time for both forward and backward passes, and how much faster was it compared to the full model in terms of the backward pass?   \n",
       "204                                                                                                                                      What is the difference between an overlapping case and an error case?  \n",
       "71                                                                                                                           How does the RL policy compare to the baseline in terms of index blocks accessed?  \n",
       "324                                                                                                                        What is the role of the Motion Compensation block in the Frame-Recurrent Generator?  \n",
       "178                                                                                                                     What are the different types of layers in the LSTNet model and how are they connected?  "
      ]
     },
     "execution_count": 12,
     "metadata": {},
     "output_type": "execute_result"
    }
   ],
   "source": [
    "pd.set_option('display.max_colwidth', None)\n",
    "df.sample(10)[['old_question','question']]"
   ]
  },
  {
   "cell_type": "code",
   "execution_count": 37,
   "metadata": {},
   "outputs": [
    {
     "data": {
      "text/html": [
       "<div>\n",
       "<style scoped>\n",
       "    .dataframe tbody tr th:only-of-type {\n",
       "        vertical-align: middle;\n",
       "    }\n",
       "\n",
       "    .dataframe tbody tr th {\n",
       "        vertical-align: top;\n",
       "    }\n",
       "\n",
       "    .dataframe thead th {\n",
       "        text-align: right;\n",
       "    }\n",
       "</style>\n",
       "<table border=\"1\" class=\"dataframe\">\n",
       "  <thead>\n",
       "    <tr style=\"text-align: right;\">\n",
       "      <th></th>\n",
       "      <th>q_id</th>\n",
       "      <th>doc_id</th>\n",
       "      <th>old_question</th>\n",
       "      <th>answer</th>\n",
       "      <th>doc_path</th>\n",
       "      <th>documents</th>\n",
       "      <th>rationale</th>\n",
       "      <th>reference_figure</th>\n",
       "      <th>paper_title</th>\n",
       "      <th>paper_abstract</th>\n",
       "      <th>caption</th>\n",
       "      <th>question</th>\n",
       "      <th>question_length</th>\n",
       "      <th>answer_length</th>\n",
       "      <th>rationale_length</th>\n",
       "      <th>num_documents</th>\n",
       "    </tr>\n",
       "  </thead>\n",
       "  <tbody>\n",
       "    <tr>\n",
       "      <th>297</th>\n",
       "      <td>spiqa_298</td>\n",
       "      <td>1710.06177v2</td>\n",
       "      <td>In the context of the Visual Analogy Graph Embedded Regression (VAGER) model, how does the figure depicting the top-3 most visually similar base classes to the novel class on the embedding layer in the 5-shot setting illustrate the relationship between the novel class and its base classes?</td>\n",
       "      <td>The top-3 most similar base classes are the three classes that are most similar to the novel class, based on the embedding layer in a 5-shot setting.</td>\n",
       "      <td>1710.06177v2.pdf</td>\n",
       "      <td>['1710.06177v2.pdf', '1708.02153v2.pdf', '1802.07351v2.pdf', '1805.06431v4.pdf']</td>\n",
       "      <td>The figure shows a table of images, with each row representing a different class. The first row shows the novel class, and the second row shows the top-3 most similar base classes. The images in the second row are similar to the images in the first row, which suggests that the top-3 most similar base classes are indeed similar to the novel class.</td>\n",
       "      <td>1710.06177v2-Figure4-1.png</td>\n",
       "      <td>Learning to Learn Image Classifiers with Visual Analogy</td>\n",
       "      <td>Humans are far better learners who can learn a new concept very fast with\\nonly a few samples compared with machines. The plausible mystery making the\\ndifference is two fundamental learning mechanisms: learning to learn and\\nlearning by analogy. In this paper, we attempt to investigate a new human-like\\nlearning method by organically combining these two mechanisms. In particular,\\nwe study how to generalize the classification parameters from previously\\nlearned concepts to a new concept. we first propose a novel Visual Analogy\\nGraph Embedded Regression (VAGER) model to jointly learn a low-dimensional\\nembedding space and a linear mapping function from the embedding space to\\nclassification parameters for base classes. We then propose an out-of-sample\\nembedding method to learn the embedding of a new class represented by a few\\nsamples through its visual analogy with base classes and derive the\\nclassification parameters for the new class. We conduct extensive experiments\\non ImageNet dataset and the results show that our method could consistently and\\nsignificantly outperform state-of-the-art baselines.</td>\n",
       "      <td>Top-3 most similar base classes to novel class on embedding layer in 5-shot setting.</td>\n",
       "      <td>What is the relationship between the novel class and the top-3 most similar base classes?</td>\n",
       "      <td>15</td>\n",
       "      <td>27</td>\n",
       "      <td>63</td>\n",
       "      <td>4</td>\n",
       "    </tr>\n",
       "  </tbody>\n",
       "</table>\n",
       "</div>"
      ],
      "text/plain": [
       "          q_id        doc_id  \\\n",
       "297  spiqa_298  1710.06177v2   \n",
       "\n",
       "                                                                                                                                                                                                                                                                                           old_question  \\\n",
       "297  In the context of the Visual Analogy Graph Embedded Regression (VAGER) model, how does the figure depicting the top-3 most visually similar base classes to the novel class on the embedding layer in the 5-shot setting illustrate the relationship between the novel class and its base classes?   \n",
       "\n",
       "                                                                                                                                                    answer  \\\n",
       "297  The top-3 most similar base classes are the three classes that are most similar to the novel class, based on the embedding layer in a 5-shot setting.   \n",
       "\n",
       "             doc_path  \\\n",
       "297  1710.06177v2.pdf   \n",
       "\n",
       "                                                                            documents  \\\n",
       "297  ['1710.06177v2.pdf', '1708.02153v2.pdf', '1802.07351v2.pdf', '1805.06431v4.pdf']   \n",
       "\n",
       "                                                                                                                                                                                                                                                                                                                                                        rationale  \\\n",
       "297  The figure shows a table of images, with each row representing a different class. The first row shows the novel class, and the second row shows the top-3 most similar base classes. The images in the second row are similar to the images in the first row, which suggests that the top-3 most similar base classes are indeed similar to the novel class.   \n",
       "\n",
       "               reference_figure  \\\n",
       "297  1710.06177v2-Figure4-1.png   \n",
       "\n",
       "                                                 paper_title  \\\n",
       "297  Learning to Learn Image Classifiers with Visual Analogy   \n",
       "\n",
       "                                                                                                                                                                                                                                                                                                                                                                                                                                                                                                                                                                                                                                                                                                                                                                                                                                                                                                                                                                                                                                                                                                                                                         paper_abstract  \\\n",
       "297  Humans are far better learners who can learn a new concept very fast with\\nonly a few samples compared with machines. The plausible mystery making the\\ndifference is two fundamental learning mechanisms: learning to learn and\\nlearning by analogy. In this paper, we attempt to investigate a new human-like\\nlearning method by organically combining these two mechanisms. In particular,\\nwe study how to generalize the classification parameters from previously\\nlearned concepts to a new concept. we first propose a novel Visual Analogy\\nGraph Embedded Regression (VAGER) model to jointly learn a low-dimensional\\nembedding space and a linear mapping function from the embedding space to\\nclassification parameters for base classes. We then propose an out-of-sample\\nembedding method to learn the embedding of a new class represented by a few\\nsamples through its visual analogy with base classes and derive the\\nclassification parameters for the new class. We conduct extensive experiments\\non ImageNet dataset and the results show that our method could consistently and\\nsignificantly outperform state-of-the-art baselines.   \n",
       "\n",
       "                                                                                  caption  \\\n",
       "297  Top-3 most similar base classes to novel class on embedding layer in 5-shot setting.   \n",
       "\n",
       "                                                                                      question  \\\n",
       "297  What is the relationship between the novel class and the top-3 most similar base classes?   \n",
       "\n",
       "     question_length  answer_length  rationale_length  num_documents  \n",
       "297               15             27                63              4  "
      ]
     },
     "execution_count": 37,
     "metadata": {},
     "output_type": "execute_result"
    }
   ],
   "source": [
    "df.sample(1)"
   ]
  },
  {
   "cell_type": "code",
   "execution_count": 14,
   "metadata": {},
   "outputs": [
    {
     "data": {
      "text/plain": [
       "q_id                0\n",
       "doc_id              0\n",
       "old_question        0\n",
       "answer              0\n",
       "doc_path            0\n",
       "documents           0\n",
       "rationale           0\n",
       "reference_figure    0\n",
       "paper_title         0\n",
       "paper_abstract      0\n",
       "caption             0\n",
       "question            0\n",
       "dtype: int64"
      ]
     },
     "execution_count": 14,
     "metadata": {},
     "output_type": "execute_result"
    }
   ],
   "source": [
    "df.isnull().sum() # check for missing values"
   ]
  },
  {
   "cell_type": "code",
   "execution_count": 21,
   "metadata": {},
   "outputs": [
    {
     "data": {
      "text/plain": [
       "q_id                586\n",
       "doc_id              117\n",
       "old_question        584\n",
       "answer              586\n",
       "doc_path            117\n",
       "documents           586\n",
       "rationale           586\n",
       "reference_figure    586\n",
       "paper_title         117\n",
       "paper_abstract      117\n",
       "caption             586\n",
       "question            586\n",
       "dtype: int64"
      ]
     },
     "execution_count": 21,
     "metadata": {},
     "output_type": "execute_result"
    }
   ],
   "source": [
    "df.nunique()\n",
    "# .plot(kind='bar', title='Unique values per column')\n"
   ]
  },
  {
   "cell_type": "markdown",
   "metadata": {},
   "source": [
    "## 2.1 Document and Question Meta Data"
   ]
  },
  {
   "cell_type": "markdown",
   "metadata": {},
   "source": [
    "#### 2.1.1 a. Count of questions per Document"
   ]
  },
  {
   "cell_type": "code",
   "execution_count": 22,
   "metadata": {},
   "outputs": [
    {
     "data": {
      "text/plain": [
       "<Axes: title={'center': 'Top 20 documents by question count'}, ylabel='doc_id'>"
      ]
     },
     "execution_count": 22,
     "metadata": {},
     "output_type": "execute_result"
    },
    {
     "data": {
      "image/png": "[encoded data removed]",
      "text/plain": [
       "<Figure size 640x480 with 1 Axes>"
      ]
     },
     "metadata": {},
     "output_type": "display_data"
    }
   ],
   "source": [
    "df['doc_id'].value_counts().head(20).plot(kind='barh', title='Top 20 documents by question count')\n"
   ]
  },
  {
   "cell_type": "markdown",
   "metadata": {},
   "source": [
    "#### 2.1.2 b. Bottom 20 Documents with the Questions Count"
   ]
  },
  {
   "cell_type": "code",
   "execution_count": 24,
   "metadata": {},
   "outputs": [
    {
     "data": {
      "text/plain": [
       "<Axes: title={'center': 'Bottom 20 documents by question count'}, ylabel='doc_id'>"
      ]
     },
     "execution_count": 24,
     "metadata": {},
     "output_type": "execute_result"
    },
    {
     "data": {
      "image/png": "[encoded data removed]",
      "text/plain": [
       "<Figure size 640x480 with 1 Axes>"
      ]
     },
     "metadata": {},
     "output_type": "display_data"
    }
   ],
   "source": [
    "df['doc_id'].value_counts().tail(20).plot(kind='barh', title='Bottom 20 documents by question count')"
   ]
  },
  {
   "cell_type": "markdown",
   "metadata": {},
   "source": [
    "#### 2.1.3 b. Distribution of Reference Figures"
   ]
  },
  {
   "cell_type": "code",
   "execution_count": 23,
   "metadata": {},
   "outputs": [
    {
     "data": {
      "text/plain": [
       "<Axes: title={'center': 'Top Referenced Figures'}, xlabel='reference_figure'>"
      ]
     },
     "execution_count": 23,
     "metadata": {},
     "output_type": "execute_result"
    },
    {
     "data": {
      "image/png": "[encoded data removed]",
      "text/plain": [
       "<Figure size 640x480 with 1 Axes>"
      ]
     },
     "metadata": {},
     "output_type": "display_data"
    }
   ],
   "source": [
    "df['reference_figure'].value_counts().head(10).plot(kind='bar', title='Top Referenced Figures')"
   ]
  },
  {
   "cell_type": "markdown",
   "metadata": {},
   "source": [
    "## 2.2 Textual Insights"
   ]
  },
  {
   "cell_type": "markdown",
   "metadata": {},
   "source": [
    "## 2.3 Length Distributions"
   ]
  },
  {
   "cell_type": "markdown",
   "metadata": {},
   "source": [
    "#### 2.3.1 a. Question Length Distribution"
   ]
  },
  {
   "cell_type": "code",
   "execution_count": 26,
   "metadata": {},
   "outputs": [
    {
     "data": {
      "text/plain": [
       "<Axes: title={'center': 'Distribution of Question Lengths'}, ylabel='Frequency'>"
      ]
     },
     "execution_count": 26,
     "metadata": {},
     "output_type": "execute_result"
    },
    {
     "data": {
      "image/png": "[encoded data removed]",
      "text/plain": [
       "<Figure size 640x480 with 1 Axes>"
      ]
     },
     "metadata": {},
     "output_type": "display_data"
    }
   ],
   "source": [
    "df['question_length'] = df['question'].apply(lambda x: len(x.split()))\n",
    "df['question_length'].plot(kind='hist', bins=30, title='Distribution of Question Lengths')\n"
   ]
  },
  {
   "cell_type": "markdown",
   "metadata": {},
   "source": [
    "## 2.4 Vocabulary Analysis"
   ]
  },
  {
   "cell_type": "markdown",
   "metadata": {},
   "source": [
    "### 2.4.1 b. Most Common Words in Questions\n",
    "Use CountVectorizer or wordcloud to visualize frequent words."
   ]
  },
  {
   "cell_type": "code",
   "execution_count": null,
   "metadata": {},
   "outputs": [],
   "source": []
  },
  {
   "cell_type": "markdown",
   "metadata": {},
   "source": [
    "### 2.4.2 Answer and Rationale Text\n",
    "#### 2.4.2.1 a. Answer Length Distribution"
   ]
  },
  {
   "cell_type": "code",
   "execution_count": 27,
   "metadata": {},
   "outputs": [
    {
     "data": {
      "text/plain": [
       "<Axes: title={'center': 'Answer Length Distribution'}>"
      ]
     },
     "execution_count": 27,
     "metadata": {},
     "output_type": "execute_result"
    },
    {
     "data": {
      "image/png": "[encoded data removed]",
      "text/plain": [
       "<Figure size 640x480 with 1 Axes>"
      ]
     },
     "metadata": {},
     "output_type": "display_data"
    }
   ],
   "source": [
    "df['answer_length'] = df['answer'].apply(lambda x: len(x.split()))\n",
    "df['answer_length'].plot(kind='box', title='Answer Length Distribution')"
   ]
  },
  {
   "cell_type": "code",
   "execution_count": 32,
   "metadata": {},
   "outputs": [
    {
     "data": {
      "text/plain": [
       "<Axes: title={'center': 'Answer Length Distribution'}, ylabel='Frequency'>"
      ]
     },
     "execution_count": 32,
     "metadata": {},
     "output_type": "execute_result"
    },
    {
     "data": {
      "image/png": "[encoded data removed]",
      "text/plain": [
       "<Figure size 640x480 with 1 Axes>"
      ]
     },
     "metadata": {},
     "output_type": "display_data"
    }
   ],
   "source": [
    "df['answer_length'] = df['answer'].apply(lambda x: len(x.split()))\n",
    "df['answer_length'].plot(kind='hist', bins=50, title='Answer Length Distribution')"
   ]
  },
  {
   "cell_type": "markdown",
   "metadata": {},
   "source": [
    "#### 2.4.2.2 b. Rationale vs Answer Length"
   ]
  },
  {
   "cell_type": "code",
   "execution_count": 33,
   "metadata": {},
   "outputs": [
    {
     "data": {
      "text/plain": [
       "<Axes: title={'center': 'Answer vs Rationale Length'}, xlabel='answer_length', ylabel='rationale_length'>"
      ]
     },
     "execution_count": 33,
     "metadata": {},
     "output_type": "execute_result"
    },
    {
     "data": {
      "image/png": "[encoded data removed]",
      "text/plain": [
       "<Figure size 640x480 with 1 Axes>"
      ]
     },
     "metadata": {},
     "output_type": "display_data"
    }
   ],
   "source": [
    "df['rationale_length'] = df['rationale'].apply(lambda x: len(x.split()))\n",
    "df.plot.scatter(x='answer_length', y='rationale_length', alpha=0.5, title='Answer vs Rationale Length')"
   ]
  },
  {
   "cell_type": "markdown",
   "metadata": {},
   "source": [
    "### 2.4.3 Document Set Diversity"
   ]
  },
  {
   "cell_type": "markdown",
   "metadata": {},
   "source": [
    "#### 2.4.3.1 a. Number of Documents per Question"
   ]
  },
  {
   "cell_type": "code",
   "execution_count": 35,
   "metadata": {},
   "outputs": [
    {
     "data": {
      "text/plain": [
       "<Axes: title={'center': 'Documents per Question'}, ylabel='Frequency'>"
      ]
     },
     "execution_count": 35,
     "metadata": {},
     "output_type": "execute_result"
    },
    {
     "data": {
      "image/png": "[encoded data removed]",
      "text/plain": [
       "<Figure size 640x480 with 1 Axes>"
      ]
     },
     "metadata": {},
     "output_type": "display_data"
    }
   ],
   "source": [
    "df['num_documents'] = df['documents'].apply(eval).apply(len)\n",
    "df['num_documents'].plot(kind='hist', bins=50, title='Documents per Question')"
   ]
  },
  {
   "cell_type": "markdown",
   "metadata": {},
   "source": [
    "### 2.4.4 Research Paper Metadata\n",
    "#### 2.4.4.1 a. Most Cited Paper Titles"
   ]
  },
  {
   "cell_type": "code",
   "execution_count": 40,
   "metadata": {},
   "outputs": [
    {
     "data": {
      "text/plain": [
       "<Axes: title={'center': 'Most Used Paper Titles For Questions'}, ylabel='paper_title'>"
      ]
     },
     "execution_count": 40,
     "metadata": {},
     "output_type": "execute_result"
    },
    {
     "data": {
      "image/png": "[encoded data removed]",
      "text/plain": [
       "<Figure size 640x480 with 1 Axes>"
      ]
     },
     "metadata": {},
     "output_type": "display_data"
    }
   ],
   "source": [
    "df['paper_title'].value_counts().head(10).plot(kind='barh', title='Most Used Paper Titles For Questions')"
   ]
  },
  {
   "cell_type": "markdown",
   "metadata": {},
   "source": [
    "#### 2.4.4.2 b. Caption Analysis\n",
    "Visualize most used words in captions using wordcloud."
   ]
  },
  {
   "cell_type": "markdown",
   "metadata": {},
   "source": [
    "---"
   ]
  },
  {
   "cell_type": "markdown",
   "metadata": {},
   "source": []
  },
  {
   "cell_type": "markdown",
   "metadata": {},
   "source": [
    "---"
   ]
  },
  {
   "cell_type": "markdown",
   "metadata": {},
   "source": [
    "# Modifying the Official dataset and VisDoMRAG data as a combination"
   ]
  },
  {
   "cell_type": "markdown",
   "metadata": {},
   "source": [
    "## Get image paths"
   ]
  },
  {
   "cell_type": "code",
   "execution_count": 8,
   "metadata": {},
   "outputs": [],
   "source": [
    "import os\n",
    "\n",
    "def get_image_paths(doc_id, question_idx, spiqa_d, image_root):\n",
    "    \"\"\"\n",
    "    Get the full image path(s) for a given paper and question index from SPIQA.\n",
    "    \n",
    "    Parameters:\n",
    "    - doc_id: e.g. \"1506.06579v10\"\n",
    "    - question_idx: index of the question (e.g. 0, 1, 2)\n",
    "    - spiqa_d: original SPIQA dataset as a dict\n",
    "    - image_root: root directory where images are stored\n",
    "    \n",
    "    Returns:\n",
    "    - List of full image paths\n",
    "    \"\"\"\n",
    "    base_id = doc_id.split(\"v\")[0]  # strip version\n",
    "    paper = spiqa_d.get(base_id)\n",
    "\n",
    "    if not paper:\n",
    "        raise ValueError(f\"No paper found for doc_id: {doc_id}\")\n",
    "\n",
    "    fig_keys = paper['referred_figures_tables'][question_idx]\n",
    "    return [os.path.join(image_root, fig_key) for fig_key in fig_keys]\n"
   ]
  },
  {
   "cell_type": "markdown",
   "metadata": {},
   "source": []
  },
  {
   "cell_type": "code",
   "execution_count": 9,
   "metadata": {},
   "outputs": [
    {
     "data": {
      "text/plain": [
       "{'paper_id': 'paper_10',\n",
       " 'title': 'Understanding Neural Networks Through Deep Visualization',\n",
       " 'arxiv_url': 'https://arxiv.org/abs/1506.06579',\n",
       " 's2orc_url': 'https://www.semanticscholar.org/paper/1b5a24639fa80056d1a17b15f6997d10e76cc731',\n",
       " 'all_figures_tables': {'1b5a24639fa80056d1a17b15f6997d10e76cc731/3-Figure1-1.png': 'Figure 1. The bottom shows a screenshot from the interactive visualization software. The webcam input is shown, along with the whole layer of conv5 activations. The selected channel pane shows an enlarged version of the 13x13 conv5151 channel activations. Below it, the deconv starting at the selected channel is shown. On the right, three selections of nine images are shown: synthetic images produced using the regularized gradient ascent methods described in Section 3, the top 9 image patches from the training set (the images from the training set that caused the highest activations for the selected channel), and the deconv of the those top 9 images. All areas highlighted with a green star relate to the particular selected channel, here conv5151; when the selection changes, these panels update. The top depicts enlarged numerical optimization results for this and other channels. conv52 is a channel that responds most strongly to dog faces (as evidenced by the top nine images, which are not shown due to space constraints), but it also responds to flowers on the blanket on the bottom and half way up the right side of the image (as seen in the inset red highlight). This response to flowers can be partially seen in the optimized images but would be missed in an analysis focusing only on the top nine images and their deconv versions, which contain no flowers. conv5151 detects different types of faces. The top nine images are all of human faces, but here we see it responds also to the cat’s face (and in Figure 2 a lion’s face). Finally, conv5111 activates strongly for the cat’s face, the optimized images show catlike fur and ears, and the top nine images (not shown here) are also all of cats. For this image, the softmax output layer top two predictions are “Egyptian Cat” and “Computer Keyboard.” All figures in this paper are best viewed digitally, in color, significantly zoomed in.',\n",
       "  '1b5a24639fa80056d1a17b15f6997d10e76cc731/5-Figure2-1.png': 'Figure 2. A view of the 13×13 activations of the 151st channel on the conv5 layer of a deep neural network trained on ImageNet, a dataset that does not contain a face class, but does contain many images with faces. The channel responds to human and animal faces and is robust to changes in scale, pose, lighting, and context, which can be discerned by a user by actively changing the scene in front of a webcam or by loading static images (e.g. of the lions) and seeing the corresponding response of the unit. Photo of lions via Flickr user arnolouise, licensed under CC BY-NC-SA 2.0.',\n",
       "  '1b5a24639fa80056d1a17b15f6997d10e76cc731/7-Figure4-1.png': 'Figure 4. Visualizations of the preferred inputs for different class units on layer fc8, the 1000-dimensional output of the network just before the final softmax. In the lower left are 9 visualizations each (in 3×3 grids) for four different sets of regularization hyperparameters for the Gorilla class (Table 1). For all other classes, we have selected four interpretable visualizations produced by our regularized optimization method. We chose the four combinations of regularization hyperparameters by performing a random hyperparameter search and selecting combinations that complement each other. For example, the lower left quadrant tends to show lower frequency patterns, the upper right shows high frequency patterns, and the upper left shows a sparse set of important regions. Often greater intuition can be gleaned by considering all four at once. In nearly every case, we have found that one can guess what class a neuron represents by viewing sets of these optimized, preferred images. Best viewed electronically, zoomed in.7',\n",
       "  '1b5a24639fa80056d1a17b15f6997d10e76cc731/8-Figure5-1.png': 'Figure 5. Visualization of example features of eight layers of a deep, convolutional neural network. The images reflect the true sizes of the features at different layers. In each layer, we show visualizations from 4 random gradient descent runs for each channel. While these images are hand picked to showcase the diversity and interpretability of the visualizations, one image for each filter of all five convolutional layers is shown in Figure S1 in supplementary information. One can recognize important features of objects at different scales, such as edges, corners, wheels, eyes, shoulders, faces, handles, bottles, etc. The visualizations show the increase in complexity and variation on higher layers, comprised of simpler components from lower layers. The variation of patterns increases with increasing layer number, indicating that increasingly invariant representations are learned. In particular, the jump from Layer 5 (the last convolution layer) to Layer 6 (the first fully-connected layer) brings about a large increase in variation. Best viewed electronically, zoomed in.',\n",
       "  '1b5a24639fa80056d1a17b15f6997d10e76cc731/9-Figure3-1.png': 'Figure 3. The effects of each regularization method from Section 3 when used individually. Each of the four rows shows a linear sweep in hyperparameter space from no regularization (left) to strong regularization (right). When applied too strongly, some regularizations cause the optimization to fail (e.g. L2 decay, top row) or the images to be less interpretable (small norm and small contribution clipping, bottom two rows). For this reason, a random hyperparameter search was useful for finding joint hyperparameter settings that worked well together (see Figure 4). Best viewed electronically, zoomed in.',\n",
       "  '1b5a24639fa80056d1a17b15f6997d10e76cc731/9-Table1-1.png': 'Table 1. Four hyperparameter combinations that produce different styles of recognizable images. We identified these four after reviewing images produced by 300 randomly selected hyperparameter combinations. From top to bottom, they are the hyperparameter combinations that produced the top-left, top-right, bottomleft, and bottom-right Gorilla class visualizations, respectively, in Figure 4. The third row hyperparameters produced most of the visualizations for the other classes in Figure 4, and all of those in Figure 5.'},\n",
       " 'referred_figures_tables': [['1b5a24639fa80056d1a17b15f6997d10e76cc731/9-Figure3-1.png',\n",
       "   '1b5a24639fa80056d1a17b15f6997d10e76cc731/7-Figure4-1.png',\n",
       "   '1b5a24639fa80056d1a17b15f6997d10e76cc731/8-Figure5-1.png',\n",
       "   '1b5a24639fa80056d1a17b15f6997d10e76cc731/9-Table1-1.png'],\n",
       "  ['1b5a24639fa80056d1a17b15f6997d10e76cc731/9-Figure3-1.png',\n",
       "   '1b5a24639fa80056d1a17b15f6997d10e76cc731/7-Figure4-1.png'],\n",
       "  ['1b5a24639fa80056d1a17b15f6997d10e76cc731/9-Figure3-1.png',\n",
       "   '1b5a24639fa80056d1a17b15f6997d10e76cc731/7-Figure4-1.png',\n",
       "   '1b5a24639fa80056d1a17b15f6997d10e76cc731/8-Figure5-1.png',\n",
       "   '1b5a24639fa80056d1a17b15f6997d10e76cc731/9-Table1-1.png']],\n",
       " 'question_id': [15, 17, 16],\n",
       " 'question': ['For the images used for visualization in the paper, were they selected randomly or picked by the authors?',\n",
       "  'What is meant by \"linear sweep\" in hyperparameter space?',\n",
       "  'How many hyperparameter combinations were used for the random hyperparameter search?'],\n",
       " 'question_section': ['Visualizing via Regularized Optimization',\n",
       "  'Visualizing via Regularized Optimization',\n",
       "  'Visualizing via Regularized Optimization'],\n",
       " 'question_trigger_sentence': ['Figure 5. Visualization of example features of eight layers of a deep, convolutional neural network. The images reflect the true sizes of the features at different layers. In each layer, we show visualizations from 4 random gradient descent runs for each channel.',\n",
       "  'Figure 3. The effects of each regularization method from Section 3 when used individually. Each of the four rows shows a linear sweep in hyperparameter space from no regularization (left) to strong regularization (right).',\n",
       "  'While each of these regularization methods helps on its own, in combination they are even more effective. We found useful combinations via a random hyperparameter search'],\n",
       " 'question_type': ['Shallow question', 'Shallow question', 'Testing question'],\n",
       " 'evidential_info': [[{'context': 'If the above regularization methods are applied individually, they aresomewhat effective at producing more interpretable images; Figure\\xa03 shows the effects of each individual hyperparameter.However, preliminary experiments uncovered that their combinedeffect produces better visualizations. To pick a reasonable set ofhyperparameters for all methods at once, we ran a randomhyperparameter search of 300 possible combinations and settled on fourthat complement each other well. The four selected combinations arelisted in Table\\xa01 and optimized images using each are shown for the “Gorilla” class output unit in Figure\\xa04. Of the four, some show highfrequency information, others low frequency; some contain densepixel data, and others contain only sparse outlines of importantregions.We found the version in the lower-left quadrant to be the best single set of hyperparameters, but often greater intuition canbe gleaned by considering all four at once.Figure\\xa05 shows the optimization results computed for a selection of units on all layers. A single image for every filter of all five convolutional layers is shown in Supplementary Figure\\xa0S1. Nine images for each filter of all layers, including each of the 1000 ImageNet output classes, can be viewed at http://yosinski.com/deepvis.',\n",
       "    'rationale': 'If the above regularization methods are applied individually, they are somewhat effective at producing more interpretable images; Figure 3 shows the effects of each individual hyperparameter. However, preliminary experiments uncovered that their combined effect produces better visualizations.To pick a reasonable set of hyperparameters for all methods at once, we ran a random hyperparameter search of 300 possible combinations and settled on four that complement each other well. The four selected combinations are listed in Table 1 and optimized images using each are shown for the “Gorilla” class output unit in Figure 4. Of the four, some show high frequency information, others low frequency; some contain dense pixel data, and others contain only sparse outlines of important regions.'}],\n",
       "  [{'context': 'Figure 3. The effects of each regularization method from Section 3 when used individually. Each of the four rows shows a linear sweep in hyperparameter space from no regularization (left) to strong regularization (right). When applied too strongly, some regularizations cause the optimization to fail (e.g. L2 decay, top row) or the images to be less interpretable (small norm and small contribution clipping, bottom two rows). For this reason, a random hyperparameter search was useful for finding joint hyperparameter settings that worked well together (see Figure 4). Best viewed electronically, zoomed in.',\n",
       "    'rationale': 'Each of the four rows shows a linear sweep in hyperparameter space from no regularization (left) to strong regularization (right).'}],\n",
       "  [{'context': 'If the above regularization methods are applied individually, they aresomewhat effective at producing more interpretable images; Figure\\xa03 shows the effects of each individual hyperparameter.However, preliminary experiments uncovered that their combinedeffect produces better visualizations. To pick a reasonable set ofhyperparameters for all methods at once, we ran a randomhyperparameter search of 300 possible combinations and settled on fourthat complement each other well. The four selected combinations arelisted in Table\\xa01 and optimized images using each are shown for the “Gorilla” class output unit in Figure\\xa04. Of the four, some show highfrequency information, others low frequency; some contain densepixel data, and others contain only sparse outlines of importantregions.We found the version in the lower-left quadrant to be the best single set of hyperparameters, but often greater intuition canbe gleaned by considering all four at once.Figure\\xa05 shows the optimization results computed for a selection of units on all layers. A single image for every filter of all five convolutional layers is shown in Supplementary Figure\\xa0S1. Nine images for each filter of all layers, including each of the 1000 ImageNet output classes, can be viewed at http://yosinski.com/deepvis.',\n",
       "    'rationale': 'To pick a reasonable set of hyperparameters for all methods at once, we ran a random hyperparameter search of 300 possible combinations and settled on four that complement each other well.'}]],\n",
       " 'composition': ['Authors best practices were to combine effects of different ways of regularization to produce interpretable images. They first search randomly through 300 different combinations of  hyperparameters, then they pick the best four sets of hyperparameters that are compliments to each other and then these sets would be used to visualize preferred images for different classes.',\n",
       "  'linear sweep can be seen as a regular increment in the values of some regularization hyperparameter (from leftmost where there is no regularization to rightmost where strong regularization occur ) to see the variation of their effects on the corresponding activations.',\n",
       "  '300 sets of possible hyperparameter combinations then choose four of them that complement each other well.'],\n",
       " 'Is_figure_in_evidence': [False, True, False],\n",
       " 'Is_table_in_evidence': [True, False, True],\n",
       " 'question_key': ['9', '12', '24'],\n",
       " 'passages': ['The last several years have produced tremendous progress in training powerful, deep neural network models that are approaching and even surpassing human abilities on a variety of challenging machine learning tasks (Taigman et\\xa0al., 2014; Schroff et\\xa0al., 2015; Hannun et\\xa0al., 2014). A flagship example is training deep, convolutional neural networks (CNNs) with supervised learning to classify natural images (Krizhevsky et\\xa0al., 2012). That area has benefitted from the combined effects of faster computing (e.g. GPUs), better training techniques (e.g. dropout (Hinton et\\xa0al., 2012)), better activation units (e.g. rectified linear units (Glorot et\\xa0al., 2011)), and larger labeled datasets (Deng et\\xa0al., 2009; Lin et\\xa0al., 2014).',\n",
       "  'While there has thus been considerable improvements in our knowledge of how to create high-performing architectures and learning algorithms, our understanding of how these large neural models operate has lagged behind. Neural networks have long been known as “black boxes” because it is difficult to understand exactly how any particular, trained neural network functions due to the large number of interacting, non-linear parts. Large modern neural networks are even harder to study because of their size; for example, understanding the widely-used AlexNet DNN involves making sense of the values taken by the 60 million trained network parameters. Understanding what is learned is interesting in its own right, but it is also one key way of further improving models: the intuitions provided by understanding the current generation of models should suggest ways to make them better. For example, the deconvolutional technique for visualizing the features learned by the hidden units of DNNs suggested an architectural change of smaller convolutional filters that led to state of the art performance on the ImageNet benchmark in 2013\\xa0(Zeiler & Fergus, 2013).',\n",
       "  'We also note that tools that enable understanding will especially benefit the vast numbers of newcomers to deep learning, who would like to take advantage of off-the-shelf software packages — like Theano (Bergstra et\\xa0al., 2010), Pylearn2 (Goodfellow et\\xa0al., 2013), Caffe (Jia et\\xa0al., 2014), and Torch (Collobert et\\xa0al., 2011) — in new domains, but who may not have any intuition for why their models work (or do not). Experts can also benefit as they iterate ideas for new models or when they are searching for good hyperparameters. We thus believe that both experts and newcomers will benefit from tools that provide intuitions about the inner workings of DNNs. This paper provides two such tools, both of which are open source so that scientists and practitioners can integrate them with their own DNNs to better understand them.',\n",
       "  'The first tool is software that interactively plots the activations produced on each layer of a trained DNN for user-provided images or video. Static images afford a slow, detailed investigation of a particular input, whereas video input highlights the DNNs changing responses to dynamic input. At present, the videos are processed live from a user’s computer camera, which is especially helpful because users can move different items around the field of view, occlude and combine them, and perform other manipulations to actively learn how different features in the network respond.',\n",
       "  'The second tool we introduce enables better visualization of the learned features computed by individual neurons at every layer of a DNN. Seeing what features have been learned is important both to understand how current DNNs work and to fuel intuitions for how to improve them.',\n",
       "  'Attempting to understand what computations are performed at each layer in DNNs is an increasingly popular direction of research. One approach is to study each layer as a group and investigate the type of computation performed by the set of neurons on a layer as a whole\\xa0(Yosinski et\\xa0al., 2014; Mahendran & Vedaldi, 2014). This approach is informative because the neurons in a layer interact with each other to pass information to higher layers, and thus each neuron’s contribution to the entire function performed by the DNN depends on that neuron’s context in the layer.',\n",
       "  'Another approach is to try to interpret the function computed by each individual neuron. Past studies in this vein roughly divide into two different camps: dataset-centric and network-centric. The former requires both a trained DNN and running data through that network; the latter requires only the trained network itself. One dataset-centric approach is to display images from the training or test set that cause high or low activations for individual units. Another is the deconvolution method of Zeiler & Fergus\\xa0(2013), which highlights the portions of a particular image that are responsible for the firing of each neural unit.',\n",
       "  'Network-centric approaches investigate a network directly without any data from a dataset. For example, Erhan et al.\\xa0(2009) synthesized images that cause high activations for particular units. Starting with some initial input 𝐱=𝐱𝟎𝐱subscript𝐱0\\\\mathbf{x}=\\\\mathbf{x_{0}}bold_x = bold_x start_POSTSUBSCRIPT bold_0 end_POSTSUBSCRIPT, the activation ai(𝐱)subscript𝑎𝑖𝐱a_{i}(\\\\mathbf{x})italic_a start_POSTSUBSCRIPT italic_i end_POSTSUBSCRIPT ( bold_x ) caused at some unit i𝑖iitalic_i by this input is computed, and then steps are taken in input spacealong the gradient ∂ai(𝐱)/∂𝐱subscript𝑎𝑖𝐱𝐱\\\\partial a_{i}(\\\\mathbf{x})/\\\\partial\\\\mathbf{x}∂ italic_a start_POSTSUBSCRIPT italic_i end_POSTSUBSCRIPT ( bold_x ) / ∂ bold_x to synthesize inputs that cause higher and higher activations of unit i𝑖iitalic_i, eventually terminating at some 𝐱*superscript𝐱\\\\mathbf{x^{*}}bold_x start_POSTSUPERSCRIPT * end_POSTSUPERSCRIPT which is deemed to be a preferred input stimulus for the unit in question. In the case where the input space is an image, 𝐱*superscript𝐱\\\\mathbf{x^{*}}bold_x start_POSTSUPERSCRIPT * end_POSTSUPERSCRIPT can be displayed directly for interpretation. Others have followed suit, using the gradient to find images that cause higher activations (Simonyan et\\xa0al., 2013; Nguyen et\\xa0al., 2014) or lower activations (Szegedy et\\xa0al., 2013) for output units.',\n",
       "  'These gradient-based approaches are attractive in their simplicity, but the optimization process tends to produce images that do not greatly resemble natural images. Instead, they are composed of a collection of “hacks” that happen to cause high (or low) activations: extreme pixel values, structured high frequency patterns, and copies of common motifs without global structure\\xa0(Simonyan et\\xa0al., 2013; Nguyen et\\xa0al., 2014; Szegedy et\\xa0al., 2013; Goodfellow et\\xa0al., 2014). The fact that activations may be effected by such hacks is better understood thanks to several recent studies. Specifically, it has been shown that such hacks may be applied to correctly classified images to cause them to be misclassified even via imperceptibly small changes (Szegedy et\\xa0al., 2013), that such hacks can be found even without the gradient information to produce unrecognizable “fooling examples” (Nguyen et\\xa0al., 2014), and that the abundance of non-natural looking images that cause extreme activations can be explained by the locally linear behavior of neural nets(Goodfellow et\\xa0al., 2014).',\n",
       "  'With such strong evidence that optimizing images to cause high activations produces unrecognizable images, is there any hope of using such methods to obtain useful visualizations? It turns out there is, if one is able to appropriately regularize the optimization. Simonyan et al.\\xa0(2013) showed that slightly discernible images for the final layers of a convnet could be produced with L2subscript𝐿2L_{2}italic_L start_POSTSUBSCRIPT 2 end_POSTSUBSCRIPT-regularization. Mahendran and Vedaldi (2014) also showed the importance of incorporating natural-image priors in the optimization process when producing images that mimic an entire-layer’s firing pattern produced by a specific input image. We build on these works and contribute three additional forms of regularization that, when combined, produce more recognizable, optimization-based samples than previous methods. Because the optimization is stochastic, by starting at different random initial images, we can produce a set of optimized images whose variance provides information about the invariances learned by the unit.',\n",
       "  'To summarize, this paper makes the following two contributions:',\n",
       "  '1.We describe and release a software tool that provides a live, interactive visualization of every neuron in a trained convnet as it responds to a user-provided image or video. The tool displays forward activation values, preferred stimuli via gradient ascent, top images for each unit from the training set, deconv highlighting (Zeiler & Fergus, 2013) of top images, and backward diffs computed via backprop or deconv starting from arbitrary units. The combined effect of these complementary visualizations promotes a greater understanding of what a neuron computes than any single method on its own. We also describe a few insights we have gained from using this tool.(Section\\xa02).2.We extend past efforts to visualize preferred activation patterns in input space by adding several new types of regularization, which produce what we believe are the most interpretable images for large convnets so far (Section\\xa03).',\n",
       "  'Both of our tools are released as open source and are available athttp://yosinski.com/deepvis. While the tools could be adapted to integrate with any DNN software framework, they work out of the box withthe popular Caffe DNN software package (Jia et\\xa0al., 2014).Users may run visualizations with their own Caffe DNN or our pre-trained DNN, which comes with pre-computed images optimized to activate each neuron in this trained network. Our pre-trained network is nearly identical to the “AlexNet” architecture (Krizhevsky et\\xa0al., 2012), but with local reponse normalization layers after pooling layers following (Jia et\\xa0al., 2014). It was trained with the Caffe framework on the ImageNet 2012 dataset (Deng et\\xa0al., 2009).',\n",
       "  'Our first visualization method is straightforward: plotting the activation values for the neurons in each layer of a convnet in response to an image or video. In fully connected neural networks, the order of the units is irrelevant, so plots of these vectors are not spatially informative. However, in convolutional networks, filters are applied in a way that respects the underlying geometry of the input; in the case of 2D images, filters are applied in a 2D convolution over the two spatial dimensions of the image. This convolution produces activations on subsequent layers that are, for each channel, also arranged spatially.',\n",
       "  'Figure\\xa01 shows examples of this type of plot for the 𝖼𝗈𝗇𝗏𝟧𝖼𝗈𝗇𝗏𝟧\\\\mathsf{conv5}sansserif_conv5 layer.The 𝖼𝗈𝗇𝗏𝟧𝖼𝗈𝗇𝗏𝟧\\\\mathsf{conv5}sansserif_conv5 layer has size 256×\\\\times×13×\\\\times×13, which we depict as 256 separate 13×\\\\times×13 grayscale images. Each of the 256 small images contains activations in the same spatial x𝑥xitalic_x-y𝑦yitalic_y spatial layout as the input data, and the 256 images are simply and arbitrarily tiled into a 16×\\\\times×16 grid in row-major order.Figure\\xa02 shows a zoomed in view of one particular channel, 𝖼𝗈𝗇𝗏𝟧𝟣𝟧𝟣subscript𝖼𝗈𝗇𝗏𝟧151\\\\mathsf{conv5_{151}}sansserif_conv5 start_POSTSUBSCRIPT sansserif_151 end_POSTSUBSCRIPT, that responds to human and animal faces. All layers can be viewed in the software tool, including pooling and normalization layers. Visualizing these layers provides intuitions about their effects and functions.',\n",
       "  'Although this visualization is simple to implement, we find it informative becauseall data flowing through the network can be visualized. There is nothing mysterious happening behind the scenes. Because this convnet contains only a single path from input to output, every layer is a bottleneck through which all information must pass en-route to a classification decision. The layer sizes are all small enough that any one layer can easily fit on a computer screen.111The layer with the most activations is 𝖼𝗈𝗇𝗏𝟣𝖼𝗈𝗇𝗏𝟣\\\\mathsf{conv1}sansserif_conv1 which, when tiled, is only 550x550 before adding padding. So far, we have gleaned several surprising intuitions from using the tool:',\n",
       "  '•One of the most interesting conclusions so far has been that representations on some layers seem to be surprisingly local. Instead of finding distributed representations on all layers, we see, for example, detectors for text, flowers, fruit, and faces on 𝖼𝗈𝗇𝗏𝟦𝖼𝗈𝗇𝗏𝟦\\\\mathsf{conv4}sansserif_conv4 and 𝖼𝗈𝗇𝗏𝟧𝖼𝗈𝗇𝗏𝟧\\\\mathsf{conv5}sansserif_conv5. These conclusions can be drawn either from the live visualization or the optimized images (or, best, by using both in concert) and suggest several directions for future research (discussed in Section\\xa04).•When using direct file input to classify photos from Flickr or Google Images, classifications are often correct and highly confident (softmax probability for correct class near 1). On the other hand, when using input from a webcam, predictions often cannot be correct because no items from the training set are shown in the image. The training set’s 1000 classes, though numerous, do not cover most common household objects. Thus, when shown a typical webcam view of a person with no ImageNet classes present, the output has no single high probability, as is expected. Surprisingly, however, this probability vector is noisy and varies significantly in response to tiny changes in the input, often changing merely in response to the noise from the webcam. We might have instead expected unchanging and low confidence predictions for a given scene when no object the network has been trained to classify is present. Plotting the fully connected layers (𝖿𝖼𝟨𝖿𝖼𝟨\\\\mathsf{fc6}sansserif_fc6 and 𝖿𝖼𝟩𝖿𝖼𝟩\\\\mathsf{fc7}sansserif_fc7) also reveals a similar sensitivity to small input changes.•Although the last three layers are sensitive to small input changes, much of the lower layer computation is more robust. For example, when visualizing the 𝖼𝗈𝗇𝗏𝟧𝖼𝗈𝗇𝗏𝟧\\\\mathsf{conv5}sansserif_conv5 layer, one can find many invariant detectors for faces, shoulders, text, etc. by moving oneself or objects in front of the camera. Even though the 1000 classes contain no explicitly labeled faces or text, the network learns to identify these concepts simply because they represent useful partial information for making a later classification decision. One face detector, denoted 𝖼𝗈𝗇𝗏𝟧𝟣𝟧𝟣subscript𝖼𝗈𝗇𝗏𝟧151\\\\mathsf{conv5_{151}}sansserif_conv5 start_POSTSUBSCRIPT sansserif_151 end_POSTSUBSCRIPT (channel number 151 on 𝖼𝗈𝗇𝗏𝟧𝖼𝗈𝗇𝗏𝟧\\\\mathsf{conv5}sansserif_conv5), is shown in Figure\\xa02 activating for human and lion faces and in Figure\\xa01 activating for a cat face. Zhou et al.\\xa0(2014) recently observed a similar effect where convnets trained only to recognize different scene types — playgrounds, restaurant patios, living rooms, etc. — learn object detectors (e.g. for chairs, books, and sofas) on intermediate layers.',\n",
       "  'The reader is encouraged to try this visualization tool out for him or herself. The code, together with pre-trained models and images synthesized by gradient ascent, can be downloaded athttp://yosinski.com/deepvis.',\n",
       "  'The second contribution of this work is introducing several regularization methods to bias images found via optimization toward more visually interpretable examples. While each of these regularization methods helps on its own, in combination they are even more effective. We found useful combinations via a random hyperparameter search, as discussed below.',\n",
       "  'Formally, consider an image 𝐱∈ℝC×H×W𝐱superscriptℝ𝐶𝐻𝑊\\\\mathbf{x}\\\\in\\\\mathbb{R}^{C\\\\times H\\\\times W}bold_x ∈ blackboard_R start_POSTSUPERSCRIPT italic_C × italic_H × italic_W end_POSTSUPERSCRIPT, where\\xa0C=3𝐶3C=3italic_C = 3 color channels and the height (H𝐻Hitalic_H) and width (W𝑊Witalic_W) are both 227 pixels. When this image is presented to a neural network, it causes an activation ai(𝐱)subscript𝑎𝑖𝐱a_{i}(\\\\mathbf{x})italic_a start_POSTSUBSCRIPT italic_i end_POSTSUBSCRIPT ( bold_x ) for some unit i𝑖iitalic_i, where for simplicity i𝑖iitalic_i is an index that runs over all units on all layers. We also define a parameterized regularization function Rθ(𝐱)subscript𝑅𝜃𝐱R_{\\\\theta}(\\\\mathbf{x})italic_R start_POSTSUBSCRIPT italic_θ end_POSTSUBSCRIPT ( bold_x ) that penalizes images in various ways.',\n",
       "  'Our network was trained on ImageNet by first subtracting the per-pixel mean of examples in ImageNet before inputting training examples to the network. Thus, the direct input to the network, 𝐱𝐱\\\\mathbf{x}bold_x, can be thought of as a zero-centered input. We may pose the optimization problem as finding an image 𝐱*superscript𝐱\\\\mathbf{x^{*}}bold_x start_POSTSUPERSCRIPT * end_POSTSUPERSCRIPT where',\n",
       "  '𝐱*=argmax𝐱\\u2061(ai(𝐱)−Rθ(𝐱))superscript𝐱subscriptargmax𝐱subscript𝑎𝑖𝐱subscript𝑅𝜃𝐱\\\\mathbf{x^{*}}=\\\\operatorname*{arg\\\\,max}_{\\\\mathbf{x}}(a_{i}(\\\\mathbf{x})-R_{\\\\theta}(\\\\mathbf{x}))bold_x start_POSTSUPERSCRIPT * end_POSTSUPERSCRIPT = start_OPERATOR roman_arg roman_max end_OPERATOR start_POSTSUBSCRIPT bold_x end_POSTSUBSCRIPT ( italic_a start_POSTSUBSCRIPT italic_i end_POSTSUBSCRIPT ( bold_x ) - italic_R start_POSTSUBSCRIPT italic_θ end_POSTSUBSCRIPT ( bold_x ) )(1)',\n",
       "  'In practice, we use a slightly different formulation. Because we search for 𝐱*superscript𝐱\\\\mathbf{x^{*}}bold_x start_POSTSUPERSCRIPT * end_POSTSUPERSCRIPT by starting at some 𝐱𝟎subscript𝐱0\\\\mathbf{x_{0}}bold_x start_POSTSUBSCRIPT bold_0 end_POSTSUBSCRIPT and taking gradient steps, we instead define the regularization via an operator rθ(⋅)subscript𝑟𝜃⋅r_{\\\\theta}(\\\\cdot)italic_r start_POSTSUBSCRIPT italic_θ end_POSTSUBSCRIPT ( ⋅ ) that maps 𝐱𝐱\\\\mathbf{x}bold_x to a slightly more regularized version of itself. This latter definition is strictly more expressive, allowing regularization operators rθsubscript𝑟𝜃r_{\\\\theta}italic_r start_POSTSUBSCRIPT italic_θ end_POSTSUBSCRIPT that are not the gradient of any Rθsubscript𝑅𝜃R_{\\\\theta}italic_R start_POSTSUBSCRIPT italic_θ end_POSTSUBSCRIPT.This method is easy to implement within a gradient descent framework by simply alternating between taking a step toward the gradient of ai(𝐱)subscript𝑎𝑖𝐱a_{i}(\\\\mathbf{x})italic_a start_POSTSUBSCRIPT italic_i end_POSTSUBSCRIPT ( bold_x ) and taking a step in the direction given by rθsubscript𝑟𝜃r_{\\\\theta}italic_r start_POSTSUBSCRIPT italic_θ end_POSTSUBSCRIPT. With a gradient descent step size of η𝜂\\\\etaitalic_η, a single step in this process applies the update:',\n",
       "  '𝐱←rθ(𝐱+η∂ai∂𝐱)←𝐱subscript𝑟𝜃𝐱𝜂subscript𝑎𝑖𝐱\\\\mathbf{x}\\\\leftarrow r_{\\\\theta}\\\\left(\\\\mathbf{x}+\\\\eta\\\\frac{\\\\partial a_{i}}{\\\\partial\\\\mathbf{x}}\\\\right)\\\\\\\\bold_x ← italic_r start_POSTSUBSCRIPT italic_θ end_POSTSUBSCRIPT ( bold_x + italic_η divide start_ARG ∂ italic_a start_POSTSUBSCRIPT italic_i end_POSTSUBSCRIPT end_ARG start_ARG ∂ bold_x end_ARG )(2)',\n",
       "  'We investigated the following four regularizations. All are designed to overcome different pathologies commonly encountered by gradient descent without regularization.',\n",
       "  'L2subscript𝐿2L_{2}italic_L start_POSTSUBSCRIPT 2 end_POSTSUBSCRIPT decay: A common regularization, L2subscript𝐿2L_{2}italic_L start_POSTSUBSCRIPT 2 end_POSTSUBSCRIPT decay penalizes large values and is implemented as rθ(𝐱)=(1−θdecay)⋅𝐱subscript𝑟𝜃𝐱⋅1subscript𝜃decay𝐱r_{\\\\theta}(\\\\mathbf{x})=(1-\\\\theta_{\\\\mathrm{decay}})\\\\cdot\\\\mathbf{x}italic_r start_POSTSUBSCRIPT italic_θ end_POSTSUBSCRIPT ( bold_x ) = ( 1 - italic_θ start_POSTSUBSCRIPT roman_decay end_POSTSUBSCRIPT ) ⋅ bold_x. L2subscript𝐿2L_{2}italic_L start_POSTSUBSCRIPT 2 end_POSTSUBSCRIPT decay tends to prevent a small number of extreme pixel values from dominating the example image. Such extreme single-pixel values neither occur naturally with great frequency nor are useful for visualization. L2subscript𝐿2L_{2}italic_L start_POSTSUBSCRIPT 2 end_POSTSUBSCRIPT decay was also used by Simonyan et al.\\xa0(2013).',\n",
       "  'Gaussian blur: Producing images via gradient ascent tends to produce examples with high frequency information (see Supplementary Section\\xa0S1 for a possible reason). While these images cause high activations, they are neither realistic nor interpretable (Nguyen et\\xa0al., 2014). A useful regularization is thus to penalize high frequency information. We implement this as a Gaussian blur step rθ(𝐱)=GaussianBlur(𝐱,θb_width)subscript𝑟𝜃𝐱GaussianBlur𝐱subscript𝜃b_widthr_{\\\\theta}(\\\\mathbf{x})=\\\\mathrm{GaussianBlur}(\\\\mathbf{x},\\\\theta_{\\\\mathrm{b\\\\_width}})italic_r start_POSTSUBSCRIPT italic_θ end_POSTSUBSCRIPT ( bold_x ) = roman_GaussianBlur ( bold_x , italic_θ start_POSTSUBSCRIPT roman_b _ roman_width end_POSTSUBSCRIPT ). Convolving with a blur kernel is more computationally expensive than the other regularization methods, so we added another hyperparameter θb_everysubscript𝜃b_every\\\\theta_{\\\\mathrm{b\\\\_every}}italic_θ start_POSTSUBSCRIPT roman_b _ roman_every end_POSTSUBSCRIPT to allow, for example, blurring every several optimization steps instead of every step. Blurring an image multiple times with a small width Gaussian kernel is equivalent to blurring once with a larger width kernel, and the effect will be similar even if the image changes slightly during the optimization process. This technique thus lowers computational costs without limiting the expressiveness of the regularization. Mahendran & Vedaldi\\xa0(2014) used a penalty with a similar effect to blurring, called total variation, in their work reconstructing images from layer codes.',\n",
       "  'Clipping pixels with small norm: The first two regularizations suppress high amplitude and high frequency information, so after applying both, we are left with an 𝐱*superscript𝐱\\\\mathbf{x^{*}}bold_x start_POSTSUPERSCRIPT * end_POSTSUPERSCRIPT that contains somewhat small, somewhat smooth values. However, 𝐱*superscript𝐱\\\\mathbf{x^{*}}bold_x start_POSTSUPERSCRIPT * end_POSTSUPERSCRIPT will still tend to contain non-zero pixel values everywhere. Even if some pixels in 𝐱*superscript𝐱\\\\mathbf{x^{*}}bold_x start_POSTSUPERSCRIPT * end_POSTSUPERSCRIPT show the primary object or type of input causing the unit under consideration to activate, the gradient with respect to all other pixels in 𝐱*superscript𝐱\\\\mathbf{x^{*}}bold_x start_POSTSUPERSCRIPT * end_POSTSUPERSCRIPT will still generally be non-zero, so these pixels will also shift to show some pattern as well, contributing in whatever small way they can to ultimately raise the chosen unit’s activation. We wish to bias the search away from such behavior and instead show only the main object, letting other regions be exactly zero if they are not needed. We implement this bias using an rθ(𝐱)subscript𝑟𝜃𝐱r_{\\\\theta}(\\\\mathbf{x})italic_r start_POSTSUBSCRIPT italic_θ end_POSTSUBSCRIPT ( bold_x ) that computes the norm of each pixel (over red, green, and blue channels) and then sets any pixels with small norm to zero. The threshold for the norm, θn_pctsubscript𝜃n_pct\\\\theta_{\\\\mathrm{n\\\\_pct}}italic_θ start_POSTSUBSCRIPT roman_n _ roman_pct end_POSTSUBSCRIPT, is specified as a percentile of all pixel norms in 𝐱𝐱\\\\mathbf{x}bold_x.',\n",
       "  'Clipping pixels with small contribution: Instead of clipping pixels with small norms, we can try something slightly smarter and clip pixels with small contributions to the activation. One way of computing a pixel’s contribution to an activation is to measure how much the activation increases or decreases when the pixel is set to zero; that is, to compute the contribution as |ai(𝐱)−ai(𝐱−j)|subscript𝑎𝑖𝐱subscript𝑎𝑖subscript𝐱𝑗|a_{i}(\\\\mathbf{x})-a_{i}(\\\\mathbf{x}_{-j})|| italic_a start_POSTSUBSCRIPT italic_i end_POSTSUBSCRIPT ( bold_x ) - italic_a start_POSTSUBSCRIPT italic_i end_POSTSUBSCRIPT ( bold_x start_POSTSUBSCRIPT - italic_j end_POSTSUBSCRIPT ) |, where 𝐱−jsubscript𝐱𝑗\\\\mathbf{x}_{-j}bold_x start_POSTSUBSCRIPT - italic_j end_POSTSUBSCRIPT is 𝐱𝐱\\\\mathbf{x}bold_x but with the jthsuperscript𝑗𝑡ℎj^{th}italic_j start_POSTSUPERSCRIPT italic_t italic_h end_POSTSUPERSCRIPT pixel set to zero. This approach is straightforward but prohibitively slow, requiring a forward pass for every pixel. Instead, we approximate this process by linearizing ai(𝐱)subscript𝑎𝑖𝐱a_{i}(\\\\mathbf{x})italic_a start_POSTSUBSCRIPT italic_i end_POSTSUBSCRIPT ( bold_x ) around 𝐱𝐱\\\\mathbf{x}bold_x, in which case the contribution of each dimension of 𝐱𝐱\\\\mathbf{x}bold_x can be estimated as the elementwise product of 𝐱𝐱\\\\mathbf{x}bold_x and the gradient. We then sum over all three channels and take the absolute value, computing |∑c𝐱∘∇𝐱ai(𝐱)|subscript𝑐𝐱subscript∇𝐱subscript𝑎𝑖𝐱\\\\left|\\\\sum_{c}\\\\mathbf{x}\\\\circ\\\\nabla_{\\\\mathbf{x}}a_{i}(\\\\mathbf{x})\\\\right|| ∑ start_POSTSUBSCRIPT italic_c end_POSTSUBSCRIPT bold_x ∘ ∇ start_POSTSUBSCRIPT bold_x end_POSTSUBSCRIPT italic_a start_POSTSUBSCRIPT italic_i end_POSTSUBSCRIPT ( bold_x ) |. We use the absolute value to find pixels with small contribution in either direction, positive or negative. While we could choose to keep the pixel transitions where setting the pixel to zero would result in a large activation increase, these shifts are already handled by gradient ascent, and here we prefer to clip only the pixels that are deemed not to matter, not to take large gradient steps outside the region where the linear approximation is most valid. We define this rθ(𝐱)subscript𝑟𝜃𝐱r_{\\\\theta}(\\\\mathbf{x})italic_r start_POSTSUBSCRIPT italic_θ end_POSTSUBSCRIPT ( bold_x ) as the operation that sets pixels with contribution under the θc_pctsubscript𝜃c_pct\\\\theta_{\\\\mathrm{c\\\\_pct}}italic_θ start_POSTSUBSCRIPT roman_c _ roman_pct end_POSTSUBSCRIPT percentile to zero.',\n",
       "  'If the above regularization methods are applied individually, they aresomewhat effective at producing more interpretable images; Figure\\xa03 shows the effects of each individual hyperparameter.However, preliminary experiments uncovered that their combinedeffect produces better visualizations. To pick a reasonable set ofhyperparameters for all methods at once, we ran a randomhyperparameter search of 300 possible combinations and settled on fourthat complement each other well. The four selected combinations arelisted in Table\\xa01 and optimized images using each are shown for the “Gorilla” class output unit in Figure\\xa04. Of the four, some show highfrequency information, others low frequency; some contain densepixel data, and others contain only sparse outlines of importantregions.We found the version in the lower-left quadrant to be the best single set of hyperparameters, but often greater intuition canbe gleaned by considering all four at once.Figure\\xa05 shows the optimization results computed for a selection of units on all layers. A single image for every filter of all five convolutional layers is shown in Supplementary Figure\\xa0S1. Nine images for each filter of all layers, including each of the 1000 ImageNet output classes, can be viewed at http://yosinski.com/deepvis.',\n",
       "  'We have introduced two visual tools for aiding in the interpretationof trained neural nets.Intuition gained from these tools may prompt ideas for improved methods and future research. Here we discuss several such ideas.',\n",
       "  'The interactive tool reveals that representations on later convolutional layers tend to be somewhat local, where channels correspond to specific, natural parts (e.g. wheels, faces) instead of being dimensions in a completely distributed code. That said, not all features correspond to natural parts, raising the possibility of a different decomposition of the world than humans might expect. These visualizations suggest that further study into the exact nature of learned representations — whether they are local to a single channel or distributed across several — is likely to be interesting (see Zhou et al.\\xa0(2014) for work in this direction). The locality of the representation also suggests that during transfer learning, when new models are trained atop the 𝖼𝗈𝗇𝗏𝟦𝖼𝗈𝗇𝗏𝟦\\\\mathsf{conv4}sansserif_conv4 or 𝖼𝗈𝗇𝗏𝟧𝖼𝗈𝗇𝗏𝟧\\\\mathsf{conv5}sansserif_conv5 representations, a bias toward sparse connectivity could be helpful because it may be necessary to combine only a few features from these layers to create important features at higher layers.',\n",
       "  'The second tool — new regularizations that enable improved, interpretable, optimized visualizations of learned features — will help researchers and practitioners understand, debug, and improve their models. The visualizations also reveal a new twist in an ongoing story. Previous studieshave shown that discriminative networks can easily be fooled or hacked by the addition of certain structurednoise in image space (Szegedy et\\xa0al., 2013; Nguyen et\\xa0al., 2014).An oft-cited reason for this property is that discriminative training leads networksto ignore non-discriminative information in their input, e.g. learning to detect jaguars by matching the unique spots on their fur while ignoring the fact that they have four legs. For this reason it has been seen as a hopeless endeavor to create a generative model in which one randomly samples an x𝑥xitalic_x from a broad distribution on the space of all possible imagesand then iteratively transforms x𝑥xitalic_x into a recognizable image by moving it to a region that satisfies both a prior p(x)𝑝𝑥p(x)italic_p ( italic_x ) and posterior p(y|x)𝑝conditional𝑦𝑥p(y|x)italic_p ( italic_y | italic_x ) for some class label y𝑦yitalic_y.Past attempts have largely supported this view by producing unrealistic images using this method (Nguyen et\\xa0al., 2014; Simonyan et\\xa0al., 2013).',\n",
       "  'However, the results presented here suggest an alternate possibility: the previously used priors may simply have been too weak (see Section\\xa0S1 for one hypothesis of why a strong p(x)𝑝𝑥p(x)italic_p ( italic_x ) model is needed). With the careful design or learning of a p(x)𝑝𝑥p(x)italic_p ( italic_x ) model that biases toward realism,one may be able to harnessthe large number of parameters present in a discriminately learned p(y|x)𝑝conditional𝑦𝑥p(y|x)italic_p ( italic_y | italic_x ) modelto generate realistic images by enforcing probability under both models simultaneously.Even with the simple, hand-coded p(x)𝑝𝑥p(x)italic_p ( italic_x ) models we use in this paper as regularizers, complex dependencies between distant pixels already arise (cf. the beetles with structure spanning over 100 pixels in Figure\\xa04). This implies that the discriminative parameters also contain significant “generative” structure from thetraining dataset; that is, the parameters encodenot only the jaguar’s spots, but to some extent also its four legs.With better, learned probabilistic models over the input and activations of higher layers, much more structure may be apparent. Work by Dai et al.\\xa0(2015) shows some interesting results in this direction.While the images generated in this paper are far from being photo-realistic, they do suggest thattransferring discriminatively trained parameters to generative models — opposite the direction of the usual unsupervised pretraining approach — may be a fruitful area for further investigation.'],\n",
       " 'figure_types': {'1b5a24639fa80056d1a17b15f6997d10e76cc731/3-Figure1-1.png': 'schematic',\n",
       "  '1b5a24639fa80056d1a17b15f6997d10e76cc731/5-Figure2-1.png': 'photograph(s)',\n",
       "  '1b5a24639fa80056d1a17b15f6997d10e76cc731/7-Figure4-1.png': 'photograph(s)',\n",
       "  '1b5a24639fa80056d1a17b15f6997d10e76cc731/9-Figure3-1.png': 'plot',\n",
       "  '1b5a24639fa80056d1a17b15f6997d10e76cc731/9-Table1-1.png': 'table',\n",
       "  '1b5a24639fa80056d1a17b15f6997d10e76cc731/8-Figure5-1.png': 'photograph(s)'}}"
      ]
     },
     "execution_count": 9,
     "metadata": {},
     "output_type": "execute_result"
    }
   ],
   "source": [
    "spiqa_d['1506.06579']"
   ]
  },
  {
   "cell_type": "code",
   "execution_count": 42,
   "metadata": {},
   "outputs": [
    {
     "data": {
      "text/plain": [
       "['1805.01216v3',\n",
       " '1805.07567v2',\n",
       " '1603.00286v5',\n",
       " '1805.06431v4',\n",
       " '1802.07459v2',\n",
       " '1811.09393v4',\n",
       " '1706.04284v3',\n",
       " '1901.00398v2',\n",
       " '1709.02755v5',\n",
       " '1804.07849v4',\n",
       " '1811.02721v3',\n",
       " '1805.04687v2',\n",
       " '1709.08294v3',\n",
       " '1802.07351v2',\n",
       " '1709.08294v3',\n",
       " '1709.02755v5',\n",
       " '1805.04687v2',\n",
       " '1706.00633v4',\n",
       " '1802.07351v2',\n",
       " '1802.07351v2',\n",
       " '1605.07496v3',\n",
       " '1704.05958v2',\n",
       " '1805.01216v3',\n",
       " '1709.08294v3',\n",
       " '1710.06177v2',\n",
       " '1805.06447v3',\n",
       " '1803.01128v3',\n",
       " '1708.01425v4',\n",
       " '1611.07718v2',\n",
       " '1803.04383v2',\n",
       " '1802.07222v1',\n",
       " '1804.05938v2',\n",
       " '1809.00263v5',\n",
       " '1708.02153v2',\n",
       " '1805.04687v2',\n",
       " '1702.08694v3',\n",
       " '1804.04410v2',\n",
       " '1704.07121v2',\n",
       " '1707.08608v3',\n",
       " '1811.02553v4',\n",
       " '1812.06589v2',\n",
       " '1704.07854v4',\n",
       " '1704.07854v4',\n",
       " '1804.00863v3',\n",
       " '1803.04572v2',\n",
       " '1707.06320v2',\n",
       " '1706.04269v2',\n",
       " '1707.08608v3',\n",
       " '1611.03780v2',\n",
       " '1812.00281v3',\n",
       " '1812.00281v3',\n",
       " '1705.08016v3',\n",
       " '1811.02721v3',\n",
       " '1804.07707v2',\n",
       " '1708.02153v2',\n",
       " '1805.04687v2',\n",
       " '1705.02798v6',\n",
       " '1709.02755v5',\n",
       " '1709.08294v3',\n",
       " '1709.08294v3',\n",
       " '1809.01246v1',\n",
       " '1805.04687v2',\n",
       " '1702.08694v3',\n",
       " '1803.02750v3',\n",
       " '1805.06431v4',\n",
       " '1805.06447v3',\n",
       " '1804.01429v3',\n",
       " '1706.00827v2',\n",
       " '1812.00108v4',\n",
       " '1804.05936v2',\n",
       " '1811.09393v4',\n",
       " '1804.04410v2',\n",
       " '1805.06431v4',\n",
       " '1805.04609v3',\n",
       " '1805.06431v4',\n",
       " '1706.00633v4',\n",
       " '1706.03847v3',\n",
       " '1809.03149v2',\n",
       " '1809.03149v2',\n",
       " '1706.03847v3',\n",
       " '1809.03449v3',\n",
       " '1809.01246v1',\n",
       " '1811.07073v3',\n",
       " '1701.03077v10',\n",
       " '1611.07718v2',\n",
       " '1803.01128v3',\n",
       " '1803.03467v4',\n",
       " '1703.00060v2',\n",
       " '1812.06589v2',\n",
       " '1805.01216v3',\n",
       " '1704.07854v4',\n",
       " '1603.03833v4',\n",
       " '1710.05654v2',\n",
       " '1703.04887v4',\n",
       " '1708.01425v4',\n",
       " '1811.02553v4',\n",
       " '1811.10673v1',\n",
       " '1811.02721v3',\n",
       " '1811.02721v3',\n",
       " '1811.02721v3',\n",
       " '1705.09296v2',\n",
       " '1703.10730v2',\n",
       " '1812.00281v3',\n",
       " '1811.08257v1',\n",
       " '1811.02553v4',\n",
       " '1811.02553v4',\n",
       " '1702.03584v3',\n",
       " '1804.07931v2',\n",
       " '1611.03780v2',\n",
       " '1703.07015v3',\n",
       " '1702.03584v3',\n",
       " '1709.02755v5',\n",
       " '1710.06177v2',\n",
       " '1701.03077v10',\n",
       " '1805.04687v2',\n",
       " '1705.09882v2',\n",
       " '1811.07073v3',\n",
       " '1704.05426v4',\n",
       " '1708.05239v3',\n",
       " '1704.08615v2',\n",
       " '1701.03077v10',\n",
       " '1805.06431v4',\n",
       " '1809.04276v2',\n",
       " '1804.04410v2',\n",
       " '1812.00108v4',\n",
       " '1803.06506v3',\n",
       " '1811.07073v3',\n",
       " '1804.07707v2',\n",
       " '1705.02798v6',\n",
       " '1605.07496v3',\n",
       " '1703.10730v2',\n",
       " '1709.02755v5',\n",
       " '1705.09966v2',\n",
       " '1811.10673v1',\n",
       " '1705.09966v2',\n",
       " '1705.09966v2',\n",
       " '1705.09966v2',\n",
       " '1803.06506v3',\n",
       " '1706.00633v4',\n",
       " '1811.10673v1',\n",
       " '1611.02654v2',\n",
       " '1705.09882v2',\n",
       " '1811.02553v4',\n",
       " '1805.06447v3',\n",
       " '1803.06506v3',\n",
       " '1811.10673v1',\n",
       " '1710.05654v2',\n",
       " '1811.02721v3',\n",
       " '1809.00458v1',\n",
       " '1805.04687v2',\n",
       " '1803.04383v2',\n",
       " '1701.03077v10',\n",
       " '1701.03077v10',\n",
       " '1809.01246v1',\n",
       " '1705.08016v3',\n",
       " '1611.07718v2',\n",
       " '1706.04269v2',\n",
       " '1706.03847v3',\n",
       " '1709.02755v5',\n",
       " '1709.02755v5',\n",
       " '1811.02721v3',\n",
       " '1811.08257v1',\n",
       " '1611.03780v2',\n",
       " '1811.02721v3',\n",
       " '1701.06171v4',\n",
       " '1710.05654v2',\n",
       " '1803.02750v3',\n",
       " '1803.02750v3',\n",
       " '1707.01922v5',\n",
       " '1706.00827v2',\n",
       " '1805.06431v4',\n",
       " '1701.03077v10',\n",
       " '1803.04572v2',\n",
       " '1802.07459v2',\n",
       " '1812.00281v3',\n",
       " '1708.01425v4',\n",
       " '1805.04687v2',\n",
       " '1804.01429v3',\n",
       " '1703.07015v3',\n",
       " '1901.00056v2',\n",
       " '1703.10730v2',\n",
       " '1803.01128v3',\n",
       " '1611.04684v1',\n",
       " '1811.10673v1',\n",
       " '1803.04572v2',\n",
       " '1603.03833v4',\n",
       " '1706.04269v2',\n",
       " '1805.04687v2',\n",
       " '1706.08146v3',\n",
       " '1704.05426v4',\n",
       " '1804.05995v2',\n",
       " '1804.07931v2',\n",
       " '1812.10735v2',\n",
       " '1705.02798v6',\n",
       " '1705.07164v8',\n",
       " '1611.02654v2',\n",
       " '1703.07015v3',\n",
       " '1803.04383v2',\n",
       " '1704.07854v4',\n",
       " '1809.00458v1',\n",
       " '1707.01917v2',\n",
       " '1803.02750v3',\n",
       " '1611.07718v2',\n",
       " '1804.01429v3',\n",
       " '1812.10735v2',\n",
       " '1605.07496v3',\n",
       " '1812.00281v3',\n",
       " '1705.07164v8',\n",
       " '1809.00263v5',\n",
       " '1809.00458v1',\n",
       " '1803.02750v3',\n",
       " '1805.01216v3',\n",
       " '1706.04284v3',\n",
       " '1707.00524v2',\n",
       " '1705.09882v2',\n",
       " '1705.09882v2',\n",
       " '1701.06171v4',\n",
       " '1705.09966v2',\n",
       " '1608.02784v2',\n",
       " '1704.04539v2',\n",
       " '1603.03833v4',\n",
       " '1707.00524v2',\n",
       " '1804.00863v3',\n",
       " '1804.00863v3',\n",
       " '1611.07718v2',\n",
       " '1804.04786v3',\n",
       " '1701.06171v4',\n",
       " '1811.02721v3',\n",
       " '1705.02946v3',\n",
       " '1812.06589v2',\n",
       " '1710.05654v2',\n",
       " '1811.10673v1',\n",
       " '1707.08608v3',\n",
       " '1704.00774v3',\n",
       " '1708.06832v3',\n",
       " '1901.00056v2',\n",
       " '1706.08146v3',\n",
       " '1709.02418v2',\n",
       " '1611.02654v2',\n",
       " '1701.03077v10',\n",
       " '1809.00263v5',\n",
       " '1811.08481v2',\n",
       " '1809.03149v2',\n",
       " '1612.02803v5',\n",
       " '1811.02721v3',\n",
       " '1611.05742v3',\n",
       " '1705.02946v3',\n",
       " '1811.07073v3',\n",
       " '1707.01922v5',\n",
       " '1811.09393v4',\n",
       " '1705.10667v4',\n",
       " '1603.00286v5',\n",
       " '1805.04687v2',\n",
       " '1804.05995v2',\n",
       " '1706.03847v3',\n",
       " '1708.00160v2',\n",
       " '1706.03847v3',\n",
       " '1805.06431v4',\n",
       " '1811.09393v4',\n",
       " '1811.08257v1',\n",
       " '1811.08257v1',\n",
       " '1811.07073v3',\n",
       " '1804.04786v3',\n",
       " '1603.00286v5',\n",
       " '1812.00281v3',\n",
       " '1805.00912v4',\n",
       " '1802.07351v2',\n",
       " '1802.07351v2',\n",
       " '1811.10673v1',\n",
       " '1608.02784v2',\n",
       " '1706.04284v3',\n",
       " '1811.09393v4',\n",
       " '1901.00056v2',\n",
       " '1701.03077v10',\n",
       " '1608.02784v2',\n",
       " '1804.07931v2',\n",
       " '1706.08146v3',\n",
       " '1804.00863v3',\n",
       " '1809.03149v2',\n",
       " '1706.08146v3',\n",
       " '1703.02507v3',\n",
       " '1705.09882v2',\n",
       " '1704.04539v2',\n",
       " '1710.06177v2',\n",
       " '1906.06589v3',\n",
       " '1809.01246v1',\n",
       " '1812.00281v3',\n",
       " '1706.00827v2',\n",
       " '1611.04363v2',\n",
       " '1809.00458v1',\n",
       " '1809.00263v5',\n",
       " '1704.08615v2',\n",
       " '1704.08615v2',\n",
       " '1703.10730v2',\n",
       " '1608.02784v2',\n",
       " '1809.00263v5',\n",
       " '1803.03467v4',\n",
       " '1710.06177v2',\n",
       " '1703.04887v4',\n",
       " '1704.08615v2',\n",
       " '1707.08608v3',\n",
       " '1708.01425v4',\n",
       " '1611.03780v2',\n",
       " '1809.03550v3',\n",
       " '1704.07854v4',\n",
       " '1701.03077v10',\n",
       " '1803.01128v3',\n",
       " '1809.01246v1',\n",
       " '1703.00899v2',\n",
       " '1701.06171v4',\n",
       " '1707.01917v2',\n",
       " '1707.06320v2',\n",
       " '1804.01429v3',\n",
       " '1804.07849v4',\n",
       " '1805.06431v4',\n",
       " '1805.08751v2',\n",
       " '1704.05958v2',\n",
       " '1804.05936v2',\n",
       " '1809.03149v2',\n",
       " '1803.06506v3',\n",
       " '1809.03449v3',\n",
       " '1710.01507v4',\n",
       " '1603.03833v4',\n",
       " '1901.00056v2',\n",
       " '1811.09393v4',\n",
       " '1803.02750v3',\n",
       " '1708.03797v1',\n",
       " '1811.08257v1',\n",
       " '1812.06589v2',\n",
       " '1611.04684v1',\n",
       " '1704.07854v4',\n",
       " '1802.07351v2',\n",
       " '1809.00263v5',\n",
       " '1803.03467v4',\n",
       " '1811.07073v3',\n",
       " '1705.08016v3',\n",
       " '1707.01922v5',\n",
       " '1608.02784v2',\n",
       " '1603.03833v4',\n",
       " '1811.06635v1',\n",
       " '1707.01917v2',\n",
       " '1708.00160v2',\n",
       " '1901.00398v2',\n",
       " '1804.05995v2',\n",
       " '1705.02946v3',\n",
       " '1809.00263v5',\n",
       " '1805.04687v2',\n",
       " '1811.02721v3',\n",
       " '1705.09966v2',\n",
       " '1906.10843v1',\n",
       " '1811.09393v4',\n",
       " '1708.05239v3',\n",
       " '1811.02721v3',\n",
       " '1603.00286v5',\n",
       " '1805.07567v2',\n",
       " '1809.03550v3',\n",
       " '1803.04572v2',\n",
       " '1805.02349v2',\n",
       " '1805.04609v3',\n",
       " '1706.00827v2',\n",
       " '1605.07496v3',\n",
       " '1809.00458v1',\n",
       " '1809.00458v1',\n",
       " '1809.00458v1',\n",
       " '1803.02750v3',\n",
       " '1605.07496v3',\n",
       " '1708.01425v4',\n",
       " '1706.00633v4',\n",
       " '1805.04687v2',\n",
       " '1805.04687v2',\n",
       " '1804.05936v2',\n",
       " '1706.03847v3',\n",
       " '1706.00633v4',\n",
       " '1705.02798v6',\n",
       " '1803.04572v2',\n",
       " '1708.00160v2',\n",
       " '1809.02731v3',\n",
       " '1804.05938v2',\n",
       " '1809.01246v1',\n",
       " '1705.08016v3',\n",
       " '1706.03847v3',\n",
       " '1703.07015v3',\n",
       " '1812.10735v2',\n",
       " '1803.03467v4',\n",
       " '1706.03847v3',\n",
       " '1809.00458v1',\n",
       " '1705.08016v3',\n",
       " '1703.07015v3',\n",
       " '1707.01917v2',\n",
       " '1803.04572v2',\n",
       " '1803.03467v4',\n",
       " '1812.00281v3',\n",
       " '1901.00056v2',\n",
       " '1805.04687v2',\n",
       " '1703.02507v3',\n",
       " '1812.00281v3',\n",
       " '1704.07121v2',\n",
       " '1812.00281v3',\n",
       " '1809.00458v1',\n",
       " '1809.00458v1',\n",
       " '1701.03077v10',\n",
       " '1804.05936v2',\n",
       " '1706.08146v3',\n",
       " '1702.08694v3',\n",
       " '1803.06506v3',\n",
       " '1708.00160v2',\n",
       " '1706.04284v3',\n",
       " '1710.05654v2',\n",
       " '1805.04687v2',\n",
       " '1811.08481v2',\n",
       " '1906.10843v1',\n",
       " '1906.10843v1',\n",
       " '1708.02153v2',\n",
       " '1803.04383v2',\n",
       " '1809.00263v5',\n",
       " '1811.08257v1',\n",
       " '1811.08257v1',\n",
       " '1707.00524v2',\n",
       " '1805.06447v3',\n",
       " '1704.05426v4',\n",
       " '1707.08608v3',\n",
       " '1707.08608v3',\n",
       " '1704.07854v4',\n",
       " '1809.01246v1',\n",
       " '1701.03077v10',\n",
       " '1707.08608v3',\n",
       " '1804.04786v3',\n",
       " '1803.06506v3',\n",
       " '1811.10673v1',\n",
       " '1812.00108v4',\n",
       " '1705.07164v8',\n",
       " '1804.07849v4',\n",
       " '1804.07849v4',\n",
       " '1804.07849v4',\n",
       " '1809.01989v2',\n",
       " '1805.06447v3',\n",
       " '1706.00827v2',\n",
       " '1706.08146v3',\n",
       " '1811.09393v4',\n",
       " '1705.08016v3',\n",
       " '1707.01917v2',\n",
       " '1811.08481v2',\n",
       " '1708.06832v3',\n",
       " '1805.06431v4',\n",
       " '1805.06431v4',\n",
       " '1701.03077v10',\n",
       " '1709.00139v4',\n",
       " '1805.06431v4',\n",
       " '1809.00263v5',\n",
       " '1811.09393v4',\n",
       " '1805.07567v2',\n",
       " '1811.08481v2',\n",
       " '1805.06447v3',\n",
       " '1706.00827v2',\n",
       " '1803.04572v2',\n",
       " '1809.00458v1',\n",
       " '1710.05654v2',\n",
       " '1611.04363v2',\n",
       " '1706.00633v4',\n",
       " '1812.06589v2',\n",
       " '1811.07073v3',\n",
       " '1805.06431v4',\n",
       " '1611.03780v2',\n",
       " '1804.00863v3',\n",
       " '1710.06177v2',\n",
       " '1805.06447v3',\n",
       " '1611.05742v3',\n",
       " '1805.06447v3',\n",
       " '1704.07121v2',\n",
       " '1805.06431v4',\n",
       " '1707.01922v5',\n",
       " '1804.05938v2',\n",
       " '1809.00458v1',\n",
       " '1605.07496v3',\n",
       " '1710.06177v2',\n",
       " '1606.07384v2',\n",
       " '1805.06447v3',\n",
       " '1805.07567v2',\n",
       " '1811.09393v4',\n",
       " '1706.04269v2',\n",
       " '1803.01128v3',\n",
       " '1812.06589v2',\n",
       " '1702.08694v3',\n",
       " '1611.03780v2',\n",
       " '1611.03780v2',\n",
       " '1705.09882v2',\n",
       " '1708.03797v1',\n",
       " '1805.01216v3',\n",
       " '1707.00524v2',\n",
       " '1705.09296v2',\n",
       " '1703.04887v4',\n",
       " '1901.00056v2',\n",
       " '1805.00912v4',\n",
       " '1611.07718v2',\n",
       " '1805.00912v4',\n",
       " '1710.05654v2',\n",
       " '1809.02731v3',\n",
       " '1704.07121v2',\n",
       " '1705.09296v2',\n",
       " '1812.10735v2',\n",
       " '1805.00912v4',\n",
       " '1809.03449v3',\n",
       " '1703.02507v3',\n",
       " '1703.02507v3',\n",
       " '1611.02654v2',\n",
       " '1906.06589v3',\n",
       " '1805.07567v2',\n",
       " '1703.02507v3',\n",
       " '1707.06320v2',\n",
       " '1611.04684v1',\n",
       " '1804.07931v2',\n",
       " '1805.01216v3',\n",
       " '1707.00189v3',\n",
       " '1705.07164v8',\n",
       " '1704.05426v4',\n",
       " '1803.05776v2',\n",
       " '1804.07707v2',\n",
       " '1611.04684v1',\n",
       " '1611.02654v2',\n",
       " '1803.03467v4',\n",
       " '1705.10667v4',\n",
       " '1708.06832v3',\n",
       " '1705.02798v6',\n",
       " '1809.02731v3',\n",
       " '1703.07015v3',\n",
       " '1802.07351v2',\n",
       " '1811.02721v3',\n",
       " '1611.07718v2',\n",
       " '1611.07718v2',\n",
       " '1705.09296v2',\n",
       " '1706.00633v4',\n",
       " '1803.02750v3',\n",
       " '1605.07496v3',\n",
       " '1805.06431v4',\n",
       " '1706.00633v4',\n",
       " '1804.05936v2',\n",
       " '1707.01922v5',\n",
       " '1705.10667v4',\n",
       " '1805.06431v4',\n",
       " '1705.09966v2',\n",
       " '1704.07854v4',\n",
       " '1802.07351v2',\n",
       " '1809.00458v1',\n",
       " '1805.06431v4',\n",
       " '1703.07015v3',\n",
       " '1704.07854v4',\n",
       " '1811.08257v1',\n",
       " '1705.07384v2',\n",
       " '1605.07496v3',\n",
       " '1611.05742v3',\n",
       " '1811.10673v1',\n",
       " '1809.01246v1',\n",
       " '1804.05936v2',\n",
       " '1704.08615v2',\n",
       " '1705.10667v4',\n",
       " '1708.01425v4',\n",
       " '1803.02750v3',\n",
       " '1704.04539v2',\n",
       " '1608.02784v2',\n",
       " '1805.01216v3',\n",
       " '1811.02721v3',\n",
       " '1705.09296v2',\n",
       " '1705.09296v2',\n",
       " '1803.02750v3',\n",
       " '1805.04687v2',\n",
       " '1812.00281v3',\n",
       " '1704.04539v2',\n",
       " '1706.00633v4',\n",
       " '1901.00398v2',\n",
       " '1707.06320v2',\n",
       " '1805.04687v2',\n",
       " '1704.05426v4',\n",
       " '1805.04687v2',\n",
       " '1705.09296v2',\n",
       " '1805.04687v2',\n",
       " '1805.01216v3',\n",
       " '1701.03077v10',\n",
       " '1811.09393v4',\n",
       " '1805.07567v2',\n",
       " '1805.04687v2',\n",
       " '1804.01429v3',\n",
       " '1811.02721v3',\n",
       " '1809.04276v2',\n",
       " '1603.03833v4',\n",
       " '1809.03550v3',\n",
       " '1705.10667v4']"
      ]
     },
     "execution_count": 42,
     "metadata": {},
     "output_type": "execute_result"
    }
   ],
   "source": [
    "keys_df_v = sum(df.loc[:,['doc_id']].to_numpy().tolist(),[])\n",
    "keys_df_v"
   ]
  },
  {
   "cell_type": "code",
   "execution_count": 66,
   "metadata": {},
   "outputs": [
    {
     "data": {
      "text/plain": [
       "586"
      ]
     },
     "execution_count": 66,
     "metadata": {},
     "output_type": "execute_result"
    }
   ],
   "source": [
    "len(keys_df_v)"
   ]
  },
  {
   "cell_type": "code",
   "execution_count": null,
   "metadata": {},
   "outputs": [
    {
     "data": {
      "text/plain": [
       "117"
      ]
     },
     "execution_count": 67,
     "metadata": {},
     "output_type": "execute_result"
    },
    {
     "ename": "",
     "evalue": "",
     "output_type": "error",
     "traceback": [
      "\u001b[1;31mThe Kernel crashed while executing code in the current cell or a previous cell. \n",
      "\u001b[1;31mPlease review the code in the cell(s) to identify a possible cause of the failure. \n",
      "\u001b[1;31mClick <a href='https://aka.ms/vscodeJupyterKernelCrash'>here</a> for more info. \n",
      "\u001b[1;31mView Jupyter <a href='command:jupyter.viewOutput'>log</a> for further details."
     ]
    }
   ],
   "source": [
    "len(set(keys_df_v))"
   ]
  },
  {
   "cell_type": "code",
   "execution_count": 43,
   "metadata": {},
   "outputs": [
    {
     "data": {
      "text/plain": [
       "['1805.01216',\n",
       " '1805.07567',\n",
       " '1603.00286',\n",
       " '1805.06431',\n",
       " '1802.07459',\n",
       " '1811.09393',\n",
       " '1706.04284',\n",
       " '1901.00398',\n",
       " '1709.02755',\n",
       " '1804.07849',\n",
       " '1811.02721',\n",
       " '1805.04687',\n",
       " '1709.08294',\n",
       " '1802.07351',\n",
       " '1709.08294',\n",
       " '1709.02755',\n",
       " '1805.04687',\n",
       " '1706.00633',\n",
       " '1802.07351',\n",
       " '1802.07351',\n",
       " '1605.07496',\n",
       " '1704.05958',\n",
       " '1805.01216',\n",
       " '1709.08294',\n",
       " '1710.06177',\n",
       " '1805.06447',\n",
       " '1803.01128',\n",
       " '1708.01425',\n",
       " '1611.07718',\n",
       " '1803.04383',\n",
       " '1802.07222',\n",
       " '1804.05938',\n",
       " '1809.00263',\n",
       " '1708.02153',\n",
       " '1805.04687',\n",
       " '1702.08694',\n",
       " '1804.04410',\n",
       " '1704.07121',\n",
       " '1707.08608',\n",
       " '1811.02553',\n",
       " '1812.06589',\n",
       " '1704.07854',\n",
       " '1704.07854',\n",
       " '1804.00863',\n",
       " '1803.04572',\n",
       " '1707.06320',\n",
       " '1706.04269',\n",
       " '1707.08608',\n",
       " '1611.03780',\n",
       " '1812.00281',\n",
       " '1812.00281',\n",
       " '1705.08016',\n",
       " '1811.02721',\n",
       " '1804.07707',\n",
       " '1708.02153',\n",
       " '1805.04687',\n",
       " '1705.02798',\n",
       " '1709.02755',\n",
       " '1709.08294',\n",
       " '1709.08294',\n",
       " '1809.01246',\n",
       " '1805.04687',\n",
       " '1702.08694',\n",
       " '1803.02750',\n",
       " '1805.06431',\n",
       " '1805.06447',\n",
       " '1804.01429',\n",
       " '1706.00827',\n",
       " '1812.00108',\n",
       " '1804.05936',\n",
       " '1811.09393',\n",
       " '1804.04410',\n",
       " '1805.06431',\n",
       " '1805.04609',\n",
       " '1805.06431',\n",
       " '1706.00633',\n",
       " '1706.03847',\n",
       " '1809.03149',\n",
       " '1809.03149',\n",
       " '1706.03847',\n",
       " '1809.03449',\n",
       " '1809.01246',\n",
       " '1811.07073',\n",
       " '1701.03077',\n",
       " '1611.07718',\n",
       " '1803.01128',\n",
       " '1803.03467',\n",
       " '1703.00060',\n",
       " '1812.06589',\n",
       " '1805.01216',\n",
       " '1704.07854',\n",
       " '1603.03833',\n",
       " '1710.05654',\n",
       " '1703.04887',\n",
       " '1708.01425',\n",
       " '1811.02553',\n",
       " '1811.10673',\n",
       " '1811.02721',\n",
       " '1811.02721',\n",
       " '1811.02721',\n",
       " '1705.09296',\n",
       " '1703.10730',\n",
       " '1812.00281',\n",
       " '1811.08257',\n",
       " '1811.02553',\n",
       " '1811.02553',\n",
       " '1702.03584',\n",
       " '1804.07931',\n",
       " '1611.03780',\n",
       " '1703.07015',\n",
       " '1702.03584',\n",
       " '1709.02755',\n",
       " '1710.06177',\n",
       " '1701.03077',\n",
       " '1805.04687',\n",
       " '1705.09882',\n",
       " '1811.07073',\n",
       " '1704.05426',\n",
       " '1708.05239',\n",
       " '1704.08615',\n",
       " '1701.03077',\n",
       " '1805.06431',\n",
       " '1809.04276',\n",
       " '1804.04410',\n",
       " '1812.00108',\n",
       " '1803.06506',\n",
       " '1811.07073',\n",
       " '1804.07707',\n",
       " '1705.02798',\n",
       " '1605.07496',\n",
       " '1703.10730',\n",
       " '1709.02755',\n",
       " '1705.09966',\n",
       " '1811.10673',\n",
       " '1705.09966',\n",
       " '1705.09966',\n",
       " '1705.09966',\n",
       " '1803.06506',\n",
       " '1706.00633',\n",
       " '1811.10673',\n",
       " '1611.02654',\n",
       " '1705.09882',\n",
       " '1811.02553',\n",
       " '1805.06447',\n",
       " '1803.06506',\n",
       " '1811.10673',\n",
       " '1710.05654',\n",
       " '1811.02721',\n",
       " '1809.00458',\n",
       " '1805.04687',\n",
       " '1803.04383',\n",
       " '1701.03077',\n",
       " '1701.03077',\n",
       " '1809.01246',\n",
       " '1705.08016',\n",
       " '1611.07718',\n",
       " '1706.04269',\n",
       " '1706.03847',\n",
       " '1709.02755',\n",
       " '1709.02755',\n",
       " '1811.02721',\n",
       " '1811.08257',\n",
       " '1611.03780',\n",
       " '1811.02721',\n",
       " '1701.06171',\n",
       " '1710.05654',\n",
       " '1803.02750',\n",
       " '1803.02750',\n",
       " '1707.01922',\n",
       " '1706.00827',\n",
       " '1805.06431',\n",
       " '1701.03077',\n",
       " '1803.04572',\n",
       " '1802.07459',\n",
       " '1812.00281',\n",
       " '1708.01425',\n",
       " '1805.04687',\n",
       " '1804.01429',\n",
       " '1703.07015',\n",
       " '1901.00056',\n",
       " '1703.10730',\n",
       " '1803.01128',\n",
       " '1611.04684',\n",
       " '1811.10673',\n",
       " '1803.04572',\n",
       " '1603.03833',\n",
       " '1706.04269',\n",
       " '1805.04687',\n",
       " '1706.08146',\n",
       " '1704.05426',\n",
       " '1804.05995',\n",
       " '1804.07931',\n",
       " '1812.10735',\n",
       " '1705.02798',\n",
       " '1705.07164',\n",
       " '1611.02654',\n",
       " '1703.07015',\n",
       " '1803.04383',\n",
       " '1704.07854',\n",
       " '1809.00458',\n",
       " '1707.01917',\n",
       " '1803.02750',\n",
       " '1611.07718',\n",
       " '1804.01429',\n",
       " '1812.10735',\n",
       " '1605.07496',\n",
       " '1812.00281',\n",
       " '1705.07164',\n",
       " '1809.00263',\n",
       " '1809.00458',\n",
       " '1803.02750',\n",
       " '1805.01216',\n",
       " '1706.04284',\n",
       " '1707.00524',\n",
       " '1705.09882',\n",
       " '1705.09882',\n",
       " '1701.06171',\n",
       " '1705.09966',\n",
       " '1608.02784',\n",
       " '1704.04539',\n",
       " '1603.03833',\n",
       " '1707.00524',\n",
       " '1804.00863',\n",
       " '1804.00863',\n",
       " '1611.07718',\n",
       " '1804.04786',\n",
       " '1701.06171',\n",
       " '1811.02721',\n",
       " '1705.02946',\n",
       " '1812.06589',\n",
       " '1710.05654',\n",
       " '1811.10673',\n",
       " '1707.08608',\n",
       " '1704.00774',\n",
       " '1708.06832',\n",
       " '1901.00056',\n",
       " '1706.08146',\n",
       " '1709.02418',\n",
       " '1611.02654',\n",
       " '1701.03077',\n",
       " '1809.00263',\n",
       " '1811.08481',\n",
       " '1809.03149',\n",
       " '1612.02803',\n",
       " '1811.02721',\n",
       " '1611.05742',\n",
       " '1705.02946',\n",
       " '1811.07073',\n",
       " '1707.01922',\n",
       " '1811.09393',\n",
       " '1705.10667',\n",
       " '1603.00286',\n",
       " '1805.04687',\n",
       " '1804.05995',\n",
       " '1706.03847',\n",
       " '1708.00160',\n",
       " '1706.03847',\n",
       " '1805.06431',\n",
       " '1811.09393',\n",
       " '1811.08257',\n",
       " '1811.08257',\n",
       " '1811.07073',\n",
       " '1804.04786',\n",
       " '1603.00286',\n",
       " '1812.00281',\n",
       " '1805.00912',\n",
       " '1802.07351',\n",
       " '1802.07351',\n",
       " '1811.10673',\n",
       " '1608.02784',\n",
       " '1706.04284',\n",
       " '1811.09393',\n",
       " '1901.00056',\n",
       " '1701.03077',\n",
       " '1608.02784',\n",
       " '1804.07931',\n",
       " '1706.08146',\n",
       " '1804.00863',\n",
       " '1809.03149',\n",
       " '1706.08146',\n",
       " '1703.02507',\n",
       " '1705.09882',\n",
       " '1704.04539',\n",
       " '1710.06177',\n",
       " '1906.06589',\n",
       " '1809.01246',\n",
       " '1812.00281',\n",
       " '1706.00827',\n",
       " '1611.04363',\n",
       " '1809.00458',\n",
       " '1809.00263',\n",
       " '1704.08615',\n",
       " '1704.08615',\n",
       " '1703.10730',\n",
       " '1608.02784',\n",
       " '1809.00263',\n",
       " '1803.03467',\n",
       " '1710.06177',\n",
       " '1703.04887',\n",
       " '1704.08615',\n",
       " '1707.08608',\n",
       " '1708.01425',\n",
       " '1611.03780',\n",
       " '1809.03550',\n",
       " '1704.07854',\n",
       " '1701.03077',\n",
       " '1803.01128',\n",
       " '1809.01246',\n",
       " '1703.00899',\n",
       " '1701.06171',\n",
       " '1707.01917',\n",
       " '1707.06320',\n",
       " '1804.01429',\n",
       " '1804.07849',\n",
       " '1805.06431',\n",
       " '1805.08751',\n",
       " '1704.05958',\n",
       " '1804.05936',\n",
       " '1809.03149',\n",
       " '1803.06506',\n",
       " '1809.03449',\n",
       " '1710.01507',\n",
       " '1603.03833',\n",
       " '1901.00056',\n",
       " '1811.09393',\n",
       " '1803.02750',\n",
       " '1708.03797',\n",
       " '1811.08257',\n",
       " '1812.06589',\n",
       " '1611.04684',\n",
       " '1704.07854',\n",
       " '1802.07351',\n",
       " '1809.00263',\n",
       " '1803.03467',\n",
       " '1811.07073',\n",
       " '1705.08016',\n",
       " '1707.01922',\n",
       " '1608.02784',\n",
       " '1603.03833',\n",
       " '1811.06635',\n",
       " '1707.01917',\n",
       " '1708.00160',\n",
       " '1901.00398',\n",
       " '1804.05995',\n",
       " '1705.02946',\n",
       " '1809.00263',\n",
       " '1805.04687',\n",
       " '1811.02721',\n",
       " '1705.09966',\n",
       " '1906.10843',\n",
       " '1811.09393',\n",
       " '1708.05239',\n",
       " '1811.02721',\n",
       " '1603.00286',\n",
       " '1805.07567',\n",
       " '1809.03550',\n",
       " '1803.04572',\n",
       " '1805.02349',\n",
       " '1805.04609',\n",
       " '1706.00827',\n",
       " '1605.07496',\n",
       " '1809.00458',\n",
       " '1809.00458',\n",
       " '1809.00458',\n",
       " '1803.02750',\n",
       " '1605.07496',\n",
       " '1708.01425',\n",
       " '1706.00633',\n",
       " '1805.04687',\n",
       " '1805.04687',\n",
       " '1804.05936',\n",
       " '1706.03847',\n",
       " '1706.00633',\n",
       " '1705.02798',\n",
       " '1803.04572',\n",
       " '1708.00160',\n",
       " '1809.02731',\n",
       " '1804.05938',\n",
       " '1809.01246',\n",
       " '1705.08016',\n",
       " '1706.03847',\n",
       " '1703.07015',\n",
       " '1812.10735',\n",
       " '1803.03467',\n",
       " '1706.03847',\n",
       " '1809.00458',\n",
       " '1705.08016',\n",
       " '1703.07015',\n",
       " '1707.01917',\n",
       " '1803.04572',\n",
       " '1803.03467',\n",
       " '1812.00281',\n",
       " '1901.00056',\n",
       " '1805.04687',\n",
       " '1703.02507',\n",
       " '1812.00281',\n",
       " '1704.07121',\n",
       " '1812.00281',\n",
       " '1809.00458',\n",
       " '1809.00458',\n",
       " '1701.03077',\n",
       " '1804.05936',\n",
       " '1706.08146',\n",
       " '1702.08694',\n",
       " '1803.06506',\n",
       " '1708.00160',\n",
       " '1706.04284',\n",
       " '1710.05654',\n",
       " '1805.04687',\n",
       " '1811.08481',\n",
       " '1906.10843',\n",
       " '1906.10843',\n",
       " '1708.02153',\n",
       " '1803.04383',\n",
       " '1809.00263',\n",
       " '1811.08257',\n",
       " '1811.08257',\n",
       " '1707.00524',\n",
       " '1805.06447',\n",
       " '1704.05426',\n",
       " '1707.08608',\n",
       " '1707.08608',\n",
       " '1704.07854',\n",
       " '1809.01246',\n",
       " '1701.03077',\n",
       " '1707.08608',\n",
       " '1804.04786',\n",
       " '1803.06506',\n",
       " '1811.10673',\n",
       " '1812.00108',\n",
       " '1705.07164',\n",
       " '1804.07849',\n",
       " '1804.07849',\n",
       " '1804.07849',\n",
       " '1809.01989',\n",
       " '1805.06447',\n",
       " '1706.00827',\n",
       " '1706.08146',\n",
       " '1811.09393',\n",
       " '1705.08016',\n",
       " '1707.01917',\n",
       " '1811.08481',\n",
       " '1708.06832',\n",
       " '1805.06431',\n",
       " '1805.06431',\n",
       " '1701.03077',\n",
       " '1709.00139',\n",
       " '1805.06431',\n",
       " '1809.00263',\n",
       " '1811.09393',\n",
       " '1805.07567',\n",
       " '1811.08481',\n",
       " '1805.06447',\n",
       " '1706.00827',\n",
       " '1803.04572',\n",
       " '1809.00458',\n",
       " '1710.05654',\n",
       " '1611.04363',\n",
       " '1706.00633',\n",
       " '1812.06589',\n",
       " '1811.07073',\n",
       " '1805.06431',\n",
       " '1611.03780',\n",
       " '1804.00863',\n",
       " '1710.06177',\n",
       " '1805.06447',\n",
       " '1611.05742',\n",
       " '1805.06447',\n",
       " '1704.07121',\n",
       " '1805.06431',\n",
       " '1707.01922',\n",
       " '1804.05938',\n",
       " '1809.00458',\n",
       " '1605.07496',\n",
       " '1710.06177',\n",
       " '1606.07384',\n",
       " '1805.06447',\n",
       " '1805.07567',\n",
       " '1811.09393',\n",
       " '1706.04269',\n",
       " '1803.01128',\n",
       " '1812.06589',\n",
       " '1702.08694',\n",
       " '1611.03780',\n",
       " '1611.03780',\n",
       " '1705.09882',\n",
       " '1708.03797',\n",
       " '1805.01216',\n",
       " '1707.00524',\n",
       " '1705.09296',\n",
       " '1703.04887',\n",
       " '1901.00056',\n",
       " '1805.00912',\n",
       " '1611.07718',\n",
       " '1805.00912',\n",
       " '1710.05654',\n",
       " '1809.02731',\n",
       " '1704.07121',\n",
       " '1705.09296',\n",
       " '1812.10735',\n",
       " '1805.00912',\n",
       " '1809.03449',\n",
       " '1703.02507',\n",
       " '1703.02507',\n",
       " '1611.02654',\n",
       " '1906.06589',\n",
       " '1805.07567',\n",
       " '1703.02507',\n",
       " '1707.06320',\n",
       " '1611.04684',\n",
       " '1804.07931',\n",
       " '1805.01216',\n",
       " '1707.00189',\n",
       " '1705.07164',\n",
       " '1704.05426',\n",
       " '1803.05776',\n",
       " '1804.07707',\n",
       " '1611.04684',\n",
       " '1611.02654',\n",
       " '1803.03467',\n",
       " '1705.10667',\n",
       " '1708.06832',\n",
       " '1705.02798',\n",
       " '1809.02731',\n",
       " '1703.07015',\n",
       " '1802.07351',\n",
       " '1811.02721',\n",
       " '1611.07718',\n",
       " '1611.07718',\n",
       " '1705.09296',\n",
       " '1706.00633',\n",
       " '1803.02750',\n",
       " '1605.07496',\n",
       " '1805.06431',\n",
       " '1706.00633',\n",
       " '1804.05936',\n",
       " '1707.01922',\n",
       " '1705.10667',\n",
       " '1805.06431',\n",
       " '1705.09966',\n",
       " '1704.07854',\n",
       " '1802.07351',\n",
       " '1809.00458',\n",
       " '1805.06431',\n",
       " '1703.07015',\n",
       " '1704.07854',\n",
       " '1811.08257',\n",
       " '1705.07384',\n",
       " '1605.07496',\n",
       " '1611.05742',\n",
       " '1811.10673',\n",
       " '1809.01246',\n",
       " '1804.05936',\n",
       " '1704.08615',\n",
       " '1705.10667',\n",
       " '1708.01425',\n",
       " '1803.02750',\n",
       " '1704.04539',\n",
       " '1608.02784',\n",
       " '1805.01216',\n",
       " '1811.02721',\n",
       " '1705.09296',\n",
       " '1705.09296',\n",
       " '1803.02750',\n",
       " '1805.04687',\n",
       " '1812.00281',\n",
       " '1704.04539',\n",
       " '1706.00633',\n",
       " '1901.00398',\n",
       " '1707.06320',\n",
       " '1805.04687',\n",
       " '1704.05426',\n",
       " '1805.04687',\n",
       " '1705.09296',\n",
       " '1805.04687',\n",
       " '1805.01216',\n",
       " '1701.03077',\n",
       " '1811.09393',\n",
       " '1805.07567',\n",
       " '1805.04687',\n",
       " '1804.01429',\n",
       " '1811.02721',\n",
       " '1809.04276',\n",
       " '1603.03833',\n",
       " '1809.03550',\n",
       " '1705.10667']"
      ]
     },
     "execution_count": 43,
     "metadata": {},
     "output_type": "execute_result"
    }
   ],
   "source": [
    "keys_df = [val.split('v')[0] for val in keys_df_v]\n",
    "keys_df"
   ]
  },
  {
   "cell_type": "code",
   "execution_count": 24,
   "metadata": {},
   "outputs": [
    {
     "data": {
      "text/html": [
       "<div>\n",
       "<style scoped>\n",
       "    .dataframe tbody tr th:only-of-type {\n",
       "        vertical-align: middle;\n",
       "    }\n",
       "\n",
       "    .dataframe tbody tr th {\n",
       "        vertical-align: top;\n",
       "    }\n",
       "\n",
       "    .dataframe thead th {\n",
       "        text-align: right;\n",
       "    }\n",
       "</style>\n",
       "<table border=\"1\" class=\"dataframe\">\n",
       "  <thead>\n",
       "    <tr style=\"text-align: right;\">\n",
       "      <th></th>\n",
       "      <th>q_id</th>\n",
       "      <th>doc_id</th>\n",
       "      <th>old_question</th>\n",
       "      <th>answer</th>\n",
       "      <th>doc_path</th>\n",
       "      <th>documents</th>\n",
       "      <th>rationale</th>\n",
       "      <th>reference_figure</th>\n",
       "      <th>paper_title</th>\n",
       "      <th>paper_abstract</th>\n",
       "      <th>caption</th>\n",
       "      <th>question</th>\n",
       "    </tr>\n",
       "  </thead>\n",
       "  <tbody>\n",
       "    <tr>\n",
       "      <th>375</th>\n",
       "      <td>spiqa_376</td>\n",
       "      <td>1708.00160v2</td>\n",
       "      <td>Based on Table 4 in the paper discussing the u...</td>\n",
       "      <td>The \"ensemble\" model of e2ef achieves the high...</td>\n",
       "      <td>1708.00160v2.pdf</td>\n",
       "      <td>['1708.00160v2.pdf', '1705.09296v2.pdf', '1704...</td>\n",
       "      <td>The table presents the performance of differen...</td>\n",
       "      <td>1708.00160v2-Table4-1.png</td>\n",
       "      <td>Using Linguistic Features to Improve the Gener...</td>\n",
       "      <td>Coreference resolution is an intermediate step...</td>\n",
       "      <td>Table 4: Comparisons on the CoNLL test set. Th...</td>\n",
       "      <td>Which coreference model performs best on the C...</td>\n",
       "    </tr>\n",
       "    <tr>\n",
       "      <th>34</th>\n",
       "      <td>spiqa_34</td>\n",
       "      <td>1805.04687v2</td>\n",
       "      <td>Referring to Table 7 in the BDD100K paper, why...</td>\n",
       "      <td>While the model trained on both MOT and detect...</td>\n",
       "      <td>1805.04687v2.pdf</td>\n",
       "      <td>['1805.04687v2.pdf', '1705.02798v6.pdf', '1708...</td>\n",
       "      <td>The table shows that the model trained on both...</td>\n",
       "      <td>1805.04687v2-Table7-1.png</td>\n",
       "      <td>BDD100K: A Diverse Driving Dataset for Heterog...</td>\n",
       "      <td>Datasets drive vision progress, yet existing d...</td>\n",
       "      <td>Table 7: Evaluation results for multiple objec...</td>\n",
       "      <td>Explain why the model trained on both MOT and ...</td>\n",
       "    </tr>\n",
       "    <tr>\n",
       "      <th>402</th>\n",
       "      <td>spiqa_403</td>\n",
       "      <td>1706.08146v3</td>\n",
       "      <td>\"According to Table 1 and the impact of featur...</td>\n",
       "      <td>The Leukemia dataset would likely benefit the ...</td>\n",
       "      <td>1706.08146v3.pdf</td>\n",
       "      <td>['1706.08146v3.pdf', '1709.02418v2.pdf', '1805...</td>\n",
       "      <td>The passage states that the computation time f...</td>\n",
       "      <td>1706.08146v3-Table1-1.png</td>\n",
       "      <td>Compressed Factorization: Fast and Accurate Lo...</td>\n",
       "      <td>What learning algorithms can be run directly o...</td>\n",
       "      <td>Table 1: Summary of DNA microarray gene expres...</td>\n",
       "      <td>Which dataset would likely benefit the most fr...</td>\n",
       "    </tr>\n",
       "  </tbody>\n",
       "</table>\n",
       "</div>"
      ],
      "text/plain": [
       "          q_id        doc_id  \\\n",
       "375  spiqa_376  1708.00160v2   \n",
       "34    spiqa_34  1805.04687v2   \n",
       "402  spiqa_403  1706.08146v3   \n",
       "\n",
       "                                          old_question  \\\n",
       "375  Based on Table 4 in the paper discussing the u...   \n",
       "34   Referring to Table 7 in the BDD100K paper, why...   \n",
       "402  \"According to Table 1 and the impact of featur...   \n",
       "\n",
       "                                                answer          doc_path  \\\n",
       "375  The \"ensemble\" model of e2ef achieves the high...  1708.00160v2.pdf   \n",
       "34   While the model trained on both MOT and detect...  1805.04687v2.pdf   \n",
       "402  The Leukemia dataset would likely benefit the ...  1706.08146v3.pdf   \n",
       "\n",
       "                                             documents  \\\n",
       "375  ['1708.00160v2.pdf', '1705.09296v2.pdf', '1704...   \n",
       "34   ['1805.04687v2.pdf', '1705.02798v6.pdf', '1708...   \n",
       "402  ['1706.08146v3.pdf', '1709.02418v2.pdf', '1805...   \n",
       "\n",
       "                                             rationale  \\\n",
       "375  The table presents the performance of differen...   \n",
       "34   The table shows that the model trained on both...   \n",
       "402  The passage states that the computation time f...   \n",
       "\n",
       "              reference_figure  \\\n",
       "375  1708.00160v2-Table4-1.png   \n",
       "34   1805.04687v2-Table7-1.png   \n",
       "402  1706.08146v3-Table1-1.png   \n",
       "\n",
       "                                           paper_title  \\\n",
       "375  Using Linguistic Features to Improve the Gener...   \n",
       "34   BDD100K: A Diverse Driving Dataset for Heterog...   \n",
       "402  Compressed Factorization: Fast and Accurate Lo...   \n",
       "\n",
       "                                        paper_abstract  \\\n",
       "375  Coreference resolution is an intermediate step...   \n",
       "34   Datasets drive vision progress, yet existing d...   \n",
       "402  What learning algorithms can be run directly o...   \n",
       "\n",
       "                                               caption  \\\n",
       "375  Table 4: Comparisons on the CoNLL test set. Th...   \n",
       "34   Table 7: Evaluation results for multiple objec...   \n",
       "402  Table 1: Summary of DNA microarray gene expres...   \n",
       "\n",
       "                                              question  \n",
       "375  Which coreference model performs best on the C...  \n",
       "34   Explain why the model trained on both MOT and ...  \n",
       "402  Which dataset would likely benefit the most fr...  "
      ]
     },
     "execution_count": 24,
     "metadata": {},
     "output_type": "execute_result"
    }
   ],
   "source": [
    "df.sample(3)"
   ]
  },
  {
   "cell_type": "code",
   "execution_count": 23,
   "metadata": {},
   "outputs": [
    {
     "data": {
      "text/html": [
       "<div>\n",
       "<style scoped>\n",
       "    .dataframe tbody tr th:only-of-type {\n",
       "        vertical-align: middle;\n",
       "    }\n",
       "\n",
       "    .dataframe tbody tr th {\n",
       "        vertical-align: top;\n",
       "    }\n",
       "\n",
       "    .dataframe thead th {\n",
       "        text-align: right;\n",
       "    }\n",
       "</style>\n",
       "<table border=\"1\" class=\"dataframe\">\n",
       "  <thead>\n",
       "    <tr style=\"text-align: right;\">\n",
       "      <th></th>\n",
       "      <th>q_id</th>\n",
       "      <th>doc_id</th>\n",
       "      <th>old_question</th>\n",
       "      <th>answer</th>\n",
       "      <th>doc_path</th>\n",
       "      <th>documents</th>\n",
       "      <th>rationale</th>\n",
       "      <th>reference_figure</th>\n",
       "      <th>paper_title</th>\n",
       "      <th>paper_abstract</th>\n",
       "      <th>caption</th>\n",
       "      <th>question</th>\n",
       "    </tr>\n",
       "  </thead>\n",
       "  <tbody>\n",
       "    <tr>\n",
       "      <th>10</th>\n",
       "      <td>spiqa_10</td>\n",
       "      <td>1811.02721v3</td>\n",
       "      <td>Table 1</td>\n",
       "      <td>TCP performs poorly on IEEE 802.15.4 networks ...</td>\n",
       "      <td>1811.02721v3.pdf</td>\n",
       "      <td>['1811.02721v3.pdf', '1708.00160v2.pdf', '1612...</td>\n",
       "      <td>Table 1 shows that the MTU for 802.15.4 networ...</td>\n",
       "      <td>1811.02721v3-Table4-1.png</td>\n",
       "      <td>Performant TCP for Low-Power Wireless Networks</td>\n",
       "      <td>Low-power and lossy networks (LLNs) enable div...</td>\n",
       "      <td>Table 4: Comparison of TCP/IP links</td>\n",
       "      <td>Based on Table 1 and the passage, why does TCP...</td>\n",
       "    </tr>\n",
       "    <tr>\n",
       "      <th>52</th>\n",
       "      <td>spiqa_52</td>\n",
       "      <td>1811.02721v3</td>\n",
       "      <td>Based on the figure detailing the effect of ba...</td>\n",
       "      <td>Batching reduces both the radio duty cycle and...</td>\n",
       "      <td>1811.02721v3.pdf</td>\n",
       "      <td>['1811.02721v3.pdf', '1809.04276v2.pdf', '1805...</td>\n",
       "      <td>The figure shows that the radio duty cycle and...</td>\n",
       "      <td>1811.02721v3-Figure9-1.png</td>\n",
       "      <td>Performant TCP for Low-Power Wireless Networks</td>\n",
       "      <td>Low-power and lossy networks (LLNs) enable div...</td>\n",
       "      <td>Effect of batching on power consumption</td>\n",
       "      <td>How does batching affect the radio duty cycle ...</td>\n",
       "    </tr>\n",
       "    <tr>\n",
       "      <th>97</th>\n",
       "      <td>spiqa_97</td>\n",
       "      <td>1811.02721v3</td>\n",
       "      <td>Referring to the figure illustrating TCP conge...</td>\n",
       "      <td>The number of TCP timeouts and fast retransmis...</td>\n",
       "      <td>1811.02721v3.pdf</td>\n",
       "      <td>['1811.02721v3.pdf', '1707.00189v3.pdf', '1809...</td>\n",
       "      <td>The figure shows that the number of timeouts a...</td>\n",
       "      <td>1811.02721v3-Figure6-1.png</td>\n",
       "      <td>Performant TCP for Low-Power Wireless Networks</td>\n",
       "      <td>Low-power and lossy networks (LLNs) enable div...</td>\n",
       "      <td>Congestion behavior of TCP over IEEE 802.15.4</td>\n",
       "      <td>How does the maximum link delay affect the num...</td>\n",
       "    </tr>\n",
       "    <tr>\n",
       "      <th>98</th>\n",
       "      <td>spiqa_98</td>\n",
       "      <td>1811.02721v3</td>\n",
       "      <td>In the \"Performant TCP for Low-Power Wireless ...</td>\n",
       "      <td>As the maximum link delay increases, the segme...</td>\n",
       "      <td>1811.02721v3.pdf</td>\n",
       "      <td>['1811.02721v3.pdf', '1804.05938v2.pdf', '1706...</td>\n",
       "      <td>In Figure (a), we can see that the segment los...</td>\n",
       "      <td>1811.02721v3-Figure5-1.png</td>\n",
       "      <td>Performant TCP for Low-Power Wireless Networks</td>\n",
       "      <td>Low-power and lossy networks (LLNs) enable div...</td>\n",
       "      <td>Effect of varying time between link-layer retr...</td>\n",
       "      <td>How does the maximum link delay affect the seg...</td>\n",
       "    </tr>\n",
       "    <tr>\n",
       "      <th>99</th>\n",
       "      <td>spiqa_99</td>\n",
       "      <td>1811.02721v3</td>\n",
       "      <td>In the context of *Performant TCP for Low-Powe...</td>\n",
       "      <td>The posix_sockets module consistently uses les...</td>\n",
       "      <td>1811.02721v3.pdf</td>\n",
       "      <td>['1811.02721v3.pdf', '1805.02349v2.pdf', '1704...</td>\n",
       "      <td>Table 1 provides the memory usage breakdown fo...</td>\n",
       "      <td>1811.02721v3-Table3-1.png</td>\n",
       "      <td>Performant TCP for Low-Power Wireless Networks</td>\n",
       "      <td>Low-power and lossy networks (LLNs) enable div...</td>\n",
       "      <td>Table 3: Memory usage of TCPlp on RIOT OS. We ...</td>\n",
       "      <td>How does the memory usage of the RIOT OS posix...</td>\n",
       "    </tr>\n",
       "    <tr>\n",
       "      <th>147</th>\n",
       "      <td>spiqa_148</td>\n",
       "      <td>1811.02721v3</td>\n",
       "      <td>\"In Table 7 of the 'Performant TCP for Low-Pow...</td>\n",
       "      <td>Table 1 shows that CoAP has slightly higher re...</td>\n",
       "      <td>1811.02721v3.pdf</td>\n",
       "      <td>['1811.02721v3.pdf', '1812.10735v2.pdf', '1809...</td>\n",
       "      <td>The table directly provides the reliability pe...</td>\n",
       "      <td>1811.02721v3-Table7-1.png</td>\n",
       "      <td>Performant TCP for Low-Power Wireless Networks</td>\n",
       "      <td>Low-power and lossy networks (LLNs) enable div...</td>\n",
       "      <td>Table 7: Performance in the testbed over a ful...</td>\n",
       "      <td>How does the reliability of CoAP compare to TC...</td>\n",
       "    </tr>\n",
       "    <tr>\n",
       "      <th>160</th>\n",
       "      <td>spiqa_161</td>\n",
       "      <td>1811.02721v3</td>\n",
       "      <td>Based on the figure depicting TCP goodput over...</td>\n",
       "      <td>Increasing the buffer size generally leads to ...</td>\n",
       "      <td>1811.02721v3.pdf</td>\n",
       "      <td>['1811.02721v3.pdf', '1606.07384v2.pdf', '1707...</td>\n",
       "      <td>The figure shows that TCP goodput increases as...</td>\n",
       "      <td>1811.02721v3-Figure3-1.png</td>\n",
       "      <td>Performant TCP for Low-Power Wireless Networks</td>\n",
       "      <td>Low-power and lossy networks (LLNs) enable div...</td>\n",
       "      <td>TCP goodput over one IEEE 802.15.4 hop</td>\n",
       "      <td>How does varying the buffer size affect TCP go...</td>\n",
       "    </tr>\n",
       "    <tr>\n",
       "      <th>163</th>\n",
       "      <td>spiqa_164</td>\n",
       "      <td>1811.02721v3</td>\n",
       "      <td>How many hops are shown between Node 1 (Hamilt...</td>\n",
       "      <td>5 hops</td>\n",
       "      <td>1811.02721v3.pdf</td>\n",
       "      <td>['1811.02721v3.pdf', '1606.07384v2.pdf', '1809...</td>\n",
       "      <td>The caption states that the figure shows a sna...</td>\n",
       "      <td>1811.02721v3-Figure1-1.png</td>\n",
       "      <td>Performant TCP for Low-Power Wireless Networks</td>\n",
       "      <td>Low-power and lossy networks (LLNs) enable div...</td>\n",
       "      <td>Snapshot of uplink routes in OpenThread topolo...</td>\n",
       "      <td>How many hops are there between the Hamilton a...</td>\n",
       "    </tr>\n",
       "    <tr>\n",
       "      <th>227</th>\n",
       "      <td>spiqa_228</td>\n",
       "      <td>1811.02721v3</td>\n",
       "      <td>What does the figure comparing CoAP vs. HTTP/T...</td>\n",
       "      <td>The difference in response time between CoAP a...</td>\n",
       "      <td>1811.02721v3.pdf</td>\n",
       "      <td>['1811.02721v3.pdf', '1611.04363v2.pdf', '1611...</td>\n",
       "      <td>The figure shows the response time for CoAP an...</td>\n",
       "      <td>1811.02721v3-Figure8-1.png</td>\n",
       "      <td>Performant TCP for Low-Power Wireless Networks</td>\n",
       "      <td>Low-power and lossy networks (LLNs) enable div...</td>\n",
       "      <td>Goodput: CoAP vs. HTTP/TCP</td>\n",
       "      <td>What is the difference in response time betwee...</td>\n",
       "    </tr>\n",
       "    <tr>\n",
       "      <th>244</th>\n",
       "      <td>spiqa_245</td>\n",
       "      <td>1811.02721v3</td>\n",
       "      <td>In the figure presented in the \"Performant TCP...</td>\n",
       "      <td>The Hamilton-based PCB is the electronic contr...</td>\n",
       "      <td>1811.02721v3.pdf</td>\n",
       "      <td>['1811.02721v3.pdf', '1803.01128v3.pdf', '1708...</td>\n",
       "      <td>The photograph shows the Hamilton-based PCB wi...</td>\n",
       "      <td>1811.02721v3-Figure13-1.png</td>\n",
       "      <td>Performant TCP for Low-Power Wireless Networks</td>\n",
       "      <td>Low-power and lossy networks (LLNs) enable div...</td>\n",
       "      <td>Hamilton-based ultrasonic anemometer</td>\n",
       "      <td>What is the function of the Hamilton-based PCB...</td>\n",
       "    </tr>\n",
       "    <tr>\n",
       "      <th>347</th>\n",
       "      <td>spiqa_348</td>\n",
       "      <td>1811.02721v3</td>\n",
       "      <td>Based on the figure displaying radio duty cycl...</td>\n",
       "      <td>TCP</td>\n",
       "      <td>1811.02721v3.pdf</td>\n",
       "      <td>['1811.02721v3.pdf', '1812.00281v3.pdf', '1707...</td>\n",
       "      <td>The green line, which represents TCP, is highe...</td>\n",
       "      <td>1811.02721v3-Figure11-1.png</td>\n",
       "      <td>Performant TCP for Low-Power Wireless Networks</td>\n",
       "      <td>Low-power and lossy networks (LLNs) enable div...</td>\n",
       "      <td>Radio duty cycle of TCP and CoAP in a lossy wi...</td>\n",
       "      <td>What protocol has a higher radio duty cycle in...</td>\n",
       "    </tr>\n",
       "    <tr>\n",
       "      <th>352</th>\n",
       "      <td>spiqa_353</td>\n",
       "      <td>1811.02721v3</td>\n",
       "      <td>Referring to the detailed comparison in Table ...</td>\n",
       "      <td>The TCP stack presented in this paper (TCPlp) ...</td>\n",
       "      <td>1811.02721v3.pdf</td>\n",
       "      <td>['1811.02721v3.pdf', '1708.02153v2.pdf', '1809...</td>\n",
       "      <td>The table directly compares the feature sets o...</td>\n",
       "      <td>1811.02721v3-Table9-1.png</td>\n",
       "      <td>Performant TCP for Low-Power Wireless Networks</td>\n",
       "      <td>Low-power and lossy networks (LLNs) enable div...</td>\n",
       "      <td>Table 9: Comparison of core features among emb...</td>\n",
       "      <td>Which TCP stack provides the most complete imp...</td>\n",
       "    </tr>\n",
       "    <tr>\n",
       "      <th>526</th>\n",
       "      <td>spiqa_538</td>\n",
       "      <td>1811.02721v3</td>\n",
       "      <td>According to Table 8 in the paper \"Performant ...</td>\n",
       "      <td>The protocol implementation module consumes th...</td>\n",
       "      <td>1811.02721v3.pdf</td>\n",
       "      <td>['1811.02721v3.pdf', '1704.00774v3.pdf', '1603...</td>\n",
       "      <td>Table 2 provides a breakdown of \\sys{}'s memor...</td>\n",
       "      <td>1811.02721v3-Table8-1.png</td>\n",
       "      <td>Performant TCP for Low-Power Wireless Networks</td>\n",
       "      <td>Low-power and lossy networks (LLNs) enable div...</td>\n",
       "      <td>Table 8: Memory usage of TCPlp on TinyOS. Our ...</td>\n",
       "      <td>Which module of TCPlp consumes the most memory...</td>\n",
       "    </tr>\n",
       "    <tr>\n",
       "      <th>560</th>\n",
       "      <td>spiqa_577</td>\n",
       "      <td>1811.02721v3</td>\n",
       "      <td>According to Table 1 in *Performant TCP for Lo...</td>\n",
       "      <td>The \"Resource Constraints\" challenge was addre...</td>\n",
       "      <td>1811.02721v3.pdf</td>\n",
       "      <td>['1811.02721v3.pdf', '1804.04410v2.pdf', '1612...</td>\n",
       "      <td>The table explicitly lists the observed improv...</td>\n",
       "      <td>1811.02721v3-Table1-1.png</td>\n",
       "      <td>Performant TCP for Low-Power Wireless Networks</td>\n",
       "      <td>Low-power and lossy networks (LLNs) enable div...</td>\n",
       "      <td>Table 1: Impact of techniques to run full-scal...</td>\n",
       "      <td>Which technique was most effective at reducing...</td>\n",
       "    </tr>\n",
       "    <tr>\n",
       "      <th>581</th>\n",
       "      <td>spiqa_598</td>\n",
       "      <td>1811.02721v3</td>\n",
       "      <td>How does 6LoWPAN fragmentation, as demonstrate...</td>\n",
       "      <td>Relying on fragmentation is effective because ...</td>\n",
       "      <td>1811.02721v3.pdf</td>\n",
       "      <td>['1811.02721v3.pdf', '1708.02153v2.pdf', '1708...</td>\n",
       "      <td>Table 1 shows the header overhead for differen...</td>\n",
       "      <td>1811.02721v3-Table5-1.png</td>\n",
       "      <td>Performant TCP for Low-Power Wireless Networks</td>\n",
       "      <td>Low-power and lossy networks (LLNs) enable div...</td>\n",
       "      <td>Table 5: Header overhead with 6LoWPAN fragment...</td>\n",
       "      <td>Why is relying on fragmentation effective for ...</td>\n",
       "    </tr>\n",
       "  </tbody>\n",
       "</table>\n",
       "</div>"
      ],
      "text/plain": [
       "          q_id        doc_id  \\\n",
       "10    spiqa_10  1811.02721v3   \n",
       "52    spiqa_52  1811.02721v3   \n",
       "97    spiqa_97  1811.02721v3   \n",
       "98    spiqa_98  1811.02721v3   \n",
       "99    spiqa_99  1811.02721v3   \n",
       "147  spiqa_148  1811.02721v3   \n",
       "160  spiqa_161  1811.02721v3   \n",
       "163  spiqa_164  1811.02721v3   \n",
       "227  spiqa_228  1811.02721v3   \n",
       "244  spiqa_245  1811.02721v3   \n",
       "347  spiqa_348  1811.02721v3   \n",
       "352  spiqa_353  1811.02721v3   \n",
       "526  spiqa_538  1811.02721v3   \n",
       "560  spiqa_577  1811.02721v3   \n",
       "581  spiqa_598  1811.02721v3   \n",
       "\n",
       "                                          old_question  \\\n",
       "10                                             Table 1   \n",
       "52   Based on the figure detailing the effect of ba...   \n",
       "97   Referring to the figure illustrating TCP conge...   \n",
       "98   In the \"Performant TCP for Low-Power Wireless ...   \n",
       "99   In the context of *Performant TCP for Low-Powe...   \n",
       "147  \"In Table 7 of the 'Performant TCP for Low-Pow...   \n",
       "160  Based on the figure depicting TCP goodput over...   \n",
       "163  How many hops are shown between Node 1 (Hamilt...   \n",
       "227  What does the figure comparing CoAP vs. HTTP/T...   \n",
       "244  In the figure presented in the \"Performant TCP...   \n",
       "347  Based on the figure displaying radio duty cycl...   \n",
       "352  Referring to the detailed comparison in Table ...   \n",
       "526  According to Table 8 in the paper \"Performant ...   \n",
       "560  According to Table 1 in *Performant TCP for Lo...   \n",
       "581  How does 6LoWPAN fragmentation, as demonstrate...   \n",
       "\n",
       "                                                answer          doc_path  \\\n",
       "10   TCP performs poorly on IEEE 802.15.4 networks ...  1811.02721v3.pdf   \n",
       "52   Batching reduces both the radio duty cycle and...  1811.02721v3.pdf   \n",
       "97   The number of TCP timeouts and fast retransmis...  1811.02721v3.pdf   \n",
       "98   As the maximum link delay increases, the segme...  1811.02721v3.pdf   \n",
       "99   The posix_sockets module consistently uses les...  1811.02721v3.pdf   \n",
       "147  Table 1 shows that CoAP has slightly higher re...  1811.02721v3.pdf   \n",
       "160  Increasing the buffer size generally leads to ...  1811.02721v3.pdf   \n",
       "163                                             5 hops  1811.02721v3.pdf   \n",
       "227  The difference in response time between CoAP a...  1811.02721v3.pdf   \n",
       "244  The Hamilton-based PCB is the electronic contr...  1811.02721v3.pdf   \n",
       "347                                                TCP  1811.02721v3.pdf   \n",
       "352  The TCP stack presented in this paper (TCPlp) ...  1811.02721v3.pdf   \n",
       "526  The protocol implementation module consumes th...  1811.02721v3.pdf   \n",
       "560  The \"Resource Constraints\" challenge was addre...  1811.02721v3.pdf   \n",
       "581  Relying on fragmentation is effective because ...  1811.02721v3.pdf   \n",
       "\n",
       "                                             documents  \\\n",
       "10   ['1811.02721v3.pdf', '1708.00160v2.pdf', '1612...   \n",
       "52   ['1811.02721v3.pdf', '1809.04276v2.pdf', '1805...   \n",
       "97   ['1811.02721v3.pdf', '1707.00189v3.pdf', '1809...   \n",
       "98   ['1811.02721v3.pdf', '1804.05938v2.pdf', '1706...   \n",
       "99   ['1811.02721v3.pdf', '1805.02349v2.pdf', '1704...   \n",
       "147  ['1811.02721v3.pdf', '1812.10735v2.pdf', '1809...   \n",
       "160  ['1811.02721v3.pdf', '1606.07384v2.pdf', '1707...   \n",
       "163  ['1811.02721v3.pdf', '1606.07384v2.pdf', '1809...   \n",
       "227  ['1811.02721v3.pdf', '1611.04363v2.pdf', '1611...   \n",
       "244  ['1811.02721v3.pdf', '1803.01128v3.pdf', '1708...   \n",
       "347  ['1811.02721v3.pdf', '1812.00281v3.pdf', '1707...   \n",
       "352  ['1811.02721v3.pdf', '1708.02153v2.pdf', '1809...   \n",
       "526  ['1811.02721v3.pdf', '1704.00774v3.pdf', '1603...   \n",
       "560  ['1811.02721v3.pdf', '1804.04410v2.pdf', '1612...   \n",
       "581  ['1811.02721v3.pdf', '1708.02153v2.pdf', '1708...   \n",
       "\n",
       "                                             rationale  \\\n",
       "10   Table 1 shows that the MTU for 802.15.4 networ...   \n",
       "52   The figure shows that the radio duty cycle and...   \n",
       "97   The figure shows that the number of timeouts a...   \n",
       "98   In Figure (a), we can see that the segment los...   \n",
       "99   Table 1 provides the memory usage breakdown fo...   \n",
       "147  The table directly provides the reliability pe...   \n",
       "160  The figure shows that TCP goodput increases as...   \n",
       "163  The caption states that the figure shows a sna...   \n",
       "227  The figure shows the response time for CoAP an...   \n",
       "244  The photograph shows the Hamilton-based PCB wi...   \n",
       "347  The green line, which represents TCP, is highe...   \n",
       "352  The table directly compares the feature sets o...   \n",
       "526  Table 2 provides a breakdown of \\sys{}'s memor...   \n",
       "560  The table explicitly lists the observed improv...   \n",
       "581  Table 1 shows the header overhead for differen...   \n",
       "\n",
       "                reference_figure  \\\n",
       "10     1811.02721v3-Table4-1.png   \n",
       "52    1811.02721v3-Figure9-1.png   \n",
       "97    1811.02721v3-Figure6-1.png   \n",
       "98    1811.02721v3-Figure5-1.png   \n",
       "99     1811.02721v3-Table3-1.png   \n",
       "147    1811.02721v3-Table7-1.png   \n",
       "160   1811.02721v3-Figure3-1.png   \n",
       "163   1811.02721v3-Figure1-1.png   \n",
       "227   1811.02721v3-Figure8-1.png   \n",
       "244  1811.02721v3-Figure13-1.png   \n",
       "347  1811.02721v3-Figure11-1.png   \n",
       "352    1811.02721v3-Table9-1.png   \n",
       "526    1811.02721v3-Table8-1.png   \n",
       "560    1811.02721v3-Table1-1.png   \n",
       "581    1811.02721v3-Table5-1.png   \n",
       "\n",
       "                                        paper_title  \\\n",
       "10   Performant TCP for Low-Power Wireless Networks   \n",
       "52   Performant TCP for Low-Power Wireless Networks   \n",
       "97   Performant TCP for Low-Power Wireless Networks   \n",
       "98   Performant TCP for Low-Power Wireless Networks   \n",
       "99   Performant TCP for Low-Power Wireless Networks   \n",
       "147  Performant TCP for Low-Power Wireless Networks   \n",
       "160  Performant TCP for Low-Power Wireless Networks   \n",
       "163  Performant TCP for Low-Power Wireless Networks   \n",
       "227  Performant TCP for Low-Power Wireless Networks   \n",
       "244  Performant TCP for Low-Power Wireless Networks   \n",
       "347  Performant TCP for Low-Power Wireless Networks   \n",
       "352  Performant TCP for Low-Power Wireless Networks   \n",
       "526  Performant TCP for Low-Power Wireless Networks   \n",
       "560  Performant TCP for Low-Power Wireless Networks   \n",
       "581  Performant TCP for Low-Power Wireless Networks   \n",
       "\n",
       "                                        paper_abstract  \\\n",
       "10   Low-power and lossy networks (LLNs) enable div...   \n",
       "52   Low-power and lossy networks (LLNs) enable div...   \n",
       "97   Low-power and lossy networks (LLNs) enable div...   \n",
       "98   Low-power and lossy networks (LLNs) enable div...   \n",
       "99   Low-power and lossy networks (LLNs) enable div...   \n",
       "147  Low-power and lossy networks (LLNs) enable div...   \n",
       "160  Low-power and lossy networks (LLNs) enable div...   \n",
       "163  Low-power and lossy networks (LLNs) enable div...   \n",
       "227  Low-power and lossy networks (LLNs) enable div...   \n",
       "244  Low-power and lossy networks (LLNs) enable div...   \n",
       "347  Low-power and lossy networks (LLNs) enable div...   \n",
       "352  Low-power and lossy networks (LLNs) enable div...   \n",
       "526  Low-power and lossy networks (LLNs) enable div...   \n",
       "560  Low-power and lossy networks (LLNs) enable div...   \n",
       "581  Low-power and lossy networks (LLNs) enable div...   \n",
       "\n",
       "                                               caption  \\\n",
       "10                 Table 4: Comparison of TCP/IP links   \n",
       "52             Effect of batching on power consumption   \n",
       "97       Congestion behavior of TCP over IEEE 802.15.4   \n",
       "98   Effect of varying time between link-layer retr...   \n",
       "99   Table 3: Memory usage of TCPlp on RIOT OS. We ...   \n",
       "147  Table 7: Performance in the testbed over a ful...   \n",
       "160             TCP goodput over one IEEE 802.15.4 hop   \n",
       "163  Snapshot of uplink routes in OpenThread topolo...   \n",
       "227                         Goodput: CoAP vs. HTTP/TCP   \n",
       "244               Hamilton-based ultrasonic anemometer   \n",
       "347  Radio duty cycle of TCP and CoAP in a lossy wi...   \n",
       "352  Table 9: Comparison of core features among emb...   \n",
       "526  Table 8: Memory usage of TCPlp on TinyOS. Our ...   \n",
       "560  Table 1: Impact of techniques to run full-scal...   \n",
       "581  Table 5: Header overhead with 6LoWPAN fragment...   \n",
       "\n",
       "                                              question  \n",
       "10   Based on Table 1 and the passage, why does TCP...  \n",
       "52   How does batching affect the radio duty cycle ...  \n",
       "97   How does the maximum link delay affect the num...  \n",
       "98   How does the maximum link delay affect the seg...  \n",
       "99   How does the memory usage of the RIOT OS posix...  \n",
       "147  How does the reliability of CoAP compare to TC...  \n",
       "160  How does varying the buffer size affect TCP go...  \n",
       "163  How many hops are there between the Hamilton a...  \n",
       "227  What is the difference in response time betwee...  \n",
       "244  What is the function of the Hamilton-based PCB...  \n",
       "347  What protocol has a higher radio duty cycle in...  \n",
       "352  Which TCP stack provides the most complete imp...  \n",
       "526  Which module of TCPlp consumes the most memory...  \n",
       "560  Which technique was most effective at reducing...  \n",
       "581  Why is relying on fragmentation effective for ...  "
      ]
     },
     "execution_count": 23,
     "metadata": {},
     "output_type": "execute_result"
    }
   ],
   "source": [
    "df.loc[df['doc_id'] == '1811.02721v3']"
   ]
  },
  {
   "cell_type": "markdown",
   "metadata": {},
   "source": [
    "#### Common values in both lists"
   ]
  },
  {
   "cell_type": "code",
   "execution_count": 45,
   "metadata": {},
   "outputs": [
    {
     "data": {
      "text/plain": [
       "[]"
      ]
     },
     "execution_count": 45,
     "metadata": {},
     "output_type": "execute_result"
    }
   ],
   "source": [
    "common = list(set(doc_keys_json) & set(keys_df))\n",
    "common"
   ]
  },
  {
   "cell_type": "code",
   "execution_count": 47,
   "metadata": {},
   "outputs": [],
   "source": [
    "with open('../../../Data/spiqa/train_val/SPIQA_val.json') as f:\n",
    "    spiqa_d_val = json.load(f)"
   ]
  },
  {
   "cell_type": "code",
   "execution_count": 48,
   "metadata": {},
   "outputs": [],
   "source": [
    "spiqa_d_val_j_keys = list(spiqa_d_val.keys())"
   ]
  },
  {
   "cell_type": "code",
   "execution_count": 50,
   "metadata": {},
   "outputs": [
    {
     "data": {
      "text/plain": [
       "[]"
      ]
     },
     "execution_count": 50,
     "metadata": {},
     "output_type": "execute_result"
    }
   ],
   "source": [
    "common = list(set(keys_df) & set(spiqa_d_val_j_keys))\n",
    "common"
   ]
  },
  {
   "cell_type": "code",
   "execution_count": 2,
   "metadata": {},
   "outputs": [],
   "source": [
    "import json"
   ]
  },
  {
   "cell_type": "code",
   "execution_count": 3,
   "metadata": {},
   "outputs": [],
   "source": [
    "with open('../../../Data/spiqa/test-A/SPIQA_testA.json') as f:\n",
    "    spiqa_d_A = json.load(f)\n",
    "\n",
    "spiqa_d_tr_A_keys = list(spiqa_d_A.keys())"
   ]
  },
  {
   "cell_type": "code",
   "execution_count": 4,
   "metadata": {},
   "outputs": [
    {
     "data": {
      "text/plain": [
       "dict_keys(['1611.04684v1', '1611.05742v3', '1611.07718v2', '1611.03780v2', '1611.04363v2', '1608.02784v2', '1611.02654v2', '1701.03077v10', '1802.07222v1', '1603.00286v5', '1603.03833v4', '1605.07496v3', '1612.02803v5', '1606.07384v2', '1803.01128v3', '1703.00899v2', '1703.02507v3', '1802.07351v2', '1702.03584v3', '1802.07459v2', '1702.08694v3', '1803.02750v3', '1701.06171v4', '1703.00060v2', '1703.07015v3', '1703.04887v4', '1703.10730v2', '1803.03467v4', '1803.04572v2', '1704.05426v4', '1704.05958v2', '1803.05776v2', '1803.06506v3', '1704.04539v2', '1803.04383v2', '1704.07121v2', '1704.00774v3', '1804.00863v3', '1804.01429v3', '1811.02721v3', '1704.07854v4', '1804.04410v2', '1704.08615v2', '1811.02553v4', '1804.04786v3', '1705.02798v6', '1804.05936v2', '1804.07849v4', '1811.07073v3', '1705.02946v3', '1705.07164v8', '1804.05995v2', '1811.06635v1', '1804.07707v2', '1804.07931v2', '1705.08016v3', '1811.08257v1', '1805.00912v4', '1705.07384v2', '1705.09296v2', '1805.01216v3', '1804.05938v2', '1705.09882v2', '1811.08481v2', '1705.09966v2', '1805.02349v2', '1811.09393v4', '1805.04609v3', '1705.10667v4', '1805.04687v2', '1706.00633v4', '1811.10673v1', '1706.00827v2', '1805.06431v4', '1812.00108v4', '1812.00281v3', '1706.03847v3', '1706.04269v2', '1706.04284v3', '1812.06589v2', '1805.06447v3', '1805.07567v2', '1707.00524v2', '1812.10735v2', '1707.01917v2', '1707.00189v3', '1706.08146v3', '1901.00056v2', '1805.08465v3', '1707.01922v5', '1901.00398v2', '1805.08751v2', '1707.06320v2', '1707.08608v3', '1809.00263v5', '1708.00160v2', '1809.00458v1', '1708.01425v4', '1708.02153v2', '1708.05239v3', '1809.01246v1', '1708.03797v1', '1709.02755v5', '1809.02731v3', '1809.03149v2', '1708.06832v3', '1906.06589v3', '1809.03449v3', '1710.05654v2', '1906.10843v1', '1809.03550v3', '1709.08294v3', '1710.06177v2', '1809.04276v2', '1710.01507v4', '1709.00139v4', '1809.01989v2', '1709.02418v2'])"
      ]
     },
     "execution_count": 4,
     "metadata": {},
     "output_type": "execute_result"
    }
   ],
   "source": [
    "spiqa_d_A.keys()"
   ]
  },
  {
   "cell_type": "code",
   "execution_count": 6,
   "metadata": {},
   "outputs": [
    {
     "data": {
      "text/plain": [
       "{'paper_id': '1611.04684v1',\n",
       " 'all_figures': {'1611.04684v1-Table3-1.png': {'caption': 'Table 3: Evaluation results on answer selection',\n",
       "   'content_type': 'table',\n",
       "   'figure_type': 'N/A'},\n",
       "  '1611.04684v1-Table2-1.png': {'caption': 'Table 2: Statistics of the answer selection data set',\n",
       "   'content_type': 'table',\n",
       "   'figure_type': 'N/A'},\n",
       "  '1611.04684v1-Table1-1.png': {'caption': 'A difficult example from QA',\n",
       "   'content_type': 'table',\n",
       "   'figure_type': 'other'},\n",
       "  '1611.04684v1-Table4-1.png': {'caption': 'Table 4: Evaluation results on response selection',\n",
       "   'content_type': 'table',\n",
       "   'figure_type': 'N/A'},\n",
       "  '1611.04684v1-Table5-1.png': {'caption': 'Accuracy on different length of text',\n",
       "   'content_type': 'table',\n",
       "   'figure_type': 'table'},\n",
       "  '1611.04684v1-Table6-1.png': {'caption': 'Comparison of different channels',\n",
       "   'content_type': 'table',\n",
       "   'figure_type': 'table'},\n",
       "  '1611.04684v1-Figure1-1.png': {'caption': 'Architecture of KEHNN',\n",
       "   'content_type': 'figure',\n",
       "   'figure_type': 'schematic'}},\n",
       " 'qa': [{'question': 'What are the main differences between the educational philosophies of the Bonaparte and Voltaire schools?',\n",
       "   'answer': 'The Bonaparte school focuses on outdoor physical activities, maneuvers, and strategies, with a specialization in horse riding, lances, and swords. They aim to develop students into good leaders. The Voltaire school, on the other hand, encourages independent thinking and focuses on indoor activities. They aim to instill good moral values and develop students into philosophical thinkers.',\n",
       "   'explanation': 'The figure presents a question and answer format, where the answer explicitly describes the contrasting educational approaches of the two schools.',\n",
       "   'reference': '1611.04684v1-Table1-1.png'},\n",
       "  {'question': 'Which model performs the best for response selection, and how can we tell?',\n",
       "   'answer': 'The KEHNN model performs the best for response selection. This is evident because it achieves the highest scores across all metrics (R$2$@1, R${10}$@1, R${10}$@2, and R${10}$@5) compared to all other models in the table.',\n",
       "   'explanation': 'Table 1 presents the performance of different models on the task of response selection. Each column represents a specific evaluation metric, and each row represents a different model. By comparing the values in each column, we can identify the model with the best performance for each metric. In this case, KEHNN consistently outperforms all other models, indicating its superior performance in response selection.',\n",
       "   'reference': '1611.04684v1-Table4-1.png'},\n",
       "  {'question': 'Which model performs best on the Ubuntu dataset for text lengths between 60 and 90 words?',\n",
       "   'answer': 'KEHNN',\n",
       "   'explanation': 'The table shows the accuracy of three models (LSTM, MV-LSTM, and KEHNN) on two datasets (QA and Ubuntu) for different text lengths. For text lengths between 60 and 90 words on the Ubuntu dataset, KEHNN has the highest accuracy of 0.785.',\n",
       "   'reference': '1611.04684v1-Table5-1.png'},\n",
       "  {'question': 'What is the role of the knowledge gates in the KEHNN architecture?',\n",
       "   'answer': \"The knowledge gates are responsible for selecting relevant information from the knowledge base and incorporating it into the model's hidden state.\",\n",
       "   'explanation': \"The figure shows that the knowledge gates take as input the knowledge base (K) and the current hidden state (h_t) of the BiGRU. The output of the knowledge gates is then used to update the hidden state of the BiGRU. This suggests that the knowledge gates are used to selectively incorporate information from the knowledge base into the model's hidden state.\",\n",
       "   'reference': '1611.04684v1-Figure1-1.png'},\n",
       "  {'question': 'How does the average number of answers per question differ between the training and development sets? What might be a possible explanation for this difference?',\n",
       "   'answer': 'The training set has a higher average number of answers per question (6.36) compared to the development set (5.48). This suggests that questions in the training set tend to have more potential answers associated with them than those in the development set.',\n",
       "   'explanation': 'The table provides the number of questions and answers in each data set. By dividing the number of answers by the number of questions, we can calculate the average number of answers per question. The difference observed could be due to various factors, such as:\\n\\n* **Sampling bias:** The training and development sets might have been drawn from different parts of the forum, leading to different distributions of questions and answers. \\n* **Question complexity:** Perhaps the training set contains more complex or open-ended questions that naturally elicit a wider range of responses compared to the questions in the development set. \\n\\nUnderstanding such differences between data sets is crucial for interpreting model performance and identifying potential biases in the data.',\n",
       "   'reference': '1611.04684v1-Table2-1.png'}]}"
      ]
     },
     "execution_count": 6,
     "metadata": {},
     "output_type": "execute_result"
    }
   ],
   "source": [
    "spiqa_d_A.get('1611.04684v1')"
   ]
  },
  {
   "cell_type": "code",
   "execution_count": null,
   "metadata": {},
   "outputs": [],
   "source": [
    "\n",
    "\n",
    "common = list(set(keys_df_v) & set(spiqa_d_tr_A_keys))\n",
    "common"
   ]
  },
  {
   "cell_type": "code",
   "execution_count": 65,
   "metadata": {},
   "outputs": [
    {
     "data": {
      "text/plain": [
       "117"
      ]
     },
     "execution_count": 65,
     "metadata": {},
     "output_type": "execute_result"
    }
   ],
   "source": [
    "len(common)"
   ]
  },
  {
   "cell_type": "code",
   "execution_count": 34,
   "metadata": {},
   "outputs": [
    {
     "data": {
      "text/plain": [
       "{'paper_id': '1708.03797v1',\n",
       " 'all_figures': {'1708.03797v1-Figure1-1.png': {'caption': 'Overview of HDMF',\n",
       "   'content_type': 'figure',\n",
       "   'figure_type': 'schematic'},\n",
       "  '1708.03797v1-Table1-1.png': {'caption': 'Dataset Information',\n",
       "   'content_type': 'table',\n",
       "   'figure_type': '** table'},\n",
       "  '1708.03797v1-Table2-1.png': {'caption': 'Table 2: Recommendation Performance of Various Models (in %)',\n",
       "   'content_type': 'table',\n",
       "   'figure_type': 'N/A'}},\n",
       " 'qa': [{'question': 'What is the role of the code layer in the HDMF architecture?',\n",
       "   'answer': 'The code layer is responsible for generating a compressed representation of the input data. This compressed representation is then used by the decoder to reconstruct the original data.',\n",
       "   'explanation': 'The figure shows that the code layer is located in the middle of the HDMF architecture, between the encoder and decoder. The encoder takes the input data and transforms it into a compressed representation, which is then fed into the code layer. The code layer further compresses this representation before passing it on to the decoder. The decoder then uses this compressed representation to reconstruct the original data.',\n",
       "   'reference': '1708.03797v1-Figure1-1.png'},\n",
       "  {'question': 'Which model achieved the best overall performance in terms of ranking relevant tags for users?',\n",
       "   'answer': 'HDMF achieved the best overall performance.',\n",
       "   'explanation': 'The table shows the performance of various models on several metrics, including Precision at different cut-off ranks (P@k), Recall at different cut-off ranks (R@k), F-score at different cut-off ranks (F@k), Mean Average Precision (MAP), and Mean Reciprocal Rank (MRR). Higher values indicate better performance for all metrics. Observing the bolded values in the table, which represent the highest scores achieved for each metric, we can see that HDMF consistently outperforms all other models across all the listed metrics. This suggests that HDMF is most effective at ranking relevant tags for users compared to the other models considered.',\n",
       "   'reference': '1708.03797v1-Table2-1.png'}]}"
      ]
     },
     "execution_count": 34,
     "metadata": {},
     "output_type": "execute_result"
    }
   ],
   "source": [
    "spiqa_d_A.get(\"1708.03797v1\")\n",
    "#\n",
    "# q_id\tdoc_id\told_question\tanswer\tdoc_path\tdocuments\trationale\treference_figure\tpaper_title\tpaper_abstract\tcaption\tquestion\n",
    "# 486\tspiqa_496\t1708.03797v1"
   ]
  },
  {
   "cell_type": "code",
   "execution_count": null,
   "metadata": {},
   "outputs": [],
   "source": []
  }
 ],
 "metadata": {
  "kernelspec": {
   "display_name": "IRPenv",
   "language": "python",
   "name": "python3"
  },
  "language_info": {
   "codemirror_mode": {
    "name": "ipython",
    "version": 3
   },
   "file_extension": ".py",
   "mimetype": "text/x-python",
   "name": "python",
   "nbconvert_exporter": "python",
   "pygments_lexer": "ipython3",
   "version": "3.11.11"
  }
 },
 "nbformat": 4,
 "nbformat_minor": 2
}
