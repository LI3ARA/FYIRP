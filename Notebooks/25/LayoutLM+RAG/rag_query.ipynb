{
 "cells": [
  {
   "cell_type": "markdown",
   "metadata": {},
   "source": [
    "## Install Dependencies"
   ]
  },
  {
   "cell_type": "code",
   "execution_count": null,
   "metadata": {},
   "outputs": [],
   "source": [
    "! pip install transformers torch pdf2image pytesseract faiss-cpu python-multipart Pillay"
   ]
  },
  {
   "cell_type": "code",
   "execution_count": 5,
   "metadata": {},
   "outputs": [
    {
     "name": "stdout",
     "output_type": "stream",
     "text": [
      "Collecting pdf2image\n",
      "  Using cached pdf2image-1.17.0-py3-none-any.whl.metadata (6.2 kB)\n",
      "Requirement already satisfied: pillow in c:\\users\\lisara\\anaconda3\\envs\\nlpenv\\lib\\site-packages (from pdf2image) (11.0.0)\n",
      "Using cached pdf2image-1.17.0-py3-none-any.whl (11 kB)\n",
      "Installing collected packages: pdf2image\n",
      "Successfully installed pdf2image-1.17.0\n"
     ]
    }
   ],
   "source": [
    "! pip install pdf2image"
   ]
  },
  {
   "cell_type": "code",
   "execution_count": 1,
   "metadata": {},
   "outputs": [
    {
     "name": "stderr",
     "output_type": "stream",
     "text": [
      "c:\\Users\\Lisara\\anaconda3\\envs\\NLPEnv\\Lib\\site-packages\\tqdm\\auto.py:21: TqdmWarning: IProgress not found. Please update jupyter and ipywidgets. See https://ipywidgets.readthedocs.io/en/stable/user_install.html\n",
      "  from .autonotebook import tqdm as notebook_tqdm\n"
     ]
    }
   ],
   "source": [
    "from transformers import pipeline"
   ]
  },
  {
   "cell_type": "code",
   "execution_count": 2,
   "metadata": {},
   "outputs": [
    {
     "name": "stderr",
     "output_type": "stream",
     "text": [
      "c:\\Users\\Lisara\\anaconda3\\envs\\NLPEnv\\Lib\\site-packages\\huggingface_hub\\file_download.py:142: UserWarning: `huggingface_hub` cache-system uses symlinks by default to efficiently store duplicated files but your machine does not support them in C:\\Users\\Lisara\\.cache\\huggingface\\hub\\models--deepset--roberta-base-squad2. Caching files will still work but in a degraded version that might require more space on your disk. This warning can be disabled by setting the `HF_HUB_DISABLE_SYMLINKS_WARNING` environment variable. For more details, see https://huggingface.co/docs/huggingface_hub/how-to-cache#limitations.\n",
      "To support symlinks on Windows, you either need to activate Developer Mode or to run Python as an administrator. In order to activate developer mode, see this article: https://docs.microsoft.com/en-us/windows/apps/get-started/enable-your-device-for-development\n",
      "  warnings.warn(message)\n",
      "Device set to use cpu\n"
     ]
    }
   ],
   "source": [
    "qa_pipeline = pipeline(\"question-answering\", model=\"deepset/roberta-base-squad2\")"
   ]
  },
  {
   "cell_type": "code",
   "execution_count": null,
   "metadata": {},
   "outputs": [],
   "source": []
  },
  {
   "cell_type": "markdown",
   "metadata": {},
   "source": [
    "## Extract Text and Images from PDF"
   ]
  },
  {
   "cell_type": "code",
   "execution_count": 6,
   "metadata": {},
   "outputs": [],
   "source": [
    "from pdf2image import convert_from_path\n",
    "import pytesseract\n",
    "import os"
   ]
  },
  {
   "cell_type": "code",
   "execution_count": null,
   "metadata": {},
   "outputs": [],
   "source": [
    "def extract_pdf_content(pdf_path, output_image_dir):\n",
    "    # Convert PDF to images (one per page)\n",
    "    images = convert_from_path(pdf_path)\n",
    "    os.makedirs(output_image_dir, exist_ok=True)\n",
    "    \n",
    "    all_data = []\n",
    "    for page_num, image in enumerate(images):\n",
    "        # Save page image\n",
    "        image_path = f\"{output_image_dir}/page_{page_num}.jpg\"\n",
    "        image.save(image_path, \"JPEG\")\n",
    "        \n",
    "        # OCR with Tesseract (include bounding boxes)\n",
    "        ocr_data = pytesseract.image_to_data(image, output_type=pytesseract.Output.DICT)\n",
    "        \n",
    "        # Extract words and bounding boxes\n",
    "        page_content = []\n",
    "        for i in range(len(ocr_data[\"text\"])):\n",
    "            if ocr_data[\"text\"][i].strip():\n",
    "                page_content.append({\n",
    "                    \"text\": ocract_data[\"text\"][i],\n",
    "                    \"bbox\": (\n",
    "                        ocr_data[\"left\"][i],\n",
    "                        ocr_data[\"top\"][i],\n",
    "                        ocr_data[\"width\"][i] + ocr_data[\"left\"][i],\n",
    "                        ocr_data[\"height\"][i] + ocr_data[\"top\"][i]\n",
    "                    ),\n",
    "                    \"page\": page_num,\n",
    "                    \"type\": \"text\"\n",
    "                })\n",
    "        \n",
    "        # Add image regions (example: detect figures using heuristics)\n",
    "        # For production, use an object detection model (e.g., Detectron2)\n",
    "        page_content.append({\n",
    "            \"text\": f\"[IMAGE: Page {page_num}]\",\n",
    "            \"bbox\": (0, 0, image.width, image.height),  # Full page as image region\n",
    "            \"page\": page_num,\n",
    "            \"type\": \"image\",\n",
    "            \"image_path\": image_path\n",
    "        })\n",
    "        \n",
    "        all_data.extend(page_content)\n",
    "    \n",
    "    return all_data"
   ]
  },
  {
   "cell_type": "markdown",
   "metadata": {},
   "source": [
    "## Generate Embeddings with LayoutLMV3"
   ]
  },
  {
   "cell_type": "code",
   "execution_count": 9,
   "metadata": {},
   "outputs": [],
   "source": [
    "from transformers import LayoutLMv3Processor, LayoutLMv3Model\n",
    "import torch"
   ]
  },
  {
   "cell_type": "code",
   "execution_count": null,
   "metadata": {},
   "outputs": [
    {
     "name": "stdout",
     "output_type": "stream",
     "text": [
      "cpu\n"
     ]
    }
   ],
   "source": [
    "device = \"cuda\" if torch.cuda.is_available() else \"cpu\"\n",
    "print(device)"
   ]
  },
  {
   "cell_type": "code",
   "execution_count": null,
   "metadata": {},
   "outputs": [],
   "source": [
    "processor = LayoutLMv3Processor.from_pretrained(\"microsoft/layoutlmv3-base\")\n",
    "model = LayoutLMv3Model.from_pretrained(\"microsoft/layoutlmv3-base\").to(device)\n",
    "\n",
    "def generate_embeddings(content_data):\n",
    "    embeddings = []\n",
    "    for item in content_data:\n",
    "        if item[\"type\"] == \"text\":\n",
    "            # Process text with LayoutLMv3\n",
    "            encoding = processor(\n",
    "                item[\"image_path\"],  # Original page image\n",
    "                item[\"text\"],\n",
    "                boxes=[item[\"bbox\"]],\n",
    "                return_tensors=\"pt\"\n",
    "            ).to(device)\n",
    "            \n",
    "            with torch.no_grad():\n",
    "                outputs = model(**encoding)\n",
    "            text_embedding = outputs.last_hidden_state.mean(dim=1).cpu().numpy()\n",
    "            \n",
    "            embeddings.append({\n",
    "                \"embedding\": text_embedding,\n",
    "                \"metadata\": item\n",
    "            })\n",
    "        elif item[\"type\"] == \"image\":\n",
    "            # Process image region with LayoutLMv3's visual encoder\n",
    "            encoding = processor(\n",
    "                item[\"image_path\"],\n",
    "                return_tensors=\"pt\"\n",
    "            ).to(device)\n",
    "            \n",
    "            with torch.no_grad():\n",
    "                outputs = model(**encoding)\n",
    "            image_embedding = outputs.last_hidden_state.mean(dim=1).cpu().numpy()\n",
    "            \n",
    "            embeddings.append({\n",
    "                \"embedding\": image_embedding,\n",
    "                \"metadata\": item\n",
    "            })\n",
    "    return embeddings"
   ]
  },
  {
   "cell_type": "markdown",
   "metadata": {},
   "source": [
    "## Store in Vector Database(FAISS)"
   ]
  },
  {
   "cell_type": "code",
   "execution_count": null,
   "metadata": {},
   "outputs": [],
   "source": [
    "import numpy as np\n",
    "import faiss"
   ]
  },
  {
   "cell_type": "code",
   "execution_count": null,
   "metadata": {},
   "outputs": [],
   "source": [
    "class VectorDB:\n",
    "    def __init__(self):\n",
    "        self.index = None\n",
    "        self.metadata = []\n",
    "    \n",
    "    def add_embeddings(self, embeddings):\n",
    "        all_embeddings = [e[\"embedding\"] for e in embeddings]\n",
    "        self.metadata.extend([e[\"metadata\"] for e in embeddings])\n",
    "        \n",
    "        if self.index is None:\n",
    "            self.index = faiss.IndexFlatL2(all_embeddings[0].shape[1])\n",
    "        \n",
    "        self.index.add(np.concatenate(all_embeddings))\n",
    "    \n",
    "    def search(self, query_embedding, k=5):\n",
    "        distances, indices = self.index.search(query_embedding, k)\n",
    "        return [self.metadata[i] for i in indices[0]]\n",
    "\n",
    "# Initialize DB\n",
    "vector_db = VectorDB()\n",
    "\n",
    "# Process PDF and store embeddings\n",
    "pdf_content = extract_pdf_content(\"document.pdf\")\n",
    "embeddings = generate_embeddings(pdf_content)\n",
    "vector_db.add_embeddings(embeddings)"
   ]
  },
  {
   "cell_type": "markdown",
   "metadata": {},
   "source": [
    "## Query with RAG integration"
   ]
  },
  {
   "cell_type": "code",
   "execution_count": 3,
   "metadata": {},
   "outputs": [
    {
     "ename": "NameError",
     "evalue": "name 'processor' is not defined",
     "output_type": "error",
     "traceback": [
      "\u001b[1;31m---------------------------------------------------------------------------\u001b[0m",
      "\u001b[1;31mNameError\u001b[0m                                 Traceback (most recent call last)",
      "Cell \u001b[1;32mIn[3], line 22\u001b[0m\n\u001b[0;32m     19\u001b[0m     \u001b[38;5;28;01mreturn\u001b[39;00m answer\n\u001b[0;32m     21\u001b[0m \u001b[38;5;66;03m# Example usage\u001b[39;00m\n\u001b[1;32m---> 22\u001b[0m \u001b[38;5;28mprint\u001b[39m(\u001b[43mrag_query\u001b[49m\u001b[43m(\u001b[49m\u001b[38;5;124;43m\"\u001b[39;49m\u001b[38;5;124;43mWhat is the total amount on the invoice?\u001b[39;49m\u001b[38;5;124;43m\"\u001b[39;49m\u001b[43m)\u001b[49m)\n",
      "Cell \u001b[1;32mIn[3], line 3\u001b[0m, in \u001b[0;36mrag_query\u001b[1;34m(question)\u001b[0m\n\u001b[0;32m      1\u001b[0m \u001b[38;5;28;01mdef\u001b[39;00m \u001b[38;5;21mrag_query\u001b[39m(question):\n\u001b[0;32m      2\u001b[0m     \u001b[38;5;66;03m# Generate question embedding\u001b[39;00m\n\u001b[1;32m----> 3\u001b[0m     question_encoding \u001b[38;5;241m=\u001b[39m \u001b[43mprocessor\u001b[49m(\n\u001b[0;32m      4\u001b[0m         text\u001b[38;5;241m=\u001b[39mquestion,\n\u001b[0;32m      5\u001b[0m         return_tensors\u001b[38;5;241m=\u001b[39m\u001b[38;5;124m\"\u001b[39m\u001b[38;5;124mpt\u001b[39m\u001b[38;5;124m\"\u001b[39m\n\u001b[0;32m      6\u001b[0m     )\u001b[38;5;241m.\u001b[39mto(device)\n\u001b[0;32m      8\u001b[0m     \u001b[38;5;28;01mwith\u001b[39;00m torch\u001b[38;5;241m.\u001b[39mno_grad():\n\u001b[0;32m      9\u001b[0m         question_embedding \u001b[38;5;241m=\u001b[39m model(\u001b[38;5;241m*\u001b[39m\u001b[38;5;241m*\u001b[39mquestion_encoding)\u001b[38;5;241m.\u001b[39mlast_hidden_state\u001b[38;5;241m.\u001b[39mmean(dim\u001b[38;5;241m=\u001b[39m\u001b[38;5;241m1\u001b[39m)\u001b[38;5;241m.\u001b[39mcpu()\u001b[38;5;241m.\u001b[39mnumpy()\n",
      "\u001b[1;31mNameError\u001b[0m: name 'processor' is not defined"
     ]
    }
   ],
   "source": [
    "def rag_query(question):\n",
    "    # Generate question embedding\n",
    "    question_encoding = processor(\n",
    "        text=question,\n",
    "        return_tensors=\"pt\"\n",
    "    ).to(device)\n",
    "    \n",
    "    with torch.no_grad():\n",
    "        question_embedding = model(**question_encoding).last_hidden_state.mean(dim=1).cpu().numpy()\n",
    "    \n",
    "    # Retrieve relevant content\n",
    "    results = vector_db.search(question_embedding)\n",
    "    \n",
    "    # Format context for QA\n",
    "    context = \" \".join([item[\"text\"] for item in results if item[\"type\"] == \"text\"])\n",
    "    \n",
    "    # Answer question\n",
    "    answer = qa_pipeline(question=question, context=context)\n",
    "    return answer\n",
    "\n",
    "# Example usage\n",
    "print(rag_query(\"What is the total amount on the invoice?\"))"
   ]
  }
 ],
 "metadata": {
  "kernelspec": {
   "display_name": "NLPEnv",
   "language": "python",
   "name": "python3"
  },
  "language_info": {
   "codemirror_mode": {
    "name": "ipython",
    "version": 3
   },
   "file_extension": ".py",
   "mimetype": "text/x-python",
   "name": "python",
   "nbconvert_exporter": "python",
   "pygments_lexer": "ipython3",
   "version": "3.13.0"
  }
 },
 "nbformat": 4,
 "nbformat_minor": 2
}
