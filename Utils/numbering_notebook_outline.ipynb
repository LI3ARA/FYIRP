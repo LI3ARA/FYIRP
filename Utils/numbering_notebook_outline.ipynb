{
 "cells": [
  {
   "cell_type": "code",
   "execution_count": null,
   "id": "6820c57a",
   "metadata": {},
   "outputs": [],
   "source": [
    "! pip install nbformat"
   ]
  },
  {
   "cell_type": "code",
   "execution_count": 2,
   "id": "51495e5b",
   "metadata": {},
   "outputs": [],
   "source": [
    "import nbformat\n",
    "import re\n",
    "from copy import deepcopy"
   ]
  },
  {
   "cell_type": "code",
   "execution_count": 3,
   "id": "aa06947d",
   "metadata": {},
   "outputs": [],
   "source": [
    "\n",
    "def renumber_markdown_headings(nb_path, output_path=None):\n",
    "    with open(nb_path, 'r', encoding='utf-8') as f:\n",
    "        nb = nbformat.read(f, as_version=4)\n",
    "\n",
    "    numbered_nb = deepcopy(nb)\n",
    "    counters = [0] * 6  # For # to ######\n",
    "\n",
    "    heading_pattern = re.compile(r'^(#{1,6})\\s+(.*)')\n",
    "\n",
    "    for cell in numbered_nb['cells']:\n",
    "        if cell['cell_type'] != 'markdown':\n",
    "            continue\n",
    "\n",
    "        new_lines = []\n",
    "        for line in cell['source'].split('\\n'):\n",
    "            match = heading_pattern.match(line)\n",
    "            if match:\n",
    "                level = len(match.group(1))\n",
    "                title = match.group(2).strip()\n",
    "\n",
    "                # Update heading counters\n",
    "                counters[level - 1] += 1\n",
    "                for i in range(level, 6):\n",
    "                    counters[i] = 0\n",
    "\n",
    "                numbering = '.'.join(str(counters[i]) for i in range(level) if counters[i] > 0)\n",
    "                new_line = f\"{'#' * level} {numbering} {title}\"\n",
    "                new_lines.append(new_line)\n",
    "            else:\n",
    "                new_lines.append(line)\n",
    "\n",
    "        cell['source'] = '\\n'.join(new_lines)\n",
    "\n",
    "    # Save to output path or overwrite original\n",
    "    save_path = output_path or nb_path\n",
    "    with open(save_path, 'w', encoding='utf-8') as f:\n",
    "        nbformat.write(numbered_nb, f)\n",
    "\n",
    "    print(f\"Notebook saved with numbered headings at: {save_path}\")\n"
   ]
  },
  {
   "cell_type": "code",
   "execution_count": 4,
   "id": "dd3f08c4",
   "metadata": {},
   "outputs": [
    {
     "name": "stdout",
     "output_type": "stream",
     "text": [
      "Notebook saved with numbered headings at: ../Notebooks/25/VQA_RAG/SpiQA_dataset_n.ipynb\n"
     ]
    }
   ],
   "source": [
    "renumber_markdown_headings('../Notebooks/25/VQA_RAG/SpiQA_dataset.ipynb', output_path='../Notebooks/25/VQA_RAG/SpiQA_dataset_n.ipynb')"
   ]
  },
  {
   "cell_type": "code",
   "execution_count": null,
   "id": "96b7f136",
   "metadata": {},
   "outputs": [],
   "source": []
  }
 ],
 "metadata": {
  "kernelspec": {
   "display_name": "IRPenv",
   "language": "python",
   "name": "python3"
  },
  "language_info": {
   "codemirror_mode": {
    "name": "ipython",
    "version": 3
   },
   "file_extension": ".py",
   "mimetype": "text/x-python",
   "name": "python",
   "nbconvert_exporter": "python",
   "pygments_lexer": "ipython3",
   "version": "3.11.11"
  }
 },
 "nbformat": 4,
 "nbformat_minor": 5
}
